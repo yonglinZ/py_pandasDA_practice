{
  "cells": [
    {
      "cell_type": "code",
      "source": [
        "from IPython.core.interactiveshell import InteractiveShell\n",
        "InteractiveShell.ast_note_interactivity = \"all\"\n",
        "%matplotlib inline\n",
        "\n",
        "\n",
        "import os\n",
        "import sys\n",
        "import numpy as np\n",
        "import pandas as pd\n",
        "from pandas import Series, DataFrame\n",
        "import matplotlib.pyplot as plt\n",
        "import seaborn as sns"
      ],
      "outputs": [],
      "execution_count": 1,
      "metadata": {
        "collapsed": false,
        "outputHidden": false,
        "inputHidden": false
      }
    },
    {
      "cell_type": "markdown",
      "source": [
        "主要研究这三种情况：\n",
        "\n",
        "1. 时间戳，具体的时刻；\n",
        "\n",
        "2. 固定的时间区间，例如2007年的1月或整个2010年\n",
        "\n",
        "3. 时间间隔，由开始和结束时间戳表示。"
      ],
      "metadata": {}
    },
    {
      "cell_type": "markdown",
      "source": [
        "1. 时间数据的类型和工具\n",
        "\n",
        "——————字符串与datetime之间的转换\n",
        "\n",
        "2. 时间序列基础\n",
        "\n",
        "——————索引、选择、子集\n",
        "\n",
        "——————含有重复索引的时间索引\n",
        "\n",
        "3. 日期范围、频率和移位\n",
        "\n",
        "——————生成日期范围\n",
        "\n",
        "——————频率和日期偏置\n",
        "\n",
        "——————移位（向前和向后）日期\n",
        "\n",
        "4. 时区处理\n",
        "\n",
        "——————时区的本地化和转换\n",
        "\n",
        "——————时区感知时间戳对象操作\n",
        "\n",
        "5. 时间区间和区间算术\n",
        "\n",
        "——————区间陪频率转换\n",
        "\n",
        "——————季度区间频率\n",
        "\n",
        "——————将时间戳转换为区间（以及逆运算）\n",
        "\n",
        "——————从数组生成PeriodIndex\n",
        "\n",
        "6. 重新采样与频率转换\n",
        "\n",
        "——————向下采样\n",
        "\n",
        "——————向上采样与插值\n",
        "\n",
        "——————使用区间进行重新采样\n",
        "\n",
        "7. 移动窗口函数\n",
        "\n",
        "——————指数加权函数\n",
        "\n",
        "——————二元移动窗口函数\n",
        "\n",
        "——————用户自定义移动窗口函数"
      ],
      "metadata": {}
    },
    {
      "cell_type": "markdown",
      "source": [
        "datetime模块中的类型：\n",
        "\n",
        "date————使用公历日历存储日历日期（年，月，日）\n",
        "\n",
        "time————将时间存储为小时，分钟，秒和微妙\n",
        "\n",
        "datetime————存储为日期和时间\n",
        "\n",
        "timedelta————表示两个datetime值之间的差（如日，秒和微妙）\n",
        "\n",
        "tzinfo————用于存储时区信息的基本类型"
      ],
      "metadata": {}
    },
    {
      "cell_type": "code",
      "source": [
        "from datetime import datetime\n",
        "now = datetime.now()\n",
        "now"
      ],
      "outputs": [
        {
          "output_type": "execute_result",
          "execution_count": 2,
          "data": {
            "text/plain": [
              "datetime.datetime(2019, 5, 5, 16, 14, 1, 305532)"
            ]
          },
          "metadata": {}
        }
      ],
      "execution_count": 2,
      "metadata": {
        "collapsed": false,
        "outputHidden": false,
        "inputHidden": false
      }
    },
    {
      "cell_type": "code",
      "source": [
        "now.year, now.month, now.day, now.hour, now.minute"
      ],
      "outputs": [
        {
          "output_type": "execute_result",
          "execution_count": 3,
          "data": {
            "text/plain": [
              "(2019, 5, 5, 16, 14)"
            ]
          },
          "metadata": {}
        }
      ],
      "execution_count": 3,
      "metadata": {
        "collapsed": false,
        "outputHidden": false,
        "inputHidden": false
      }
    },
    {
      "cell_type": "code",
      "source": [
        "delta = datetime(2011, 1, 7) - datetime(2008, 6, 24, 8, 15)"
      ],
      "outputs": [],
      "execution_count": 4,
      "metadata": {
        "collapsed": false,
        "outputHidden": false,
        "inputHidden": false
      }
    },
    {
      "cell_type": "code",
      "source": [
        "delta"
      ],
      "outputs": [
        {
          "output_type": "execute_result",
          "execution_count": 5,
          "data": {
            "text/plain": [
              "datetime.timedelta(926, 56700)"
            ]
          },
          "metadata": {}
        }
      ],
      "execution_count": 5,
      "metadata": {
        "collapsed": false,
        "outputHidden": false,
        "inputHidden": false
      }
    },
    {
      "cell_type": "code",
      "source": [
        "delta.days"
      ],
      "outputs": [
        {
          "output_type": "execute_result",
          "execution_count": 6,
          "data": {
            "text/plain": [
              "926"
            ]
          },
          "metadata": {}
        }
      ],
      "execution_count": 6,
      "metadata": {
        "collapsed": false,
        "outputHidden": false,
        "inputHidden": false
      }
    },
    {
      "cell_type": "code",
      "source": [
        "delta.seconds"
      ],
      "outputs": [
        {
          "output_type": "execute_result",
          "execution_count": 7,
          "data": {
            "text/plain": [
              "56700"
            ]
          },
          "metadata": {}
        }
      ],
      "execution_count": 7,
      "metadata": {
        "collapsed": false,
        "outputHidden": false,
        "inputHidden": false
      }
    },
    {
      "cell_type": "code",
      "source": [
        "from datetime import timedelta\n",
        "\n",
        "start = datetime(2011, 1, 7)\n",
        "start + timedelta(12)"
      ],
      "outputs": [
        {
          "output_type": "execute_result",
          "execution_count": 8,
          "data": {
            "text/plain": [
              "datetime.datetime(2011, 1, 19, 0, 0)"
            ]
          },
          "metadata": {}
        }
      ],
      "execution_count": 8,
      "metadata": {
        "collapsed": false,
        "outputHidden": false,
        "inputHidden": false
      }
    },
    {
      "cell_type": "code",
      "source": [
        "start - 2 * timedelta(12)"
      ],
      "outputs": [
        {
          "output_type": "execute_result",
          "execution_count": 9,
          "data": {
            "text/plain": [
              "datetime.datetime(2010, 12, 14, 0, 0)"
            ]
          },
          "metadata": {}
        }
      ],
      "execution_count": 9,
      "metadata": {
        "collapsed": false,
        "outputHidden": false,
        "inputHidden": false
      }
    },
    {
      "cell_type": "markdown",
      "source": [
        "1.1 字符串与datetime互换"
      ],
      "metadata": {}
    },
    {
      "cell_type": "markdown",
      "source": [
        "datetime格式说明：\n",
        "\n",
        "%Y————————————四位年\n",
        "\n",
        "%y————————————两位年\n",
        "\n",
        "%m————————————两位月\n",
        "\n",
        "%d————————————两位日\n",
        "\n",
        "%H————————————小时，24制\n",
        "\n",
        "%I————————————小时，12制\n",
        "\n",
        "%M————————————两位分钟\n",
        "\n",
        "%S————————————秒\n",
        "\n",
        "%w————————————星期日期【0，6】，0指周天\n",
        "\n",
        "%U————————————一年中的星期数【0，53】。以周天为每周起始天。\n",
        "\n",
        "%W————————————一年中的星期数。以周一为起始天。\n",
        "\n",
        "%z————————————格式为+HHMM或-HHMM的UTC时区偏移\n",
        "\n",
        "%F————————————%Y-%m-%d的简写（2012-4-22）\n",
        "\n",
        "%D————————————%Y/%m/%d的简写（04/18/12）"
      ],
      "metadata": {}
    },
    {
      "cell_type": "markdown",
      "source": [
        "两个函数：\n",
        "\n",
        "1. strftime：传入datetime对象或pandas的Timestamp对象，输出格式化时间；string format time\n",
        "\n",
        "2. strptime：传入格式化字符串，转换为datetime对象。在已知格式下比较好用。string parse time"
      ],
      "metadata": {}
    },
    {
      "cell_type": "code",
      "source": [
        "stamp = datetime(2011, 1, 3)\n",
        "str(stamp)"
      ],
      "outputs": [
        {
          "output_type": "execute_result",
          "execution_count": 10,
          "data": {
            "text/plain": [
              "'2011-01-03 00:00:00'"
            ]
          },
          "metadata": {}
        }
      ],
      "execution_count": 10,
      "metadata": {
        "collapsed": false,
        "outputHidden": false,
        "inputHidden": false
      }
    },
    {
      "cell_type": "code",
      "source": [
        "stamp.strftime('%F')"
      ],
      "outputs": [
        {
          "output_type": "execute_result",
          "execution_count": 11,
          "data": {
            "text/plain": [
              "'2011-01-03'"
            ]
          },
          "metadata": {}
        }
      ],
      "execution_count": 11,
      "metadata": {
        "collapsed": false,
        "outputHidden": false,
        "inputHidden": false
      }
    },
    {
      "cell_type": "code",
      "source": [
        "stamp.strftime('%Y-%m-%d')"
      ],
      "outputs": [
        {
          "output_type": "execute_result",
          "execution_count": 12,
          "data": {
            "text/plain": [
              "'2011-01-03'"
            ]
          },
          "metadata": {}
        }
      ],
      "execution_count": 12,
      "metadata": {
        "collapsed": false,
        "outputHidden": false,
        "inputHidden": false
      }
    },
    {
      "cell_type": "code",
      "source": [
        "value = '2011-01-03'\n",
        "datetime.strptime(value, '%Y-%m-%d')"
      ],
      "outputs": [
        {
          "output_type": "execute_result",
          "execution_count": 13,
          "data": {
            "text/plain": [
              "datetime.datetime(2011, 1, 3, 0, 0)"
            ]
          },
          "metadata": {}
        }
      ],
      "execution_count": 13,
      "metadata": {
        "collapsed": false,
        "outputHidden": false,
        "inputHidden": false
      }
    },
    {
      "cell_type": "code",
      "source": [
        "datestrs = ['7/6/2011', '8/6/2011']"
      ],
      "outputs": [],
      "execution_count": 14,
      "metadata": {
        "collapsed": false,
        "outputHidden": false,
        "inputHidden": false
      }
    },
    {
      "cell_type": "code",
      "source": [
        "[datetime.strptime(x, '%m/%d/%Y') for x in datestrs]"
      ],
      "outputs": [
        {
          "output_type": "execute_result",
          "execution_count": 15,
          "data": {
            "text/plain": [
              "[datetime.datetime(2011, 7, 6, 0, 0), datetime.datetime(2011, 8, 6, 0, 0)]"
            ]
          },
          "metadata": {}
        }
      ],
      "execution_count": 15,
      "metadata": {
        "collapsed": false,
        "outputHidden": false,
        "inputHidden": false
      }
    },
    {
      "cell_type": "markdown",
      "source": [
        "利用第三方dateutil包中的parser.parse方法可以解析通用日期格式，非常方便。"
      ],
      "metadata": {}
    },
    {
      "cell_type": "code",
      "source": [
        "from dateutil.parser import parse\n",
        "#该工具好用但并不完美，例如会把42解析成2042年"
      ],
      "outputs": [],
      "execution_count": 16,
      "metadata": {
        "collapsed": false,
        "outputHidden": false,
        "inputHidden": false
      }
    },
    {
      "cell_type": "code",
      "source": [
        "parse('2011-01-03')"
      ],
      "outputs": [
        {
          "output_type": "execute_result",
          "execution_count": 17,
          "data": {
            "text/plain": [
              "datetime.datetime(2011, 1, 3, 0, 0)"
            ]
          },
          "metadata": {}
        }
      ],
      "execution_count": 17,
      "metadata": {
        "collapsed": false,
        "outputHidden": false,
        "inputHidden": false
      }
    },
    {
      "cell_type": "code",
      "source": [
        "#dateutil.parser能够解析大部分人类能理解的日期表达\n",
        "\n",
        "parse('JAN 13, 1997 10:45 PM')"
      ],
      "outputs": [
        {
          "output_type": "execute_result",
          "execution_count": 18,
          "data": {
            "text/plain": [
              "datetime.datetime(1997, 1, 13, 22, 45)"
            ]
          },
          "metadata": {}
        }
      ],
      "execution_count": 18,
      "metadata": {
        "collapsed": false,
        "outputHidden": false,
        "inputHidden": false
      }
    },
    {
      "cell_type": "code",
      "source": [
        "parse('6/12/2011', dayfirst=True)"
      ],
      "outputs": [
        {
          "output_type": "execute_result",
          "execution_count": 19,
          "data": {
            "text/plain": [
              "datetime.datetime(2011, 12, 6, 0, 0)"
            ]
          },
          "metadata": {}
        }
      ],
      "execution_count": 19,
      "metadata": {
        "collapsed": false,
        "outputHidden": false,
        "inputHidden": false
      }
    },
    {
      "cell_type": "markdown",
      "source": [
        "pandas.to_datetime()可以处理pandas数据对象中行索引和列中的时间，并支持多种格式，其中包括标准的日期格式，比如ISO8601"
      ],
      "metadata": {}
    },
    {
      "cell_type": "code",
      "source": [
        "datestrs = ['2011-07-06 12:00:00', '2011-08-06 00:00:00']"
      ],
      "outputs": [],
      "execution_count": 20,
      "metadata": {
        "collapsed": false,
        "outputHidden": false,
        "inputHidden": false
      }
    },
    {
      "cell_type": "code",
      "source": [
        "pd.to_datetime(datestrs)"
      ],
      "outputs": [
        {
          "output_type": "execute_result",
          "execution_count": 21,
          "data": {
            "text/plain": [
              "DatetimeIndex(['2011-07-06 12:00:00', '2011-08-06 00:00:00'], dtype='datetime64[ns]', freq=None)"
            ]
          },
          "metadata": {}
        }
      ],
      "execution_count": 21,
      "metadata": {
        "collapsed": false,
        "outputHidden": false,
        "inputHidden": false
      }
    },
    {
      "cell_type": "code",
      "source": [
        "#to_datetime方法还可以处理那些被认为是缺失值的值（None、空字符串等）\n",
        "\n",
        "idx = pd.to_datetime(datestrs + [None])"
      ],
      "outputs": [],
      "execution_count": 22,
      "metadata": {
        "collapsed": false,
        "outputHidden": false,
        "inputHidden": false
      }
    },
    {
      "cell_type": "code",
      "source": [
        "idx"
      ],
      "outputs": [
        {
          "output_type": "execute_result",
          "execution_count": 23,
          "data": {
            "text/plain": [
              "DatetimeIndex(['2011-07-06 12:00:00', '2011-08-06 00:00:00', 'NaT'], dtype='datetime64[ns]', freq=None)"
            ]
          },
          "metadata": {}
        }
      ],
      "execution_count": 23,
      "metadata": {
        "collapsed": false,
        "outputHidden": false,
        "inputHidden": false
      }
    },
    {
      "cell_type": "code",
      "source": [
        "idx[2]"
      ],
      "outputs": [
        {
          "output_type": "execute_result",
          "execution_count": 24,
          "data": {
            "text/plain": [
              "NaT"
            ]
          },
          "metadata": {}
        }
      ],
      "execution_count": 24,
      "metadata": {
        "collapsed": false,
        "outputHidden": false,
        "inputHidden": false
      }
    },
    {
      "cell_type": "code",
      "source": [
        "pd.isnull(idx)"
      ],
      "outputs": [
        {
          "output_type": "execute_result",
          "execution_count": 25,
          "data": {
            "text/plain": [
              "array([False, False,  True])"
            ]
          },
          "metadata": {}
        }
      ],
      "execution_count": 25,
      "metadata": {
        "collapsed": false,
        "outputHidden": false,
        "inputHidden": false
      }
    },
    {
      "cell_type": "markdown",
      "source": [
        "Nat——not a time是pandas中时间戳数据的null值"
      ],
      "metadata": {}
    },
    {
      "cell_type": "markdown",
      "source": [
        "2. 时间序列基础"
      ],
      "metadata": {}
    },
    {
      "cell_type": "code",
      "source": [
        "from datetime import datetime"
      ],
      "outputs": [],
      "execution_count": 26,
      "metadata": {
        "collapsed": false,
        "outputHidden": false,
        "inputHidden": false
      }
    },
    {
      "cell_type": "code",
      "source": [
        "dates = [datetime(2011, 1, 2), datetime(2011, 1, 5), datetime(2011, 1, 7), \n",
        "         datetime(2011, 1, 8), datetime(2011, 1, 10), datetime(2011, 1, 12)]"
      ],
      "outputs": [],
      "execution_count": 27,
      "metadata": {
        "collapsed": false,
        "outputHidden": false,
        "inputHidden": false
      }
    },
    {
      "cell_type": "code",
      "source": [
        "ts = pd.Series(np.random.randn(6), index=dates)\n",
        "ts"
      ],
      "outputs": [
        {
          "output_type": "execute_result",
          "execution_count": 28,
          "data": {
            "text/plain": [
              "2011-01-02   -0.587650\n",
              "2011-01-05   -0.384742\n",
              "2011-01-07   -0.493942\n",
              "2011-01-08   -1.538126\n",
              "2011-01-10   -0.850861\n",
              "2011-01-12   -1.483659\n",
              "dtype: float64"
            ]
          },
          "metadata": {}
        }
      ],
      "execution_count": 28,
      "metadata": {
        "collapsed": false,
        "outputHidden": false,
        "inputHidden": false
      }
    },
    {
      "cell_type": "code",
      "source": [
        "ts.index"
      ],
      "outputs": [
        {
          "output_type": "execute_result",
          "execution_count": 29,
          "data": {
            "text/plain": [
              "DatetimeIndex(['2011-01-02', '2011-01-05', '2011-01-07', '2011-01-08',\n",
              "               '2011-01-10', '2011-01-12'],\n",
              "              dtype='datetime64[ns]', freq=None)"
            ]
          },
          "metadata": {}
        }
      ],
      "execution_count": 29,
      "metadata": {
        "collapsed": false,
        "outputHidden": false,
        "inputHidden": false
      }
    },
    {
      "cell_type": "code",
      "source": [
        "#按照时间索引算术对齐\n",
        "\n",
        "ts + ts[::2]"
      ],
      "outputs": [
        {
          "output_type": "execute_result",
          "execution_count": 30,
          "data": {
            "text/plain": [
              "2011-01-02   -1.175300\n",
              "2011-01-05         NaN\n",
              "2011-01-07   -0.987884\n",
              "2011-01-08         NaN\n",
              "2011-01-10   -1.701723\n",
              "2011-01-12         NaN\n",
              "dtype: float64"
            ]
          },
          "metadata": {}
        }
      ],
      "execution_count": 30,
      "metadata": {
        "collapsed": false,
        "outputHidden": false,
        "inputHidden": false
      }
    },
    {
      "cell_type": "code",
      "source": [
        "ts.index.dtype"
      ],
      "outputs": [
        {
          "output_type": "execute_result",
          "execution_count": 31,
          "data": {
            "text/plain": [
              "dtype('<M8[ns]')"
            ]
          },
          "metadata": {}
        }
      ],
      "execution_count": 31,
      "metadata": {
        "collapsed": false,
        "outputHidden": false,
        "inputHidden": false
      }
    },
    {
      "cell_type": "code",
      "source": [
        "stamp = ts.index[0]\n",
        "stamp"
      ],
      "outputs": [
        {
          "output_type": "execute_result",
          "execution_count": 32,
          "data": {
            "text/plain": [
              "Timestamp('2011-01-02 00:00:00')"
            ]
          },
          "metadata": {}
        }
      ],
      "execution_count": 32,
      "metadata": {
        "collapsed": false,
        "outputHidden": false,
        "inputHidden": false
      }
    },
    {
      "cell_type": "markdown",
      "source": [
        "需要注意的是DatetimeIndex中的标量值是pandas中的Timestamp对象"
      ],
      "metadata": {}
    },
    {
      "cell_type": "markdown",
      "source": [
        "2.1 索引、选择、子集"
      ],
      "metadata": {}
    },
    {
      "cell_type": "code",
      "source": [
        "stamp = ts.index[2]"
      ],
      "outputs": [],
      "execution_count": 33,
      "metadata": {
        "collapsed": false,
        "outputHidden": false,
        "inputHidden": false
      }
    },
    {
      "cell_type": "code",
      "source": [
        "stamp"
      ],
      "outputs": [
        {
          "output_type": "execute_result",
          "execution_count": 34,
          "data": {
            "text/plain": [
              "Timestamp('2011-01-07 00:00:00')"
            ]
          },
          "metadata": {}
        }
      ],
      "execution_count": 34,
      "metadata": {
        "collapsed": false,
        "outputHidden": false,
        "inputHidden": false
      }
    },
    {
      "cell_type": "code",
      "source": [
        "ts[stamp]"
      ],
      "outputs": [
        {
          "output_type": "execute_result",
          "execution_count": 35,
          "data": {
            "text/plain": [
              "-0.4939418997545257"
            ]
          },
          "metadata": {}
        }
      ],
      "execution_count": 35,
      "metadata": {
        "collapsed": false,
        "outputHidden": false,
        "inputHidden": false
      }
    },
    {
      "cell_type": "code",
      "source": [
        "#可以显式引用\n",
        "ts['1/10/2011']"
      ],
      "outputs": [
        {
          "output_type": "execute_result",
          "execution_count": 36,
          "data": {
            "text/plain": [
              "-0.8508613457891899"
            ]
          },
          "metadata": {}
        }
      ],
      "execution_count": 36,
      "metadata": {
        "collapsed": false,
        "outputHidden": false,
        "inputHidden": false
      }
    },
    {
      "cell_type": "code",
      "source": [
        "ts['20110110']"
      ],
      "outputs": [
        {
          "output_type": "execute_result",
          "execution_count": 37,
          "data": {
            "text/plain": [
              "-0.8508613457891899"
            ]
          },
          "metadata": {}
        }
      ],
      "execution_count": 37,
      "metadata": {
        "collapsed": false,
        "outputHidden": false,
        "inputHidden": false
      }
    },
    {
      "cell_type": "code",
      "source": [
        "#pd.date_range\n",
        "longer_ts = pd.Series(np.random.randn(1000),\n",
        "                     index=pd.date_range('1/1/2000', periods=1000))"
      ],
      "outputs": [],
      "execution_count": 38,
      "metadata": {
        "collapsed": false,
        "outputHidden": false,
        "inputHidden": false
      }
    },
    {
      "cell_type": "code",
      "source": [
        "longer_ts[-10:]"
      ],
      "outputs": [
        {
          "output_type": "execute_result",
          "execution_count": 39,
          "data": {
            "text/plain": [
              "2002-09-17   -0.845486\n",
              "2002-09-18   -0.571537\n",
              "2002-09-19   -1.566762\n",
              "2002-09-20   -1.397863\n",
              "2002-09-21   -0.317535\n",
              "2002-09-22   -0.731746\n",
              "2002-09-23    0.817367\n",
              "2002-09-24   -0.423856\n",
              "2002-09-25    0.049524\n",
              "2002-09-26   -0.612441\n",
              "Freq: D, dtype: float64"
            ]
          },
          "metadata": {}
        }
      ],
      "execution_count": 39,
      "metadata": {
        "collapsed": false,
        "outputHidden": false,
        "inputHidden": false
      }
    },
    {
      "cell_type": "code",
      "source": [
        "longer_ts['2001'][:10]"
      ],
      "outputs": [
        {
          "output_type": "execute_result",
          "execution_count": 40,
          "data": {
            "text/plain": [
              "2001-01-01    0.689819\n",
              "2001-01-02    2.429114\n",
              "2001-01-03    0.922961\n",
              "2001-01-04    0.181755\n",
              "2001-01-05   -0.496762\n",
              "2001-01-06    0.944429\n",
              "2001-01-07    0.177038\n",
              "2001-01-08    1.093445\n",
              "2001-01-09    0.655961\n",
              "2001-01-10    1.443934\n",
              "Freq: D, dtype: float64"
            ]
          },
          "metadata": {}
        }
      ],
      "execution_count": 40,
      "metadata": {
        "collapsed": false,
        "outputHidden": false,
        "inputHidden": false
      }
    },
    {
      "cell_type": "code",
      "source": [
        "longer_ts['2001-09']"
      ],
      "outputs": [
        {
          "output_type": "execute_result",
          "execution_count": 41,
          "data": {
            "text/plain": [
              "2001-09-01   -0.371490\n",
              "2001-09-02    1.003315\n",
              "2001-09-03    0.585553\n",
              "2001-09-04   -0.820899\n",
              "2001-09-05    0.115537\n",
              "2001-09-06   -1.408930\n",
              "2001-09-07   -0.168266\n",
              "2001-09-08   -1.475340\n",
              "2001-09-09   -0.455463\n",
              "2001-09-10    1.883360\n",
              "2001-09-11    1.202664\n",
              "2001-09-12   -1.073537\n",
              "2001-09-13   -0.554839\n",
              "2001-09-14   -0.203483\n",
              "2001-09-15   -0.146179\n",
              "2001-09-16   -1.119195\n",
              "2001-09-17   -0.330140\n",
              "2001-09-18    1.060815\n",
              "2001-09-19   -0.471119\n",
              "2001-09-20   -0.197682\n",
              "2001-09-21   -0.479193\n",
              "2001-09-22    2.462568\n",
              "2001-09-23   -1.794714\n",
              "2001-09-24    0.020614\n",
              "2001-09-25   -0.129932\n",
              "2001-09-26   -0.995420\n",
              "2001-09-27    1.785870\n",
              "2001-09-28    1.331645\n",
              "2001-09-29   -0.556961\n",
              "2001-09-30   -1.552786\n",
              "Freq: D, dtype: float64"
            ]
          },
          "metadata": {}
        }
      ],
      "execution_count": 41,
      "metadata": {
        "collapsed": false,
        "outputHidden": false,
        "inputHidden": false
      }
    },
    {
      "cell_type": "code",
      "source": [
        "#时间索引切片\n",
        "\n",
        "ts[datetime(2011, 1, 7):]"
      ],
      "outputs": [
        {
          "output_type": "execute_result",
          "execution_count": 42,
          "data": {
            "text/plain": [
              "2011-01-07   -0.493942\n",
              "2011-01-08   -1.538126\n",
              "2011-01-10   -0.850861\n",
              "2011-01-12   -1.483659\n",
              "dtype: float64"
            ]
          },
          "metadata": {}
        }
      ],
      "execution_count": 42,
      "metadata": {
        "collapsed": false,
        "outputHidden": false,
        "inputHidden": false
      }
    },
    {
      "cell_type": "code",
      "source": [
        "ts"
      ],
      "outputs": [
        {
          "output_type": "execute_result",
          "execution_count": 43,
          "data": {
            "text/plain": [
              "2011-01-02   -0.587650\n",
              "2011-01-05   -0.384742\n",
              "2011-01-07   -0.493942\n",
              "2011-01-08   -1.538126\n",
              "2011-01-10   -0.850861\n",
              "2011-01-12   -1.483659\n",
              "dtype: float64"
            ]
          },
          "metadata": {}
        }
      ],
      "execution_count": 43,
      "metadata": {
        "collapsed": false,
        "outputHidden": false,
        "inputHidden": false
      }
    },
    {
      "cell_type": "code",
      "source": [
        "ts['1/6/2011' : '1/11/2011']"
      ],
      "outputs": [
        {
          "output_type": "execute_result",
          "execution_count": 44,
          "data": {
            "text/plain": [
              "2011-01-07   -0.493942\n",
              "2011-01-08   -1.538126\n",
              "2011-01-10   -0.850861\n",
              "dtype: float64"
            ]
          },
          "metadata": {}
        }
      ],
      "execution_count": 44,
      "metadata": {
        "collapsed": false,
        "outputHidden": false,
        "inputHidden": false
      }
    },
    {
      "cell_type": "markdown",
      "source": [
        "可以传递字符串的日期、datetime对象或者timestamp"
      ],
      "metadata": {}
    },
    {
      "cell_type": "code",
      "source": [
        "#truncate函数，可以在两个日期间对Series进行切片\n",
        "ts.truncate(after='1/9/2011')"
      ],
      "outputs": [
        {
          "output_type": "execute_result",
          "execution_count": 45,
          "data": {
            "text/plain": [
              "2011-01-02   -0.587650\n",
              "2011-01-05   -0.384742\n",
              "2011-01-07   -0.493942\n",
              "2011-01-08   -1.538126\n",
              "dtype: float64"
            ]
          },
          "metadata": {}
        }
      ],
      "execution_count": 45,
      "metadata": {
        "collapsed": false,
        "outputHidden": false,
        "inputHidden": false
      }
    },
    {
      "cell_type": "code",
      "source": [
        "#上述操作完美适用于df\n",
        "\n",
        "dates = pd.date_range('1/1/2000', periods=100, freq='W-WED')"
      ],
      "outputs": [],
      "execution_count": 46,
      "metadata": {
        "collapsed": false,
        "outputHidden": false,
        "inputHidden": false
      }
    },
    {
      "cell_type": "code",
      "source": [
        "dates"
      ],
      "outputs": [
        {
          "output_type": "execute_result",
          "execution_count": 47,
          "data": {
            "text/plain": [
              "DatetimeIndex(['2000-01-05', '2000-01-12', '2000-01-19', '2000-01-26',\n",
              "               '2000-02-02', '2000-02-09', '2000-02-16', '2000-02-23',\n",
              "               '2000-03-01', '2000-03-08', '2000-03-15', '2000-03-22',\n",
              "               '2000-03-29', '2000-04-05', '2000-04-12', '2000-04-19',\n",
              "               '2000-04-26', '2000-05-03', '2000-05-10', '2000-05-17',\n",
              "               '2000-05-24', '2000-05-31', '2000-06-07', '2000-06-14',\n",
              "               '2000-06-21', '2000-06-28', '2000-07-05', '2000-07-12',\n",
              "               '2000-07-19', '2000-07-26', '2000-08-02', '2000-08-09',\n",
              "               '2000-08-16', '2000-08-23', '2000-08-30', '2000-09-06',\n",
              "               '2000-09-13', '2000-09-20', '2000-09-27', '2000-10-04',\n",
              "               '2000-10-11', '2000-10-18', '2000-10-25', '2000-11-01',\n",
              "               '2000-11-08', '2000-11-15', '2000-11-22', '2000-11-29',\n",
              "               '2000-12-06', '2000-12-13', '2000-12-20', '2000-12-27',\n",
              "               '2001-01-03', '2001-01-10', '2001-01-17', '2001-01-24',\n",
              "               '2001-01-31', '2001-02-07', '2001-02-14', '2001-02-21',\n",
              "               '2001-02-28', '2001-03-07', '2001-03-14', '2001-03-21',\n",
              "               '2001-03-28', '2001-04-04', '2001-04-11', '2001-04-18',\n",
              "               '2001-04-25', '2001-05-02', '2001-05-09', '2001-05-16',\n",
              "               '2001-05-23', '2001-05-30', '2001-06-06', '2001-06-13',\n",
              "               '2001-06-20', '2001-06-27', '2001-07-04', '2001-07-11',\n",
              "               '2001-07-18', '2001-07-25', '2001-08-01', '2001-08-08',\n",
              "               '2001-08-15', '2001-08-22', '2001-08-29', '2001-09-05',\n",
              "               '2001-09-12', '2001-09-19', '2001-09-26', '2001-10-03',\n",
              "               '2001-10-10', '2001-10-17', '2001-10-24', '2001-10-31',\n",
              "               '2001-11-07', '2001-11-14', '2001-11-21', '2001-11-28'],\n",
              "              dtype='datetime64[ns]', freq='W-WED')"
            ]
          },
          "metadata": {}
        }
      ],
      "execution_count": 47,
      "metadata": {
        "collapsed": false,
        "outputHidden": false,
        "inputHidden": false
      }
    },
    {
      "cell_type": "code",
      "source": [
        "long_df = pd.DataFrame(np.random.randn(100, 4),\n",
        "                       index=dates, \n",
        "                       columns=['Colorado', 'Texas', 'Newo York', 'Ohio'])"
      ],
      "outputs": [],
      "execution_count": 48,
      "metadata": {
        "collapsed": false,
        "outputHidden": false,
        "inputHidden": false
      }
    },
    {
      "cell_type": "code",
      "source": [
        "long_df.loc['2001-5']"
      ],
      "outputs": [
        {
          "output_type": "execute_result",
          "execution_count": 49,
          "data": {
            "text/html": [
              "<div>\n",
              "<table border=\"1\" class=\"dataframe\">\n",
              "  <thead>\n",
              "    <tr style=\"text-align: right;\">\n",
              "      <th></th>\n",
              "      <th>Colorado</th>\n",
              "      <th>Texas</th>\n",
              "      <th>Newo York</th>\n",
              "      <th>Ohio</th>\n",
              "    </tr>\n",
              "  </thead>\n",
              "  <tbody>\n",
              "    <tr>\n",
              "      <th>2001-05-02</th>\n",
              "      <td>-0.226415</td>\n",
              "      <td>1.375413</td>\n",
              "      <td>-1.221666</td>\n",
              "      <td>0.272328</td>\n",
              "    </tr>\n",
              "    <tr>\n",
              "      <th>2001-05-09</th>\n",
              "      <td>0.982126</td>\n",
              "      <td>0.425946</td>\n",
              "      <td>0.345640</td>\n",
              "      <td>-0.190522</td>\n",
              "    </tr>\n",
              "    <tr>\n",
              "      <th>2001-05-16</th>\n",
              "      <td>-0.403522</td>\n",
              "      <td>0.834905</td>\n",
              "      <td>-2.534954</td>\n",
              "      <td>0.672963</td>\n",
              "    </tr>\n",
              "    <tr>\n",
              "      <th>2001-05-23</th>\n",
              "      <td>-0.014332</td>\n",
              "      <td>-0.493265</td>\n",
              "      <td>1.215328</td>\n",
              "      <td>-0.782411</td>\n",
              "    </tr>\n",
              "    <tr>\n",
              "      <th>2001-05-30</th>\n",
              "      <td>-0.290987</td>\n",
              "      <td>1.613984</td>\n",
              "      <td>-0.312522</td>\n",
              "      <td>0.756117</td>\n",
              "    </tr>\n",
              "  </tbody>\n",
              "</table>\n",
              "</div>"
            ],
            "text/plain": [
              "            Colorado     Texas  Newo York      Ohio\n",
              "2001-05-02 -0.226415  1.375413  -1.221666  0.272328\n",
              "2001-05-09  0.982126  0.425946   0.345640 -0.190522\n",
              "2001-05-16 -0.403522  0.834905  -2.534954  0.672963\n",
              "2001-05-23 -0.014332 -0.493265   1.215328 -0.782411\n",
              "2001-05-30 -0.290987  1.613984  -0.312522  0.756117"
            ]
          },
          "metadata": {}
        }
      ],
      "execution_count": 49,
      "metadata": {
        "collapsed": false,
        "outputHidden": false,
        "inputHidden": false
      }
    },
    {
      "cell_type": "markdown",
      "source": [
        "2.2 含有重复索引的时间序列"
      ],
      "metadata": {}
    },
    {
      "cell_type": "code",
      "source": [
        "dates= pd.DatetimeIndex(['1/1/2000', '1/2/2000', '1/2/2000', '1/2/2000', '1/3/2000'])"
      ],
      "outputs": [],
      "execution_count": 50,
      "metadata": {
        "collapsed": false,
        "outputHidden": false,
        "inputHidden": false
      }
    },
    {
      "cell_type": "code",
      "source": [
        "type(dates)"
      ],
      "outputs": [
        {
          "output_type": "execute_result",
          "execution_count": 51,
          "data": {
            "text/plain": [
              "pandas.tseries.index.DatetimeIndex"
            ]
          },
          "metadata": {}
        }
      ],
      "execution_count": 51,
      "metadata": {
        "collapsed": false,
        "outputHidden": false,
        "inputHidden": false
      }
    },
    {
      "cell_type": "code",
      "source": [
        "dup_ts = pd.Series(np.arange(5), index=dates)\n",
        "dup_ts"
      ],
      "outputs": [
        {
          "output_type": "execute_result",
          "execution_count": 52,
          "data": {
            "text/plain": [
              "2000-01-01    0\n",
              "2000-01-02    1\n",
              "2000-01-02    2\n",
              "2000-01-02    3\n",
              "2000-01-03    4\n",
              "dtype: int32"
            ]
          },
          "metadata": {}
        }
      ],
      "execution_count": 52,
      "metadata": {
        "collapsed": false,
        "outputHidden": false,
        "inputHidden": false
      }
    },
    {
      "cell_type": "code",
      "source": [
        "dup_ts.index.is_unique"
      ],
      "outputs": [
        {
          "output_type": "execute_result",
          "execution_count": 53,
          "data": {
            "text/plain": [
              "False"
            ]
          },
          "metadata": {}
        }
      ],
      "execution_count": 53,
      "metadata": {
        "collapsed": false,
        "outputHidden": false,
        "inputHidden": false
      }
    },
    {
      "cell_type": "code",
      "source": [
        "dup_ts['1/3/2000'] #不重复"
      ],
      "outputs": [
        {
          "output_type": "execute_result",
          "execution_count": 54,
          "data": {
            "text/plain": [
              "4"
            ]
          },
          "metadata": {}
        }
      ],
      "execution_count": 54,
      "metadata": {
        "collapsed": false,
        "outputHidden": false,
        "inputHidden": false
      }
    },
    {
      "cell_type": "code",
      "source": [
        "dup_ts['1/2/2000'] #重复"
      ],
      "outputs": [
        {
          "output_type": "execute_result",
          "execution_count": 55,
          "data": {
            "text/plain": [
              "2000-01-02    1\n",
              "2000-01-02    2\n",
              "2000-01-02    3\n",
              "dtype: int32"
            ]
          },
          "metadata": {}
        }
      ],
      "execution_count": 55,
      "metadata": {
        "collapsed": false,
        "outputHidden": false,
        "inputHidden": false
      }
    },
    {
      "cell_type": "code",
      "source": [
        "grouped = dup_ts.groupby(level=0)\n",
        "grouped.mean()"
      ],
      "outputs": [
        {
          "output_type": "execute_result",
          "execution_count": 56,
          "data": {
            "text/plain": [
              "2000-01-01    0\n",
              "2000-01-02    2\n",
              "2000-01-03    4\n",
              "dtype: int32"
            ]
          },
          "metadata": {}
        }
      ],
      "execution_count": 56,
      "metadata": {
        "collapsed": false,
        "outputHidden": false,
        "inputHidden": false
      }
    },
    {
      "cell_type": "code",
      "source": [
        "grouped.count()"
      ],
      "outputs": [
        {
          "output_type": "execute_result",
          "execution_count": 57,
          "data": {
            "text/plain": [
              "2000-01-01    1\n",
              "2000-01-02    3\n",
              "2000-01-03    1\n",
              "dtype: int64"
            ]
          },
          "metadata": {}
        }
      ],
      "execution_count": 57,
      "metadata": {
        "collapsed": false,
        "outputHidden": false,
        "inputHidden": false
      }
    },
    {
      "cell_type": "markdown",
      "source": [
        "3. 日期范围、频率和移位"
      ],
      "metadata": {}
    },
    {
      "cell_type": "code",
      "source": [
        "ts"
      ],
      "outputs": [
        {
          "output_type": "execute_result",
          "execution_count": 58,
          "data": {
            "text/plain": [
              "2011-01-02   -0.587650\n",
              "2011-01-05   -0.384742\n",
              "2011-01-07   -0.493942\n",
              "2011-01-08   -1.538126\n",
              "2011-01-10   -0.850861\n",
              "2011-01-12   -1.483659\n",
              "dtype: float64"
            ]
          },
          "metadata": {}
        }
      ],
      "execution_count": 58,
      "metadata": {
        "collapsed": false,
        "outputHidden": false,
        "inputHidden": false
      }
    },
    {
      "cell_type": "code",
      "source": [
        "resampler = ts.resample('D') #'D'表示每日频率"
      ],
      "outputs": [],
      "execution_count": 59,
      "metadata": {
        "collapsed": false,
        "outputHidden": false,
        "inputHidden": false
      }
    },
    {
      "cell_type": "code",
      "source": [
        "resampler"
      ],
      "outputs": [
        {
          "output_type": "execute_result",
          "execution_count": 60,
          "data": {
            "text/plain": [
              "DatetimeIndexResampler [freq=<Day>, axis=0, closed=left, label=left, convention=start, base=0]"
            ]
          },
          "metadata": {}
        }
      ],
      "execution_count": 60,
      "metadata": {
        "collapsed": false,
        "outputHidden": false,
        "inputHidden": false
      }
    },
    {
      "cell_type": "markdown",
      "source": [
        "3.1 生成日期范围"
      ],
      "metadata": {}
    },
    {
      "cell_type": "markdown",
      "source": [
        "利用pandas.date_range是用于根据特定频率生成指定长度的DatetimeIndex"
      ],
      "metadata": {}
    },
    {
      "cell_type": "code",
      "source": [
        "index = pd.date_range('2012-04-01', '2012-06-01')"
      ],
      "outputs": [],
      "execution_count": 61,
      "metadata": {
        "collapsed": false,
        "outputHidden": false,
        "inputHidden": false
      }
    },
    {
      "cell_type": "code",
      "source": [
        "index"
      ],
      "outputs": [
        {
          "output_type": "execute_result",
          "execution_count": 62,
          "data": {
            "text/plain": [
              "DatetimeIndex(['2012-04-01', '2012-04-02', '2012-04-03', '2012-04-04',\n",
              "               '2012-04-05', '2012-04-06', '2012-04-07', '2012-04-08',\n",
              "               '2012-04-09', '2012-04-10', '2012-04-11', '2012-04-12',\n",
              "               '2012-04-13', '2012-04-14', '2012-04-15', '2012-04-16',\n",
              "               '2012-04-17', '2012-04-18', '2012-04-19', '2012-04-20',\n",
              "               '2012-04-21', '2012-04-22', '2012-04-23', '2012-04-24',\n",
              "               '2012-04-25', '2012-04-26', '2012-04-27', '2012-04-28',\n",
              "               '2012-04-29', '2012-04-30', '2012-05-01', '2012-05-02',\n",
              "               '2012-05-03', '2012-05-04', '2012-05-05', '2012-05-06',\n",
              "               '2012-05-07', '2012-05-08', '2012-05-09', '2012-05-10',\n",
              "               '2012-05-11', '2012-05-12', '2012-05-13', '2012-05-14',\n",
              "               '2012-05-15', '2012-05-16', '2012-05-17', '2012-05-18',\n",
              "               '2012-05-19', '2012-05-20', '2012-05-21', '2012-05-22',\n",
              "               '2012-05-23', '2012-05-24', '2012-05-25', '2012-05-26',\n",
              "               '2012-05-27', '2012-05-28', '2012-05-29', '2012-05-30',\n",
              "               '2012-05-31', '2012-06-01'],\n",
              "              dtype='datetime64[ns]', freq='D')"
            ]
          },
          "metadata": {}
        }
      ],
      "execution_count": 62,
      "metadata": {
        "collapsed": false,
        "outputHidden": false,
        "inputHidden": false
      }
    },
    {
      "cell_type": "code",
      "source": [
        "#默认生成的是每日的时间戳。如果只传递一个起始或始尾日期，则必须传递一个用于生成范围的数字：\n",
        "pd.date_range(start='2012-1-2', periods=20)"
      ],
      "outputs": [
        {
          "output_type": "execute_result",
          "execution_count": 63,
          "data": {
            "text/plain": [
              "DatetimeIndex(['2012-01-02', '2012-01-03', '2012-01-04', '2012-01-05',\n",
              "               '2012-01-06', '2012-01-07', '2012-01-08', '2012-01-09',\n",
              "               '2012-01-10', '2012-01-11', '2012-01-12', '2012-01-13',\n",
              "               '2012-01-14', '2012-01-15', '2012-01-16', '2012-01-17',\n",
              "               '2012-01-18', '2012-01-19', '2012-01-20', '2012-01-21'],\n",
              "              dtype='datetime64[ns]', freq='D')"
            ]
          },
          "metadata": {}
        }
      ],
      "execution_count": 63,
      "metadata": {
        "collapsed": false,
        "outputHidden": false,
        "inputHidden": false
      }
    },
    {
      "cell_type": "code",
      "source": [
        "pd.date_range(end='2012-06-01', periods=20)"
      ],
      "outputs": [
        {
          "output_type": "execute_result",
          "execution_count": 64,
          "data": {
            "text/plain": [
              "DatetimeIndex(['2012-05-13', '2012-05-14', '2012-05-15', '2012-05-16',\n",
              "               '2012-05-17', '2012-05-18', '2012-05-19', '2012-05-20',\n",
              "               '2012-05-21', '2012-05-22', '2012-05-23', '2012-05-24',\n",
              "               '2012-05-25', '2012-05-26', '2012-05-27', '2012-05-28',\n",
              "               '2012-05-29', '2012-05-30', '2012-05-31', '2012-06-01'],\n",
              "              dtype='datetime64[ns]', freq='D')"
            ]
          },
          "metadata": {}
        }
      ],
      "execution_count": 64,
      "metadata": {
        "collapsed": false,
        "outputHidden": false,
        "inputHidden": false
      }
    },
    {
      "cell_type": "markdown",
      "source": [
        "开始日期和结束日期严格定义了生成日期频率的边界。可以传递频率（如：BM,BUSINESS END OF MONTH）,月度业务结尾等等表征频率的参量。"
      ],
      "metadata": {}
    },
    {
      "cell_type": "code",
      "source": [
        "pd.date_range('2000-01-01', '2000.12.01', freq='BM')#看来用点间隔也没啥问题"
      ],
      "outputs": [
        {
          "output_type": "execute_result",
          "execution_count": 65,
          "data": {
            "text/plain": [
              "DatetimeIndex(['2000-01-31', '2000-02-29', '2000-03-31', '2000-04-28',\n",
              "               '2000-05-31', '2000-06-30', '2000-07-31', '2000-08-31',\n",
              "               '2000-09-29', '2000-10-31', '2000-11-30'],\n",
              "              dtype='datetime64[ns]', freq='BM')"
            ]
          },
          "metadata": {}
        }
      ],
      "execution_count": 65,
      "metadata": {
        "collapsed": false,
        "outputHidden": false,
        "inputHidden": false
      }
    },
    {
      "cell_type": "markdown",
      "source": [
        "基础时间序列频率表（请参考《利用pandas进行数据分析（第二版）》314页）这里只列举部分，现用现搜：\n",
        "\n",
        "D\n",
        "\n",
        "B\n",
        "\n",
        "T\n",
        "\n",
        "S\n",
        "\n",
        "L\n",
        "\n",
        "U\n",
        "\n",
        "M\n",
        "\n",
        "BM\n",
        "\n",
        "MS\n",
        "\n",
        "BMS\n",
        "\n",
        "W-MON[[MON,TUE,WED,THU,FRI,SAT,SUN]]\n",
        "\n",
        "WOM-1MON,WOM-2MON\n",
        "\n",
        "Q-JAN, Q-FEB\n",
        "\n",
        ".....and so on"
      ],
      "metadata": {}
    },
    {
      "cell_type": "code",
      "source": [
        "#生成保准化的零点时间戳，有一个normalize选项\n",
        "\n",
        "pd.date_range('2012.5.2 12:56:31', periods=5, normalize=True)"
      ],
      "outputs": [
        {
          "output_type": "execute_result",
          "execution_count": 66,
          "data": {
            "text/plain": [
              "DatetimeIndex(['2012-05-02', '2012-05-03', '2012-05-04', '2012-05-05',\n",
              "               '2012-05-06'],\n",
              "              dtype='datetime64[ns]', freq='D')"
            ]
          },
          "metadata": {}
        }
      ],
      "execution_count": 66,
      "metadata": {
        "collapsed": false,
        "outputHidden": false,
        "inputHidden": false
      }
    },
    {
      "cell_type": "markdown",
      "source": [
        "3.2 频率和日期偏置"
      ],
      "metadata": {}
    },
    {
      "cell_type": "markdown",
      "source": [
        "pandas中的频率是由*基础频率*和*倍数*组成的。基础频率通常有简单的字符串别名，例如：M代表每月，H代表每小时。对于每个基础频率，都有一个对象可以被用于定义日期偏置。"
      ],
      "metadata": {}
    },
    {
      "cell_type": "code",
      "source": [
        "from pandas.tseries.offsets import Hour, Minute"
      ],
      "outputs": [],
      "execution_count": 67,
      "metadata": {
        "collapsed": false,
        "outputHidden": false,
        "inputHidden": false
      }
    },
    {
      "cell_type": "code",
      "source": [
        "hour = Hour()"
      ],
      "outputs": [],
      "execution_count": 68,
      "metadata": {
        "collapsed": false,
        "outputHidden": false,
        "inputHidden": false
      }
    },
    {
      "cell_type": "code",
      "source": [
        "hour"
      ],
      "outputs": [
        {
          "output_type": "execute_result",
          "execution_count": 69,
          "data": {
            "text/plain": [
              "<Hour>"
            ]
          },
          "metadata": {}
        }
      ],
      "execution_count": 69,
      "metadata": {
        "collapsed": false,
        "outputHidden": false,
        "inputHidden": false
      }
    },
    {
      "cell_type": "code",
      "source": [
        "four_hours = Hour(4)"
      ],
      "outputs": [],
      "execution_count": 70,
      "metadata": {
        "collapsed": false,
        "outputHidden": false,
        "inputHidden": false
      }
    },
    {
      "cell_type": "code",
      "source": [
        "four_hours"
      ],
      "outputs": [
        {
          "output_type": "execute_result",
          "execution_count": 71,
          "data": {
            "text/plain": [
              "<4 * Hours>"
            ]
          },
          "metadata": {}
        }
      ],
      "execution_count": 71,
      "metadata": {
        "collapsed": false,
        "outputHidden": false,
        "inputHidden": false
      }
    },
    {
      "cell_type": "code",
      "source": [
        "pd.date_range('2000.1.1', '2000.1.3 23:59', freq='4h')"
      ],
      "outputs": [
        {
          "output_type": "execute_result",
          "execution_count": 72,
          "data": {
            "text/plain": [
              "DatetimeIndex(['2000-01-01 00:00:00', '2000-01-01 04:00:00',\n",
              "               '2000-01-01 08:00:00', '2000-01-01 12:00:00',\n",
              "               '2000-01-01 16:00:00', '2000-01-01 20:00:00',\n",
              "               '2000-01-02 00:00:00', '2000-01-02 04:00:00',\n",
              "               '2000-01-02 08:00:00', '2000-01-02 12:00:00',\n",
              "               '2000-01-02 16:00:00', '2000-01-02 20:00:00',\n",
              "               '2000-01-03 00:00:00', '2000-01-03 04:00:00',\n",
              "               '2000-01-03 08:00:00', '2000-01-03 12:00:00',\n",
              "               '2000-01-03 16:00:00', '2000-01-03 20:00:00'],\n",
              "              dtype='datetime64[ns]', freq='4H')"
            ]
          },
          "metadata": {}
        }
      ],
      "execution_count": 72,
      "metadata": {
        "collapsed": false,
        "outputHidden": false,
        "inputHidden": false
      }
    },
    {
      "cell_type": "code",
      "source": [
        "Hour(2) + Minute(30)"
      ],
      "outputs": [
        {
          "output_type": "execute_result",
          "execution_count": 73,
          "data": {
            "text/plain": [
              "<150 * Minutes>"
            ]
          },
          "metadata": {}
        }
      ],
      "execution_count": 73,
      "metadata": {
        "collapsed": false,
        "outputHidden": false,
        "inputHidden": false
      }
    },
    {
      "cell_type": "code",
      "source": [
        "pd.date_range('2000.1.1', periods=10, freq='1h30min')"
      ],
      "outputs": [
        {
          "output_type": "execute_result",
          "execution_count": 74,
          "data": {
            "text/plain": [
              "DatetimeIndex(['2000-01-01 00:00:00', '2000-01-01 01:30:00',\n",
              "               '2000-01-01 03:00:00', '2000-01-01 04:30:00',\n",
              "               '2000-01-01 06:00:00', '2000-01-01 07:30:00',\n",
              "               '2000-01-01 09:00:00', '2000-01-01 10:30:00',\n",
              "               '2000-01-01 12:00:00', '2000-01-01 13:30:00'],\n",
              "              dtype='datetime64[ns]', freq='90T')"
            ]
          },
          "metadata": {}
        }
      ],
      "execution_count": 74,
      "metadata": {
        "collapsed": false,
        "outputHidden": false,
        "inputHidden": false
      }
    },
    {
      "cell_type": "markdown",
      "source": [
        "有些频率描述点的时间并不是均匀分隔的。例如，M日历月末和BM月内最后工作日取决于当月的天数。这样的日期被称为*锚点偏置类*"
      ],
      "metadata": {}
    },
    {
      "cell_type": "code",
      "source": [
        "#\"月中某星期\"week of month的日期是一个常用的频率类，以'WOM'开始，他允许用户获取每月第三个星期五这样的时间。"
      ],
      "outputs": [],
      "execution_count": 75,
      "metadata": {
        "collapsed": false,
        "outputHidden": false,
        "inputHidden": false
      }
    },
    {
      "cell_type": "code",
      "source": [
        "rng = pd.date_range('2012-01-01', '2012-09-01', freq = 'WOM-3FRI')"
      ],
      "outputs": [],
      "execution_count": 76,
      "metadata": {
        "collapsed": false,
        "outputHidden": false,
        "inputHidden": false
      }
    },
    {
      "cell_type": "code",
      "source": [
        "list(rng)"
      ],
      "outputs": [
        {
          "output_type": "execute_result",
          "execution_count": 77,
          "data": {
            "text/plain": [
              "[Timestamp('2012-01-20 00:00:00', freq='WOM-3FRI'),\n",
              " Timestamp('2012-02-17 00:00:00', freq='WOM-3FRI'),\n",
              " Timestamp('2012-03-16 00:00:00', freq='WOM-3FRI'),\n",
              " Timestamp('2012-04-20 00:00:00', freq='WOM-3FRI'),\n",
              " Timestamp('2012-05-18 00:00:00', freq='WOM-3FRI'),\n",
              " Timestamp('2012-06-15 00:00:00', freq='WOM-3FRI'),\n",
              " Timestamp('2012-07-20 00:00:00', freq='WOM-3FRI'),\n",
              " Timestamp('2012-08-17 00:00:00', freq='WOM-3FRI')]"
            ]
          },
          "metadata": {}
        }
      ],
      "execution_count": 77,
      "metadata": {
        "collapsed": false,
        "outputHidden": false,
        "inputHidden": false
      }
    },
    {
      "cell_type": "markdown",
      "source": [
        "3.3 向前和向后移位日期"
      ],
      "metadata": {}
    },
    {
      "cell_type": "code",
      "source": [
        "#“移位”是指将日期按照时间向前移动或者向后移动。Series和DF都有一个shift方法用于简单的向前或向后移位，而不改变索引：\n",
        "\n",
        "ts = pd.Series(np.random.randn(4),\n",
        "               index=pd.date_range('1/1/2000', periods=4, freq='M'))"
      ],
      "outputs": [],
      "execution_count": 78,
      "metadata": {
        "collapsed": false,
        "outputHidden": false,
        "inputHidden": false
      }
    },
    {
      "cell_type": "code",
      "source": [
        "ts"
      ],
      "outputs": [
        {
          "output_type": "execute_result",
          "execution_count": 79,
          "data": {
            "text/plain": [
              "2000-01-31    1.572861\n",
              "2000-02-29   -1.904491\n",
              "2000-03-31    0.497720\n",
              "2000-04-30   -0.565509\n",
              "Freq: M, dtype: float64"
            ]
          },
          "metadata": {}
        }
      ],
      "execution_count": 79,
      "metadata": {
        "collapsed": false,
        "outputHidden": false,
        "inputHidden": false
      }
    },
    {
      "cell_type": "code",
      "source": [
        "ts.shift(2)"
      ],
      "outputs": [
        {
          "output_type": "execute_result",
          "execution_count": 80,
          "data": {
            "text/plain": [
              "2000-01-31         NaN\n",
              "2000-02-29         NaN\n",
              "2000-03-31    1.572861\n",
              "2000-04-30   -1.904491\n",
              "Freq: M, dtype: float64"
            ]
          },
          "metadata": {}
        }
      ],
      "execution_count": 80,
      "metadata": {
        "collapsed": false,
        "outputHidden": false,
        "inputHidden": false
      }
    },
    {
      "cell_type": "code",
      "source": [
        "ts.shift(-2)"
      ],
      "outputs": [
        {
          "output_type": "execute_result",
          "execution_count": 81,
          "data": {
            "text/plain": [
              "2000-01-31    0.497720\n",
              "2000-02-29   -0.565509\n",
              "2000-03-31         NaN\n",
              "2000-04-30         NaN\n",
              "Freq: M, dtype: float64"
            ]
          },
          "metadata": {}
        }
      ],
      "execution_count": 81,
      "metadata": {
        "collapsed": false,
        "outputHidden": false,
        "inputHidden": false
      }
    },
    {
      "cell_type": "markdown",
      "source": [
        "shift常用于计算时间序列或DF多列时间序列的百分比变化\n",
        "\n",
        "ts.shift(2, freq='D')\n"
      ],
      "metadata": {}
    },
    {
      "cell_type": "code",
      "source": [
        "ts.shift(2, freq='D')"
      ],
      "outputs": [
        {
          "output_type": "execute_result",
          "execution_count": 82,
          "data": {
            "text/plain": [
              "2000-02-02    1.572861\n",
              "2000-03-02   -1.904491\n",
              "2000-04-02    0.497720\n",
              "2000-05-02   -0.565509\n",
              "dtype: float64"
            ]
          },
          "metadata": {}
        }
      ],
      "execution_count": 82,
      "metadata": {
        "collapsed": false,
        "outputHidden": false,
        "inputHidden": false
      }
    },
    {
      "cell_type": "code",
      "source": [
        "ts.shift(2, freq='M')"
      ],
      "outputs": [
        {
          "output_type": "execute_result",
          "execution_count": 83,
          "data": {
            "text/plain": [
              "2000-03-31    1.572861\n",
              "2000-04-30   -1.904491\n",
              "2000-05-31    0.497720\n",
              "2000-06-30   -0.565509\n",
              "Freq: M, dtype: float64"
            ]
          },
          "metadata": {}
        }
      ],
      "execution_count": 83,
      "metadata": {
        "collapsed": false,
        "outputHidden": false,
        "inputHidden": false
      }
    },
    {
      "cell_type": "code",
      "source": [
        "ts.shift(1, freq='90T')"
      ],
      "outputs": [
        {
          "output_type": "execute_result",
          "execution_count": 84,
          "data": {
            "text/plain": [
              "2000-01-31 01:30:00    1.572861\n",
              "2000-02-29 01:30:00   -1.904491\n",
              "2000-03-31 01:30:00    0.497720\n",
              "2000-04-30 01:30:00   -0.565509\n",
              "Freq: M, dtype: float64"
            ]
          },
          "metadata": {}
        }
      ],
      "execution_count": 84,
      "metadata": {
        "collapsed": false,
        "outputHidden": false,
        "inputHidden": false
      }
    },
    {
      "cell_type": "markdown",
      "source": [
        "使用偏置进行移位日期\n",
        "\n",
        "pandas日期偏置也可以使用datetime或Timestamp对象完成"
      ],
      "metadata": {}
    },
    {
      "cell_type": "code",
      "source": [
        "from pandas.tseries.offsets import Day, MonthEnd\n",
        "now = datetime(2011, 11, 17)\n",
        "now +3 * Day()"
      ],
      "outputs": [
        {
          "output_type": "execute_result",
          "execution_count": 85,
          "data": {
            "text/plain": [
              "Timestamp('2011-11-20 00:00:00')"
            ]
          },
          "metadata": {}
        }
      ],
      "execution_count": 85,
      "metadata": {
        "collapsed": false,
        "outputHidden": false,
        "inputHidden": false
      }
    },
    {
      "cell_type": "code",
      "source": [
        "now + MonthEnd()"
      ],
      "outputs": [
        {
          "output_type": "execute_result",
          "execution_count": 86,
          "data": {
            "text/plain": [
              "Timestamp('2011-11-30 00:00:00')"
            ]
          },
          "metadata": {}
        }
      ],
      "execution_count": 86,
      "metadata": {
        "collapsed": false,
        "outputHidden": false,
        "inputHidden": false
      }
    },
    {
      "cell_type": "code",
      "source": [
        "now + MonthEnd(2)"
      ],
      "outputs": [
        {
          "output_type": "execute_result",
          "execution_count": 87,
          "data": {
            "text/plain": [
              "Timestamp('2011-12-31 00:00:00')"
            ]
          },
          "metadata": {}
        }
      ],
      "execution_count": 87,
      "metadata": {
        "collapsed": false,
        "outputHidden": false,
        "inputHidden": false
      }
    },
    {
      "cell_type": "code",
      "source": [
        "#锚点偏置可以使用rollforward和rollback分别显示的将日期向前或向后“滚动”\n",
        "offset = MonthEnd()\n",
        "offset.rollforward(now)"
      ],
      "outputs": [
        {
          "output_type": "execute_result",
          "execution_count": 88,
          "data": {
            "text/plain": [
              "Timestamp('2011-11-30 00:00:00')"
            ]
          },
          "metadata": {}
        }
      ],
      "execution_count": 88,
      "metadata": {
        "collapsed": false,
        "outputHidden": false,
        "inputHidden": false
      }
    },
    {
      "cell_type": "code",
      "source": [
        "offset.rollback(now)"
      ],
      "outputs": [
        {
          "output_type": "execute_result",
          "execution_count": 89,
          "data": {
            "text/plain": [
              "Timestamp('2011-10-31 00:00:00')"
            ]
          },
          "metadata": {}
        }
      ],
      "execution_count": 89,
      "metadata": {
        "collapsed": false,
        "outputHidden": false,
        "inputHidden": false
      }
    },
    {
      "cell_type": "code",
      "source": [
        "ts = pd.Series(np.random.randn(20),\n",
        "               index=pd.date_range('1/15/2000', periods=20, freq='4d'))"
      ],
      "outputs": [],
      "execution_count": 90,
      "metadata": {
        "collapsed": false,
        "outputHidden": false,
        "inputHidden": false
      }
    },
    {
      "cell_type": "code",
      "source": [
        "ts"
      ],
      "outputs": [
        {
          "output_type": "execute_result",
          "execution_count": 91,
          "data": {
            "text/plain": [
              "2000-01-15   -0.370361\n",
              "2000-01-19   -0.193757\n",
              "2000-01-23   -1.701112\n",
              "2000-01-27    0.417683\n",
              "2000-01-31    0.591364\n",
              "2000-02-04   -1.362603\n",
              "2000-02-08   -0.301315\n",
              "2000-02-12    2.091484\n",
              "2000-02-16   -0.735741\n",
              "2000-02-20    0.583170\n",
              "2000-02-24    0.102071\n",
              "2000-02-28   -0.825549\n",
              "2000-03-03    0.302750\n",
              "2000-03-07    1.031144\n",
              "2000-03-11   -0.146543\n",
              "2000-03-15    0.750572\n",
              "2000-03-19    0.256361\n",
              "2000-03-23    0.278848\n",
              "2000-03-27    1.505211\n",
              "2000-03-31   -1.544260\n",
              "Freq: 4D, dtype: float64"
            ]
          },
          "metadata": {}
        }
      ],
      "execution_count": 91,
      "metadata": {
        "collapsed": false,
        "outputHidden": false,
        "inputHidden": false
      }
    },
    {
      "cell_type": "code",
      "source": [
        "#将移位方法与groupby一起使用是日期偏置的一种创造性用法\n",
        "ts.groupby(offset.rollforward).mean()"
      ],
      "outputs": [
        {
          "output_type": "execute_result",
          "execution_count": 92,
          "data": {
            "text/plain": [
              "2000-01-31   -0.251236\n",
              "2000-02-29   -0.064069\n",
              "2000-03-31    0.304260\n",
              "dtype: float64"
            ]
          },
          "metadata": {}
        }
      ],
      "execution_count": 92,
      "metadata": {
        "collapsed": false,
        "outputHidden": false,
        "inputHidden": false
      }
    },
    {
      "cell_type": "code",
      "source": [
        "#同样，使用resample更加快捷\n",
        "\n",
        "ts.resample('M').mean()"
      ],
      "outputs": [
        {
          "output_type": "execute_result",
          "execution_count": 93,
          "data": {
            "text/plain": [
              "2000-01-31   -0.251236\n",
              "2000-02-29   -0.064069\n",
              "2000-03-31    0.304260\n",
              "Freq: M, dtype: float64"
            ]
          },
          "metadata": {}
        }
      ],
      "execution_count": 93,
      "metadata": {
        "collapsed": false,
        "outputHidden": false,
        "inputHidden": false
      }
    },
    {
      "cell_type": "markdown",
      "source": [
        "4. 时区的处理"
      ],
      "metadata": {}
    },
    {
      "cell_type": "markdown",
      "source": [
        "目前的国际标准采用的是*世界协调时间*或*UTC*。时区通常被表示为UTC偏置。\n",
        "\n",
        "python中的时区信息来源于第三方库pytz"
      ],
      "metadata": {}
    },
    {
      "cell_type": "code",
      "source": [
        "import pytz"
      ],
      "outputs": [],
      "execution_count": 94,
      "metadata": {
        "collapsed": false,
        "outputHidden": false,
        "inputHidden": false
      }
    },
    {
      "cell_type": "code",
      "source": [
        "pytz.common_timezones[-5:]"
      ],
      "outputs": [
        {
          "output_type": "execute_result",
          "execution_count": 95,
          "data": {
            "text/plain": [
              "['US/Eastern', 'US/Hawaii', 'US/Mountain', 'US/Pacific', 'UTC']"
            ]
          },
          "metadata": {}
        }
      ],
      "execution_count": 95,
      "metadata": {
        "collapsed": false,
        "outputHidden": false,
        "inputHidden": false
      }
    },
    {
      "cell_type": "code",
      "source": [
        "tz = pytz.timezone('America/New_York')"
      ],
      "outputs": [],
      "execution_count": 96,
      "metadata": {
        "collapsed": false,
        "outputHidden": false,
        "inputHidden": false
      }
    },
    {
      "cell_type": "code",
      "source": [
        "tz"
      ],
      "outputs": [
        {
          "output_type": "execute_result",
          "execution_count": 97,
          "data": {
            "text/plain": [
              "<DstTzInfo 'America/New_York' LMT-1 day, 19:04:00 STD>"
            ]
          },
          "metadata": {}
        }
      ],
      "execution_count": 97,
      "metadata": {
        "collapsed": false,
        "outputHidden": false,
        "inputHidden": false
      }
    },
    {
      "cell_type": "markdown",
      "source": [
        "4.1 时区的本地化与转换"
      ],
      "metadata": {}
    },
    {
      "cell_type": "code",
      "source": [
        "#pandas中时间序列是时区简单型的。\n",
        "rng = pd.date_range('3/9/2012 9:30', periods=6, freq='D')"
      ],
      "outputs": [],
      "execution_count": 98,
      "metadata": {
        "collapsed": false,
        "outputHidden": false,
        "inputHidden": false
      }
    },
    {
      "cell_type": "code",
      "source": [
        "ts = pd.Series(np.random.randn(len(rng)), index=rng)"
      ],
      "outputs": [],
      "execution_count": 99,
      "metadata": {
        "collapsed": false,
        "outputHidden": false,
        "inputHidden": false
      }
    },
    {
      "cell_type": "code",
      "source": [
        "ts"
      ],
      "outputs": [
        {
          "output_type": "execute_result",
          "execution_count": 100,
          "data": {
            "text/plain": [
              "2012-03-09 09:30:00   -0.271734\n",
              "2012-03-10 09:30:00    1.372399\n",
              "2012-03-11 09:30:00    1.473824\n",
              "2012-03-12 09:30:00   -0.705341\n",
              "2012-03-13 09:30:00    0.528445\n",
              "2012-03-14 09:30:00    0.692274\n",
              "Freq: D, dtype: float64"
            ]
          },
          "metadata": {}
        }
      ],
      "execution_count": 100,
      "metadata": {
        "collapsed": false,
        "outputHidden": false,
        "inputHidden": false
      }
    },
    {
      "cell_type": "code",
      "source": [
        "#索引的tz属性是None\n",
        "print(ts.index.tz)"
      ],
      "outputs": [
        {
          "output_type": "stream",
          "name": "stdout",
          "text": [
            "None\n"
          ]
        }
      ],
      "execution_count": 101,
      "metadata": {
        "collapsed": false,
        "outputHidden": false,
        "inputHidden": false
      }
    },
    {
      "cell_type": "code",
      "source": [
        "pd.date_range('3/9/2012 9:30', periods=10, freq='D', tz='UTC')"
      ],
      "outputs": [
        {
          "output_type": "execute_result",
          "execution_count": 102,
          "data": {
            "text/plain": [
              "DatetimeIndex(['2012-03-09 09:30:00+00:00', '2012-03-10 09:30:00+00:00',\n",
              "               '2012-03-11 09:30:00+00:00', '2012-03-12 09:30:00+00:00',\n",
              "               '2012-03-13 09:30:00+00:00', '2012-03-14 09:30:00+00:00',\n",
              "               '2012-03-15 09:30:00+00:00', '2012-03-16 09:30:00+00:00',\n",
              "               '2012-03-17 09:30:00+00:00', '2012-03-18 09:30:00+00:00'],\n",
              "              dtype='datetime64[ns, UTC]', freq='D')"
            ]
          },
          "metadata": {}
        }
      ],
      "execution_count": 102,
      "metadata": {
        "collapsed": false,
        "outputHidden": false,
        "inputHidden": false
      }
    },
    {
      "cell_type": "code",
      "source": [
        "#tz_localize方法可以从简单时区转换为本地时区\n",
        "ts"
      ],
      "outputs": [
        {
          "output_type": "execute_result",
          "execution_count": 103,
          "data": {
            "text/plain": [
              "2012-03-09 09:30:00   -0.271734\n",
              "2012-03-10 09:30:00    1.372399\n",
              "2012-03-11 09:30:00    1.473824\n",
              "2012-03-12 09:30:00   -0.705341\n",
              "2012-03-13 09:30:00    0.528445\n",
              "2012-03-14 09:30:00    0.692274\n",
              "Freq: D, dtype: float64"
            ]
          },
          "metadata": {}
        }
      ],
      "execution_count": 103,
      "metadata": {
        "collapsed": false,
        "outputHidden": false,
        "inputHidden": false
      }
    },
    {
      "cell_type": "code",
      "source": [
        "ts_utc = ts.tz_localize('UTC')"
      ],
      "outputs": [],
      "execution_count": 104,
      "metadata": {
        "collapsed": false,
        "outputHidden": false,
        "inputHidden": false
      }
    },
    {
      "cell_type": "code",
      "source": [
        "ts_utc.index"
      ],
      "outputs": [
        {
          "output_type": "execute_result",
          "execution_count": 105,
          "data": {
            "text/plain": [
              "DatetimeIndex(['2012-03-09 09:30:00+00:00', '2012-03-10 09:30:00+00:00',\n",
              "               '2012-03-11 09:30:00+00:00', '2012-03-12 09:30:00+00:00',\n",
              "               '2012-03-13 09:30:00+00:00', '2012-03-14 09:30:00+00:00'],\n",
              "              dtype='datetime64[ns, UTC]', freq='D')"
            ]
          },
          "metadata": {}
        }
      ],
      "execution_count": 105,
      "metadata": {
        "collapsed": false,
        "outputHidden": false,
        "inputHidden": false
      }
    },
    {
      "cell_type": "code",
      "source": [
        "#使用tz_convert将一个已经制定时区的时间序列转换为另一个时区：\n",
        "ts_utc.tz_convert('America/New_York')"
      ],
      "outputs": [
        {
          "output_type": "execute_result",
          "execution_count": 106,
          "data": {
            "text/plain": [
              "2012-03-09 04:30:00-05:00   -0.271734\n",
              "2012-03-10 04:30:00-05:00    1.372399\n",
              "2012-03-11 05:30:00-04:00    1.473824\n",
              "2012-03-12 05:30:00-04:00   -0.705341\n",
              "2012-03-13 05:30:00-04:00    0.528445\n",
              "2012-03-14 05:30:00-04:00    0.692274\n",
              "Freq: D, dtype: float64"
            ]
          },
          "metadata": {}
        }
      ],
      "execution_count": 106,
      "metadata": {
        "collapsed": false,
        "outputHidden": false,
        "inputHidden": false
      }
    },
    {
      "cell_type": "code",
      "source": [
        "#本地化UTC或柏林时间\n",
        "\n",
        "ts_eastern = ts.tz_localize('America/New_York')\n",
        "ts_eastern.tz_convert('UTC')"
      ],
      "outputs": [
        {
          "output_type": "execute_result",
          "execution_count": 107,
          "data": {
            "text/plain": [
              "2012-03-09 14:30:00+00:00   -0.271734\n",
              "2012-03-10 14:30:00+00:00    1.372399\n",
              "2012-03-11 13:30:00+00:00    1.473824\n",
              "2012-03-12 13:30:00+00:00   -0.705341\n",
              "2012-03-13 13:30:00+00:00    0.528445\n",
              "2012-03-14 13:30:00+00:00    0.692274\n",
              "Freq: D, dtype: float64"
            ]
          },
          "metadata": {}
        }
      ],
      "execution_count": 107,
      "metadata": {
        "collapsed": false,
        "outputHidden": false,
        "inputHidden": false
      }
    },
    {
      "cell_type": "code",
      "source": [
        "ts_eastern.tz_convert('Europe/Berlin')"
      ],
      "outputs": [
        {
          "output_type": "execute_result",
          "execution_count": 108,
          "data": {
            "text/plain": [
              "2012-03-09 15:30:00+01:00   -0.271734\n",
              "2012-03-10 15:30:00+01:00    1.372399\n",
              "2012-03-11 14:30:00+01:00    1.473824\n",
              "2012-03-12 14:30:00+01:00   -0.705341\n",
              "2012-03-13 14:30:00+01:00    0.528445\n",
              "2012-03-14 14:30:00+01:00    0.692274\n",
              "Freq: D, dtype: float64"
            ]
          },
          "metadata": {}
        }
      ],
      "execution_count": 108,
      "metadata": {
        "collapsed": false,
        "outputHidden": false,
        "inputHidden": false
      }
    },
    {
      "cell_type": "markdown",
      "source": [
        "tz_localize和tz_convert也是DatetimeIndex的实例方法"
      ],
      "metadata": {}
    },
    {
      "cell_type": "code",
      "source": [
        "ts.index.tz_localize('Asia/Shanghai')"
      ],
      "outputs": [
        {
          "output_type": "execute_result",
          "execution_count": 109,
          "data": {
            "text/plain": [
              "DatetimeIndex(['2012-03-09 09:30:00+08:00', '2012-03-10 09:30:00+08:00',\n",
              "               '2012-03-11 09:30:00+08:00', '2012-03-12 09:30:00+08:00',\n",
              "               '2012-03-13 09:30:00+08:00', '2012-03-14 09:30:00+08:00'],\n",
              "              dtype='datetime64[ns, Asia/Shanghai]', freq='D')"
            ]
          },
          "metadata": {}
        }
      ],
      "execution_count": 109,
      "metadata": {
        "collapsed": false,
        "outputHidden": false,
        "inputHidden": false
      }
    },
    {
      "cell_type": "markdown",
      "source": [
        "4.2 时区感知时间戳对象的操作"
      ],
      "metadata": {}
    },
    {
      "cell_type": "markdown",
      "source": [
        "与时间序列和日期范围一致，单独的Timestamp对象同样可以从简单时间戳本地化为时区感知时间戳，并从一个时区转换为另一个时区。"
      ],
      "metadata": {}
    },
    {
      "cell_type": "code",
      "source": [
        "stamp = pd.Timestamp('2011.3.12 4:00')"
      ],
      "outputs": [],
      "execution_count": 110,
      "metadata": {
        "collapsed": false,
        "outputHidden": false,
        "inputHidden": false
      }
    },
    {
      "cell_type": "code",
      "source": [
        "stamp_utc = stamp.tz_localize('utc')"
      ],
      "outputs": [],
      "execution_count": 111,
      "metadata": {
        "collapsed": false,
        "outputHidden": false,
        "inputHidden": false
      }
    },
    {
      "cell_type": "code",
      "source": [
        "stamp_utc.tz_convert('America/New_York')"
      ],
      "outputs": [
        {
          "output_type": "execute_result",
          "execution_count": 112,
          "data": {
            "text/plain": [
              "Timestamp('2011-03-11 23:00:00-0500', tz='America/New_York')"
            ]
          },
          "metadata": {}
        }
      ],
      "execution_count": 112,
      "metadata": {
        "collapsed": false,
        "outputHidden": false,
        "inputHidden": false
      }
    },
    {
      "cell_type": "code",
      "source": [
        "#可以在创建时间戳时初始化一个时区\n",
        "stamp_moscow = pd.Timestamp('2011.3.12 4:00', tz='Europe/Moscow')"
      ],
      "outputs": [],
      "execution_count": 113,
      "metadata": {
        "collapsed": false,
        "outputHidden": false,
        "inputHidden": false
      }
    },
    {
      "cell_type": "code",
      "source": [
        "stamp_moscow"
      ],
      "outputs": [
        {
          "output_type": "execute_result",
          "execution_count": 114,
          "data": {
            "text/plain": [
              "Timestamp('2011-03-12 04:00:00+0300', tz='Europe/Moscow')"
            ]
          },
          "metadata": {}
        }
      ],
      "execution_count": 114,
      "metadata": {
        "collapsed": false,
        "outputHidden": false,
        "inputHidden": false
      }
    },
    {
      "cell_type": "markdown",
      "source": [
        "4.3 不同时区之间的操作"
      ],
      "metadata": {}
    },
    {
      "cell_type": "code",
      "source": [
        "rng = pd.date_range('3/7/2012 9:30', periods=10, freq='B')"
      ],
      "outputs": [],
      "execution_count": 115,
      "metadata": {
        "collapsed": false,
        "outputHidden": false,
        "inputHidden": false
      }
    },
    {
      "cell_type": "code",
      "source": [
        "ts = pd.Series(np.random.randn(len(rng)), index=rng)"
      ],
      "outputs": [],
      "execution_count": 116,
      "metadata": {
        "collapsed": false,
        "outputHidden": false,
        "inputHidden": false
      }
    },
    {
      "cell_type": "code",
      "source": [
        "ts"
      ],
      "outputs": [
        {
          "output_type": "execute_result",
          "execution_count": 117,
          "data": {
            "text/plain": [
              "2012-03-07 09:30:00    1.720850\n",
              "2012-03-08 09:30:00   -1.048569\n",
              "2012-03-09 09:30:00   -0.508940\n",
              "2012-03-12 09:30:00    0.581916\n",
              "2012-03-13 09:30:00    0.629291\n",
              "2012-03-14 09:30:00   -0.281395\n",
              "2012-03-15 09:30:00    0.843218\n",
              "2012-03-16 09:30:00   -0.742597\n",
              "2012-03-19 09:30:00   -0.836696\n",
              "2012-03-20 09:30:00    0.903092\n",
              "Freq: B, dtype: float64"
            ]
          },
          "metadata": {}
        }
      ],
      "execution_count": 117,
      "metadata": {
        "collapsed": false,
        "outputHidden": false,
        "inputHidden": false
      }
    },
    {
      "cell_type": "code",
      "source": [
        "ts1 = ts[:7].tz_localize('Europe/London')"
      ],
      "outputs": [],
      "execution_count": 118,
      "metadata": {
        "collapsed": false,
        "outputHidden": false,
        "inputHidden": false
      }
    },
    {
      "cell_type": "code",
      "source": [
        "ts2 = ts1[2:].tz_convert('Europe/Moscow')"
      ],
      "outputs": [],
      "execution_count": 119,
      "metadata": {
        "collapsed": false,
        "outputHidden": false,
        "inputHidden": false
      }
    },
    {
      "cell_type": "code",
      "source": [
        "result = ts1 + ts2"
      ],
      "outputs": [],
      "execution_count": 120,
      "metadata": {
        "collapsed": false,
        "outputHidden": false,
        "inputHidden": false
      }
    },
    {
      "cell_type": "code",
      "source": [
        "result.index"
      ],
      "outputs": [
        {
          "output_type": "execute_result",
          "execution_count": 121,
          "data": {
            "text/plain": [
              "DatetimeIndex(['2012-03-07 09:30:00+00:00', '2012-03-08 09:30:00+00:00',\n",
              "               '2012-03-09 09:30:00+00:00', '2012-03-12 09:30:00+00:00',\n",
              "               '2012-03-13 09:30:00+00:00', '2012-03-14 09:30:00+00:00',\n",
              "               '2012-03-15 09:30:00+00:00'],\n",
              "              dtype='datetime64[ns, UTC]', freq='B')"
            ]
          },
          "metadata": {}
        }
      ],
      "execution_count": 121,
      "metadata": {
        "collapsed": false,
        "outputHidden": false,
        "inputHidden": false
      }
    },
    {
      "cell_type": "markdown",
      "source": [
        "两个时区不同的序列联合后，结果仍然是UTC"
      ],
      "metadata": {}
    },
    {
      "cell_type": "markdown",
      "source": [
        "5. 时间区间和区间算术"
      ],
      "metadata": {}
    },
    {
      "cell_type": "markdown",
      "source": [
        "*时间区间*表示的是时间范围，比如一些天、一些月、一些季度或者一些年。Period类表达的正式这种数据类型。"
      ],
      "metadata": {}
    },
    {
      "cell_type": "code",
      "source": [
        "p = pd.Period(2007, freq='A-DEC')"
      ],
      "outputs": [],
      "execution_count": 122,
      "metadata": {
        "collapsed": false,
        "outputHidden": false,
        "inputHidden": false
      }
    },
    {
      "cell_type": "code",
      "source": [
        "p"
      ],
      "outputs": [
        {
          "output_type": "execute_result",
          "execution_count": 123,
          "data": {
            "text/plain": [
              "Period('2007', 'A-DEC')"
            ]
          },
          "metadata": {}
        }
      ],
      "execution_count": 123,
      "metadata": {
        "collapsed": false,
        "outputHidden": false,
        "inputHidden": false
      }
    },
    {
      "cell_type": "code",
      "source": [
        "p + 5"
      ],
      "outputs": [
        {
          "output_type": "execute_result",
          "execution_count": 124,
          "data": {
            "text/plain": [
              "Period('2012', 'A-DEC')"
            ]
          },
          "metadata": {}
        }
      ],
      "execution_count": 124,
      "metadata": {
        "collapsed": false,
        "outputHidden": false,
        "inputHidden": false
      }
    },
    {
      "cell_type": "code",
      "source": [
        "p - 2"
      ],
      "outputs": [
        {
          "output_type": "execute_result",
          "execution_count": 125,
          "data": {
            "text/plain": [
              "Period('2005', 'A-DEC')"
            ]
          },
          "metadata": {}
        }
      ],
      "execution_count": 125,
      "metadata": {
        "collapsed": false,
        "outputHidden": false,
        "inputHidden": false
      }
    },
    {
      "cell_type": "code",
      "source": [
        "pd.Period('2014', freq='A-DEC') - p"
      ],
      "outputs": [
        {
          "output_type": "execute_result",
          "execution_count": 126,
          "data": {
            "text/plain": [
              "7"
            ]
          },
          "metadata": {}
        }
      ],
      "execution_count": 126,
      "metadata": {
        "collapsed": false,
        "outputHidden": false,
        "inputHidden": false
      }
    },
    {
      "cell_type": "code",
      "source": [
        "#使用period_range函数可以构造规则区间顺序：\n",
        "rng = pd.period_range('2000-1-1', '2000-6-30', freq='M')"
      ],
      "outputs": [],
      "execution_count": 127,
      "metadata": {
        "collapsed": false,
        "outputHidden": false,
        "inputHidden": false
      }
    },
    {
      "cell_type": "code",
      "source": [
        "rng"
      ],
      "outputs": [
        {
          "output_type": "execute_result",
          "execution_count": 128,
          "data": {
            "text/plain": [
              "PeriodIndex(['2000-01', '2000-02', '2000-03', '2000-04', '2000-05', '2000-06'], dtype='period[M]', freq='M')"
            ]
          },
          "metadata": {}
        }
      ],
      "execution_count": 128,
      "metadata": {
        "collapsed": false,
        "outputHidden": false,
        "inputHidden": false
      }
    },
    {
      "cell_type": "code",
      "source": [
        "#PeriodIndex类存储的是区间的序列，可以作为任意pandas数据结构的轴索引。\n",
        "pd.Series(np.random.randn(6), index=rng)"
      ],
      "outputs": [
        {
          "output_type": "execute_result",
          "execution_count": 129,
          "data": {
            "text/plain": [
              "2000-01    0.620232\n",
              "2000-02    2.658545\n",
              "2000-03   -1.702813\n",
              "2000-04   -0.322896\n",
              "2000-05    1.621729\n",
              "2000-06    0.429296\n",
              "Freq: M, dtype: float64"
            ]
          },
          "metadata": {}
        }
      ],
      "execution_count": 129,
      "metadata": {
        "collapsed": false,
        "outputHidden": false,
        "inputHidden": false
      }
    },
    {
      "cell_type": "code",
      "source": [
        "#PeriodIndex类还接收时间格式的字符串数组\n",
        "ti = ['200103', '200202', '200301']\n",
        "index = pd.PeriodIndex(ti, freq='Q-DEC')\n",
        "index"
      ],
      "outputs": [
        {
          "output_type": "execute_result",
          "execution_count": 130,
          "data": {
            "text/plain": [
              "PeriodIndex(['2003Q1', '2002Q1', '2001Q1'], dtype='period[Q-DEC]', freq='Q-DEC')"
            ]
          },
          "metadata": {}
        }
      ],
      "execution_count": 130,
      "metadata": {
        "collapsed": false,
        "outputHidden": false,
        "inputHidden": false
      }
    },
    {
      "cell_type": "code",
      "source": [
        "index + 3 "
      ],
      "outputs": [
        {
          "output_type": "execute_result",
          "execution_count": 131,
          "data": {
            "text/plain": [
              "PeriodIndex(['2003Q4', '2002Q4', '2001Q4'], dtype='period[Q-DEC]', freq='Q-DEC')"
            ]
          },
          "metadata": {}
        }
      ],
      "execution_count": 131,
      "metadata": {
        "collapsed": false,
        "outputHidden": false,
        "inputHidden": false
      }
    },
    {
      "cell_type": "markdown",
      "source": [
        "5.1 区间频率的转换\n",
        "\n",
        "使用asfreq实例方法可以将区间和PeriodIndex对象转换为其他频率。"
      ],
      "metadata": {}
    },
    {
      "cell_type": "code",
      "source": [
        "p = pd.Period('2007', freq='A-DEC')\n",
        "p"
      ],
      "outputs": [
        {
          "output_type": "execute_result",
          "execution_count": 132,
          "data": {
            "text/plain": [
              "Period('2007', 'A-DEC')"
            ]
          },
          "metadata": {}
        }
      ],
      "execution_count": 132,
      "metadata": {
        "collapsed": false,
        "outputHidden": false,
        "inputHidden": false
      }
    },
    {
      "cell_type": "code",
      "source": [
        "p.asfreq('M', how='start')"
      ],
      "outputs": [
        {
          "output_type": "execute_result",
          "execution_count": 133,
          "data": {
            "text/plain": [
              "Period('2007-01', 'M')"
            ]
          },
          "metadata": {}
        }
      ],
      "execution_count": 133,
      "metadata": {
        "collapsed": false,
        "outputHidden": false,
        "inputHidden": false
      }
    },
    {
      "cell_type": "code",
      "source": [
        "p.asfreq('d', how='end')"
      ],
      "outputs": [
        {
          "output_type": "execute_result",
          "execution_count": 134,
          "data": {
            "text/plain": [
              "Period('2007-12-31', 'D')"
            ]
          },
          "metadata": {}
        }
      ],
      "execution_count": 134,
      "metadata": {
        "collapsed": false,
        "outputHidden": false,
        "inputHidden": false
      }
    },
    {
      "cell_type": "code",
      "source": [
        "#在A-JUN频率中，Aug-2007是2008区间的一部分\n",
        "p = pd.Period('Aug-2007', 'M')\n",
        "p.asfreq('A-JUN')"
      ],
      "outputs": [
        {
          "output_type": "execute_result",
          "execution_count": 135,
          "data": {
            "text/plain": [
              "Period('2008', 'A-JUN')"
            ]
          },
          "metadata": {}
        }
      ],
      "execution_count": 135,
      "metadata": {
        "collapsed": false,
        "outputHidden": false,
        "inputHidden": false
      }
    },
    {
      "cell_type": "markdown",
      "source": [
        "当从高频率向低频率转换时，pandas根据自区间的“所属”来决定父区间"
      ],
      "metadata": {}
    },
    {
      "cell_type": "code",
      "source": [
        "rng = pd.period_range('2006', '2009', freq='A-DEC')\n",
        "ts = pd.Series(np.random.randn(len(rng)), index=rng)"
      ],
      "outputs": [],
      "execution_count": 136,
      "metadata": {
        "collapsed": false,
        "outputHidden": false,
        "inputHidden": false
      }
    },
    {
      "cell_type": "code",
      "source": [
        "rng"
      ],
      "outputs": [
        {
          "output_type": "execute_result",
          "execution_count": 137,
          "data": {
            "text/plain": [
              "PeriodIndex(['2006', '2007', '2008', '2009'], dtype='period[A-DEC]', freq='A-DEC')"
            ]
          },
          "metadata": {}
        }
      ],
      "execution_count": 137,
      "metadata": {
        "collapsed": false,
        "outputHidden": false,
        "inputHidden": false
      }
    },
    {
      "cell_type": "code",
      "source": [
        "ts"
      ],
      "outputs": [
        {
          "output_type": "execute_result",
          "execution_count": 138,
          "data": {
            "text/plain": [
              "2006    1.432684\n",
              "2007   -0.239990\n",
              "2008   -1.369659\n",
              "2009   -1.987623\n",
              "Freq: A-DEC, dtype: float64"
            ]
          },
          "metadata": {}
        }
      ],
      "execution_count": 138,
      "metadata": {
        "collapsed": false,
        "outputHidden": false,
        "inputHidden": false
      }
    },
    {
      "cell_type": "code",
      "source": [
        "ts.asfreq('B', how='end')"
      ],
      "outputs": [
        {
          "output_type": "execute_result",
          "execution_count": 139,
          "data": {
            "text/plain": [
              "2006-12-29    1.432684\n",
              "2007-12-31   -0.239990\n",
              "2008-12-31   -1.369659\n",
              "2009-12-31   -1.987623\n",
              "Freq: B, dtype: float64"
            ]
          },
          "metadata": {}
        }
      ],
      "execution_count": 139,
      "metadata": {
        "collapsed": false,
        "outputHidden": false,
        "inputHidden": false
      }
    },
    {
      "cell_type": "markdown",
      "source": [
        "5.2 季度区间频率"
      ],
      "metadata": {}
    },
    {
      "cell_type": "markdown",
      "source": [
        "季度区间频率是会计、金融和其他领域的标准。很多季度数据实在财年结尾报告的，通常是一年12个月中的最后一个日历日或工作日。\n",
        "\n",
        "pandas支持所有可能的12个季度频率从Q-JAN到Q-DEC"
      ],
      "metadata": {}
    },
    {
      "cell_type": "code",
      "source": [
        "p4pm = (p.asfreq('B', 'e') - 1).asfreq('T', 's') + 16 * 60"
      ],
      "outputs": [],
      "execution_count": 140,
      "metadata": {
        "collapsed": false,
        "outputHidden": false,
        "inputHidden": false
      }
    },
    {
      "cell_type": "code",
      "source": [
        "p4pm"
      ],
      "outputs": [
        {
          "output_type": "execute_result",
          "execution_count": 141,
          "data": {
            "text/plain": [
              "Period('2007-08-30 16:00', 'T')"
            ]
          },
          "metadata": {}
        }
      ],
      "execution_count": 141,
      "metadata": {
        "collapsed": false,
        "outputHidden": false,
        "inputHidden": false
      }
    },
    {
      "cell_type": "code",
      "source": [
        "p4pm.to_timestamp()"
      ],
      "outputs": [
        {
          "output_type": "execute_result",
          "execution_count": 142,
          "data": {
            "text/plain": [
              "Timestamp('2007-08-30 16:00:00')"
            ]
          },
          "metadata": {}
        }
      ],
      "execution_count": 142,
      "metadata": {
        "collapsed": false,
        "outputHidden": false,
        "inputHidden": false
      }
    },
    {
      "cell_type": "code",
      "source": [
        "#使用period_range()生成季度序列。\n",
        "rng = pd.period_range('2011Q3', '2012Q4', freq='Q-DEC')"
      ],
      "outputs": [],
      "execution_count": 143,
      "metadata": {
        "collapsed": false,
        "outputHidden": false,
        "inputHidden": false
      }
    },
    {
      "cell_type": "code",
      "source": [
        "ts = pd.Series(np.arange(len(rng)), index=rng)\n",
        "ts"
      ],
      "outputs": [
        {
          "output_type": "execute_result",
          "execution_count": 144,
          "data": {
            "text/plain": [
              "2011Q3    0\n",
              "2011Q4    1\n",
              "2012Q1    2\n",
              "2012Q2    3\n",
              "2012Q3    4\n",
              "2012Q4    5\n",
              "Freq: Q-DEC, dtype: int32"
            ]
          },
          "metadata": {}
        }
      ],
      "execution_count": 144,
      "metadata": {
        "collapsed": false,
        "outputHidden": false,
        "inputHidden": false
      }
    },
    {
      "cell_type": "code",
      "source": [
        "rng = pd.period_range('2011Q3', '2012Q4', freq='Q-JAN')\n",
        "ts = pd.Series(np.arange(len(rng)), index=rng)\n",
        "ts"
      ],
      "outputs": [
        {
          "output_type": "execute_result",
          "execution_count": 146,
          "data": {
            "text/plain": [
              "2011Q3    0\n",
              "2011Q4    1\n",
              "2012Q1    2\n",
              "2012Q2    3\n",
              "2012Q3    4\n",
              "2012Q4    5\n",
              "Freq: Q-JAN, dtype: int32"
            ]
          },
          "metadata": {}
        }
      ],
      "execution_count": 146,
      "metadata": {
        "collapsed": false,
        "outputHidden": false,
        "inputHidden": false
      }
    },
    {
      "cell_type": "code",
      "source": [
        "new_rng = (rng.asfreq('B', 'e') - 1).asfreq('T', 's') + 16 * 60"
      ],
      "outputs": [],
      "execution_count": 148,
      "metadata": {
        "collapsed": false,
        "outputHidden": false,
        "inputHidden": false
      }
    },
    {
      "cell_type": "code",
      "source": [
        "ts.index = new_rng.to_timestamp()"
      ],
      "outputs": [],
      "execution_count": 149,
      "metadata": {
        "collapsed": false,
        "outputHidden": false,
        "inputHidden": false
      }
    },
    {
      "cell_type": "markdown",
      "source": [
        "5.3 将时间戳转换为区间（以及逆转换）\n",
        "\n",
        "通过时间戳索引的Series和df可以被to_period方法转换为区间；\n",
        "\n",
        "可以使用to_timestamp()将区间再转换为时间戳。"
      ],
      "metadata": {}
    },
    {
      "cell_type": "code",
      "source": [
        "rng = pd.date_range('2000.1.1', periods=3, freq='M')"
      ],
      "outputs": [],
      "execution_count": 150,
      "metadata": {
        "collapsed": false,
        "outputHidden": false,
        "inputHidden": false
      }
    },
    {
      "cell_type": "code",
      "source": [
        "ts = pd.Series(np.random.randn(3), index=rng)"
      ],
      "outputs": [],
      "execution_count": 151,
      "metadata": {
        "collapsed": false,
        "outputHidden": false,
        "inputHidden": false
      }
    },
    {
      "cell_type": "code",
      "source": [
        "type(rng)"
      ],
      "outputs": [
        {
          "output_type": "execute_result",
          "execution_count": 154,
          "data": {
            "text/plain": [
              "pandas.tseries.index.DatetimeIndex"
            ]
          },
          "metadata": {}
        }
      ],
      "execution_count": 154,
      "metadata": {
        "collapsed": false,
        "outputHidden": false,
        "inputHidden": false
      }
    },
    {
      "cell_type": "code",
      "source": [
        "ts"
      ],
      "outputs": [
        {
          "output_type": "execute_result",
          "execution_count": 152,
          "data": {
            "text/plain": [
              "2000-01-31   -0.636762\n",
              "2000-02-29   -1.279759\n",
              "2000-03-31    0.549107\n",
              "Freq: M, dtype: float64"
            ]
          },
          "metadata": {}
        }
      ],
      "execution_count": 152,
      "metadata": {
        "collapsed": false,
        "outputHidden": false,
        "inputHidden": false
      }
    },
    {
      "cell_type": "code",
      "source": [
        "pts = ts.to_period()\n",
        "pts"
      ],
      "outputs": [
        {
          "output_type": "execute_result",
          "execution_count": 153,
          "data": {
            "text/plain": [
              "2000-01   -0.636762\n",
              "2000-02   -1.279759\n",
              "2000-03    0.549107\n",
              "Freq: M, dtype: float64"
            ]
          },
          "metadata": {}
        }
      ],
      "execution_count": 153,
      "metadata": {
        "collapsed": false,
        "outputHidden": false,
        "inputHidden": false
      }
    },
    {
      "cell_type": "code",
      "source": [
        "type(pts)"
      ],
      "outputs": [
        {
          "output_type": "execute_result",
          "execution_count": 155,
          "data": {
            "text/plain": [
              "pandas.core.series.Series"
            ]
          },
          "metadata": {}
        }
      ],
      "execution_count": 155,
      "metadata": {
        "collapsed": false,
        "outputHidden": false,
        "inputHidden": false
      }
    },
    {
      "cell_type": "code",
      "source": [
        "rng = pd.date_range('2000.1.29', periods=6, freq='D')"
      ],
      "outputs": [],
      "execution_count": 156,
      "metadata": {
        "collapsed": false,
        "outputHidden": false,
        "inputHidden": false
      }
    },
    {
      "cell_type": "code",
      "source": [
        "ts2 = pd.Series(np.random.randn(6), index=rng)"
      ],
      "outputs": [],
      "execution_count": 157,
      "metadata": {
        "collapsed": false,
        "outputHidden": false,
        "inputHidden": false
      }
    },
    {
      "cell_type": "code",
      "source": [
        "ts2"
      ],
      "outputs": [
        {
          "output_type": "execute_result",
          "execution_count": 158,
          "data": {
            "text/plain": [
              "2000-01-29   -0.475498\n",
              "2000-01-30    0.351545\n",
              "2000-01-31   -0.145511\n",
              "2000-02-01   -0.454444\n",
              "2000-02-02   -1.106659\n",
              "2000-02-03    1.898621\n",
              "Freq: D, dtype: float64"
            ]
          },
          "metadata": {}
        }
      ],
      "execution_count": 158,
      "metadata": {
        "collapsed": false,
        "outputHidden": false,
        "inputHidden": false
      }
    },
    {
      "cell_type": "code",
      "source": [
        "ts2.to_period('M')"
      ],
      "outputs": [
        {
          "output_type": "execute_result",
          "execution_count": 159,
          "data": {
            "text/plain": [
              "2000-01   -0.475498\n",
              "2000-01    0.351545\n",
              "2000-01   -0.145511\n",
              "2000-02   -0.454444\n",
              "2000-02   -1.106659\n",
              "2000-02    1.898621\n",
              "Freq: M, dtype: float64"
            ]
          },
          "metadata": {}
        }
      ],
      "execution_count": 159,
      "metadata": {
        "collapsed": false,
        "outputHidden": false,
        "inputHidden": false
      }
    },
    {
      "cell_type": "code",
      "source": [
        "ts2.to_period('Q')"
      ],
      "outputs": [
        {
          "output_type": "execute_result",
          "execution_count": 161,
          "data": {
            "text/plain": [
              "2000Q1   -0.475498\n",
              "2000Q1    0.351545\n",
              "2000Q1   -0.145511\n",
              "2000Q1   -0.454444\n",
              "2000Q1   -1.106659\n",
              "2000Q1    1.898621\n",
              "Freq: Q-DEC, dtype: float64"
            ]
          },
          "metadata": {}
        }
      ],
      "execution_count": 161,
      "metadata": {
        "collapsed": false,
        "outputHidden": false,
        "inputHidden": false
      }
    },
    {
      "cell_type": "code",
      "source": [
        "ts2.to_period('A')"
      ],
      "outputs": [
        {
          "output_type": "execute_result",
          "execution_count": 162,
          "data": {
            "text/plain": [
              "2000   -0.475498\n",
              "2000    0.351545\n",
              "2000   -0.145511\n",
              "2000   -0.454444\n",
              "2000   -1.106659\n",
              "2000    1.898621\n",
              "Freq: A-DEC, dtype: float64"
            ]
          },
          "metadata": {}
        }
      ],
      "execution_count": 162,
      "metadata": {
        "collapsed": false,
        "outputHidden": false,
        "inputHidden": false
      }
    },
    {
      "cell_type": "code",
      "source": [
        "ts2.to_period('M').to_timestamp()#变成每个月第一天了，信息有损失"
      ],
      "outputs": [
        {
          "output_type": "execute_result",
          "execution_count": 164,
          "data": {
            "text/plain": [
              "2000-01-01   -0.475498\n",
              "2000-01-01    0.351545\n",
              "2000-01-01   -0.145511\n",
              "2000-02-01   -0.454444\n",
              "2000-02-01   -1.106659\n",
              "2000-02-01    1.898621\n",
              "dtype: float64"
            ]
          },
          "metadata": {}
        }
      ],
      "execution_count": 164,
      "metadata": {
        "collapsed": false,
        "outputHidden": false,
        "inputHidden": false
      }
    },
    {
      "cell_type": "code",
      "source": [
        "pts = ts2.to_period()\n",
        "pts"
      ],
      "outputs": [
        {
          "output_type": "execute_result",
          "execution_count": 165,
          "data": {
            "text/plain": [
              "2000-01-29   -0.475498\n",
              "2000-01-30    0.351545\n",
              "2000-01-31   -0.145511\n",
              "2000-02-01   -0.454444\n",
              "2000-02-02   -1.106659\n",
              "2000-02-03    1.898621\n",
              "Freq: D, dtype: float64"
            ]
          },
          "metadata": {}
        }
      ],
      "execution_count": 165,
      "metadata": {
        "collapsed": false,
        "outputHidden": false,
        "inputHidden": false
      }
    },
    {
      "cell_type": "code",
      "source": [
        "pts.to_timestamp(how='end')"
      ],
      "outputs": [
        {
          "output_type": "execute_result",
          "execution_count": 166,
          "data": {
            "text/plain": [
              "2000-01-29   -0.475498\n",
              "2000-01-30    0.351545\n",
              "2000-01-31   -0.145511\n",
              "2000-02-01   -0.454444\n",
              "2000-02-02   -1.106659\n",
              "2000-02-03    1.898621\n",
              "Freq: D, dtype: float64"
            ]
          },
          "metadata": {}
        }
      ],
      "execution_count": 166,
      "metadata": {
        "collapsed": false,
        "outputHidden": false,
        "inputHidden": false
      }
    },
    {
      "cell_type": "markdown",
      "source": [
        "5.4 从数组生成PeriodIndex"
      ],
      "metadata": {}
    },
    {
      "cell_type": "markdown",
      "source": [
        "有时候固定频率数据集存储在跨越多列的时间范围信息中。"
      ],
      "metadata": {}
    },
    {
      "cell_type": "code",
      "source": [
        "data = pd.read_csv('E:/py_pandasDA_practice/code/examples/macrodata.csv')"
      ],
      "outputs": [],
      "execution_count": 170,
      "metadata": {
        "collapsed": false,
        "outputHidden": false,
        "inputHidden": false
      }
    },
    {
      "cell_type": "code",
      "source": [
        "data.head(5)"
      ],
      "outputs": [
        {
          "output_type": "execute_result",
          "execution_count": 171,
          "data": {
            "text/html": [
              "<div>\n",
              "<table border=\"1\" class=\"dataframe\">\n",
              "  <thead>\n",
              "    <tr style=\"text-align: right;\">\n",
              "      <th></th>\n",
              "      <th>year</th>\n",
              "      <th>quarter</th>\n",
              "      <th>realgdp</th>\n",
              "      <th>realcons</th>\n",
              "      <th>realinv</th>\n",
              "      <th>realgovt</th>\n",
              "      <th>realdpi</th>\n",
              "      <th>cpi</th>\n",
              "      <th>m1</th>\n",
              "      <th>tbilrate</th>\n",
              "      <th>unemp</th>\n",
              "      <th>pop</th>\n",
              "      <th>infl</th>\n",
              "      <th>realint</th>\n",
              "    </tr>\n",
              "  </thead>\n",
              "  <tbody>\n",
              "    <tr>\n",
              "      <th>0</th>\n",
              "      <td>1959.0</td>\n",
              "      <td>1.0</td>\n",
              "      <td>2710.349</td>\n",
              "      <td>1707.4</td>\n",
              "      <td>286.898</td>\n",
              "      <td>470.045</td>\n",
              "      <td>1886.9</td>\n",
              "      <td>28.98</td>\n",
              "      <td>139.7</td>\n",
              "      <td>2.82</td>\n",
              "      <td>5.8</td>\n",
              "      <td>177.146</td>\n",
              "      <td>0.00</td>\n",
              "      <td>0.00</td>\n",
              "    </tr>\n",
              "    <tr>\n",
              "      <th>1</th>\n",
              "      <td>1959.0</td>\n",
              "      <td>2.0</td>\n",
              "      <td>2778.801</td>\n",
              "      <td>1733.7</td>\n",
              "      <td>310.859</td>\n",
              "      <td>481.301</td>\n",
              "      <td>1919.7</td>\n",
              "      <td>29.15</td>\n",
              "      <td>141.7</td>\n",
              "      <td>3.08</td>\n",
              "      <td>5.1</td>\n",
              "      <td>177.830</td>\n",
              "      <td>2.34</td>\n",
              "      <td>0.74</td>\n",
              "    </tr>\n",
              "    <tr>\n",
              "      <th>2</th>\n",
              "      <td>1959.0</td>\n",
              "      <td>3.0</td>\n",
              "      <td>2775.488</td>\n",
              "      <td>1751.8</td>\n",
              "      <td>289.226</td>\n",
              "      <td>491.260</td>\n",
              "      <td>1916.4</td>\n",
              "      <td>29.35</td>\n",
              "      <td>140.5</td>\n",
              "      <td>3.82</td>\n",
              "      <td>5.3</td>\n",
              "      <td>178.657</td>\n",
              "      <td>2.74</td>\n",
              "      <td>1.09</td>\n",
              "    </tr>\n",
              "    <tr>\n",
              "      <th>3</th>\n",
              "      <td>1959.0</td>\n",
              "      <td>4.0</td>\n",
              "      <td>2785.204</td>\n",
              "      <td>1753.7</td>\n",
              "      <td>299.356</td>\n",
              "      <td>484.052</td>\n",
              "      <td>1931.3</td>\n",
              "      <td>29.37</td>\n",
              "      <td>140.0</td>\n",
              "      <td>4.33</td>\n",
              "      <td>5.6</td>\n",
              "      <td>179.386</td>\n",
              "      <td>0.27</td>\n",
              "      <td>4.06</td>\n",
              "    </tr>\n",
              "    <tr>\n",
              "      <th>4</th>\n",
              "      <td>1960.0</td>\n",
              "      <td>1.0</td>\n",
              "      <td>2847.699</td>\n",
              "      <td>1770.5</td>\n",
              "      <td>331.722</td>\n",
              "      <td>462.199</td>\n",
              "      <td>1955.5</td>\n",
              "      <td>29.54</td>\n",
              "      <td>139.6</td>\n",
              "      <td>3.50</td>\n",
              "      <td>5.2</td>\n",
              "      <td>180.007</td>\n",
              "      <td>2.31</td>\n",
              "      <td>1.19</td>\n",
              "    </tr>\n",
              "  </tbody>\n",
              "</table>\n",
              "</div>"
            ],
            "text/plain": [
              "     year  quarter   realgdp  realcons  realinv  realgovt  realdpi    cpi  \\\n",
              "0  1959.0      1.0  2710.349    1707.4  286.898   470.045   1886.9  28.98   \n",
              "1  1959.0      2.0  2778.801    1733.7  310.859   481.301   1919.7  29.15   \n",
              "2  1959.0      3.0  2775.488    1751.8  289.226   491.260   1916.4  29.35   \n",
              "3  1959.0      4.0  2785.204    1753.7  299.356   484.052   1931.3  29.37   \n",
              "4  1960.0      1.0  2847.699    1770.5  331.722   462.199   1955.5  29.54   \n",
              "\n",
              "      m1  tbilrate  unemp      pop  infl  realint  \n",
              "0  139.7      2.82    5.8  177.146  0.00     0.00  \n",
              "1  141.7      3.08    5.1  177.830  2.34     0.74  \n",
              "2  140.5      3.82    5.3  178.657  2.74     1.09  \n",
              "3  140.0      4.33    5.6  179.386  0.27     4.06  \n",
              "4  139.6      3.50    5.2  180.007  2.31     1.19  "
            ]
          },
          "metadata": {}
        }
      ],
      "execution_count": 171,
      "metadata": {
        "collapsed": false,
        "outputHidden": false,
        "inputHidden": false
      }
    },
    {
      "cell_type": "code",
      "source": [
        "data.year"
      ],
      "outputs": [
        {
          "output_type": "execute_result",
          "execution_count": 172,
          "data": {
            "text/plain": [
              "0      1959.0\n",
              "1      1959.0\n",
              "2      1959.0\n",
              "3      1959.0\n",
              "4      1960.0\n",
              "5      1960.0\n",
              "6      1960.0\n",
              "7      1960.0\n",
              "8      1961.0\n",
              "9      1961.0\n",
              "10     1961.0\n",
              "11     1961.0\n",
              "12     1962.0\n",
              "13     1962.0\n",
              "14     1962.0\n",
              "15     1962.0\n",
              "16     1963.0\n",
              "17     1963.0\n",
              "18     1963.0\n",
              "19     1963.0\n",
              "20     1964.0\n",
              "21     1964.0\n",
              "22     1964.0\n",
              "23     1964.0\n",
              "24     1965.0\n",
              "25     1965.0\n",
              "26     1965.0\n",
              "27     1965.0\n",
              "28     1966.0\n",
              "29     1966.0\n",
              "        ...  \n",
              "173    2002.0\n",
              "174    2002.0\n",
              "175    2002.0\n",
              "176    2003.0\n",
              "177    2003.0\n",
              "178    2003.0\n",
              "179    2003.0\n",
              "180    2004.0\n",
              "181    2004.0\n",
              "182    2004.0\n",
              "183    2004.0\n",
              "184    2005.0\n",
              "185    2005.0\n",
              "186    2005.0\n",
              "187    2005.0\n",
              "188    2006.0\n",
              "189    2006.0\n",
              "190    2006.0\n",
              "191    2006.0\n",
              "192    2007.0\n",
              "193    2007.0\n",
              "194    2007.0\n",
              "195    2007.0\n",
              "196    2008.0\n",
              "197    2008.0\n",
              "198    2008.0\n",
              "199    2008.0\n",
              "200    2009.0\n",
              "201    2009.0\n",
              "202    2009.0\n",
              "Name: year, dtype: float64"
            ]
          },
          "metadata": {}
        }
      ],
      "execution_count": 172,
      "metadata": {
        "collapsed": false,
        "outputHidden": false,
        "inputHidden": false
      }
    },
    {
      "cell_type": "code",
      "source": [
        "data.quarter"
      ],
      "outputs": [
        {
          "output_type": "execute_result",
          "execution_count": 173,
          "data": {
            "text/plain": [
              "0      1.0\n",
              "1      2.0\n",
              "2      3.0\n",
              "3      4.0\n",
              "4      1.0\n",
              "5      2.0\n",
              "6      3.0\n",
              "7      4.0\n",
              "8      1.0\n",
              "9      2.0\n",
              "10     3.0\n",
              "11     4.0\n",
              "12     1.0\n",
              "13     2.0\n",
              "14     3.0\n",
              "15     4.0\n",
              "16     1.0\n",
              "17     2.0\n",
              "18     3.0\n",
              "19     4.0\n",
              "20     1.0\n",
              "21     2.0\n",
              "22     3.0\n",
              "23     4.0\n",
              "24     1.0\n",
              "25     2.0\n",
              "26     3.0\n",
              "27     4.0\n",
              "28     1.0\n",
              "29     2.0\n",
              "      ... \n",
              "173    2.0\n",
              "174    3.0\n",
              "175    4.0\n",
              "176    1.0\n",
              "177    2.0\n",
              "178    3.0\n",
              "179    4.0\n",
              "180    1.0\n",
              "181    2.0\n",
              "182    3.0\n",
              "183    4.0\n",
              "184    1.0\n",
              "185    2.0\n",
              "186    3.0\n",
              "187    4.0\n",
              "188    1.0\n",
              "189    2.0\n",
              "190    3.0\n",
              "191    4.0\n",
              "192    1.0\n",
              "193    2.0\n",
              "194    3.0\n",
              "195    4.0\n",
              "196    1.0\n",
              "197    2.0\n",
              "198    3.0\n",
              "199    4.0\n",
              "200    1.0\n",
              "201    2.0\n",
              "202    3.0\n",
              "Name: quarter, dtype: float64"
            ]
          },
          "metadata": {}
        }
      ],
      "execution_count": 173,
      "metadata": {
        "collapsed": false,
        "outputHidden": false,
        "inputHidden": false
      }
    },
    {
      "cell_type": "code",
      "source": [
        "index = pd.PeriodIndex(year=data.year, quarter=data.quarter, freq='Q-DEC')"
      ],
      "outputs": [],
      "execution_count": 174,
      "metadata": {
        "collapsed": false,
        "outputHidden": false,
        "inputHidden": false
      }
    },
    {
      "cell_type": "code",
      "source": [
        "index"
      ],
      "outputs": [
        {
          "output_type": "execute_result",
          "execution_count": 175,
          "data": {
            "text/plain": [
              "PeriodIndex(['1959Q1', '1959Q2', '1959Q3', '1959Q4', '1960Q1', '1960Q2',\n",
              "             '1960Q3', '1960Q4', '1961Q1', '1961Q2',\n",
              "             ...\n",
              "             '2007Q2', '2007Q3', '2007Q4', '2008Q1', '2008Q2', '2008Q3',\n",
              "             '2008Q4', '2009Q1', '2009Q2', '2009Q3'],\n",
              "            dtype='period[Q-DEC]', length=203, freq='Q-DEC')"
            ]
          },
          "metadata": {}
        }
      ],
      "execution_count": 175,
      "metadata": {
        "collapsed": false,
        "outputHidden": false,
        "inputHidden": false
      }
    },
    {
      "cell_type": "code",
      "source": [
        "data.index = index"
      ],
      "outputs": [],
      "execution_count": 176,
      "metadata": {
        "collapsed": false,
        "outputHidden": false,
        "inputHidden": false
      }
    },
    {
      "cell_type": "code",
      "source": [
        "data.infl"
      ],
      "outputs": [
        {
          "output_type": "execute_result",
          "execution_count": 178,
          "data": {
            "text/plain": [
              "1959Q1    0.00\n",
              "1959Q2    2.34\n",
              "1959Q3    2.74\n",
              "1959Q4    0.27\n",
              "1960Q1    2.31\n",
              "1960Q2    0.14\n",
              "1960Q3    2.70\n",
              "1960Q4    1.21\n",
              "1961Q1   -0.40\n",
              "1961Q2    1.47\n",
              "1961Q3    0.80\n",
              "1961Q4    0.80\n",
              "1962Q1    2.26\n",
              "1962Q2    0.13\n",
              "1962Q3    2.11\n",
              "1962Q4    0.79\n",
              "1963Q1    0.53\n",
              "1963Q2    2.75\n",
              "1963Q3    0.78\n",
              "1963Q4    2.46\n",
              "1964Q1    0.13\n",
              "1964Q2    0.90\n",
              "1964Q3    1.29\n",
              "1964Q4    2.05\n",
              "1965Q1    1.28\n",
              "1965Q2    2.54\n",
              "1965Q3    0.89\n",
              "1965Q4    2.90\n",
              "1966Q1    4.99\n",
              "1966Q2    2.10\n",
              "          ... \n",
              "2002Q2    1.56\n",
              "2002Q3    2.66\n",
              "2002Q4    3.08\n",
              "2003Q1    1.31\n",
              "2003Q2    1.09\n",
              "2003Q3    2.60\n",
              "2003Q4    3.02\n",
              "2004Q1    2.35\n",
              "2004Q2    3.61\n",
              "2004Q3    3.58\n",
              "2004Q4    2.09\n",
              "2005Q1    4.15\n",
              "2005Q2    1.85\n",
              "2005Q3    9.14\n",
              "2005Q4    0.40\n",
              "2006Q1    2.60\n",
              "2006Q2    3.97\n",
              "2006Q3   -1.58\n",
              "2006Q4    3.30\n",
              "2007Q1    4.58\n",
              "2007Q2    2.75\n",
              "2007Q3    3.45\n",
              "2007Q4    6.38\n",
              "2008Q1    2.82\n",
              "2008Q2    8.53\n",
              "2008Q3   -3.16\n",
              "2008Q4   -8.79\n",
              "2009Q1    0.94\n",
              "2009Q2    3.37\n",
              "2009Q3    3.56\n",
              "Freq: Q-DEC, Name: infl, dtype: float64"
            ]
          },
          "metadata": {}
        }
      ],
      "execution_count": 178,
      "metadata": {
        "collapsed": false,
        "outputHidden": false,
        "inputHidden": false
      }
    },
    {
      "cell_type": "markdown",
      "source": [
        "6. 重新采样与频率转换"
      ],
      "metadata": {}
    },
    {
      "cell_type": "code",
      "source": [
        "#重新采样是指时间序列从一个频率转换为另一个频率的过程。将更高频率的数据聚合到低频率成为向下采样；而从低频率转换到高频率成为上采样。例如，将W-WED（weelky on Wednesday, 每周三）转换到W-FRI(每周五)"
      ],
      "outputs": [],
      "execution_count": 179,
      "metadata": {
        "collapsed": false,
        "outputHidden": false,
        "inputHidden": false
      }
    },
    {
      "cell_type": "markdown",
      "source": [
        "pandas对象都配有resample方法，该方法是所有频率转换的工具函数。\n",
        "\n",
        "\n",
        "\n",
        "resample与groupby的API很像：先调用resample对数据分组；然后调用聚合函数。\n",
        "\n",
        "\n",
        "Only valid with DatetimeIndex, TimedeltaIndex or PeriodIndex"
      ],
      "metadata": {}
    },
    {
      "cell_type": "code",
      "source": [
        "rng = pd.date_range('2000.1.1', periods=100, freq='D')"
      ],
      "outputs": [],
      "execution_count": 180,
      "metadata": {
        "collapsed": false,
        "outputHidden": false,
        "inputHidden": false
      }
    },
    {
      "cell_type": "code",
      "source": [
        "ts = pd.Series(np.random.randn(len(rng)), index=rng)"
      ],
      "outputs": [],
      "execution_count": 181,
      "metadata": {
        "collapsed": false,
        "outputHidden": false,
        "inputHidden": false
      }
    },
    {
      "cell_type": "code",
      "source": [
        "ts.head(5)"
      ],
      "outputs": [
        {
          "output_type": "execute_result",
          "execution_count": 182,
          "data": {
            "text/plain": [
              "2000-01-01   -1.095358\n",
              "2000-01-02    0.002908\n",
              "2000-01-03   -2.079631\n",
              "2000-01-04    0.157457\n",
              "2000-01-05    0.659079\n",
              "Freq: D, dtype: float64"
            ]
          },
          "metadata": {}
        }
      ],
      "execution_count": 182,
      "metadata": {
        "collapsed": false,
        "outputHidden": false,
        "inputHidden": false
      }
    },
    {
      "cell_type": "code",
      "source": [
        "ts.resample('M').mean()"
      ],
      "outputs": [
        {
          "output_type": "execute_result",
          "execution_count": 183,
          "data": {
            "text/plain": [
              "2000-01-31    0.029073\n",
              "2000-02-29    0.260737\n",
              "2000-03-31    0.444856\n",
              "2000-04-30    0.060163\n",
              "Freq: M, dtype: float64"
            ]
          },
          "metadata": {}
        }
      ],
      "execution_count": 183,
      "metadata": {
        "collapsed": false,
        "outputHidden": false,
        "inputHidden": false
      }
    },
    {
      "cell_type": "code",
      "source": [
        "ts.resample('M', kind='period').mean()"
      ],
      "outputs": [
        {
          "output_type": "execute_result",
          "execution_count": 185,
          "data": {
            "text/plain": [
              "2000-01    0.029073\n",
              "2000-02    0.260737\n",
              "2000-03    0.444856\n",
              "2000-04    0.060163\n",
              "Freq: M, dtype: float64"
            ]
          },
          "metadata": {}
        }
      ],
      "execution_count": 185,
      "metadata": {
        "collapsed": false,
        "outputHidden": false,
        "inputHidden": false
      }
    },
    {
      "cell_type": "markdown",
      "source": [
        "resample方法参数：\n",
        "\n",
        "freq——————表明所需采样频率的字符串或DateFffset对象（‘M’‘5min’或second(1)）\n",
        "\n",
        "axis——————需要采样的轴向\n",
        "\n",
        "fill_method——————向上采样的差值方式，ffill，bfill\n",
        "\n",
        "closed——————向下采样中，每段间隔的那一段是封闭的，right or left\n",
        "\n",
        "label——————向下采样中，如何用right或left的箱标签标记聚合结果，例如：‘：’\n",
        "\n",
        "loffset——————对箱时间进行时间调校\n",
        "\n",
        "limit——————向前或后巷填充时，填充区间的最大值\n",
        "\n",
        "kind——————对区间period或时间戳timestamp的聚合；默认为时间序列索引的类型。\n",
        "\n",
        "convention——————在对区间重新采样时，用于将低频周期抓换位高频的约定（start or end），默认是end"
      ],
      "metadata": {}
    },
    {
      "cell_type": "markdown",
      "source": [
        "6.1 向下采样"
      ],
      "metadata": {}
    },
    {
      "cell_type": "markdown",
      "source": [
        "聚合之前需要考虑：\n",
        "\n",
        "a. 每段间隔的哪一边是*聚合的*；\n",
        "\n",
        "b. 如何在间隔的起始或结束为止标记每个已经聚合的箱体。"
      ],
      "metadata": {}
    },
    {
      "cell_type": "code",
      "source": [
        "rng = pd.date_range('2000-01-01', periods=12, freq='T')\n",
        "ts = pd.Series(np.arange(12), index=rng)\n",
        "ts"
      ],
      "outputs": [
        {
          "output_type": "execute_result",
          "execution_count": 186,
          "data": {
            "text/plain": [
              "2000-01-01 00:00:00     0\n",
              "2000-01-01 00:01:00     1\n",
              "2000-01-01 00:02:00     2\n",
              "2000-01-01 00:03:00     3\n",
              "2000-01-01 00:04:00     4\n",
              "2000-01-01 00:05:00     5\n",
              "2000-01-01 00:06:00     6\n",
              "2000-01-01 00:07:00     7\n",
              "2000-01-01 00:08:00     8\n",
              "2000-01-01 00:09:00     9\n",
              "2000-01-01 00:10:00    10\n",
              "2000-01-01 00:11:00    11\n",
              "Freq: T, dtype: int32"
            ]
          },
          "metadata": {}
        }
      ],
      "execution_count": 186,
      "metadata": {
        "collapsed": false,
        "outputHidden": false,
        "inputHidden": false
      }
    },
    {
      "cell_type": "code",
      "source": [
        "#聚合每一个小时内每分钟的记录\n",
        "\n",
        "rng2 = pd.date_range('2000-01-01', periods=1000, freq='T')\n",
        "ts2 = pd.Series(np.arange(1000),index=rng2)\n",
        "ts2.head(5)"
      ],
      "outputs": [
        {
          "output_type": "execute_result",
          "execution_count": 196,
          "data": {
            "text/plain": [
              "2000-01-01 00:00:00    0\n",
              "2000-01-01 00:01:00    1\n",
              "2000-01-01 00:02:00    2\n",
              "2000-01-01 00:03:00    3\n",
              "2000-01-01 00:04:00    4\n",
              "Freq: T, dtype: int32"
            ]
          },
          "metadata": {}
        }
      ],
      "execution_count": 196,
      "metadata": {
        "collapsed": false,
        "outputHidden": false,
        "inputHidden": false
      }
    },
    {
      "cell_type": "code",
      "source": [
        "ts2.groupby(rng2.to_period('h')).mean()"
      ],
      "outputs": [
        {
          "output_type": "execute_result",
          "execution_count": 200,
          "data": {
            "text/plain": [
              "2000-01-01 00:00     29.5\n",
              "2000-01-01 01:00     89.5\n",
              "2000-01-01 02:00    149.5\n",
              "2000-01-01 03:00    209.5\n",
              "2000-01-01 04:00    269.5\n",
              "2000-01-01 05:00    329.5\n",
              "2000-01-01 06:00    389.5\n",
              "2000-01-01 07:00    449.5\n",
              "2000-01-01 08:00    509.5\n",
              "2000-01-01 09:00    569.5\n",
              "2000-01-01 10:00    629.5\n",
              "2000-01-01 11:00    689.5\n",
              "2000-01-01 12:00    749.5\n",
              "2000-01-01 13:00    809.5\n",
              "2000-01-01 14:00    869.5\n",
              "2000-01-01 15:00    929.5\n",
              "2000-01-01 16:00    979.5\n",
              "Freq: H, dtype: float64"
            ]
          },
          "metadata": {}
        }
      ],
      "execution_count": 200,
      "metadata": {
        "collapsed": false,
        "outputHidden": false,
        "inputHidden": false
      }
    },
    {
      "cell_type": "code",
      "source": [
        "ts.resample('5min', closed='right').sum()"
      ],
      "outputs": [
        {
          "output_type": "execute_result",
          "execution_count": 201,
          "data": {
            "text/plain": [
              "1999-12-31 23:55:00     0\n",
              "2000-01-01 00:00:00    15\n",
              "2000-01-01 00:05:00    40\n",
              "2000-01-01 00:10:00    11\n",
              "Freq: 5T, dtype: int32"
            ]
          },
          "metadata": {}
        }
      ],
      "execution_count": 201,
      "metadata": {
        "collapsed": false,
        "outputHidden": false,
        "inputHidden": false
      }
    },
    {
      "cell_type": "code",
      "source": [
        "ts.resample('5min', closed='left').sum()"
      ],
      "outputs": [
        {
          "output_type": "execute_result",
          "execution_count": 204,
          "data": {
            "text/plain": [
              "2000-01-01 00:00:00    10\n",
              "2000-01-01 00:05:00    35\n",
              "2000-01-01 00:10:00    21\n",
              "Freq: 5T, dtype: int32"
            ]
          },
          "metadata": {}
        }
      ],
      "execution_count": 204,
      "metadata": {
        "collapsed": false,
        "outputHidden": false,
        "inputHidden": false
      }
    },
    {
      "cell_type": "code",
      "source": [
        "ts.resample('5min', closed='right', label='right').sum()"
      ],
      "outputs": [
        {
          "output_type": "execute_result",
          "execution_count": 205,
          "data": {
            "text/plain": [
              "2000-01-01 00:00:00     0\n",
              "2000-01-01 00:05:00    15\n",
              "2000-01-01 00:10:00    40\n",
              "2000-01-01 00:15:00    11\n",
              "Freq: 5T, dtype: int32"
            ]
          },
          "metadata": {}
        }
      ],
      "execution_count": 205,
      "metadata": {
        "collapsed": false,
        "outputHidden": false,
        "inputHidden": false
      }
    },
    {
      "cell_type": "code",
      "source": [
        "#加上时间偏置\n",
        "\n",
        "ts.resample('5min', closed='right',label='right',loffset='-1s').sum()"
      ],
      "outputs": [
        {
          "output_type": "execute_result",
          "execution_count": 206,
          "data": {
            "text/plain": [
              "1999-12-31 23:59:59     0\n",
              "2000-01-01 00:04:59    15\n",
              "2000-01-01 00:09:59    40\n",
              "2000-01-01 00:14:59    11\n",
              "Freq: 5T, dtype: int32"
            ]
          },
          "metadata": {}
        }
      ],
      "execution_count": 206,
      "metadata": {
        "collapsed": false,
        "outputHidden": false,
        "inputHidden": false
      }
    },
    {
      "cell_type": "markdown",
      "source": [
        "额外：开端-峰值-谷值-结束（OHLC）重新采样"
      ],
      "metadata": {}
    },
    {
      "cell_type": "code",
      "source": [
        "ts.resample('5min').ohlc()"
      ],
      "outputs": [
        {
          "output_type": "execute_result",
          "execution_count": 207,
          "data": {
            "text/html": [
              "<div>\n",
              "<table border=\"1\" class=\"dataframe\">\n",
              "  <thead>\n",
              "    <tr style=\"text-align: right;\">\n",
              "      <th></th>\n",
              "      <th>open</th>\n",
              "      <th>high</th>\n",
              "      <th>low</th>\n",
              "      <th>close</th>\n",
              "    </tr>\n",
              "  </thead>\n",
              "  <tbody>\n",
              "    <tr>\n",
              "      <th>2000-01-01 00:00:00</th>\n",
              "      <td>0</td>\n",
              "      <td>4</td>\n",
              "      <td>0</td>\n",
              "      <td>4</td>\n",
              "    </tr>\n",
              "    <tr>\n",
              "      <th>2000-01-01 00:05:00</th>\n",
              "      <td>5</td>\n",
              "      <td>9</td>\n",
              "      <td>5</td>\n",
              "      <td>9</td>\n",
              "    </tr>\n",
              "    <tr>\n",
              "      <th>2000-01-01 00:10:00</th>\n",
              "      <td>10</td>\n",
              "      <td>11</td>\n",
              "      <td>10</td>\n",
              "      <td>11</td>\n",
              "    </tr>\n",
              "  </tbody>\n",
              "</table>\n",
              "</div>"
            ],
            "text/plain": [
              "                     open  high  low  close\n",
              "2000-01-01 00:00:00     0     4    0      4\n",
              "2000-01-01 00:05:00     5     9    5      9\n",
              "2000-01-01 00:10:00    10    11   10     11"
            ]
          },
          "metadata": {}
        }
      ],
      "execution_count": 207,
      "metadata": {
        "collapsed": false,
        "outputHidden": false,
        "inputHidden": false
      }
    },
    {
      "cell_type": "markdown",
      "source": [
        "6.2 上采样与插值\n",
        "\n",
        "从低频率转换为高频率"
      ],
      "metadata": {}
    },
    {
      "cell_type": "code",
      "source": [
        "frame = pd.DataFrame(np.random.randn(2, 4),\n",
        "                     index=pd.date_range('1/1/2000', periods=2, freq='W-WED'),\n",
        "                     columns=['Colorado', 'Texas', 'New York', 'Ohio'])\n",
        "frame"
      ],
      "outputs": [
        {
          "output_type": "execute_result",
          "execution_count": 213,
          "data": {
            "text/html": [
              "<div>\n",
              "<table border=\"1\" class=\"dataframe\">\n",
              "  <thead>\n",
              "    <tr style=\"text-align: right;\">\n",
              "      <th></th>\n",
              "      <th>Colorado</th>\n",
              "      <th>Texas</th>\n",
              "      <th>New York</th>\n",
              "      <th>Ohio</th>\n",
              "    </tr>\n",
              "  </thead>\n",
              "  <tbody>\n",
              "    <tr>\n",
              "      <th>2000-01-05</th>\n",
              "      <td>-0.270885</td>\n",
              "      <td>0.237504</td>\n",
              "      <td>-0.785140</td>\n",
              "      <td>-1.445850</td>\n",
              "    </tr>\n",
              "    <tr>\n",
              "      <th>2000-01-12</th>\n",
              "      <td>-0.190623</td>\n",
              "      <td>-0.109874</td>\n",
              "      <td>0.220866</td>\n",
              "      <td>-0.050062</td>\n",
              "    </tr>\n",
              "  </tbody>\n",
              "</table>\n",
              "</div>"
            ],
            "text/plain": [
              "            Colorado     Texas  New York      Ohio\n",
              "2000-01-05 -0.270885  0.237504 -0.785140 -1.445850\n",
              "2000-01-12 -0.190623 -0.109874  0.220866 -0.050062"
            ]
          },
          "metadata": {}
        }
      ],
      "execution_count": 213,
      "metadata": {
        "collapsed": false,
        "outputHidden": false,
        "inputHidden": false
      }
    },
    {
      "cell_type": "code",
      "source": [
        "df_daily = frame.resample('D').asfreq()"
      ],
      "outputs": [],
      "execution_count": 211,
      "metadata": {
        "collapsed": false,
        "outputHidden": false,
        "inputHidden": false
      }
    },
    {
      "cell_type": "code",
      "source": [
        "df_daily"
      ],
      "outputs": [
        {
          "output_type": "execute_result",
          "execution_count": 212,
          "data": {
            "text/html": [
              "<div>\n",
              "<table border=\"1\" class=\"dataframe\">\n",
              "  <thead>\n",
              "    <tr style=\"text-align: right;\">\n",
              "      <th></th>\n",
              "      <th>Colorado</th>\n",
              "      <th>Texas</th>\n",
              "      <th>New York</th>\n",
              "      <th>Ohio</th>\n",
              "    </tr>\n",
              "  </thead>\n",
              "  <tbody>\n",
              "    <tr>\n",
              "      <th>2000-01-05</th>\n",
              "      <td>2.155383</td>\n",
              "      <td>-0.797050</td>\n",
              "      <td>-0.779324</td>\n",
              "      <td>-0.086457</td>\n",
              "    </tr>\n",
              "    <tr>\n",
              "      <th>2000-01-06</th>\n",
              "      <td>NaN</td>\n",
              "      <td>NaN</td>\n",
              "      <td>NaN</td>\n",
              "      <td>NaN</td>\n",
              "    </tr>\n",
              "    <tr>\n",
              "      <th>2000-01-07</th>\n",
              "      <td>NaN</td>\n",
              "      <td>NaN</td>\n",
              "      <td>NaN</td>\n",
              "      <td>NaN</td>\n",
              "    </tr>\n",
              "    <tr>\n",
              "      <th>2000-01-08</th>\n",
              "      <td>NaN</td>\n",
              "      <td>NaN</td>\n",
              "      <td>NaN</td>\n",
              "      <td>NaN</td>\n",
              "    </tr>\n",
              "    <tr>\n",
              "      <th>2000-01-09</th>\n",
              "      <td>NaN</td>\n",
              "      <td>NaN</td>\n",
              "      <td>NaN</td>\n",
              "      <td>NaN</td>\n",
              "    </tr>\n",
              "    <tr>\n",
              "      <th>2000-01-10</th>\n",
              "      <td>NaN</td>\n",
              "      <td>NaN</td>\n",
              "      <td>NaN</td>\n",
              "      <td>NaN</td>\n",
              "    </tr>\n",
              "    <tr>\n",
              "      <th>2000-01-11</th>\n",
              "      <td>NaN</td>\n",
              "      <td>NaN</td>\n",
              "      <td>NaN</td>\n",
              "      <td>NaN</td>\n",
              "    </tr>\n",
              "    <tr>\n",
              "      <th>2000-01-12</th>\n",
              "      <td>-2.244253</td>\n",
              "      <td>0.795852</td>\n",
              "      <td>-1.240541</td>\n",
              "      <td>1.845193</td>\n",
              "    </tr>\n",
              "  </tbody>\n",
              "</table>\n",
              "</div>"
            ],
            "text/plain": [
              "            Colorado     Texas  New York      Ohio\n",
              "2000-01-05  2.155383 -0.797050 -0.779324 -0.086457\n",
              "2000-01-06       NaN       NaN       NaN       NaN\n",
              "2000-01-07       NaN       NaN       NaN       NaN\n",
              "2000-01-08       NaN       NaN       NaN       NaN\n",
              "2000-01-09       NaN       NaN       NaN       NaN\n",
              "2000-01-10       NaN       NaN       NaN       NaN\n",
              "2000-01-11       NaN       NaN       NaN       NaN\n",
              "2000-01-12 -2.244253  0.795852 -1.240541  1.845193"
            ]
          },
          "metadata": {}
        }
      ],
      "execution_count": 212,
      "metadata": {
        "collapsed": false,
        "outputHidden": false,
        "inputHidden": false
      }
    },
    {
      "cell_type": "code",
      "source": [
        "frame.resample('D').ffill()"
      ],
      "outputs": [
        {
          "output_type": "execute_result",
          "execution_count": 214,
          "data": {
            "text/html": [
              "<div>\n",
              "<table border=\"1\" class=\"dataframe\">\n",
              "  <thead>\n",
              "    <tr style=\"text-align: right;\">\n",
              "      <th></th>\n",
              "      <th>Colorado</th>\n",
              "      <th>Texas</th>\n",
              "      <th>New York</th>\n",
              "      <th>Ohio</th>\n",
              "    </tr>\n",
              "  </thead>\n",
              "  <tbody>\n",
              "    <tr>\n",
              "      <th>2000-01-05</th>\n",
              "      <td>-0.270885</td>\n",
              "      <td>0.237504</td>\n",
              "      <td>-0.785140</td>\n",
              "      <td>-1.445850</td>\n",
              "    </tr>\n",
              "    <tr>\n",
              "      <th>2000-01-06</th>\n",
              "      <td>-0.270885</td>\n",
              "      <td>0.237504</td>\n",
              "      <td>-0.785140</td>\n",
              "      <td>-1.445850</td>\n",
              "    </tr>\n",
              "    <tr>\n",
              "      <th>2000-01-07</th>\n",
              "      <td>-0.270885</td>\n",
              "      <td>0.237504</td>\n",
              "      <td>-0.785140</td>\n",
              "      <td>-1.445850</td>\n",
              "    </tr>\n",
              "    <tr>\n",
              "      <th>2000-01-08</th>\n",
              "      <td>-0.270885</td>\n",
              "      <td>0.237504</td>\n",
              "      <td>-0.785140</td>\n",
              "      <td>-1.445850</td>\n",
              "    </tr>\n",
              "    <tr>\n",
              "      <th>2000-01-09</th>\n",
              "      <td>-0.270885</td>\n",
              "      <td>0.237504</td>\n",
              "      <td>-0.785140</td>\n",
              "      <td>-1.445850</td>\n",
              "    </tr>\n",
              "    <tr>\n",
              "      <th>2000-01-10</th>\n",
              "      <td>-0.270885</td>\n",
              "      <td>0.237504</td>\n",
              "      <td>-0.785140</td>\n",
              "      <td>-1.445850</td>\n",
              "    </tr>\n",
              "    <tr>\n",
              "      <th>2000-01-11</th>\n",
              "      <td>-0.270885</td>\n",
              "      <td>0.237504</td>\n",
              "      <td>-0.785140</td>\n",
              "      <td>-1.445850</td>\n",
              "    </tr>\n",
              "    <tr>\n",
              "      <th>2000-01-12</th>\n",
              "      <td>-0.190623</td>\n",
              "      <td>-0.109874</td>\n",
              "      <td>0.220866</td>\n",
              "      <td>-0.050062</td>\n",
              "    </tr>\n",
              "  </tbody>\n",
              "</table>\n",
              "</div>"
            ],
            "text/plain": [
              "            Colorado     Texas  New York      Ohio\n",
              "2000-01-05 -0.270885  0.237504 -0.785140 -1.445850\n",
              "2000-01-06 -0.270885  0.237504 -0.785140 -1.445850\n",
              "2000-01-07 -0.270885  0.237504 -0.785140 -1.445850\n",
              "2000-01-08 -0.270885  0.237504 -0.785140 -1.445850\n",
              "2000-01-09 -0.270885  0.237504 -0.785140 -1.445850\n",
              "2000-01-10 -0.270885  0.237504 -0.785140 -1.445850\n",
              "2000-01-11 -0.270885  0.237504 -0.785140 -1.445850\n",
              "2000-01-12 -0.190623 -0.109874  0.220866 -0.050062"
            ]
          },
          "metadata": {}
        }
      ],
      "execution_count": 214,
      "metadata": {
        "collapsed": false,
        "outputHidden": false,
        "inputHidden": false
      }
    },
    {
      "cell_type": "code",
      "source": [
        "frame.resample('D').ffill(limit=2)"
      ],
      "outputs": [
        {
          "output_type": "execute_result",
          "execution_count": 215,
          "data": {
            "text/html": [
              "<div>\n",
              "<table border=\"1\" class=\"dataframe\">\n",
              "  <thead>\n",
              "    <tr style=\"text-align: right;\">\n",
              "      <th></th>\n",
              "      <th>Colorado</th>\n",
              "      <th>Texas</th>\n",
              "      <th>New York</th>\n",
              "      <th>Ohio</th>\n",
              "    </tr>\n",
              "  </thead>\n",
              "  <tbody>\n",
              "    <tr>\n",
              "      <th>2000-01-05</th>\n",
              "      <td>-0.270885</td>\n",
              "      <td>0.237504</td>\n",
              "      <td>-0.785140</td>\n",
              "      <td>-1.445850</td>\n",
              "    </tr>\n",
              "    <tr>\n",
              "      <th>2000-01-06</th>\n",
              "      <td>-0.270885</td>\n",
              "      <td>0.237504</td>\n",
              "      <td>-0.785140</td>\n",
              "      <td>-1.445850</td>\n",
              "    </tr>\n",
              "    <tr>\n",
              "      <th>2000-01-07</th>\n",
              "      <td>-0.270885</td>\n",
              "      <td>0.237504</td>\n",
              "      <td>-0.785140</td>\n",
              "      <td>-1.445850</td>\n",
              "    </tr>\n",
              "    <tr>\n",
              "      <th>2000-01-08</th>\n",
              "      <td>NaN</td>\n",
              "      <td>NaN</td>\n",
              "      <td>NaN</td>\n",
              "      <td>NaN</td>\n",
              "    </tr>\n",
              "    <tr>\n",
              "      <th>2000-01-09</th>\n",
              "      <td>NaN</td>\n",
              "      <td>NaN</td>\n",
              "      <td>NaN</td>\n",
              "      <td>NaN</td>\n",
              "    </tr>\n",
              "    <tr>\n",
              "      <th>2000-01-10</th>\n",
              "      <td>NaN</td>\n",
              "      <td>NaN</td>\n",
              "      <td>NaN</td>\n",
              "      <td>NaN</td>\n",
              "    </tr>\n",
              "    <tr>\n",
              "      <th>2000-01-11</th>\n",
              "      <td>NaN</td>\n",
              "      <td>NaN</td>\n",
              "      <td>NaN</td>\n",
              "      <td>NaN</td>\n",
              "    </tr>\n",
              "    <tr>\n",
              "      <th>2000-01-12</th>\n",
              "      <td>-0.190623</td>\n",
              "      <td>-0.109874</td>\n",
              "      <td>0.220866</td>\n",
              "      <td>-0.050062</td>\n",
              "    </tr>\n",
              "  </tbody>\n",
              "</table>\n",
              "</div>"
            ],
            "text/plain": [
              "            Colorado     Texas  New York      Ohio\n",
              "2000-01-05 -0.270885  0.237504 -0.785140 -1.445850\n",
              "2000-01-06 -0.270885  0.237504 -0.785140 -1.445850\n",
              "2000-01-07 -0.270885  0.237504 -0.785140 -1.445850\n",
              "2000-01-08       NaN       NaN       NaN       NaN\n",
              "2000-01-09       NaN       NaN       NaN       NaN\n",
              "2000-01-10       NaN       NaN       NaN       NaN\n",
              "2000-01-11       NaN       NaN       NaN       NaN\n",
              "2000-01-12 -0.190623 -0.109874  0.220866 -0.050062"
            ]
          },
          "metadata": {}
        }
      ],
      "execution_count": 215,
      "metadata": {
        "collapsed": false,
        "outputHidden": false,
        "inputHidden": false
      }
    },
    {
      "cell_type": "code",
      "source": [
        "frame.resample('W-THU').ffill()"
      ],
      "outputs": [
        {
          "output_type": "execute_result",
          "execution_count": 216,
          "data": {
            "text/html": [
              "<div>\n",
              "<table border=\"1\" class=\"dataframe\">\n",
              "  <thead>\n",
              "    <tr style=\"text-align: right;\">\n",
              "      <th></th>\n",
              "      <th>Colorado</th>\n",
              "      <th>Texas</th>\n",
              "      <th>New York</th>\n",
              "      <th>Ohio</th>\n",
              "    </tr>\n",
              "  </thead>\n",
              "  <tbody>\n",
              "    <tr>\n",
              "      <th>2000-01-06</th>\n",
              "      <td>-0.270885</td>\n",
              "      <td>0.237504</td>\n",
              "      <td>-0.785140</td>\n",
              "      <td>-1.445850</td>\n",
              "    </tr>\n",
              "    <tr>\n",
              "      <th>2000-01-13</th>\n",
              "      <td>-0.190623</td>\n",
              "      <td>-0.109874</td>\n",
              "      <td>0.220866</td>\n",
              "      <td>-0.050062</td>\n",
              "    </tr>\n",
              "  </tbody>\n",
              "</table>\n",
              "</div>"
            ],
            "text/plain": [
              "            Colorado     Texas  New York      Ohio\n",
              "2000-01-06 -0.270885  0.237504 -0.785140 -1.445850\n",
              "2000-01-13 -0.190623 -0.109874  0.220866 -0.050062"
            ]
          },
          "metadata": {}
        }
      ],
      "execution_count": 216,
      "metadata": {
        "collapsed": false,
        "outputHidden": false,
        "inputHidden": false
      }
    },
    {
      "cell_type": "markdown",
      "source": [
        "6.3 使用区间进行重采样"
      ],
      "metadata": {}
    },
    {
      "cell_type": "code",
      "source": [
        "frame = pd.DataFrame(np.random.randn(24, 4),\n",
        "                     index=pd.period_range('2000/1','2001/12',freq='M'),\n",
        "                     columns=['Colorado', 'Texas', 'New York', 'Ohio'])"
      ],
      "outputs": [],
      "execution_count": 218,
      "metadata": {
        "collapsed": false,
        "outputHidden": false,
        "inputHidden": false
      }
    },
    {
      "cell_type": "code",
      "source": [
        "frame[:5]"
      ],
      "outputs": [
        {
          "output_type": "execute_result",
          "execution_count": 219,
          "data": {
            "text/html": [
              "<div>\n",
              "<table border=\"1\" class=\"dataframe\">\n",
              "  <thead>\n",
              "    <tr style=\"text-align: right;\">\n",
              "      <th></th>\n",
              "      <th>Colorado</th>\n",
              "      <th>Texas</th>\n",
              "      <th>New York</th>\n",
              "      <th>Ohio</th>\n",
              "    </tr>\n",
              "  </thead>\n",
              "  <tbody>\n",
              "    <tr>\n",
              "      <th>2000-01</th>\n",
              "      <td>2.837482</td>\n",
              "      <td>-0.881134</td>\n",
              "      <td>0.988791</td>\n",
              "      <td>-1.089376</td>\n",
              "    </tr>\n",
              "    <tr>\n",
              "      <th>2000-02</th>\n",
              "      <td>-0.719806</td>\n",
              "      <td>0.177662</td>\n",
              "      <td>-0.187008</td>\n",
              "      <td>0.746381</td>\n",
              "    </tr>\n",
              "    <tr>\n",
              "      <th>2000-03</th>\n",
              "      <td>-0.351726</td>\n",
              "      <td>-0.287771</td>\n",
              "      <td>0.282422</td>\n",
              "      <td>0.216282</td>\n",
              "    </tr>\n",
              "    <tr>\n",
              "      <th>2000-04</th>\n",
              "      <td>1.261821</td>\n",
              "      <td>0.761869</td>\n",
              "      <td>-0.472518</td>\n",
              "      <td>-0.162699</td>\n",
              "    </tr>\n",
              "    <tr>\n",
              "      <th>2000-05</th>\n",
              "      <td>-1.946044</td>\n",
              "      <td>1.043967</td>\n",
              "      <td>1.069346</td>\n",
              "      <td>0.296655</td>\n",
              "    </tr>\n",
              "  </tbody>\n",
              "</table>\n",
              "</div>"
            ],
            "text/plain": [
              "         Colorado     Texas  New York      Ohio\n",
              "2000-01  2.837482 -0.881134  0.988791 -1.089376\n",
              "2000-02 -0.719806  0.177662 -0.187008  0.746381\n",
              "2000-03 -0.351726 -0.287771  0.282422  0.216282\n",
              "2000-04  1.261821  0.761869 -0.472518 -0.162699\n",
              "2000-05 -1.946044  1.043967  1.069346  0.296655"
            ]
          },
          "metadata": {}
        }
      ],
      "execution_count": 219,
      "metadata": {
        "collapsed": false,
        "outputHidden": false,
        "inputHidden": false
      }
    },
    {
      "cell_type": "code",
      "source": [
        "annual_frame = frame.resample('A-DEC').mean()"
      ],
      "outputs": [],
      "execution_count": 220,
      "metadata": {
        "collapsed": false,
        "outputHidden": false,
        "inputHidden": false
      }
    },
    {
      "cell_type": "code",
      "source": [
        "annual_frame"
      ],
      "outputs": [
        {
          "output_type": "execute_result",
          "execution_count": 221,
          "data": {
            "text/html": [
              "<div>\n",
              "<table border=\"1\" class=\"dataframe\">\n",
              "  <thead>\n",
              "    <tr style=\"text-align: right;\">\n",
              "      <th></th>\n",
              "      <th>Colorado</th>\n",
              "      <th>Texas</th>\n",
              "      <th>New York</th>\n",
              "      <th>Ohio</th>\n",
              "    </tr>\n",
              "  </thead>\n",
              "  <tbody>\n",
              "    <tr>\n",
              "      <th>2000</th>\n",
              "      <td>0.282202</td>\n",
              "      <td>0.226373</td>\n",
              "      <td>0.030652</td>\n",
              "      <td>0.064355</td>\n",
              "    </tr>\n",
              "    <tr>\n",
              "      <th>2001</th>\n",
              "      <td>0.355300</td>\n",
              "      <td>0.306564</td>\n",
              "      <td>0.355287</td>\n",
              "      <td>0.333507</td>\n",
              "    </tr>\n",
              "  </tbody>\n",
              "</table>\n",
              "</div>"
            ],
            "text/plain": [
              "      Colorado     Texas  New York      Ohio\n",
              "2000  0.282202  0.226373  0.030652  0.064355\n",
              "2001  0.355300  0.306564  0.355287  0.333507"
            ]
          },
          "metadata": {}
        }
      ],
      "execution_count": 221,
      "metadata": {
        "collapsed": false,
        "outputHidden": false,
        "inputHidden": false
      }
    },
    {
      "cell_type": "code",
      "source": [
        "# Q-DEC: 每季度，年末在12月"
      ],
      "outputs": [],
      "execution_count": 222,
      "metadata": {
        "collapsed": false,
        "outputHidden": false,
        "inputHidden": false
      }
    },
    {
      "cell_type": "code",
      "source": [
        "annual_frame.resample('Q-DEC').ffill()"
      ],
      "outputs": [
        {
          "output_type": "execute_result",
          "execution_count": 226,
          "data": {
            "text/html": [
              "<div>\n",
              "<table border=\"1\" class=\"dataframe\">\n",
              "  <thead>\n",
              "    <tr style=\"text-align: right;\">\n",
              "      <th></th>\n",
              "      <th>Colorado</th>\n",
              "      <th>Texas</th>\n",
              "      <th>New York</th>\n",
              "      <th>Ohio</th>\n",
              "    </tr>\n",
              "  </thead>\n",
              "  <tbody>\n",
              "    <tr>\n",
              "      <th>2000Q1</th>\n",
              "      <td>0.282202</td>\n",
              "      <td>0.226373</td>\n",
              "      <td>0.030652</td>\n",
              "      <td>0.064355</td>\n",
              "    </tr>\n",
              "    <tr>\n",
              "      <th>2000Q2</th>\n",
              "      <td>0.282202</td>\n",
              "      <td>0.226373</td>\n",
              "      <td>0.030652</td>\n",
              "      <td>0.064355</td>\n",
              "    </tr>\n",
              "    <tr>\n",
              "      <th>2000Q3</th>\n",
              "      <td>0.282202</td>\n",
              "      <td>0.226373</td>\n",
              "      <td>0.030652</td>\n",
              "      <td>0.064355</td>\n",
              "    </tr>\n",
              "    <tr>\n",
              "      <th>2000Q4</th>\n",
              "      <td>0.282202</td>\n",
              "      <td>0.226373</td>\n",
              "      <td>0.030652</td>\n",
              "      <td>0.064355</td>\n",
              "    </tr>\n",
              "    <tr>\n",
              "      <th>2001Q1</th>\n",
              "      <td>0.355300</td>\n",
              "      <td>0.306564</td>\n",
              "      <td>0.355287</td>\n",
              "      <td>0.333507</td>\n",
              "    </tr>\n",
              "    <tr>\n",
              "      <th>2001Q2</th>\n",
              "      <td>0.355300</td>\n",
              "      <td>0.306564</td>\n",
              "      <td>0.355287</td>\n",
              "      <td>0.333507</td>\n",
              "    </tr>\n",
              "    <tr>\n",
              "      <th>2001Q3</th>\n",
              "      <td>0.355300</td>\n",
              "      <td>0.306564</td>\n",
              "      <td>0.355287</td>\n",
              "      <td>0.333507</td>\n",
              "    </tr>\n",
              "    <tr>\n",
              "      <th>2001Q4</th>\n",
              "      <td>0.355300</td>\n",
              "      <td>0.306564</td>\n",
              "      <td>0.355287</td>\n",
              "      <td>0.333507</td>\n",
              "    </tr>\n",
              "  </tbody>\n",
              "</table>\n",
              "</div>"
            ],
            "text/plain": [
              "        Colorado     Texas  New York      Ohio\n",
              "2000Q1  0.282202  0.226373  0.030652  0.064355\n",
              "2000Q2  0.282202  0.226373  0.030652  0.064355\n",
              "2000Q3  0.282202  0.226373  0.030652  0.064355\n",
              "2000Q4  0.282202  0.226373  0.030652  0.064355\n",
              "2001Q1  0.355300  0.306564  0.355287  0.333507\n",
              "2001Q2  0.355300  0.306564  0.355287  0.333507\n",
              "2001Q3  0.355300  0.306564  0.355287  0.333507\n",
              "2001Q4  0.355300  0.306564  0.355287  0.333507"
            ]
          },
          "metadata": {}
        }
      ],
      "execution_count": 226,
      "metadata": {
        "collapsed": false,
        "outputHidden": false,
        "inputHidden": false
      }
    },
    {
      "cell_type": "code",
      "source": [
        "annual_frame.resample('Q-DEC').median().ffill()"
      ],
      "outputs": [
        {
          "output_type": "execute_result",
          "execution_count": 229,
          "data": {
            "text/html": [
              "<div>\n",
              "<table border=\"1\" class=\"dataframe\">\n",
              "  <thead>\n",
              "    <tr style=\"text-align: right;\">\n",
              "      <th></th>\n",
              "      <th>Colorado</th>\n",
              "      <th>Texas</th>\n",
              "      <th>New York</th>\n",
              "      <th>Ohio</th>\n",
              "    </tr>\n",
              "  </thead>\n",
              "  <tbody>\n",
              "    <tr>\n",
              "      <th>2000Q1</th>\n",
              "      <td>0.282202</td>\n",
              "      <td>0.226373</td>\n",
              "      <td>0.030652</td>\n",
              "      <td>0.064355</td>\n",
              "    </tr>\n",
              "    <tr>\n",
              "      <th>2000Q2</th>\n",
              "      <td>0.282202</td>\n",
              "      <td>0.226373</td>\n",
              "      <td>0.030652</td>\n",
              "      <td>0.064355</td>\n",
              "    </tr>\n",
              "    <tr>\n",
              "      <th>2000Q3</th>\n",
              "      <td>0.282202</td>\n",
              "      <td>0.226373</td>\n",
              "      <td>0.030652</td>\n",
              "      <td>0.064355</td>\n",
              "    </tr>\n",
              "    <tr>\n",
              "      <th>2000Q4</th>\n",
              "      <td>0.282202</td>\n",
              "      <td>0.226373</td>\n",
              "      <td>0.030652</td>\n",
              "      <td>0.064355</td>\n",
              "    </tr>\n",
              "    <tr>\n",
              "      <th>2001Q1</th>\n",
              "      <td>0.355300</td>\n",
              "      <td>0.306564</td>\n",
              "      <td>0.355287</td>\n",
              "      <td>0.333507</td>\n",
              "    </tr>\n",
              "    <tr>\n",
              "      <th>2001Q2</th>\n",
              "      <td>0.355300</td>\n",
              "      <td>0.306564</td>\n",
              "      <td>0.355287</td>\n",
              "      <td>0.333507</td>\n",
              "    </tr>\n",
              "    <tr>\n",
              "      <th>2001Q3</th>\n",
              "      <td>0.355300</td>\n",
              "      <td>0.306564</td>\n",
              "      <td>0.355287</td>\n",
              "      <td>0.333507</td>\n",
              "    </tr>\n",
              "    <tr>\n",
              "      <th>2001Q4</th>\n",
              "      <td>0.355300</td>\n",
              "      <td>0.306564</td>\n",
              "      <td>0.355287</td>\n",
              "      <td>0.333507</td>\n",
              "    </tr>\n",
              "  </tbody>\n",
              "</table>\n",
              "</div>"
            ],
            "text/plain": [
              "        Colorado     Texas  New York      Ohio\n",
              "2000Q1  0.282202  0.226373  0.030652  0.064355\n",
              "2000Q2  0.282202  0.226373  0.030652  0.064355\n",
              "2000Q3  0.282202  0.226373  0.030652  0.064355\n",
              "2000Q4  0.282202  0.226373  0.030652  0.064355\n",
              "2001Q1  0.355300  0.306564  0.355287  0.333507\n",
              "2001Q2  0.355300  0.306564  0.355287  0.333507\n",
              "2001Q3  0.355300  0.306564  0.355287  0.333507\n",
              "2001Q4  0.355300  0.306564  0.355287  0.333507"
            ]
          },
          "metadata": {}
        }
      ],
      "execution_count": 229,
      "metadata": {
        "collapsed": false,
        "outputHidden": false,
        "inputHidden": false
      }
    },
    {
      "cell_type": "code",
      "source": [
        "annual_frame.resample('Q-DEC', convention='end').ffill()"
      ],
      "outputs": [
        {
          "output_type": "execute_result",
          "execution_count": 232,
          "data": {
            "text/html": [
              "<div>\n",
              "<table border=\"1\" class=\"dataframe\">\n",
              "  <thead>\n",
              "    <tr style=\"text-align: right;\">\n",
              "      <th></th>\n",
              "      <th>Colorado</th>\n",
              "      <th>Texas</th>\n",
              "      <th>New York</th>\n",
              "      <th>Ohio</th>\n",
              "    </tr>\n",
              "  </thead>\n",
              "  <tbody>\n",
              "    <tr>\n",
              "      <th>2000Q4</th>\n",
              "      <td>0.282202</td>\n",
              "      <td>0.226373</td>\n",
              "      <td>0.030652</td>\n",
              "      <td>0.064355</td>\n",
              "    </tr>\n",
              "    <tr>\n",
              "      <th>2001Q1</th>\n",
              "      <td>0.282202</td>\n",
              "      <td>0.226373</td>\n",
              "      <td>0.030652</td>\n",
              "      <td>0.064355</td>\n",
              "    </tr>\n",
              "    <tr>\n",
              "      <th>2001Q2</th>\n",
              "      <td>0.282202</td>\n",
              "      <td>0.226373</td>\n",
              "      <td>0.030652</td>\n",
              "      <td>0.064355</td>\n",
              "    </tr>\n",
              "    <tr>\n",
              "      <th>2001Q3</th>\n",
              "      <td>0.282202</td>\n",
              "      <td>0.226373</td>\n",
              "      <td>0.030652</td>\n",
              "      <td>0.064355</td>\n",
              "    </tr>\n",
              "    <tr>\n",
              "      <th>2001Q4</th>\n",
              "      <td>0.355300</td>\n",
              "      <td>0.306564</td>\n",
              "      <td>0.355287</td>\n",
              "      <td>0.333507</td>\n",
              "    </tr>\n",
              "  </tbody>\n",
              "</table>\n",
              "</div>"
            ],
            "text/plain": [
              "        Colorado     Texas  New York      Ohio\n",
              "2000Q4  0.282202  0.226373  0.030652  0.064355\n",
              "2001Q1  0.282202  0.226373  0.030652  0.064355\n",
              "2001Q2  0.282202  0.226373  0.030652  0.064355\n",
              "2001Q3  0.282202  0.226373  0.030652  0.064355\n",
              "2001Q4  0.355300  0.306564  0.355287  0.333507"
            ]
          },
          "metadata": {}
        }
      ],
      "execution_count": 232,
      "metadata": {
        "collapsed": false,
        "outputHidden": false,
        "inputHidden": false
      }
    },
    {
      "cell_type": "markdown",
      "source": [
        "区域时间采样对上采样和下采样约束更高：\n",
        "\n",
        "在向下采样中，目标频率必须是原频率的子区间；\n",
        "\n",
        "在向上采样中，目标频率需是原频率的福区间。\n",
        "\n",
        "不满足规则时会引发异常。"
      ],
      "metadata": {}
    },
    {
      "cell_type": "code",
      "source": [
        "annual_frame.resample('Q-MAR').ffill()"
      ],
      "outputs": [
        {
          "output_type": "execute_result",
          "execution_count": 233,
          "data": {
            "text/html": [
              "<div>\n",
              "<table border=\"1\" class=\"dataframe\">\n",
              "  <thead>\n",
              "    <tr style=\"text-align: right;\">\n",
              "      <th></th>\n",
              "      <th>Colorado</th>\n",
              "      <th>Texas</th>\n",
              "      <th>New York</th>\n",
              "      <th>Ohio</th>\n",
              "    </tr>\n",
              "  </thead>\n",
              "  <tbody>\n",
              "    <tr>\n",
              "      <th>2000Q4</th>\n",
              "      <td>0.282202</td>\n",
              "      <td>0.226373</td>\n",
              "      <td>0.030652</td>\n",
              "      <td>0.064355</td>\n",
              "    </tr>\n",
              "    <tr>\n",
              "      <th>2001Q1</th>\n",
              "      <td>0.282202</td>\n",
              "      <td>0.226373</td>\n",
              "      <td>0.030652</td>\n",
              "      <td>0.064355</td>\n",
              "    </tr>\n",
              "    <tr>\n",
              "      <th>2001Q2</th>\n",
              "      <td>0.282202</td>\n",
              "      <td>0.226373</td>\n",
              "      <td>0.030652</td>\n",
              "      <td>0.064355</td>\n",
              "    </tr>\n",
              "    <tr>\n",
              "      <th>2001Q3</th>\n",
              "      <td>0.282202</td>\n",
              "      <td>0.226373</td>\n",
              "      <td>0.030652</td>\n",
              "      <td>0.064355</td>\n",
              "    </tr>\n",
              "    <tr>\n",
              "      <th>2001Q4</th>\n",
              "      <td>0.355300</td>\n",
              "      <td>0.306564</td>\n",
              "      <td>0.355287</td>\n",
              "      <td>0.333507</td>\n",
              "    </tr>\n",
              "    <tr>\n",
              "      <th>2002Q1</th>\n",
              "      <td>0.355300</td>\n",
              "      <td>0.306564</td>\n",
              "      <td>0.355287</td>\n",
              "      <td>0.333507</td>\n",
              "    </tr>\n",
              "    <tr>\n",
              "      <th>2002Q2</th>\n",
              "      <td>0.355300</td>\n",
              "      <td>0.306564</td>\n",
              "      <td>0.355287</td>\n",
              "      <td>0.333507</td>\n",
              "    </tr>\n",
              "    <tr>\n",
              "      <th>2002Q3</th>\n",
              "      <td>0.355300</td>\n",
              "      <td>0.306564</td>\n",
              "      <td>0.355287</td>\n",
              "      <td>0.333507</td>\n",
              "    </tr>\n",
              "  </tbody>\n",
              "</table>\n",
              "</div>"
            ],
            "text/plain": [
              "        Colorado     Texas  New York      Ohio\n",
              "2000Q4  0.282202  0.226373  0.030652  0.064355\n",
              "2001Q1  0.282202  0.226373  0.030652  0.064355\n",
              "2001Q2  0.282202  0.226373  0.030652  0.064355\n",
              "2001Q3  0.282202  0.226373  0.030652  0.064355\n",
              "2001Q4  0.355300  0.306564  0.355287  0.333507\n",
              "2002Q1  0.355300  0.306564  0.355287  0.333507\n",
              "2002Q2  0.355300  0.306564  0.355287  0.333507\n",
              "2002Q3  0.355300  0.306564  0.355287  0.333507"
            ]
          },
          "metadata": {}
        }
      ],
      "execution_count": 233,
      "metadata": {
        "collapsed": false,
        "outputHidden": false,
        "inputHidden": false
      }
    },
    {
      "cell_type": "code",
      "source": [
        "#例如，根据Q-MAR定义的时间范畴将只和A-MAR/A-JUN/A-SEP和A-DEC保持一致。"
      ],
      "outputs": [],
      "execution_count": 234,
      "metadata": {
        "collapsed": false,
        "outputHidden": false,
        "inputHidden": false
      }
    },
    {
      "cell_type": "markdown",
      "source": [
        "7. 移动窗口函数"
      ],
      "metadata": {}
    },
    {
      "cell_type": "markdown",
      "source": [
        "基于统计、移动窗口或指数衰减而运行的函数，对于时间序列索引的df数据是一种比较常见的数据变换操作。例如，平滑噪声、卷积或粗糙数据集。"
      ],
      "metadata": {}
    },
    {
      "cell_type": "code",
      "source": [
        "close_px_all = pd.read_csv('E:/py_pandasDA_practice/code/examples/stock_px_2.csv',\n",
        "                           parse_dates=True, index_col=0)"
      ],
      "outputs": [],
      "execution_count": 236,
      "metadata": {
        "collapsed": false,
        "outputHidden": false,
        "inputHidden": false
      }
    },
    {
      "cell_type": "code",
      "source": [
        "close_px = close_px_all[['AAPL', 'MSFT', 'XOM']]"
      ],
      "outputs": [],
      "execution_count": 237,
      "metadata": {
        "collapsed": false,
        "outputHidden": false,
        "inputHidden": false
      }
    },
    {
      "cell_type": "code",
      "source": [
        "close_px = close_px.resample('B').ffill()"
      ],
      "outputs": [],
      "execution_count": 238,
      "metadata": {
        "collapsed": false,
        "outputHidden": false,
        "inputHidden": false
      }
    },
    {
      "cell_type": "code",
      "source": [
        "#rolling算子，他的行为与resample与groupby非常相似。rolling可以在Series或DF上通过一个window进行调用。"
      ],
      "outputs": [],
      "execution_count": 239,
      "metadata": {
        "collapsed": false,
        "outputHidden": false,
        "inputHidden": false
      }
    },
    {
      "cell_type": "code",
      "source": [
        "fig = plt.figure()\n",
        "ax = fig.add_subplot(1, 1, 1)\n",
        "close_px.AAPL.plot(ax=ax)"
      ],
      "outputs": [
        {
          "output_type": "execute_result",
          "execution_count": 247,
          "data": {
            "text/plain": [
              "<matplotlib.axes._subplots.AxesSubplot at 0x16a0c47e3c8>"
            ]
          },
          "metadata": {}
        },
        {
          "output_type": "display_data",
          "data": {
            "image/png": "[encoded data removed]",
            "text/plain": [
              "<matplotlib.figure.Figure at 0x16a0c47e7b8>"
            ]
          },
          "metadata": {}
        }
      ],
      "execution_count": 247,
      "metadata": {
        "collapsed": false,
        "outputHidden": false,
        "inputHidden": false
      }
    },
    {
      "cell_type": "code",
      "source": [
        "fig, axes = plt.subplots(1, 1)\n",
        "close_px.AAPL.rolling(250).mean().plot(ax=axes)"
      ],
      "outputs": [
        {
          "output_type": "execute_result",
          "execution_count": 250,
          "data": {
            "text/plain": [
              "<matplotlib.axes._subplots.AxesSubplot at 0x16a0c3d13c8>"
            ]
          },
          "metadata": {}
        },
        {
          "output_type": "display_data",
          "data": {
            "image/png": "[encoded data removed]",
            "text/plain": [
              "<matplotlib.figure.Figure at 0x16a0c5b5048>"
            ]
          },
          "metadata": {}
        }
      ],
      "execution_count": 250,
      "metadata": {
        "collapsed": false,
        "outputHidden": false,
        "inputHidden": false
      }
    },
    {
      "cell_type": "code",
      "source": [
        "#把两条线贴到同一张图中\n",
        "#rolling(250)得到的是滑动窗口平均值\n",
        "fig = plt.figure()\n",
        "ax = fig.add_subplot(1, 1, 1)\n",
        "close_px.AAPL.plot(ax=ax)\n",
        "close_px.AAPL.rolling(250).mean().plot(ax=ax,color='g')"
      ],
      "outputs": [
        {
          "output_type": "execute_result",
          "execution_count": 255,
          "data": {
            "text/plain": [
              "<matplotlib.axes._subplots.AxesSubplot at 0x16a0d802d30>"
            ]
          },
          "metadata": {}
        },
        {
          "output_type": "display_data",
          "data": {
            "image/png": "[encoded data removed]",
            "text/plain": [
              "<matplotlib.figure.Figure at 0x16a0d802dd8>"
            ]
          },
          "metadata": {}
        }
      ],
      "execution_count": 255,
      "metadata": {
        "collapsed": false,
        "outputHidden": false,
        "inputHidden": false
      }
    },
    {
      "cell_type": "code",
      "source": [
        "#计算扩展窗口均值，使用expanding算子。\n",
        "#扩展均值从时间序列的起始位置开始时间窗口，并增加窗口大小，直到覆盖整个序列。"
      ],
      "outputs": [],
      "execution_count": 256,
      "metadata": {
        "collapsed": false,
        "outputHidden": false,
        "inputHidden": false
      }
    },
    {
      "cell_type": "code",
      "source": [
        "apple_std250 = close_px.AAPL.rolling(250, min_periods=10).std()\n",
        "appl_std250[5:12]"
      ],
      "outputs": [
        {
          "output_type": "execute_result",
          "execution_count": 265,
          "data": {
            "text/plain": [
              "2003-01-09    7.34\n",
              "2003-01-10    7.36\n",
              "2003-01-13    7.32\n",
              "2003-01-14    7.30\n",
              "2003-01-15    7.22\n",
              "2003-01-16    7.31\n",
              "2003-01-17    7.05\n",
              "Freq: B, Name: AAPL, dtype: float64"
            ]
          },
          "metadata": {}
        }
      ],
      "execution_count": 265,
      "metadata": {
        "collapsed": false,
        "outputHidden": false,
        "inputHidden": false
      }
    },
    {
      "cell_type": "code",
      "source": [
        "apple_std250.plot()"
      ],
      "outputs": [
        {
          "output_type": "execute_result",
          "execution_count": 266,
          "data": {
            "text/plain": [
              "<matplotlib.axes._subplots.AxesSubplot at 0x16a0db82a20>"
            ]
          },
          "metadata": {}
        },
        {
          "output_type": "display_data",
          "data": {
            "image/png": "[encoded data removed]",
            "text/plain": [
              "<matplotlib.figure.Figure at 0x16a0dbc5e80>"
            ]
          },
          "metadata": {}
        }
      ],
      "execution_count": 266,
      "metadata": {
        "collapsed": false,
        "outputHidden": false,
        "inputHidden": false
      }
    },
    {
      "cell_type": "code",
      "source": [
        "expanding_mean = apple_std250.expanding().mean()"
      ],
      "outputs": [],
      "execution_count": 267,
      "metadata": {
        "collapsed": false,
        "outputHidden": false,
        "inputHidden": false
      }
    },
    {
      "cell_type": "code",
      "source": [
        "close_px.rolling(60).mean().plot(logy=True)"
      ],
      "outputs": [
        {
          "output_type": "execute_result",
          "execution_count": 268,
          "data": {
            "text/plain": [
              "<matplotlib.axes._subplots.AxesSubplot at 0x16a0dc592b0>"
            ]
          },
          "metadata": {}
        },
        {
          "output_type": "stream",
          "name": "stderr",
          "text": [
            "C:\\Program Files\\Python35\\lib\\site-packages\\matplotlib\\scale.py:101: RuntimeWarning: invalid value encountered in less_equal\n",
            "  a[a <= 0.0] = 1e-300\n"
          ]
        },
        {
          "output_type": "display_data",
          "data": {
            "image/png": "[encoded data removed]",
            "text/plain": [
              "<matplotlib.figure.Figure at 0x16a0dc4d6d8>"
            ]
          },
          "metadata": {}
        }
      ],
      "execution_count": 268,
      "metadata": {
        "collapsed": false,
        "outputHidden": false,
        "inputHidden": false
      }
    },
    {
      "cell_type": "code",
      "source": [
        "#rolling函数同样接收表示固定大小的时间偏置字符串，而不只是一个区间的集合数字。\n",
        "#计算20天的滚动平均值"
      ],
      "outputs": [],
      "execution_count": 269,
      "metadata": {
        "collapsed": false,
        "outputHidden": false,
        "inputHidden": false
      }
    },
    {
      "cell_type": "code",
      "source": [
        "close_px.rolling('20D').mean().head()"
      ],
      "outputs": [
        {
          "output_type": "execute_result",
          "execution_count": 264,
          "data": {
            "text/html": [
              "<div>\n",
              "<table border=\"1\" class=\"dataframe\">\n",
              "  <thead>\n",
              "    <tr style=\"text-align: right;\">\n",
              "      <th></th>\n",
              "      <th>AAPL</th>\n",
              "      <th>MSFT</th>\n",
              "      <th>XOM</th>\n",
              "    </tr>\n",
              "  </thead>\n",
              "  <tbody>\n",
              "    <tr>\n",
              "      <th>2003-01-02</th>\n",
              "      <td>7.400000</td>\n",
              "      <td>21.110000</td>\n",
              "      <td>29.220000</td>\n",
              "    </tr>\n",
              "    <tr>\n",
              "      <th>2003-01-03</th>\n",
              "      <td>7.425000</td>\n",
              "      <td>21.125000</td>\n",
              "      <td>29.230000</td>\n",
              "    </tr>\n",
              "    <tr>\n",
              "      <th>2003-01-06</th>\n",
              "      <td>7.433333</td>\n",
              "      <td>21.256667</td>\n",
              "      <td>29.473333</td>\n",
              "    </tr>\n",
              "    <tr>\n",
              "      <th>2003-01-07</th>\n",
              "      <td>7.432500</td>\n",
              "      <td>21.425000</td>\n",
              "      <td>29.342500</td>\n",
              "    </tr>\n",
              "    <tr>\n",
              "      <th>2003-01-08</th>\n",
              "      <td>7.402000</td>\n",
              "      <td>21.402000</td>\n",
              "      <td>29.240000</td>\n",
              "    </tr>\n",
              "  </tbody>\n",
              "</table>\n",
              "</div>"
            ],
            "text/plain": [
              "                AAPL       MSFT        XOM\n",
              "2003-01-02  7.400000  21.110000  29.220000\n",
              "2003-01-03  7.425000  21.125000  29.230000\n",
              "2003-01-06  7.433333  21.256667  29.473333\n",
              "2003-01-07  7.432500  21.425000  29.342500\n",
              "2003-01-08  7.402000  21.402000  29.240000"
            ]
          },
          "metadata": {}
        }
      ],
      "execution_count": 264,
      "metadata": {
        "collapsed": false,
        "outputHidden": false,
        "inputHidden": false
      }
    },
    {
      "cell_type": "markdown",
      "source": [
        "7.1 指数加权函数"
      ],
      "metadata": {}
    },
    {
      "cell_type": "code",
      "source": [
        "#指定一个常数衰减因子可以向更多近期观测值提供更多权重，可以替代使用具有相等加权观察值的静态窗口尺寸的方法。\n",
        "#有多种方式可以指定衰减因子。其中一种流行的方式是使用一个span（跨度），是的结果与窗口大小等于跨度的简单易懂窗口函数。\n",
        "#由于指数加权统计值给更近期的观测值以更多的权重，与等权重版本相比，它对“变化”的适应更快"
      ],
      "outputs": [],
      "execution_count": 276,
      "metadata": {
        "collapsed": false,
        "outputHidden": false,
        "inputHidden": false
      }
    },
    {
      "cell_type": "code",
      "source": [
        "aapl_px = close_px.AAPL['2006':'2007']\n",
        "#pandas拥有ewm算子，同rolling，expanding一起使用。以下是苹果公司股票价格60日均线与span=60的EW移动平均线进行比较的例子。"
      ],
      "outputs": [],
      "execution_count": 277,
      "metadata": {
        "collapsed": false,
        "outputHidden": false,
        "inputHidden": false
      }
    },
    {
      "cell_type": "code",
      "source": [
        "ma60 = aapl_px.rolling(30, min_periods=20).mean()"
      ],
      "outputs": [],
      "execution_count": 278,
      "metadata": {
        "collapsed": false,
        "outputHidden": false,
        "inputHidden": false
      }
    },
    {
      "cell_type": "code",
      "source": [
        "#简单移动平均和指数加权对比\n",
        "ewma60 = aapl_px.ewm(span=30).mean()\n",
        "ma60.plot(style='k--', label='Simple MA',alpha=1)\n",
        "ewma60.plot(style='b-', label='EW MA', alpha=0.7)\n",
        "plt.legend()"
      ],
      "outputs": [
        {
          "output_type": "execute_result",
          "execution_count": 285,
          "data": {
            "text/plain": [
              "<matplotlib.legend.Legend at 0x16a0f3ab780>"
            ]
          },
          "metadata": {}
        },
        {
          "output_type": "display_data",
          "data": {
            "image/png": "[encoded data removed]",
            "text/plain": [
              "<matplotlib.figure.Figure at 0x16a0f3fa128>"
            ]
          },
          "metadata": {}
        }
      ],
      "execution_count": 285,
      "metadata": {
        "collapsed": false,
        "outputHidden": false,
        "inputHidden": false
      }
    },
    {
      "cell_type": "markdown",
      "source": [
        "7.2 二元移动窗口函数"
      ],
      "metadata": {}
    },
    {
      "cell_type": "code",
      "source": [
        "# 一些统计指标需要通过两列时间序列进行计算，例如相关性和协方差等。\n",
        "# 举一个时间序列的百分比变化的栗子："
      ],
      "outputs": [],
      "execution_count": 288,
      "metadata": {
        "collapsed": false,
        "outputHidden": false,
        "inputHidden": false
      }
    },
    {
      "cell_type": "code",
      "source": [
        "spx_px = close_px_all['SPX']\n",
        "spx_rets = spx_px.pct_change()\n",
        "returns = close_px.pct_change()"
      ],
      "outputs": [],
      "execution_count": 289,
      "metadata": {
        "collapsed": false,
        "outputHidden": false,
        "inputHidden": false
      }
    },
    {
      "cell_type": "code",
      "source": [
        "spx_rets.head(5)"
      ],
      "outputs": [
        {
          "output_type": "execute_result",
          "execution_count": 291,
          "data": {
            "text/plain": [
              "2003-01-02         NaN\n",
              "2003-01-03   -0.000484\n",
              "2003-01-06    0.022474\n",
              "2003-01-07   -0.006545\n",
              "2003-01-08   -0.014086\n",
              "Name: SPX, dtype: float64"
            ]
          },
          "metadata": {}
        }
      ],
      "execution_count": 291,
      "metadata": {
        "collapsed": false,
        "outputHidden": false,
        "inputHidden": false
      }
    },
    {
      "cell_type": "code",
      "source": [
        "returns.head(5)"
      ],
      "outputs": [
        {
          "output_type": "execute_result",
          "execution_count": 293,
          "data": {
            "text/html": [
              "<div>\n",
              "<table border=\"1\" class=\"dataframe\">\n",
              "  <thead>\n",
              "    <tr style=\"text-align: right;\">\n",
              "      <th></th>\n",
              "      <th>AAPL</th>\n",
              "      <th>MSFT</th>\n",
              "      <th>XOM</th>\n",
              "    </tr>\n",
              "  </thead>\n",
              "  <tbody>\n",
              "    <tr>\n",
              "      <th>2003-01-02</th>\n",
              "      <td>NaN</td>\n",
              "      <td>NaN</td>\n",
              "      <td>NaN</td>\n",
              "    </tr>\n",
              "    <tr>\n",
              "      <th>2003-01-03</th>\n",
              "      <td>0.006757</td>\n",
              "      <td>0.001421</td>\n",
              "      <td>0.000684</td>\n",
              "    </tr>\n",
              "    <tr>\n",
              "      <th>2003-01-06</th>\n",
              "      <td>0.000000</td>\n",
              "      <td>0.017975</td>\n",
              "      <td>0.024624</td>\n",
              "    </tr>\n",
              "    <tr>\n",
              "      <th>2003-01-07</th>\n",
              "      <td>-0.002685</td>\n",
              "      <td>0.019052</td>\n",
              "      <td>-0.033712</td>\n",
              "    </tr>\n",
              "    <tr>\n",
              "      <th>2003-01-08</th>\n",
              "      <td>-0.020188</td>\n",
              "      <td>-0.028272</td>\n",
              "      <td>-0.004145</td>\n",
              "    </tr>\n",
              "  </tbody>\n",
              "</table>\n",
              "</div>"
            ],
            "text/plain": [
              "                AAPL      MSFT       XOM\n",
              "2003-01-02       NaN       NaN       NaN\n",
              "2003-01-03  0.006757  0.001421  0.000684\n",
              "2003-01-06  0.000000  0.017975  0.024624\n",
              "2003-01-07 -0.002685  0.019052 -0.033712\n",
              "2003-01-08 -0.020188 -0.028272 -0.004145"
            ]
          },
          "metadata": {}
        }
      ],
      "execution_count": 293,
      "metadata": {
        "collapsed": false,
        "outputHidden": false,
        "inputHidden": false
      }
    },
    {
      "cell_type": "code",
      "source": [
        "corr = returns.AAPL.rolling(125, min_periods=100).corr(spx_rets)\n",
        "corr.plot()\n",
        "#苹果公司与标普500的六个月收益相关性"
      ],
      "outputs": [
        {
          "output_type": "execute_result",
          "execution_count": 296,
          "data": {
            "text/plain": [
              "<matplotlib.axes._subplots.AxesSubplot at 0x16a10567828>"
            ]
          },
          "metadata": {}
        },
        {
          "output_type": "display_data",
          "data": {
            "image/png": "[encoded data removed]",
            "text/plain": [
              "<matplotlib.figure.Figure at 0x16a105553c8>"
            ]
          },
          "metadata": {}
        }
      ],
      "execution_count": 296,
      "metadata": {
        "collapsed": false,
        "outputHidden": false,
        "inputHidden": false
      }
    },
    {
      "cell_type": "code",
      "source": [
        "#多列股票与标普500之间的相关性\n",
        "corr = returns.rolling(125, min_periods=100).corr(spx_rets)\n",
        "corr.plot()"
      ],
      "outputs": [
        {
          "output_type": "execute_result",
          "execution_count": 297,
          "data": {
            "text/plain": [
              "<matplotlib.axes._subplots.AxesSubplot at 0x16a104385c0>"
            ]
          },
          "metadata": {}
        },
        {
          "output_type": "display_data",
          "data": {
            "image/png": "[encoded data removed]",
            "text/plain": [
              "<matplotlib.figure.Figure at 0x16a1062b908>"
            ]
          },
          "metadata": {}
        }
      ],
      "execution_count": 297,
      "metadata": {
        "collapsed": false,
        "outputHidden": false,
        "inputHidden": false
      }
    },
    {
      "cell_type": "markdown",
      "source": [
        "7.3 用户自定义的移动窗口函数"
      ],
      "metadata": {}
    },
    {
      "cell_type": "code",
      "source": [
        "# 在rolling的基础上apply自定义函数可以实现自主设计的数组函数;\n",
        "# 唯一的要求是自定义函数从每个数组中产生一个单值结果（缩聚）。"
      ],
      "outputs": [],
      "execution_count": 302,
      "metadata": {
        "collapsed": false,
        "outputHidden": false,
        "inputHidden": false
      }
    },
    {
      "cell_type": "code",
      "source": [
        "from scipy.stats import percentileofscore"
      ],
      "outputs": [],
      "execution_count": 301,
      "metadata": {
        "collapsed": false,
        "outputHidden": false,
        "inputHidden": false
      }
    },
    {
      "cell_type": "code",
      "source": [
        "#一年窗口下苹果公司股价2%收益的百分位等级\n",
        "score_at_2percent = lambda x: percentileofscore(x, 0.02)\n",
        "result = returns.AAPL.rolling(250).apply(score_at_2percent)\n",
        "fig = plt.figure()\n",
        "ax = fig.add_subplot(1, 1, 1)\n",
        "result.plot(ax=ax)\n",
        "ax.set_xlabel('Year')\n",
        "ax.set_ylabel('Percentile level')\n",
        "ax.legend(loc = 'best')"
      ],
      "outputs": [
        {
          "output_type": "execute_result",
          "execution_count": 309,
          "data": {
            "text/plain": [
              "<matplotlib.legend.Legend at 0x16a11c2af28>"
            ]
          },
          "metadata": {}
        },
        {
          "output_type": "display_data",
          "data": {
            "image/png": "[encoded data removed]",
            "text/plain": [
              "<matplotlib.figure.Figure at 0x16a11b29630>"
            ]
          },
          "metadata": {}
        }
      ],
      "execution_count": 309,
      "metadata": {
        "collapsed": false,
        "outputHidden": false,
        "inputHidden": false
      }
    },
    {
      "cell_type": "code",
      "source": [],
      "outputs": [],
      "execution_count": null,
      "metadata": {
        "collapsed": false,
        "outputHidden": false,
        "inputHidden": false
      }
    }
  ],
  "metadata": {
    "kernel_info": {
      "name": "python3"
    },
    "language_info": {
      "mimetype": "text/x-python",
      "codemirror_mode": {
        "version": 3,
        "name": "ipython"
      },
      "nbconvert_exporter": "python",
      "name": "python",
      "version": "3.5.2",
      "file_extension": ".py",
      "pygments_lexer": "ipython3"
    },
    "kernelspec": {
      "name": "python3",
      "language": "python",
      "display_name": "Python 3"
    },
    "nteract": {
      "version": "0.14.0"
    }
  },
  "nbformat": 4,
  "nbformat_minor": 0
}