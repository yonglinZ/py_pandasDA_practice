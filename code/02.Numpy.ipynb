{
  "cells": [
    {
      "cell_type": "markdown",
      "source": [
        "\"\"\"\n",
        "\n",
        "Numpy\n",
        "\n",
        "Numerical Python\n",
        "\n",
        "\"\"\""
      ],
      "metadata": {}
    },
    {
      "cell_type": "code",
      "source": [
        "from IPython.core.interactiveshell import InteractiveShell\n",
        "InteractiveShell.ast_note_interactivity = \"all\"\n",
        "%matplotlib inline"
      ],
      "outputs": [],
      "execution_count": 2,
      "metadata": {
        "collapsed": false,
        "outputHidden": false,
        "inputHidden": false
      }
    },
    {
      "cell_type": "code",
      "source": [
        "import numpy as np\n",
        "my_arr = np.arange(1000000)\n",
        "my_list = list(range(1000000))"
      ],
      "outputs": [],
      "execution_count": 3,
      "metadata": {
        "collapsed": false,
        "outputHidden": false,
        "inputHidden": false
      }
    },
    {
      "cell_type": "markdown",
      "source": [
        "Numpy方法比Python内置方法要快10-100倍"
      ],
      "metadata": {}
    },
    {
      "cell_type": "code",
      "source": [
        "%time for _ in range(10): my_arr2 = my_arr * 2"
      ],
      "outputs": [
        {
          "output_type": "stream",
          "name": "stdout",
          "text": [
            "Wall time: 21 ms\n"
          ]
        }
      ],
      "execution_count": 7,
      "metadata": {
        "collapsed": false,
        "outputHidden": false,
        "inputHidden": false
      }
    },
    {
      "cell_type": "code",
      "source": [
        "%time for _ in range(10): my_list2 = my_list * 2"
      ],
      "outputs": [
        {
          "output_type": "stream",
          "name": "stdout",
          "text": [
            "Wall time: 262 ms\n"
          ]
        }
      ],
      "execution_count": 8,
      "metadata": {
        "collapsed": false,
        "outputHidden": false,
        "inputHidden": false
      }
    },
    {
      "cell_type": "code",
      "source": [
        "data = np.random.randn(2, 3)\n",
        "data"
      ],
      "outputs": [
        {
          "output_type": "execute_result",
          "execution_count": 9,
          "data": {
            "text/plain": [
              "array([[-0.34077173, -1.0975533 , -0.53510193],\n",
              "       [-0.02604419, -1.71369353,  0.14219812]])"
            ]
          },
          "metadata": {}
        }
      ],
      "execution_count": 9,
      "metadata": {
        "collapsed": false,
        "outputHidden": false,
        "inputHidden": false
      }
    },
    {
      "cell_type": "code",
      "source": [
        "data * 10"
      ],
      "outputs": [
        {
          "output_type": "execute_result",
          "execution_count": 10,
          "data": {
            "text/plain": [
              "array([[ -3.40771725, -10.975533  ,  -5.35101926],\n",
              "       [ -0.26044186, -17.13693526,   1.42198125]])"
            ]
          },
          "metadata": {}
        }
      ],
      "execution_count": 10,
      "metadata": {
        "collapsed": false,
        "outputHidden": false,
        "inputHidden": false
      }
    },
    {
      "cell_type": "code",
      "source": [
        "data + data"
      ],
      "outputs": [
        {
          "output_type": "execute_result",
          "execution_count": 11,
          "data": {
            "text/plain": [
              "array([[-0.68154345, -2.1951066 , -1.07020385],\n",
              "       [-0.05208837, -3.42738705,  0.28439625]])"
            ]
          },
          "metadata": {}
        }
      ],
      "execution_count": 11,
      "metadata": {
        "collapsed": false,
        "outputHidden": false,
        "inputHidden": false
      }
    },
    {
      "cell_type": "code",
      "source": [
        "data.T"
      ],
      "outputs": [
        {
          "output_type": "execute_result",
          "execution_count": 12,
          "data": {
            "text/plain": [
              "array([[-0.34077173, -0.02604419],\n",
              "       [-1.0975533 , -1.71369353],\n",
              "       [-0.53510193,  0.14219812]])"
            ]
          },
          "metadata": {}
        }
      ],
      "execution_count": 12,
      "metadata": {
        "collapsed": false,
        "outputHidden": false,
        "inputHidden": false
      }
    },
    {
      "cell_type": "markdown",
      "source": [
        "ndarray是一个多维同类数据容器\n",
        "\n",
        "属性\n",
        "\n",
        ":: shape\n",
        "\n",
        ":: dtype\n",
        "\n",
        ":: ndim"
      ],
      "metadata": {}
    },
    {
      "cell_type": "code",
      "source": [
        "data.shape"
      ],
      "outputs": [
        {
          "output_type": "execute_result",
          "execution_count": 13,
          "data": {
            "text/plain": [
              "(2, 3)"
            ]
          },
          "metadata": {}
        }
      ],
      "execution_count": 13,
      "metadata": {
        "collapsed": false,
        "outputHidden": false,
        "inputHidden": false
      }
    },
    {
      "cell_type": "code",
      "source": [
        "data.dtype"
      ],
      "outputs": [
        {
          "output_type": "execute_result",
          "execution_count": 15,
          "data": {
            "text/plain": [
              "dtype('float64')"
            ]
          },
          "metadata": {}
        }
      ],
      "execution_count": 15,
      "metadata": {
        "collapsed": false,
        "outputHidden": false,
        "inputHidden": false
      }
    },
    {
      "cell_type": "markdown",
      "source": [
        "1. 生成ndarray"
      ],
      "metadata": {}
    },
    {
      "cell_type": "code",
      "source": [
        "data1 = [6, 7.5, 8, 0, 1]\n",
        "arr1 = np.array(data1)\n",
        "arr1"
      ],
      "outputs": [
        {
          "output_type": "execute_result",
          "execution_count": 16,
          "data": {
            "text/plain": [
              "array([6. , 7.5, 8. , 0. , 1. ])"
            ]
          },
          "metadata": {}
        }
      ],
      "execution_count": 16,
      "metadata": {
        "collapsed": false,
        "outputHidden": false,
        "inputHidden": false
      }
    },
    {
      "cell_type": "code",
      "source": [
        "data2 = [[1, 2, 3, 4], [5, 6, 7, 8]]\n",
        "arr2 = np.array(data2)\n",
        "print(arr2)\n",
        "print(arr2.dtype)\n",
        "print(arr2.shape)\n",
        "print(arr2.ndim)"
      ],
      "outputs": [
        {
          "output_type": "stream",
          "name": "stdout",
          "text": [
            "[[1 2 3 4]\n",
            " [5 6 7 8]]\n",
            "int32\n",
            "(2, 4)\n",
            "2\n"
          ]
        }
      ],
      "execution_count": 20,
      "metadata": {
        "collapsed": false,
        "outputHidden": false,
        "inputHidden": false
      }
    },
    {
      "cell_type": "code",
      "source": [
        "np.zeros(10)"
      ],
      "outputs": [
        {
          "output_type": "execute_result",
          "execution_count": 21,
          "data": {
            "text/plain": [
              "array([0., 0., 0., 0., 0., 0., 0., 0., 0., 0.])"
            ]
          },
          "metadata": {}
        }
      ],
      "execution_count": 21,
      "metadata": {
        "collapsed": false,
        "outputHidden": false,
        "inputHidden": false
      }
    },
    {
      "cell_type": "code",
      "source": [
        "np.zeros((2,3,2))"
      ],
      "outputs": [
        {
          "output_type": "execute_result",
          "execution_count": 26,
          "data": {
            "text/plain": [
              "array([[[0., 0.],\n",
              "        [0., 0.],\n",
              "        [0., 0.]],\n",
              "\n",
              "       [[0., 0.],\n",
              "        [0., 0.],\n",
              "        [0., 0.]]])"
            ]
          },
          "metadata": {}
        }
      ],
      "execution_count": 26,
      "metadata": {
        "collapsed": false,
        "outputHidden": false,
        "inputHidden": false
      }
    },
    {
      "cell_type": "code",
      "source": [
        "np.empty((2,3,2)) #尽量不要使用这个，容易返回未初始化的垃圾值"
      ],
      "outputs": [
        {
          "output_type": "execute_result",
          "execution_count": 27,
          "data": {
            "text/plain": [
              "array([[[0., 0.],\n",
              "        [0., 0.],\n",
              "        [0., 0.]],\n",
              "\n",
              "       [[0., 0.],\n",
              "        [0., 0.],\n",
              "        [0., 0.]]])"
            ]
          },
          "metadata": {}
        }
      ],
      "execution_count": 27,
      "metadata": {
        "collapsed": false,
        "outputHidden": false,
        "inputHidden": false
      }
    },
    {
      "cell_type": "markdown",
      "source": [
        "数组生成函数\n",
        "\n",
        "array, asarray, arange, ones, ones_like, zeros, zeros_like, empty, empty_like, full, full_like, eye, identity"
      ],
      "metadata": {}
    },
    {
      "cell_type": "code",
      "source": [
        "np.eye(4)"
      ],
      "outputs": [
        {
          "output_type": "execute_result",
          "execution_count": 31,
          "data": {
            "text/plain": [
              "array([[1., 0., 0., 0.],\n",
              "       [0., 1., 0., 0.],\n",
              "       [0., 0., 1., 0.],\n",
              "       [0., 0., 0., 1.]])"
            ]
          },
          "metadata": {}
        }
      ],
      "execution_count": 31,
      "metadata": {
        "collapsed": false,
        "outputHidden": false,
        "inputHidden": false
      }
    },
    {
      "cell_type": "code",
      "source": [
        "np.identity(10)"
      ],
      "outputs": [
        {
          "output_type": "execute_result",
          "execution_count": 33,
          "data": {
            "text/plain": [
              "array([[1., 0., 0., 0., 0., 0., 0., 0., 0., 0.],\n",
              "       [0., 1., 0., 0., 0., 0., 0., 0., 0., 0.],\n",
              "       [0., 0., 1., 0., 0., 0., 0., 0., 0., 0.],\n",
              "       [0., 0., 0., 1., 0., 0., 0., 0., 0., 0.],\n",
              "       [0., 0., 0., 0., 1., 0., 0., 0., 0., 0.],\n",
              "       [0., 0., 0., 0., 0., 1., 0., 0., 0., 0.],\n",
              "       [0., 0., 0., 0., 0., 0., 1., 0., 0., 0.],\n",
              "       [0., 0., 0., 0., 0., 0., 0., 1., 0., 0.],\n",
              "       [0., 0., 0., 0., 0., 0., 0., 0., 1., 0.],\n",
              "       [0., 0., 0., 0., 0., 0., 0., 0., 0., 1.]])"
            ]
          },
          "metadata": {}
        }
      ],
      "execution_count": 33,
      "metadata": {
        "collapsed": false,
        "outputHidden": false,
        "inputHidden": false
      }
    },
    {
      "cell_type": "code",
      "source": [
        "np.ones_like(arr2) #根据给定数组，生成一个与输入数组结构一样的全1数组"
      ],
      "outputs": [
        {
          "output_type": "execute_result",
          "execution_count": 39,
          "data": {
            "text/plain": [
              "array([[1, 1, 1, 1],\n",
              "       [1, 1, 1, 1]])"
            ]
          },
          "metadata": {}
        }
      ],
      "execution_count": 39,
      "metadata": {
        "collapsed": false,
        "outputHidden": false,
        "inputHidden": false
      }
    },
    {
      "cell_type": "markdown",
      "source": [
        "dtype的几种核心类型\n",
        "\n",
        "int8/16/32/64        |u1/2/4/8                |整型\n",
        "\n",
        "float16/32/64/128    |f2/4/8/16 or f2/f/d/g   |浮点数\n",
        "\n",
        "complex64/128/256    |c8/16/32                |复数\n",
        "\n",
        "bool                 |？                      |布尔值\n",
        "\n",
        "object               |O（大写）                |python对象\n",
        "\n",
        "string_              |S                       |例如：‘S10’ 10为长度\n",
        "\n",
        "unicode_             |U                       |例如：‘U10’"
      ],
      "metadata": {}
    },
    {
      "cell_type": "code",
      "source": [
        "arr1 = np.array([1, 2, 3], dtype = np.float64)\n",
        "arr2 = np.array([4, 5, 6], dtype = np.int32)\n",
        "print(arr1.dtype)\n",
        "print(arr2.dtype)"
      ],
      "outputs": [
        {
          "output_type": "stream",
          "name": "stdout",
          "text": [
            "float64\n",
            "int32\n"
          ]
        }
      ],
      "execution_count": 40,
      "metadata": {
        "collapsed": false,
        "outputHidden": false,
        "inputHidden": false
      }
    },
    {
      "cell_type": "markdown",
      "source": [
        "用astype来显式地转换数组的数据类型："
      ],
      "metadata": {}
    },
    {
      "cell_type": "code",
      "source": [
        "arr = np.array(range(1,10,2))\n",
        "arr.dtype"
      ],
      "outputs": [
        {
          "output_type": "execute_result",
          "execution_count": 42,
          "data": {
            "text/plain": [
              "dtype('int32')"
            ]
          },
          "metadata": {}
        }
      ],
      "execution_count": 42,
      "metadata": {
        "collapsed": false,
        "outputHidden": false,
        "inputHidden": false
      }
    },
    {
      "cell_type": "code",
      "source": [
        "float_arr = arr.astype(np.float64)\n",
        "print(float_arr.dtype)\n",
        "print(float_arr)"
      ],
      "outputs": [
        {
          "output_type": "stream",
          "name": "stdout",
          "text": [
            "float64\n",
            "[1. 3. 5. 7. 9.]\n"
          ]
        }
      ],
      "execution_count": 46,
      "metadata": {
        "collapsed": false,
        "outputHidden": false,
        "inputHidden": false
      }
    },
    {
      "cell_type": "code",
      "source": [
        "str1 = 'asdfasd'\n",
        "str_arr = np.array(str1)\n",
        "print(str_arr,'\\n',str_arr.dtype)"
      ],
      "outputs": [
        {
          "output_type": "stream",
          "name": "stdout",
          "text": [
            "asdfasd \n",
            " <U7\n"
          ]
        }
      ],
      "execution_count": 47,
      "metadata": {
        "collapsed": false,
        "outputHidden": false,
        "inputHidden": false
      }
    },
    {
      "cell_type": "markdown",
      "source": [
        "在使用numpy.string_类型的时候千万注意，NumPy会自动修正它的长度或删除输入并且不发出任何警告"
      ],
      "metadata": {}
    },
    {
      "cell_type": "code",
      "source": [
        "strli = ['name1','name2','name3']\n",
        "li_arr = np.array(strli, dtype = 'S')\n",
        "print(li_arr,'\\n',li_arr.dtype)"
      ],
      "outputs": [
        {
          "output_type": "stream",
          "name": "stdout",
          "text": [
            "[b'name1' b'name2' b'name3'] \n",
            " |S5\n"
          ]
        }
      ],
      "execution_count": 50,
      "metadata": {
        "collapsed": false,
        "outputHidden": false,
        "inputHidden": false
      }
    },
    {
      "cell_type": "code",
      "source": [
        "int_array = np.arange(10)\n",
        "calibers = np.array([.22,.27,.35,.50], dtype=np.float64)\n",
        "int_array.astype(calibers.dtype)\n"
      ],
      "outputs": [
        {
          "output_type": "execute_result",
          "execution_count": 52,
          "data": {
            "text/plain": [
              "array([0., 1., 2., 3., 4., 5., 6., 7., 8., 9.])"
            ]
          },
          "metadata": {}
        }
      ],
      "execution_count": 52,
      "metadata": {
        "collapsed": false,
        "outputHidden": false,
        "inputHidden": false
      }
    },
    {
      "cell_type": "markdown",
      "source": [
        "2. 数组算术和广播（broadcast）"
      ],
      "metadata": {}
    },
    {
      "cell_type": "code",
      "source": [
        "arr = np.array([[1.,2.,3.],[4.,5.,6.]])\n",
        "arr"
      ],
      "outputs": [
        {
          "output_type": "execute_result",
          "execution_count": 54,
          "data": {
            "text/plain": [
              "array([[1., 2., 3.],\n",
              "       [4., 5., 6.]])"
            ]
          },
          "metadata": {}
        }
      ],
      "execution_count": 54,
      "metadata": {
        "collapsed": false,
        "outputHidden": false,
        "inputHidden": false
      }
    },
    {
      "cell_type": "code",
      "source": [
        "arr * arr"
      ],
      "outputs": [
        {
          "output_type": "execute_result",
          "execution_count": 55,
          "data": {
            "text/plain": [
              "array([[ 1.,  4.,  9.],\n",
              "       [16., 25., 36.]])"
            ]
          },
          "metadata": {}
        }
      ],
      "execution_count": 55,
      "metadata": {
        "collapsed": false,
        "outputHidden": false,
        "inputHidden": false
      }
    },
    {
      "cell_type": "code",
      "source": [
        "arr - arr"
      ],
      "outputs": [
        {
          "output_type": "execute_result",
          "execution_count": 56,
          "data": {
            "text/plain": [
              "array([[0., 0., 0.],\n",
              "       [0., 0., 0.]])"
            ]
          },
          "metadata": {}
        }
      ],
      "execution_count": 56,
      "metadata": {
        "collapsed": false,
        "outputHidden": false,
        "inputHidden": false
      }
    },
    {
      "cell_type": "code",
      "source": [
        "arr / arr"
      ],
      "outputs": [
        {
          "output_type": "execute_result",
          "execution_count": 57,
          "data": {
            "text/plain": [
              "array([[1., 1., 1.],\n",
              "       [1., 1., 1.]])"
            ]
          },
          "metadata": {}
        }
      ],
      "execution_count": 57,
      "metadata": {
        "collapsed": false,
        "outputHidden": false,
        "inputHidden": false
      }
    },
    {
      "cell_type": "code",
      "source": [
        "1 / arr"
      ],
      "outputs": [
        {
          "output_type": "execute_result",
          "execution_count": 58,
          "data": {
            "text/plain": [
              "array([[1.        , 0.5       , 0.33333333],\n",
              "       [0.25      , 0.2       , 0.16666667]])"
            ]
          },
          "metadata": {}
        }
      ],
      "execution_count": 58,
      "metadata": {
        "collapsed": false,
        "outputHidden": false,
        "inputHidden": false
      }
    },
    {
      "cell_type": "code",
      "source": [
        "arr **0.5"
      ],
      "outputs": [
        {
          "output_type": "execute_result",
          "execution_count": 59,
          "data": {
            "text/plain": [
              "array([[1.        , 1.41421356, 1.73205081],\n",
              "       [2.        , 2.23606798, 2.44948974]])"
            ]
          },
          "metadata": {}
        }
      ],
      "execution_count": 59,
      "metadata": {
        "collapsed": false,
        "outputHidden": false,
        "inputHidden": false
      }
    },
    {
      "cell_type": "code",
      "source": [
        "arr2 = np.random.random((2,3))\n",
        "print(arr2)\n",
        "arr2 > arr1"
      ],
      "outputs": [
        {
          "output_type": "stream",
          "name": "stdout",
          "text": [
            "[[0.73706536 0.52399882 0.10769471]\n",
            " [0.06277946 0.14564084 0.92239675]]\n"
          ]
        },
        {
          "output_type": "execute_result",
          "execution_count": 67,
          "data": {
            "text/plain": [
              "array([[False, False, False],\n",
              "       [False, False, False]])"
            ]
          },
          "metadata": {}
        }
      ],
      "execution_count": 67,
      "metadata": {
        "collapsed": false,
        "outputHidden": false,
        "inputHidden": false
      }
    },
    {
      "cell_type": "code",
      "source": [
        "help(np.random.randn)"
      ],
      "outputs": [
        {
          "output_type": "stream",
          "name": "stdout",
          "text": [
            "Help on built-in function randn:\n",
            "\n",
            "randn(...) method of mtrand.RandomState instance\n",
            "    randn(d0, d1, ..., dn)\n",
            "    \n",
            "    Return a sample (or samples) from the \"standard normal\" distribution.\n",
            "    \n",
            "    If positive, int_like or int-convertible arguments are provided,\n",
            "    `randn` generates an array of shape ``(d0, d1, ..., dn)``, filled\n",
            "    with random floats sampled from a univariate \"normal\" (Gaussian)\n",
            "    distribution of mean 0 and variance 1 (if any of the :math:`d_i` are\n",
            "    floats, they are first converted to integers by truncation). A single\n",
            "    float randomly sampled from the distribution is returned if no\n",
            "    argument is provided.\n",
            "    \n",
            "    This is a convenience function.  If you want an interface that takes a\n",
            "    tuple as the first argument, use `numpy.random.standard_normal` instead.\n",
            "    \n",
            "    Parameters\n",
            "    ----------\n",
            "    d0, d1, ..., dn : int, optional\n",
            "        The dimensions of the returned array, should be all positive.\n",
            "        If no argument is given a single Python float is returned.\n",
            "    \n",
            "    Returns\n",
            "    -------\n",
            "    Z : ndarray or float\n",
            "        A ``(d0, d1, ..., dn)``-shaped array of floating-point samples from\n",
            "        the standard normal distribution, or a single such float if\n",
            "        no parameters were supplied.\n",
            "    \n",
            "    See Also\n",
            "    --------\n",
            "    standard_normal : Similar, but takes a tuple as its argument.\n",
            "    \n",
            "    Notes\n",
            "    -----\n",
            "    For random samples from :math:`N(\\mu, \\sigma^2)`, use:\n",
            "    \n",
            "    ``sigma * np.random.randn(...) + mu``\n",
            "    \n",
            "    Examples\n",
            "    --------\n",
            "    >>> np.random.randn()\n",
            "    2.1923875335537315 #random\n",
            "    \n",
            "    Two-by-four array of samples from N(3, 6.25):\n",
            "    \n",
            "    >>> 2.5 * np.random.randn(2, 4) + 3\n",
            "    array([[-4.49401501,  4.00950034, -1.81814867,  7.29718677],  #random\n",
            "           [ 0.39924804,  4.68456316,  4.99394529,  4.84057254]]) #random\n",
            "\n"
          ]
        }
      ],
      "execution_count": 68,
      "metadata": {
        "collapsed": false,
        "outputHidden": false,
        "inputHidden": false
      }
    },
    {
      "cell_type": "code",
      "source": [
        "help(np.random.random)"
      ],
      "outputs": [
        {
          "output_type": "stream",
          "name": "stdout",
          "text": [
            "Help on built-in function random_sample:\n",
            "\n",
            "random_sample(...) method of mtrand.RandomState instance\n",
            "    random_sample(size=None)\n",
            "    \n",
            "    Return random floats in the half-open interval [0.0, 1.0).\n",
            "    \n",
            "    Results are from the \"continuous uniform\" distribution over the\n",
            "    stated interval.  To sample :math:`Unif[a, b), b > a` multiply\n",
            "    the output of `random_sample` by `(b-a)` and add `a`::\n",
            "    \n",
            "      (b - a) * random_sample() + a\n",
            "    \n",
            "    Parameters\n",
            "    ----------\n",
            "    size : int or tuple of ints, optional\n",
            "        Output shape.  If the given shape is, e.g., ``(m, n, k)``, then\n",
            "        ``m * n * k`` samples are drawn.  Default is None, in which case a\n",
            "        single value is returned.\n",
            "    \n",
            "    Returns\n",
            "    -------\n",
            "    out : float or ndarray of floats\n",
            "        Array of random floats of shape `size` (unless ``size=None``, in which\n",
            "        case a single float is returned).\n",
            "    \n",
            "    Examples\n",
            "    --------\n",
            "    >>> np.random.random_sample()\n",
            "    0.47108547995356098\n",
            "    >>> type(np.random.random_sample())\n",
            "    <type 'float'>\n",
            "    >>> np.random.random_sample((5,))\n",
            "    array([ 0.30220482,  0.86820401,  0.1654503 ,  0.11659149,  0.54323428])\n",
            "    \n",
            "    Three-by-two array of random numbers from [-5, 0):\n",
            "    \n",
            "    >>> 5 * np.random.random_sample((3, 2)) - 5\n",
            "    array([[-3.99149989, -0.52338984],\n",
            "           [-2.99091858, -0.79479508],\n",
            "           [-1.23204345, -1.75224494]])\n",
            "\n"
          ]
        }
      ],
      "execution_count": 69,
      "metadata": {
        "collapsed": false,
        "outputHidden": false,
        "inputHidden": false
      }
    },
    {
      "cell_type": "markdown",
      "source": [
        "给数组广播留一个空位，后续补上"
      ],
      "metadata": {}
    },
    {
      "cell_type": "markdown",
      "source": [
        "3. 数组的索引和切片"
      ],
      "metadata": {}
    },
    {
      "cell_type": "code",
      "source": [
        "arr = np.arange(10)\n",
        "arr"
      ],
      "outputs": [
        {
          "output_type": "execute_result",
          "execution_count": 71,
          "data": {
            "text/plain": [
              "array([0, 1, 2, 3, 4, 5, 6, 7, 8, 9])"
            ]
          },
          "metadata": {}
        }
      ],
      "execution_count": 71,
      "metadata": {
        "collapsed": false,
        "outputHidden": false,
        "inputHidden": false
      }
    },
    {
      "cell_type": "code",
      "source": [
        "arr[5]"
      ],
      "outputs": [
        {
          "output_type": "execute_result",
          "execution_count": 72,
          "data": {
            "text/plain": [
              "5"
            ]
          },
          "metadata": {}
        }
      ],
      "execution_count": 72,
      "metadata": {
        "collapsed": false,
        "outputHidden": false,
        "inputHidden": false
      }
    },
    {
      "cell_type": "code",
      "source": [
        "arr[5:8]"
      ],
      "outputs": [
        {
          "output_type": "execute_result",
          "execution_count": 73,
          "data": {
            "text/plain": [
              "array([5, 6, 7])"
            ]
          },
          "metadata": {}
        }
      ],
      "execution_count": 73,
      "metadata": {
        "collapsed": false,
        "outputHidden": false,
        "inputHidden": false
      }
    },
    {
      "cell_type": "markdown",
      "source": [
        "数组的切片是原数组的视图，任何对数组视图的修改都会反映到原数组上"
      ],
      "metadata": {}
    },
    {
      "cell_type": "code",
      "source": [
        "arr[5:8] = 12\n",
        "arr"
      ],
      "outputs": [
        {
          "output_type": "execute_result",
          "execution_count": 74,
          "data": {
            "text/plain": [
              "array([ 0,  1,  2,  3,  4, 12, 12, 12,  8,  9])"
            ]
          },
          "metadata": {}
        }
      ],
      "execution_count": 74,
      "metadata": {
        "collapsed": false,
        "outputHidden": false,
        "inputHidden": false
      }
    },
    {
      "cell_type": "code",
      "source": [
        "arr_slice = arr[5:8]\n",
        "arr_slice"
      ],
      "outputs": [
        {
          "output_type": "execute_result",
          "execution_count": 76,
          "data": {
            "text/plain": [
              "array([12, 12, 12])"
            ]
          },
          "metadata": {}
        }
      ],
      "execution_count": 76,
      "metadata": {
        "collapsed": false,
        "outputHidden": false,
        "inputHidden": false
      }
    },
    {
      "cell_type": "code",
      "source": [
        "arr_slice[1] = 12314\n",
        "arr"
      ],
      "outputs": [
        {
          "output_type": "execute_result",
          "execution_count": 77,
          "data": {
            "text/plain": [
              "array([    0,     1,     2,     3,     4,    12, 12314,    12,     8,\n",
              "           9])"
            ]
          },
          "metadata": {}
        }
      ],
      "execution_count": 77,
      "metadata": {
        "collapsed": false,
        "outputHidden": false,
        "inputHidden": false
      }
    },
    {
      "cell_type": "code",
      "source": [
        "arr_slice[:] = 64\n",
        "arr"
      ],
      "outputs": [
        {
          "output_type": "execute_result",
          "execution_count": 78,
          "data": {
            "text/plain": [
              "array([ 0,  1,  2,  3,  4, 64, 64, 64,  8,  9])"
            ]
          },
          "metadata": {}
        }
      ],
      "execution_count": 78,
      "metadata": {
        "collapsed": false,
        "outputHidden": false,
        "inputHidden": false
      }
    },
    {
      "cell_type": "code",
      "source": [
        "arr_co = arr[5:8].copy()\n",
        "arr_co[:] = 128\n",
        "print(arr_co)\n",
        "print(arr_slice)\n",
        "print(arr)"
      ],
      "outputs": [
        {
          "output_type": "stream",
          "name": "stdout",
          "text": [
            "[128 128 128]\n",
            "[64 64 64]\n",
            "[ 0  1  2  3  4 64 64 64  8  9]\n"
          ]
        }
      ],
      "execution_count": 80,
      "metadata": {
        "collapsed": false,
        "outputHidden": false,
        "inputHidden": false
      }
    },
    {
      "cell_type": "markdown",
      "source": [
        "2维及以上数组，可以理解为每一个索引值对应的元素不再是单个值，而是一个一维数组"
      ],
      "metadata": {}
    },
    {
      "cell_type": "code",
      "source": [
        "arr2d = np.array([[1, 2, 3], [4, 5, 6], [7, 8, 9]])\n",
        "arr2d"
      ],
      "outputs": [
        {
          "output_type": "execute_result",
          "execution_count": 81,
          "data": {
            "text/plain": [
              "array([[1, 2, 3],\n",
              "       [4, 5, 6],\n",
              "       [7, 8, 9]])"
            ]
          },
          "metadata": {}
        }
      ],
      "execution_count": 81,
      "metadata": {
        "collapsed": false,
        "outputHidden": false,
        "inputHidden": false
      }
    },
    {
      "cell_type": "code",
      "source": [
        "print(arr2d[0][2])\n",
        "print(arr2d[0,2])"
      ],
      "outputs": [
        {
          "output_type": "stream",
          "name": "stdout",
          "text": [
            "3\n",
            "3\n"
          ]
        }
      ],
      "execution_count": 82,
      "metadata": {
        "collapsed": false,
        "outputHidden": false,
        "inputHidden": false
      }
    },
    {
      "cell_type": "markdown",
      "source": [
        "arr2d[[0行]][[1列]]"
      ],
      "metadata": {}
    },
    {
      "cell_type": "code",
      "source": [
        "#可以理解为2×2的矩阵，每个矩阵单元是一个3维向量\n",
        "arr3d = np.array([[[1, 2, 3], [4, 5, 6]], [[7, 8, 9], [10, 11, 12]]])\n",
        "print(arr3d)\n",
        "print(arr3d.ndim, arr3d.shape, arr3d.dtype)"
      ],
      "outputs": [
        {
          "output_type": "stream",
          "name": "stdout",
          "text": [
            "[[[ 1  2  3]\n",
            "  [ 4  5  6]]\n",
            "\n",
            " [[ 7  8  9]\n",
            "  [10 11 12]]]\n",
            "3 (2, 2, 3) int32\n"
          ]
        }
      ],
      "execution_count": 87,
      "metadata": {
        "collapsed": false,
        "outputHidden": false,
        "inputHidden": false
      }
    },
    {
      "cell_type": "code",
      "source": [
        "#arr3d[0]是一个2×3的数组\n",
        "arr3d[0]"
      ],
      "outputs": [
        {
          "output_type": "execute_result",
          "execution_count": 88,
          "data": {
            "text/plain": [
              "array([[1, 2, 3],\n",
              "       [4, 5, 6]])"
            ]
          },
          "metadata": {}
        }
      ],
      "execution_count": 88,
      "metadata": {
        "collapsed": false,
        "outputHidden": false,
        "inputHidden": false
      }
    },
    {
      "cell_type": "code",
      "source": [
        "old_values = arr3d[0].copy()\n",
        "arr3d[0] = 42\n",
        "arr3d"
      ],
      "outputs": [
        {
          "output_type": "execute_result",
          "execution_count": 89,
          "data": {
            "text/plain": [
              "array([[[42, 42, 42],\n",
              "        [42, 42, 42]],\n",
              "\n",
              "       [[ 7,  8,  9],\n",
              "        [10, 11, 12]]])"
            ]
          },
          "metadata": {}
        }
      ],
      "execution_count": 89,
      "metadata": {
        "collapsed": false,
        "outputHidden": false,
        "inputHidden": false
      }
    },
    {
      "cell_type": "code",
      "source": [
        "arr3d[0] = old_values\n",
        "arr3d"
      ],
      "outputs": [
        {
          "output_type": "execute_result",
          "execution_count": 90,
          "data": {
            "text/plain": [
              "array([[[ 1,  2,  3],\n",
              "        [ 4,  5,  6]],\n",
              "\n",
              "       [[ 7,  8,  9],\n",
              "        [10, 11, 12]]])"
            ]
          },
          "metadata": {}
        }
      ],
      "execution_count": 90,
      "metadata": {
        "collapsed": false,
        "outputHidden": false,
        "inputHidden": false
      }
    },
    {
      "cell_type": "code",
      "source": [
        "arr3d[1,0] #返回一个1维数组"
      ],
      "outputs": [
        {
          "output_type": "execute_result",
          "execution_count": 91,
          "data": {
            "text/plain": [
              "array([7, 8, 9])"
            ]
          },
          "metadata": {}
        }
      ],
      "execution_count": 91,
      "metadata": {
        "collapsed": false,
        "outputHidden": false,
        "inputHidden": false
      }
    },
    {
      "cell_type": "markdown",
      "source": [
        "数组的切片索引"
      ],
      "metadata": {}
    },
    {
      "cell_type": "code",
      "source": [
        "arr"
      ],
      "outputs": [
        {
          "output_type": "execute_result",
          "execution_count": 92,
          "data": {
            "text/plain": [
              "array([ 0,  1,  2,  3,  4, 64, 64, 64,  8,  9])"
            ]
          },
          "metadata": {}
        }
      ],
      "execution_count": 92,
      "metadata": {
        "collapsed": false,
        "outputHidden": false,
        "inputHidden": false
      }
    },
    {
      "cell_type": "code",
      "source": [
        "arr[1:6]"
      ],
      "outputs": [
        {
          "output_type": "execute_result",
          "execution_count": 93,
          "data": {
            "text/plain": [
              "array([ 1,  2,  3,  4, 64])"
            ]
          },
          "metadata": {}
        }
      ],
      "execution_count": 93,
      "metadata": {
        "collapsed": false,
        "outputHidden": false,
        "inputHidden": false
      }
    },
    {
      "cell_type": "code",
      "source": [
        "arr2d"
      ],
      "outputs": [
        {
          "output_type": "execute_result",
          "execution_count": 94,
          "data": {
            "text/plain": [
              "array([[1, 2, 3],\n",
              "       [4, 5, 6],\n",
              "       [7, 8, 9]])"
            ]
          },
          "metadata": {}
        }
      ],
      "execution_count": 94,
      "metadata": {
        "collapsed": false,
        "outputHidden": false,
        "inputHidden": false
      }
    },
    {
      "cell_type": "code",
      "source": [
        "arr2d[:2] #左闭右开区间，沿着0轴（也就是行）进行了切片，即返回原数组的前两行。"
      ],
      "outputs": [
        {
          "output_type": "execute_result",
          "execution_count": 95,
          "data": {
            "text/plain": [
              "array([[1, 2, 3],\n",
              "       [4, 5, 6]])"
            ]
          },
          "metadata": {}
        }
      ],
      "execution_count": 95,
      "metadata": {
        "collapsed": false,
        "outputHidden": false,
        "inputHidden": false
      }
    },
    {
      "cell_type": "code",
      "source": [
        "arr2d[:2, 1:]"
      ],
      "outputs": [
        {
          "output_type": "execute_result",
          "execution_count": 96,
          "data": {
            "text/plain": [
              "array([[2, 3],\n",
              "       [5, 6]])"
            ]
          },
          "metadata": {}
        }
      ],
      "execution_count": 96,
      "metadata": {
        "collapsed": false,
        "outputHidden": false,
        "inputHidden": false
      }
    },
    {
      "cell_type": "code",
      "source": [
        "arr2d[1, :2]"
      ],
      "outputs": [
        {
          "output_type": "execute_result",
          "execution_count": 97,
          "data": {
            "text/plain": [
              "array([4, 5])"
            ]
          },
          "metadata": {}
        }
      ],
      "execution_count": 97,
      "metadata": {
        "collapsed": false,
        "outputHidden": false,
        "inputHidden": false
      }
    },
    {
      "cell_type": "code",
      "source": [
        "arr2d[:2, 2]"
      ],
      "outputs": [
        {
          "output_type": "execute_result",
          "execution_count": 99,
          "data": {
            "text/plain": [
              "array([3, 6])"
            ]
          },
          "metadata": {}
        }
      ],
      "execution_count": 99,
      "metadata": {
        "collapsed": false,
        "outputHidden": false,
        "inputHidden": false
      }
    },
    {
      "cell_type": "code",
      "source": [
        "arr2d[:2, 1:] = 0\n",
        "arr2d"
      ],
      "outputs": [
        {
          "output_type": "execute_result",
          "execution_count": 101,
          "data": {
            "text/plain": [
              "array([[1, 0, 0],\n",
              "       [4, 0, 0],\n",
              "       [7, 8, 9]])"
            ]
          },
          "metadata": {}
        }
      ],
      "execution_count": 101,
      "metadata": {
        "collapsed": false,
        "outputHidden": false,
        "inputHidden": false
      }
    },
    {
      "cell_type": "markdown",
      "source": [
        "布尔索引"
      ],
      "metadata": {}
    },
    {
      "cell_type": "code",
      "source": [
        "names = np.array(['Bob', 'Joe', 'Will', 'Bob', 'Will', 'Joe', 'Joe'])\n",
        "data = np.random.randn(7,4)\n",
        "names"
      ],
      "outputs": [
        {
          "output_type": "execute_result",
          "execution_count": 102,
          "data": {
            "text/plain": [
              "array(['Bob', 'Joe', 'Will', 'Bob', 'Will', 'Joe', 'Joe'], dtype='<U4')"
            ]
          },
          "metadata": {}
        }
      ],
      "execution_count": 102,
      "metadata": {
        "collapsed": false,
        "outputHidden": false,
        "inputHidden": false
      }
    },
    {
      "cell_type": "code",
      "source": [
        "data"
      ],
      "outputs": [
        {
          "output_type": "execute_result",
          "execution_count": 103,
          "data": {
            "text/plain": [
              "array([[-0.26720313,  0.44963045,  0.23912095,  0.63675876],\n",
              "       [ 0.34642373, -0.08118949,  1.73504342, -2.26836213],\n",
              "       [ 1.92437769, -0.15500419,  0.1645978 , -0.28978156],\n",
              "       [ 0.93621008, -0.17049703, -1.33861172,  1.66783023],\n",
              "       [ 0.48636901,  1.11712459,  0.20894027,  1.33891435],\n",
              "       [-1.94867674, -0.7475549 , -0.64239571,  0.76136254],\n",
              "       [ 1.15618542, -0.05116965, -1.25870133, -0.74612087]])"
            ]
          },
          "metadata": {}
        }
      ],
      "execution_count": 103,
      "metadata": {
        "collapsed": false,
        "outputHidden": false,
        "inputHidden": false
      }
    },
    {
      "cell_type": "code",
      "source": [
        "names == 'Bob'"
      ],
      "outputs": [
        {
          "output_type": "execute_result",
          "execution_count": 104,
          "data": {
            "text/plain": [
              "array([ True, False, False,  True, False, False, False])"
            ]
          },
          "metadata": {}
        }
      ],
      "execution_count": 104,
      "metadata": {
        "collapsed": false,
        "outputHidden": false,
        "inputHidden": false
      }
    },
    {
      "cell_type": "code",
      "source": [
        "data[names == 'Bob']"
      ],
      "outputs": [
        {
          "output_type": "execute_result",
          "execution_count": 105,
          "data": {
            "text/plain": [
              "array([[-0.26720313,  0.44963045,  0.23912095,  0.63675876],\n",
              "       [ 0.93621008, -0.17049703, -1.33861172,  1.66783023]])"
            ]
          },
          "metadata": {}
        }
      ],
      "execution_count": 105,
      "metadata": {
        "collapsed": false,
        "outputHidden": false,
        "inputHidden": false
      }
    },
    {
      "cell_type": "code",
      "source": [
        "data[names == 'Bob', 3]"
      ],
      "outputs": [
        {
          "output_type": "execute_result",
          "execution_count": 106,
          "data": {
            "text/plain": [
              "array([0.63675876, 1.66783023])"
            ]
          },
          "metadata": {}
        }
      ],
      "execution_count": 106,
      "metadata": {
        "collapsed": false,
        "outputHidden": false,
        "inputHidden": false
      }
    },
    {
      "cell_type": "code",
      "source": [
        "data[names == 'Bob', 2:]"
      ],
      "outputs": [
        {
          "output_type": "execute_result",
          "execution_count": 108,
          "data": {
            "text/plain": [
              "array([[ 0.23912095,  0.63675876],\n",
              "       [-1.33861172,  1.66783023]])"
            ]
          },
          "metadata": {}
        }
      ],
      "execution_count": 108,
      "metadata": {
        "collapsed": false,
        "outputHidden": false,
        "inputHidden": false
      }
    },
    {
      "cell_type": "code",
      "source": [
        "data[~(names == 'Bob')]"
      ],
      "outputs": [
        {
          "output_type": "execute_result",
          "execution_count": 109,
          "data": {
            "text/plain": [
              "array([[ 0.34642373, -0.08118949,  1.73504342, -2.26836213],\n",
              "       [ 1.92437769, -0.15500419,  0.1645978 , -0.28978156],\n",
              "       [ 0.48636901,  1.11712459,  0.20894027,  1.33891435],\n",
              "       [-1.94867674, -0.7475549 , -0.64239571,  0.76136254],\n",
              "       [ 1.15618542, -0.05116965, -1.25870133, -0.74612087]])"
            ]
          },
          "metadata": {}
        }
      ],
      "execution_count": 109,
      "metadata": {
        "collapsed": false,
        "outputHidden": false,
        "inputHidden": false
      }
    },
    {
      "cell_type": "code",
      "source": [
        "cond = names == 'Bob'\n",
        "data[~cond]"
      ],
      "outputs": [
        {
          "output_type": "execute_result",
          "execution_count": 110,
          "data": {
            "text/plain": [
              "array([[ 0.34642373, -0.08118949,  1.73504342, -2.26836213],\n",
              "       [ 1.92437769, -0.15500419,  0.1645978 , -0.28978156],\n",
              "       [ 0.48636901,  1.11712459,  0.20894027,  1.33891435],\n",
              "       [-1.94867674, -0.7475549 , -0.64239571,  0.76136254],\n",
              "       [ 1.15618542, -0.05116965, -1.25870133, -0.74612087]])"
            ]
          },
          "metadata": {}
        }
      ],
      "execution_count": 110,
      "metadata": {
        "collapsed": false,
        "outputHidden": false,
        "inputHidden": false
      }
    },
    {
      "cell_type": "code",
      "source": [
        "mask = (names == 'Bob') | (names == 'Will')\n",
        "\n",
        "print(data)\n",
        "print(mask)\n",
        "data[mask]"
      ],
      "outputs": [
        {
          "output_type": "stream",
          "name": "stdout",
          "text": [
            "[[-0.26720313  0.44963045  0.23912095  0.63675876]\n",
            " [ 0.34642373 -0.08118949  1.73504342 -2.26836213]\n",
            " [ 1.92437769 -0.15500419  0.1645978  -0.28978156]\n",
            " [ 0.93621008 -0.17049703 -1.33861172  1.66783023]\n",
            " [ 0.48636901  1.11712459  0.20894027  1.33891435]\n",
            " [-1.94867674 -0.7475549  -0.64239571  0.76136254]\n",
            " [ 1.15618542 -0.05116965 -1.25870133 -0.74612087]]\n",
            "[ True False  True  True  True False False]\n"
          ]
        },
        {
          "output_type": "execute_result",
          "execution_count": 112,
          "data": {
            "text/plain": [
              "array([[-0.26720313,  0.44963045,  0.23912095,  0.63675876],\n",
              "       [ 1.92437769, -0.15500419,  0.1645978 , -0.28978156],\n",
              "       [ 0.93621008, -0.17049703, -1.33861172,  1.66783023],\n",
              "       [ 0.48636901,  1.11712459,  0.20894027,  1.33891435]])"
            ]
          },
          "metadata": {}
        }
      ],
      "execution_count": 112,
      "metadata": {
        "collapsed": false,
        "outputHidden": false,
        "inputHidden": false
      }
    },
    {
      "cell_type": "code",
      "source": [
        "data[data < 0] = 0\n",
        "print(data)"
      ],
      "outputs": [
        {
          "output_type": "stream",
          "name": "stdout",
          "text": [
            "[[0.         0.44963045 0.23912095 0.63675876]\n",
            " [0.34642373 0.         1.73504342 0.        ]\n",
            " [1.92437769 0.         0.1645978  0.        ]\n",
            " [0.93621008 0.         0.         1.66783023]\n",
            " [0.48636901 1.11712459 0.20894027 1.33891435]\n",
            " [0.         0.         0.         0.76136254]\n",
            " [1.15618542 0.         0.         0.        ]]\n"
          ]
        }
      ],
      "execution_count": 113,
      "metadata": {
        "collapsed": false,
        "outputHidden": false,
        "inputHidden": false
      }
    },
    {
      "cell_type": "code",
      "source": [
        "data[names != 'Joe'] = 7\n",
        "data"
      ],
      "outputs": [
        {
          "output_type": "execute_result",
          "execution_count": 116,
          "data": {
            "text/plain": [
              "array([[7.        , 7.        , 7.        , 7.        ],\n",
              "       [0.34642373, 0.        , 1.73504342, 0.        ],\n",
              "       [7.        , 7.        , 7.        , 7.        ],\n",
              "       [7.        , 7.        , 7.        , 7.        ],\n",
              "       [7.        , 7.        , 7.        , 7.        ],\n",
              "       [0.        , 0.        , 0.        , 0.76136254],\n",
              "       [1.15618542, 0.        , 0.        , 0.        ]])"
            ]
          },
          "metadata": {}
        }
      ],
      "execution_count": 116,
      "metadata": {
        "collapsed": false,
        "outputHidden": false,
        "inputHidden": false
      }
    },
    {
      "cell_type": "markdown",
      "source": [
        "神奇索引"
      ],
      "metadata": {}
    },
    {
      "cell_type": "code",
      "source": [
        "arr = np.zeros((8, 4))\n",
        "print(arr)\n",
        "for i in range(4):\n",
        "    arr[i] = i\n",
        "print(arr)\n",
        "arr.shape"
      ],
      "outputs": [
        {
          "output_type": "stream",
          "name": "stdout",
          "text": [
            "[[0. 0. 0. 0.]\n",
            " [0. 0. 0. 0.]\n",
            " [0. 0. 0. 0.]\n",
            " [0. 0. 0. 0.]\n",
            " [0. 0. 0. 0.]\n",
            " [0. 0. 0. 0.]\n",
            " [0. 0. 0. 0.]\n",
            " [0. 0. 0. 0.]]\n",
            "[[0. 0. 0. 0.]\n",
            " [1. 1. 1. 1.]\n",
            " [2. 2. 2. 2.]\n",
            " [3. 3. 3. 3.]\n",
            " [0. 0. 0. 0.]\n",
            " [0. 0. 0. 0.]\n",
            " [0. 0. 0. 0.]\n",
            " [0. 0. 0. 0.]]\n"
          ]
        },
        {
          "output_type": "execute_result",
          "execution_count": 129,
          "data": {
            "text/plain": [
              "(8, 4)"
            ]
          },
          "metadata": {}
        }
      ],
      "execution_count": 129,
      "metadata": {
        "collapsed": false,
        "outputHidden": false,
        "inputHidden": false
      }
    },
    {
      "cell_type": "code",
      "source": [
        "arr = np.zeros((8, 4))\n",
        "for i in range(8):\n",
        "    arr[i] = i \n",
        "print(arr)"
      ],
      "outputs": [
        {
          "output_type": "stream",
          "name": "stdout",
          "text": [
            "[[0. 0. 0. 0.]\n",
            " [1. 1. 1. 1.]\n",
            " [2. 2. 2. 2.]\n",
            " [3. 3. 3. 3.]\n",
            " [4. 4. 4. 4.]\n",
            " [5. 5. 5. 5.]\n",
            " [6. 6. 6. 6.]\n",
            " [7. 7. 7. 7.]]\n"
          ]
        }
      ],
      "execution_count": 130,
      "metadata": {
        "collapsed": false,
        "outputHidden": false,
        "inputHidden": false
      }
    },
    {
      "cell_type": "code",
      "source": [
        "arr[[4, 3, 0, 6]] #内层列表指明了顺序（索引）"
      ],
      "outputs": [
        {
          "output_type": "execute_result",
          "execution_count": 131,
          "data": {
            "text/plain": [
              "array([[4., 4., 4., 4.],\n",
              "       [3., 3., 3., 3.],\n",
              "       [0., 0., 0., 0.],\n",
              "       [6., 6., 6., 6.]])"
            ]
          },
          "metadata": {}
        }
      ],
      "execution_count": 131,
      "metadata": {
        "collapsed": false,
        "outputHidden": false,
        "inputHidden": false
      }
    },
    {
      "cell_type": "code",
      "source": [
        "arr = np.arange(32).reshape((8, 4))\n",
        "arr"
      ],
      "outputs": [
        {
          "output_type": "execute_result",
          "execution_count": 132,
          "data": {
            "text/plain": [
              "array([[ 0,  1,  2,  3],\n",
              "       [ 4,  5,  6,  7],\n",
              "       [ 8,  9, 10, 11],\n",
              "       [12, 13, 14, 15],\n",
              "       [16, 17, 18, 19],\n",
              "       [20, 21, 22, 23],\n",
              "       [24, 25, 26, 27],\n",
              "       [28, 29, 30, 31]])"
            ]
          },
          "metadata": {}
        }
      ],
      "execution_count": 132,
      "metadata": {
        "collapsed": false,
        "outputHidden": false,
        "inputHidden": false
      }
    },
    {
      "cell_type": "code",
      "source": [
        "arr[[1, 5, 7, 2], [0, 3, 1, 2]] # 坐标（1，0）、（5，3）、（7，1）、（2，2）"
      ],
      "outputs": [
        {
          "output_type": "execute_result",
          "execution_count": 133,
          "data": {
            "text/plain": [
              "array([ 4, 23, 29, 10])"
            ]
          },
          "metadata": {}
        }
      ],
      "execution_count": 133,
      "metadata": {
        "collapsed": false,
        "outputHidden": false,
        "inputHidden": false
      }
    },
    {
      "cell_type": "code",
      "source": [
        "# ??\n",
        "arr[[1, 5, 7, 2]][:, [0, 3, 1, 2]]"
      ],
      "outputs": [
        {
          "output_type": "execute_result",
          "execution_count": 134,
          "data": {
            "text/plain": [
              "array([[ 4,  7,  5,  6],\n",
              "       [20, 23, 21, 22],\n",
              "       [28, 31, 29, 30],\n",
              "       [ 8, 11,  9, 10]])"
            ]
          },
          "metadata": {}
        }
      ],
      "execution_count": 134,
      "metadata": {
        "collapsed": false,
        "outputHidden": false,
        "inputHidden": false
      }
    },
    {
      "cell_type": "markdown",
      "source": [
        "数组转置与轴置换"
      ],
      "metadata": {}
    },
    {
      "cell_type": "code",
      "source": [
        "arr = np.arange(15).reshape((3,5))\n",
        "arr"
      ],
      "outputs": [
        {
          "output_type": "execute_result",
          "execution_count": 136,
          "data": {
            "text/plain": [
              "array([[ 0,  1,  2,  3,  4],\n",
              "       [ 5,  6,  7,  8,  9],\n",
              "       [10, 11, 12, 13, 14]])"
            ]
          },
          "metadata": {}
        }
      ],
      "execution_count": 136,
      "metadata": {
        "collapsed": false,
        "outputHidden": false,
        "inputHidden": false
      }
    },
    {
      "cell_type": "code",
      "source": [
        "arr.T"
      ],
      "outputs": [
        {
          "output_type": "execute_result",
          "execution_count": 137,
          "data": {
            "text/plain": [
              "array([[ 0,  5, 10],\n",
              "       [ 1,  6, 11],\n",
              "       [ 2,  7, 12],\n",
              "       [ 3,  8, 13],\n",
              "       [ 4,  9, 14]])"
            ]
          },
          "metadata": {}
        }
      ],
      "execution_count": 137,
      "metadata": {
        "collapsed": false,
        "outputHidden": false,
        "inputHidden": false
      }
    },
    {
      "cell_type": "code",
      "source": [
        "arr = np.random.randn(6, 3)\n",
        "arr"
      ],
      "outputs": [
        {
          "output_type": "execute_result",
          "execution_count": 138,
          "data": {
            "text/plain": [
              "array([[-0.16861799,  0.75557946,  0.91441187],\n",
              "       [-0.05240291,  1.14035156, -0.88592545],\n",
              "       [-1.68594196,  0.10432307,  0.08737146],\n",
              "       [ 0.35051293, -0.19346691, -0.17441378],\n",
              "       [-0.54741921, -0.661019  , -2.68420078],\n",
              "       [ 2.32262026,  0.85418692,  1.31197844]])"
            ]
          },
          "metadata": {}
        }
      ],
      "execution_count": 138,
      "metadata": {
        "collapsed": false,
        "outputHidden": false,
        "inputHidden": false
      }
    },
    {
      "cell_type": "code",
      "source": [
        "np.dot(arr.T, arr)"
      ],
      "outputs": [
        {
          "output_type": "execute_result",
          "execution_count": 139,
          "data": {
            "text/plain": [
              "array([[ 8.69067037,  1.91494903,  4.20041207],\n",
              "       [ 1.91494903,  3.08619616,  2.61848506],\n",
              "       [ 4.20041207,  2.61848506, 10.58528815]])"
            ]
          },
          "metadata": {}
        }
      ],
      "execution_count": 139,
      "metadata": {
        "collapsed": false,
        "outputHidden": false,
        "inputHidden": false
      }
    },
    {
      "cell_type": "code",
      "source": [
        "#使用transpose()来置换轴，参数接收轴编号元组\n",
        "arr = np.arange(16).reshape((2, 2, 4))\n",
        "print(arr)\n",
        "arr.transpose((1, 0, 2))"
      ],
      "outputs": [
        {
          "output_type": "stream",
          "name": "stdout",
          "text": [
            "[[[ 0  1  2  3]\n",
            "  [ 4  5  6  7]]\n",
            "\n",
            " [[ 8  9 10 11]\n",
            "  [12 13 14 15]]]\n"
          ]
        },
        {
          "output_type": "execute_result",
          "execution_count": 140,
          "data": {
            "text/plain": [
              "array([[[ 0,  1,  2,  3],\n",
              "        [ 8,  9, 10, 11]],\n",
              "\n",
              "       [[ 4,  5,  6,  7],\n",
              "        [12, 13, 14, 15]]])"
            ]
          },
          "metadata": {}
        }
      ],
      "execution_count": 140,
      "metadata": {
        "collapsed": false,
        "outputHidden": false,
        "inputHidden": false
      }
    },
    {
      "cell_type": "code",
      "source": [
        "# swapaxes() func is very important\n",
        "print(arr)\n",
        "arr.swapaxes(1, 2)"
      ],
      "outputs": [
        {
          "output_type": "stream",
          "name": "stdout",
          "text": [
            "[[[ 0  1  2  3]\n",
            "  [ 4  5  6  7]]\n",
            "\n",
            " [[ 8  9 10 11]\n",
            "  [12 13 14 15]]]\n"
          ]
        },
        {
          "output_type": "execute_result",
          "execution_count": 141,
          "data": {
            "text/plain": [
              "array([[[ 0,  4],\n",
              "        [ 1,  5],\n",
              "        [ 2,  6],\n",
              "        [ 3,  7]],\n",
              "\n",
              "       [[ 8, 12],\n",
              "        [ 9, 13],\n",
              "        [10, 14],\n",
              "        [11, 15]]])"
            ]
          },
          "metadata": {}
        }
      ],
      "execution_count": 141,
      "metadata": {
        "collapsed": false,
        "outputHidden": false,
        "inputHidden": false
      }
    },
    {
      "cell_type": "markdown",
      "source": [
        "4. 通用函数，快速的逐个元素处理函数"
      ],
      "metadata": {}
    },
    {
      "cell_type": "code",
      "source": [
        "#通用函数，又被称为ufunc，可以对ndarray数据中进行逐个元素进行操作的函数。\n",
        "#通用函数是对接收标量参数的函数的向量化封装\n",
        "arr = np.arange(10)\n",
        "print(arr)\n",
        "print(np.sqrt(arr))\n",
        "print(np.exp(arr))\n",
        "#以上两个为一元通用函数"
      ],
      "outputs": [
        {
          "output_type": "stream",
          "name": "stdout",
          "text": [
            "[0 1 2 3 4 5 6 7 8 9]\n",
            "[0.         1.         1.41421356 1.73205081 2.         2.23606798\n",
            " 2.44948974 2.64575131 2.82842712 3.        ]\n",
            "[1.00000000e+00 2.71828183e+00 7.38905610e+00 2.00855369e+01\n",
            " 5.45981500e+01 1.48413159e+02 4.03428793e+02 1.09663316e+03\n",
            " 2.98095799e+03 8.10308393e+03]\n"
          ]
        }
      ],
      "execution_count": 142,
      "metadata": {
        "collapsed": false,
        "outputHidden": false,
        "inputHidden": false
      }
    },
    {
      "cell_type": "code",
      "source": [
        "#二元通用函数如下\n",
        "x = np.random.randn(8)\n",
        "y = np.random.randn(8)\n",
        "print(x,'\\n', y)\n",
        "print(np.maximum(x, y))\n",
        "print(np.add(x, y))"
      ],
      "outputs": [
        {
          "output_type": "stream",
          "name": "stdout",
          "text": [
            "[-0.61774638  0.88422079 -0.49553639 -0.20094586  0.54161405 -1.02075212\n",
            " -1.62582364 -0.98151005] \n",
            " [ 3.2286034  -2.36433064 -1.01852672 -0.63908079 -0.25483282 -1.07139039\n",
            "  0.12243491 -0.36910208]\n",
            "[ 3.2286034   0.88422079 -0.49553639 -0.20094586  0.54161405 -1.02075212\n",
            "  0.12243491 -0.36910208]\n",
            "[ 2.61085702 -1.48010985 -1.51406311 -0.84002665  0.28678123 -2.0921425\n",
            " -1.50338873 -1.35061213]\n"
          ]
        }
      ],
      "execution_count": 143,
      "metadata": {
        "collapsed": false,
        "outputHidden": false,
        "inputHidden": false
      }
    },
    {
      "cell_type": "code",
      "source": [
        "#modf()可以返回多个数组，divmod的向量化版本，返回一个元组（小数部分，整数部分）\n",
        "arr = np.random.randn(7) * 5\n",
        "print(arr)\n",
        "remainder, whole_part = np.modf(arr)\n",
        "print(whole_part)"
      ],
      "outputs": [
        {
          "output_type": "stream",
          "name": "stdout",
          "text": [
            "[-2.13032646  1.31177463  3.7258091  -4.10342403  0.20447916 -2.36533875\n",
            " -1.01360874]\n",
            "[-2.  1.  3. -4.  0. -2. -1.]\n"
          ]
        }
      ],
      "execution_count": 146,
      "metadata": {
        "collapsed": false,
        "outputHidden": false,
        "inputHidden": false
      }
    },
    {
      "cell_type": "code",
      "source": [
        "#可选位置参数out\n",
        "print(arr)\n",
        "np.sqrt(arr,arr)"
      ],
      "outputs": [
        {
          "output_type": "stream",
          "name": "stdout",
          "text": [
            "[-2.13032646  1.31177463  3.7258091  -4.10342403  0.20447916 -2.36533875\n",
            " -1.01360874]\n"
          ]
        },
        {
          "output_type": "stream",
          "name": "stderr",
          "text": [
            "C:\\Program Files\\Python35\\lib\\site-packages\\ipykernel\\__main__.py:3: RuntimeWarning: invalid value encountered in sqrt\n",
            "  app.launch_new_instance()\n"
          ]
        },
        {
          "output_type": "execute_result",
          "execution_count": 149,
          "data": {
            "text/plain": [
              "array([       nan, 1.1453273 , 1.9302355 ,        nan, 0.45219372,\n",
              "              nan,        nan])"
            ]
          },
          "metadata": {}
        }
      ],
      "execution_count": 149,
      "metadata": {
        "collapsed": false,
        "outputHidden": false,
        "inputHidden": false
      }
    },
    {
      "cell_type": "markdown",
      "source": [
        "一元ufunc\n",
        "\n",
        "abs,fabs,sqrt,square,exp,log,log10,log2,log1p,sign,ceil,floor,rint,modf,isnan,isfinite,isinf\n",
        "\n",
        "cos,cosh,sin,sinh,tan,tanh,arccos,arccosh,arcsin,arcsinh,arctan,arctanh,logical_not"
      ],
      "metadata": {}
    },
    {
      "cell_type": "markdown",
      "source": [
        "二元ufunc\n",
        "\n",
        "add,substract,multiply,divide,floor_divide,power,maximum,fmax,minimum,fmin(fmax和fmin忽略NaN),mod,copysign\n",
        "\n",
        "greater,greater_equal,less,less_equal,not_equal,logical_and,logical_or,logical_xor"
      ],
      "metadata": {}
    },
    {
      "cell_type": "markdown",
      "source": [
        "面向数组的编程，加快数据计算速度"
      ],
      "metadata": {}
    },
    {
      "cell_type": "code",
      "source": [
        "points = np.arange(-5, 5, 0.01)\n",
        "xs, ys = np.meshgrid(points, points)\n",
        "print(ys)"
      ],
      "outputs": [
        {
          "output_type": "stream",
          "name": "stdout",
          "text": [
            "[[-5.   -5.   -5.   ... -5.   -5.   -5.  ]\n",
            " [-4.99 -4.99 -4.99 ... -4.99 -4.99 -4.99]\n",
            " [-4.98 -4.98 -4.98 ... -4.98 -4.98 -4.98]\n",
            " ...\n",
            " [ 4.97  4.97  4.97 ...  4.97  4.97  4.97]\n",
            " [ 4.98  4.98  4.98 ...  4.98  4.98  4.98]\n",
            " [ 4.99  4.99  4.99 ...  4.99  4.99  4.99]]\n"
          ]
        }
      ],
      "execution_count": 150,
      "metadata": {
        "collapsed": false,
        "outputHidden": false,
        "inputHidden": false
      }
    },
    {
      "cell_type": "code",
      "source": [
        "help(np.meshgrid)"
      ],
      "outputs": [
        {
          "output_type": "stream",
          "name": "stdout",
          "text": [
            "Help on function meshgrid in module numpy.lib.function_base:\n",
            "\n",
            "meshgrid(*xi, **kwargs)\n",
            "    Return coordinate matrices from coordinate vectors.\n",
            "    \n",
            "    Make N-D coordinate arrays for vectorized evaluations of\n",
            "    N-D scalar/vector fields over N-D grids, given\n",
            "    one-dimensional coordinate arrays x1, x2,..., xn.\n",
            "    \n",
            "    .. versionchanged:: 1.9\n",
            "       1-D and 0-D cases are allowed.\n",
            "    \n",
            "    Parameters\n",
            "    ----------\n",
            "    x1, x2,..., xn : array_like\n",
            "        1-D arrays representing the coordinates of a grid.\n",
            "    indexing : {'xy', 'ij'}, optional\n",
            "        Cartesian ('xy', default) or matrix ('ij') indexing of output.\n",
            "        See Notes for more details.\n",
            "    \n",
            "        .. versionadded:: 1.7.0\n",
            "    sparse : bool, optional\n",
            "        If True a sparse grid is returned in order to conserve memory.\n",
            "        Default is False.\n",
            "    \n",
            "        .. versionadded:: 1.7.0\n",
            "    copy : bool, optional\n",
            "        If False, a view into the original arrays are returned in order to\n",
            "        conserve memory.  Default is True.  Please note that\n",
            "        ``sparse=False, copy=False`` will likely return non-contiguous\n",
            "        arrays.  Furthermore, more than one element of a broadcast array\n",
            "        may refer to a single memory location.  If you need to write to the\n",
            "        arrays, make copies first.\n",
            "    \n",
            "        .. versionadded:: 1.7.0\n",
            "    \n",
            "    Returns\n",
            "    -------\n",
            "    X1, X2,..., XN : ndarray\n",
            "        For vectors `x1`, `x2`,..., 'xn' with lengths ``Ni=len(xi)`` ,\n",
            "        return ``(N1, N2, N3,...Nn)`` shaped arrays if indexing='ij'\n",
            "        or ``(N2, N1, N3,...Nn)`` shaped arrays if indexing='xy'\n",
            "        with the elements of `xi` repeated to fill the matrix along\n",
            "        the first dimension for `x1`, the second for `x2` and so on.\n",
            "    \n",
            "    Notes\n",
            "    -----\n",
            "    This function supports both indexing conventions through the indexing\n",
            "    keyword argument.  Giving the string 'ij' returns a meshgrid with\n",
            "    matrix indexing, while 'xy' returns a meshgrid with Cartesian indexing.\n",
            "    In the 2-D case with inputs of length M and N, the outputs are of shape\n",
            "    (N, M) for 'xy' indexing and (M, N) for 'ij' indexing.  In the 3-D case\n",
            "    with inputs of length M, N and P, outputs are of shape (N, M, P) for\n",
            "    'xy' indexing and (M, N, P) for 'ij' indexing.  The difference is\n",
            "    illustrated by the following code snippet::\n",
            "    \n",
            "        xv, yv = np.meshgrid(x, y, sparse=False, indexing='ij')\n",
            "        for i in range(nx):\n",
            "            for j in range(ny):\n",
            "                # treat xv[i,j], yv[i,j]\n",
            "    \n",
            "        xv, yv = np.meshgrid(x, y, sparse=False, indexing='xy')\n",
            "        for i in range(nx):\n",
            "            for j in range(ny):\n",
            "                # treat xv[j,i], yv[j,i]\n",
            "    \n",
            "    In the 1-D and 0-D case, the indexing and sparse keywords have no effect.\n",
            "    \n",
            "    See Also\n",
            "    --------\n",
            "    index_tricks.mgrid : Construct a multi-dimensional \"meshgrid\"\n",
            "                     using indexing notation.\n",
            "    index_tricks.ogrid : Construct an open multi-dimensional \"meshgrid\"\n",
            "                     using indexing notation.\n",
            "    \n",
            "    Examples\n",
            "    --------\n",
            "    >>> nx, ny = (3, 2)\n",
            "    >>> x = np.linspace(0, 1, nx)\n",
            "    >>> y = np.linspace(0, 1, ny)\n",
            "    >>> xv, yv = np.meshgrid(x, y)\n",
            "    >>> xv\n",
            "    array([[ 0. ,  0.5,  1. ],\n",
            "           [ 0. ,  0.5,  1. ]])\n",
            "    >>> yv\n",
            "    array([[ 0.,  0.,  0.],\n",
            "           [ 1.,  1.,  1.]])\n",
            "    >>> xv, yv = np.meshgrid(x, y, sparse=True)  # make sparse output arrays\n",
            "    >>> xv\n",
            "    array([[ 0. ,  0.5,  1. ]])\n",
            "    >>> yv\n",
            "    array([[ 0.],\n",
            "           [ 1.]])\n",
            "    \n",
            "    `meshgrid` is very useful to evaluate functions on a grid.\n",
            "    \n",
            "    >>> x = np.arange(-5, 5, 0.1)\n",
            "    >>> y = np.arange(-5, 5, 0.1)\n",
            "    >>> xx, yy = np.meshgrid(x, y, sparse=True)\n",
            "    >>> z = np.sin(xx**2 + yy**2) / (xx**2 + yy**2)\n",
            "    >>> h = plt.contourf(x,y,z)\n",
            "\n"
          ]
        }
      ],
      "execution_count": 152,
      "metadata": {
        "collapsed": false,
        "outputHidden": false,
        "inputHidden": false
      }
    },
    {
      "cell_type": "code",
      "source": [
        "z = np.sqrt(xs ** 2 + ys ** 2)\n",
        "z"
      ],
      "outputs": [
        {
          "output_type": "execute_result",
          "execution_count": 153,
          "data": {
            "text/plain": [
              "array([[7.07106781, 7.06400028, 7.05693985, ..., 7.04988652, 7.05693985,\n",
              "        7.06400028],\n",
              "       [7.06400028, 7.05692568, 7.04985815, ..., 7.04279774, 7.04985815,\n",
              "        7.05692568],\n",
              "       [7.05693985, 7.04985815, 7.04278354, ..., 7.03571603, 7.04278354,\n",
              "        7.04985815],\n",
              "       ...,\n",
              "       [7.04988652, 7.04279774, 7.03571603, ..., 7.0286414 , 7.03571603,\n",
              "        7.04279774],\n",
              "       [7.05693985, 7.04985815, 7.04278354, ..., 7.03571603, 7.04278354,\n",
              "        7.04985815],\n",
              "       [7.06400028, 7.05692568, 7.04985815, ..., 7.04279774, 7.04985815,\n",
              "        7.05692568]])"
            ]
          },
          "metadata": {}
        }
      ],
      "execution_count": 153,
      "metadata": {
        "collapsed": false,
        "outputHidden": false,
        "inputHidden": false
      }
    },
    {
      "cell_type": "code",
      "source": [
        "import matplotlib.pyplot as plt\n",
        "\n",
        "plt.imshow(z, cmap=plt.cm.gray)\n",
        "plt.colorbar()\n",
        "plt.title(\"Image plot of $\\sqrt{x^2 + y^2}$ for a grid of values\")"
      ],
      "outputs": [
        {
          "output_type": "execute_result",
          "execution_count": 154,
          "data": {
            "text/plain": [
              "<matplotlib.text.Text at 0x212069d2d30>"
            ]
          },
          "metadata": {}
        },
        {
          "output_type": "display_data",
          "data": {
            "text/plain": [
              "<matplotlib.figure.Figure at 0x2127fc7da20>"
            ],
            "image/png": "[encoded data removed]"
          },
          "metadata": {}
        }
      ],
      "execution_count": 154,
      "metadata": {
        "collapsed": false,
        "outputHidden": false,
        "inputHidden": false
      }
    },
    {
      "cell_type": "markdown",
      "source": [
        "数组中的条件逻辑"
      ],
      "metadata": {}
    },
    {
      "cell_type": "code",
      "source": [
        "xarr = np.arange(1, 1.5, 0.1)"
      ],
      "outputs": [],
      "execution_count": 165,
      "metadata": {
        "collapsed": false,
        "outputHidden": false,
        "inputHidden": false
      }
    },
    {
      "cell_type": "code",
      "source": [
        "yarr = np.arange(2, 2.5, 0.1)\n",
        "print(xarr)\n",
        "print(yarr)"
      ],
      "outputs": [
        {
          "output_type": "stream",
          "name": "stdout",
          "text": [
            "[1.  1.1 1.2 1.3 1.4]\n",
            "[2.  2.1 2.2 2.3 2.4]\n"
          ]
        }
      ],
      "execution_count": 166,
      "metadata": {
        "collapsed": false,
        "outputHidden": false,
        "inputHidden": false
      }
    },
    {
      "cell_type": "code",
      "source": [
        "cond = np.array([True, False, True, True, False])\n",
        "res = [(x if c else y) \n",
        "       for x, y, c in zip(xarr, yarr, cond)]"
      ],
      "outputs": [],
      "execution_count": 167,
      "metadata": {
        "collapsed": false,
        "outputHidden": false,
        "inputHidden": false
      }
    },
    {
      "cell_type": "code",
      "source": [
        "res"
      ],
      "outputs": [
        {
          "output_type": "execute_result",
          "execution_count": 168,
          "data": {
            "text/plain": [
              "[1.0, 2.1, 1.2000000000000002, 1.3000000000000003, 2.4000000000000004]"
            ]
          },
          "metadata": {}
        }
      ],
      "execution_count": 168,
      "metadata": {
        "collapsed": false,
        "outputHidden": false,
        "inputHidden": false
      }
    },
    {
      "cell_type": "code",
      "source": [
        "# np.where\n",
        "res = np.where(cond, xarr, yarr)\n",
        "res"
      ],
      "outputs": [
        {
          "output_type": "execute_result",
          "execution_count": 170,
          "data": {
            "text/plain": [
              "array([1. , 2.1, 1.2, 1.3, 2.4])"
            ]
          },
          "metadata": {}
        }
      ],
      "execution_count": 170,
      "metadata": {
        "collapsed": false,
        "outputHidden": false,
        "inputHidden": false
      }
    },
    {
      "cell_type": "code",
      "source": [
        "#利用已有的一个数组生成一个新数组\n",
        "#np.where的典型应用\n",
        "arr = np.random.randn(4, 4)\n",
        "arr"
      ],
      "outputs": [
        {
          "output_type": "execute_result",
          "execution_count": 171,
          "data": {
            "text/plain": [
              "array([[-0.10053949,  0.75027794,  0.82272428,  0.78278884],\n",
              "       [ 0.68099308,  1.9096609 , -1.29648456,  0.02331559],\n",
              "       [ 0.36472985, -0.11923061, -1.94477779,  0.91767154],\n",
              "       [-2.11023517,  1.58426277, -1.01088171,  1.7182895 ]])"
            ]
          },
          "metadata": {}
        }
      ],
      "execution_count": 171,
      "metadata": {
        "collapsed": false,
        "outputHidden": false,
        "inputHidden": false
      }
    },
    {
      "cell_type": "code",
      "source": [
        "arr > 0"
      ],
      "outputs": [
        {
          "output_type": "execute_result",
          "execution_count": 172,
          "data": {
            "text/plain": [
              "array([[False,  True,  True,  True],\n",
              "       [ True,  True, False,  True],\n",
              "       [ True, False, False,  True],\n",
              "       [False,  True, False,  True]])"
            ]
          },
          "metadata": {}
        }
      ],
      "execution_count": 172,
      "metadata": {
        "collapsed": false,
        "outputHidden": false,
        "inputHidden": false
      }
    },
    {
      "cell_type": "code",
      "source": [
        "np.where(arr > 0, 2, -2)"
      ],
      "outputs": [
        {
          "output_type": "execute_result",
          "execution_count": 173,
          "data": {
            "text/plain": [
              "array([[-2,  2,  2,  2],\n",
              "       [ 2,  2, -2,  2],\n",
              "       [ 2, -2, -2,  2],\n",
              "       [-2,  2, -2,  2]])"
            ]
          },
          "metadata": {}
        }
      ],
      "execution_count": 173,
      "metadata": {
        "collapsed": false,
        "outputHidden": false,
        "inputHidden": false
      }
    },
    {
      "cell_type": "code",
      "source": [
        "#传递给where的变量既可以是标量，也可以是数组\n",
        "np.where(arr > 0, 2, arr)\n",
        "#正值被替换为2，其余保持arr"
      ],
      "outputs": [
        {
          "output_type": "execute_result",
          "execution_count": 175,
          "data": {
            "text/plain": [
              "array([[-0.10053949,  2.        ,  2.        ,  2.        ],\n",
              "       [ 2.        ,  2.        , -1.29648456,  2.        ],\n",
              "       [ 2.        , -0.11923061, -1.94477779,  2.        ],\n",
              "       [-2.11023517,  2.        , -1.01088171,  2.        ]])"
            ]
          },
          "metadata": {}
        }
      ],
      "execution_count": 175,
      "metadata": {
        "collapsed": false,
        "outputHidden": false,
        "inputHidden": false
      }
    },
    {
      "cell_type": "markdown",
      "source": [
        "数学和统计方法（函数）"
      ],
      "metadata": {}
    },
    {
      "cell_type": "code",
      "source": [
        "arr = np.random.randn(5, 4)\n",
        "arr"
      ],
      "outputs": [
        {
          "output_type": "execute_result",
          "execution_count": 176,
          "data": {
            "text/plain": [
              "array([[ 0.44084611,  0.80189108, -3.0732474 , -0.45078406],\n",
              "       [ 0.76161573,  0.01903559,  0.24724161,  1.33820034],\n",
              "       [ 0.8675423 ,  0.17982177,  0.62146072,  1.02213419],\n",
              "       [-0.14590349,  1.33579076,  0.51061883,  1.46888399],\n",
              "       [ 1.30952421,  0.13200615,  0.02202541,  0.985173  ]])"
            ]
          },
          "metadata": {}
        }
      ],
      "execution_count": 176,
      "metadata": {
        "collapsed": false,
        "outputHidden": false,
        "inputHidden": false
      }
    },
    {
      "cell_type": "code",
      "source": [
        "arr.mean()"
      ],
      "outputs": [
        {
          "output_type": "execute_result",
          "execution_count": 177,
          "data": {
            "text/plain": [
              "0.41969384235455315"
            ]
          },
          "metadata": {}
        }
      ],
      "execution_count": 177,
      "metadata": {
        "collapsed": false,
        "outputHidden": false,
        "inputHidden": false
      }
    },
    {
      "cell_type": "code",
      "source": [
        "np.mean(arr)"
      ],
      "outputs": [
        {
          "output_type": "execute_result",
          "execution_count": 178,
          "data": {
            "text/plain": [
              "0.41969384235455315"
            ]
          },
          "metadata": {}
        }
      ],
      "execution_count": 178,
      "metadata": {
        "collapsed": false,
        "outputHidden": false,
        "inputHidden": false
      }
    },
    {
      "cell_type": "code",
      "source": [
        "arr.sum()"
      ],
      "outputs": [
        {
          "output_type": "execute_result",
          "execution_count": 179,
          "data": {
            "text/plain": [
              "8.393876847091063"
            ]
          },
          "metadata": {}
        }
      ],
      "execution_count": 179,
      "metadata": {
        "collapsed": false,
        "outputHidden": false,
        "inputHidden": false
      }
    },
    {
      "cell_type": "code",
      "source": [
        "print(arr)\n",
        "arr.mean(axis=1)"
      ],
      "outputs": [
        {
          "output_type": "stream",
          "name": "stdout",
          "text": [
            "[[ 0.44084611  0.80189108 -3.0732474  -0.45078406]\n",
            " [ 0.76161573  0.01903559  0.24724161  1.33820034]\n",
            " [ 0.8675423   0.17982177  0.62146072  1.02213419]\n",
            " [-0.14590349  1.33579076  0.51061883  1.46888399]\n",
            " [ 1.30952421  0.13200615  0.02202541  0.985173  ]]\n"
          ]
        },
        {
          "output_type": "execute_result",
          "execution_count": 181,
          "data": {
            "text/plain": [
              "array([-0.57032357,  0.59152332,  0.67273974,  0.79234752,  0.61218219])"
            ]
          },
          "metadata": {}
        }
      ],
      "execution_count": 181,
      "metadata": {
        "collapsed": false,
        "outputHidden": false,
        "inputHidden": false
      }
    },
    {
      "cell_type": "code",
      "source": [
        "arr.sum(axis=0)"
      ],
      "outputs": [
        {
          "output_type": "execute_result",
          "execution_count": 182,
          "data": {
            "text/plain": [
              "array([ 3.23362485,  2.46854536, -1.67190083,  4.36360746])"
            ]
          },
          "metadata": {}
        }
      ],
      "execution_count": 182,
      "metadata": {
        "collapsed": false,
        "outputHidden": false,
        "inputHidden": false
      }
    },
    {
      "cell_type": "markdown",
      "source": [
        "arr.mean(1)表示计算每横行的平均值；arr.sum(0)表示计算每一竖行轴向的累积和。"
      ],
      "metadata": {}
    },
    {
      "cell_type": "code",
      "source": [
        "arr = np.array([0, 1, 2, 3, 4, 5, 6, 7])\n",
        "print(arr)\n",
        "arr.cumsum()"
      ],
      "outputs": [
        {
          "output_type": "stream",
          "name": "stdout",
          "text": [
            "[0 1 2 3 4 5 6 7]\n"
          ]
        },
        {
          "output_type": "execute_result",
          "execution_count": 184,
          "data": {
            "text/plain": [
              "array([ 0,  1,  3,  6, 10, 15, 21, 28], dtype=int32)"
            ]
          },
          "metadata": {}
        }
      ],
      "execution_count": 184,
      "metadata": {
        "collapsed": false,
        "outputHidden": false,
        "inputHidden": false
      }
    },
    {
      "cell_type": "code",
      "source": [
        "arr = np.array(range(9)).reshape(3,3)\n",
        "arr"
      ],
      "outputs": [
        {
          "output_type": "execute_result",
          "execution_count": 185,
          "data": {
            "text/plain": [
              "array([[0, 1, 2],\n",
              "       [3, 4, 5],\n",
              "       [6, 7, 8]])"
            ]
          },
          "metadata": {}
        }
      ],
      "execution_count": 185,
      "metadata": {
        "collapsed": false,
        "outputHidden": false,
        "inputHidden": false
      }
    },
    {
      "cell_type": "code",
      "source": [
        "arr.cumsum(axis=0)"
      ],
      "outputs": [
        {
          "output_type": "execute_result",
          "execution_count": 186,
          "data": {
            "text/plain": [
              "array([[ 0,  1,  2],\n",
              "       [ 3,  5,  7],\n",
              "       [ 9, 12, 15]], dtype=int32)"
            ]
          },
          "metadata": {}
        }
      ],
      "execution_count": 186,
      "metadata": {
        "collapsed": false,
        "outputHidden": false,
        "inputHidden": false
      }
    },
    {
      "cell_type": "code",
      "source": [
        "arr.cumprod(axis=1)"
      ],
      "outputs": [
        {
          "output_type": "execute_result",
          "execution_count": 187,
          "data": {
            "text/plain": [
              "array([[  0,   0,   0],\n",
              "       [  3,  12,  60],\n",
              "       [  6,  42, 336]], dtype=int32)"
            ]
          },
          "metadata": {}
        }
      ],
      "execution_count": 187,
      "metadata": {
        "collapsed": false,
        "outputHidden": false,
        "inputHidden": false
      }
    },
    {
      "cell_type": "markdown",
      "source": [
        "常用NumPy基础素组统计方法：\n",
        "\n",
        "sum，mean，std（标准差），var（方差），min，max，argmin，argmax（最大值位置），cumsum（累和），cumprod（累乘）"
      ],
      "metadata": {}
    },
    {
      "cell_type": "markdown",
      "source": [
        "布尔值数组的方法"
      ],
      "metadata": {}
    },
    {
      "cell_type": "code",
      "source": [
        "#可用sum计算布尔值数组中为True的次数\n",
        "arr = np.random.randn(100)\n",
        "#print(arr)\n",
        "(arr > 0).sum()"
      ],
      "outputs": [
        {
          "output_type": "execute_result",
          "execution_count": 191,
          "data": {
            "text/plain": [
              "54"
            ]
          },
          "metadata": {}
        }
      ],
      "execution_count": 191,
      "metadata": {
        "collapsed": false,
        "outputHidden": false,
        "inputHidden": false
      }
    },
    {
      "cell_type": "code",
      "source": [
        "#any 和 all方法比较常用，检查数组中是至少有一个为真，还是每一个值为真\n",
        "bools = np.array([False, False, True, False])\n",
        "print(bools.any())\n",
        "print(bools.all())"
      ],
      "outputs": [
        {
          "output_type": "stream",
          "name": "stdout",
          "text": [
            "True\n",
            "False\n"
          ]
        }
      ],
      "execution_count": 193,
      "metadata": {
        "collapsed": false,
        "outputHidden": false,
        "inputHidden": false
      }
    },
    {
      "cell_type": "markdown",
      "source": [
        "数组排序方法"
      ],
      "metadata": {}
    },
    {
      "cell_type": "code",
      "source": [
        "arr = np.random.randn(6)\n",
        "print(arr)\n",
        "print(np.sort(arr))"
      ],
      "outputs": [
        {
          "output_type": "stream",
          "name": "stdout",
          "text": [
            "[ 1.49905383 -0.38955867 -0.86818953 -1.20493653  0.43075408 -0.15076159]\n",
            "[-1.20493653 -0.86818953 -0.38955867 -0.15076159  0.43075408  1.49905383]\n"
          ]
        }
      ],
      "execution_count": 196,
      "metadata": {
        "collapsed": false,
        "outputHidden": false,
        "inputHidden": false
      }
    },
    {
      "cell_type": "code",
      "source": [
        "arr = np.random.randn(5,3)\n",
        "print(arr)\n",
        "print(np.sort(arr,axis=1))\n",
        "#np.sort返回的是原数组的copy，而arr.sort()是就地排序。"
      ],
      "outputs": [
        {
          "output_type": "stream",
          "name": "stdout",
          "text": [
            "[[-0.03861011 -0.73066971  0.57656769]\n",
            " [ 0.08723554 -0.16249994 -1.4784128 ]\n",
            " [ 0.25130428  0.67144089 -0.62354752]\n",
            " [ 0.69091427 -0.47139932 -1.43314773]\n",
            " [ 0.56939984  1.43915918  0.91928813]]\n",
            "[[-0.73066971 -0.03861011  0.57656769]\n",
            " [-1.4784128  -0.16249994  0.08723554]\n",
            " [-0.62354752  0.25130428  0.67144089]\n",
            " [-1.43314773 -0.47139932  0.69091427]\n",
            " [ 0.56939984  0.91928813  1.43915918]]\n"
          ]
        }
      ],
      "execution_count": 198,
      "metadata": {
        "collapsed": false,
        "outputHidden": false,
        "inputHidden": false
      }
    },
    {
      "cell_type": "markdown",
      "source": [
        "根据数据表中某一列进行排序将成为未来数据分析和聚的常用手段，因此需要掌握“间接排序”这项技术"
      ],
      "metadata": {}
    },
    {
      "cell_type": "markdown",
      "source": [
        "唯一值与其它集合逻辑"
      ],
      "metadata": {}
    },
    {
      "cell_type": "code",
      "source": [
        "names = np.array(['Bob', 'Joe', 'Will', 'Bob', 'Will', 'Joe', 'Joe'])\n",
        "print(np.unique(names))\n",
        "print(sorted(set(names)))"
      ],
      "outputs": [
        {
          "output_type": "stream",
          "name": "stdout",
          "text": [
            "['Bob' 'Joe' 'Will']\n",
            "['Bob', 'Joe', 'Will']\n"
          ]
        }
      ],
      "execution_count": 200,
      "metadata": {
        "collapsed": false,
        "outputHidden": false,
        "inputHidden": false
      }
    },
    {
      "cell_type": "markdown",
      "source": [
        "主要方法：unique(x),intersect1d(x, y),union1d(x, y),in1d(x, y),setdiff1d(x, y),setxro1d(x, y)"
      ],
      "metadata": {}
    },
    {
      "cell_type": "markdown",
      "source": [
        "5. 线性代数"
      ],
      "metadata": {}
    },
    {
      "cell_type": "code",
      "source": [
        "x = np.array(range(1,7), dtype='f').reshape(2, 3)\n",
        "y = np.array([[6., 23.], [-1, 7], [8, 9]])\n",
        "print(x,'\\n\\n' ,y)"
      ],
      "outputs": [
        {
          "output_type": "stream",
          "name": "stdout",
          "text": [
            "[[1. 2. 3.]\n",
            " [4. 5. 6.]] \n",
            "\n",
            " [[ 6. 23.]\n",
            " [-1.  7.]\n",
            " [ 8.  9.]]\n"
          ]
        }
      ],
      "execution_count": 204,
      "metadata": {
        "collapsed": false,
        "outputHidden": false,
        "inputHidden": false
      }
    },
    {
      "cell_type": "code",
      "source": [
        "print(x.dot(y))\n",
        "print(np.dot(x,y))"
      ],
      "outputs": [
        {
          "output_type": "stream",
          "name": "stdout",
          "text": [
            "[[ 28.  64.]\n",
            " [ 67. 181.]]\n",
            "[[ 28.  64.]\n",
            " [ 67. 181.]]\n"
          ]
        }
      ],
      "execution_count": 206,
      "metadata": {
        "collapsed": false,
        "outputHidden": false,
        "inputHidden": false
      }
    },
    {
      "cell_type": "code",
      "source": [
        "np.dot(x, np.ones(3))"
      ],
      "outputs": [
        {
          "output_type": "execute_result",
          "execution_count": 207,
          "data": {
            "text/plain": [
              "array([ 6., 15.])"
            ]
          },
          "metadata": {}
        }
      ],
      "execution_count": 207,
      "metadata": {
        "collapsed": false,
        "outputHidden": false,
        "inputHidden": false
      }
    },
    {
      "cell_type": "markdown",
      "source": [
        "np.linalg"
      ],
      "metadata": {}
    },
    {
      "cell_type": "code",
      "source": [
        "from numpy.linalg import inv, qr\n",
        "\n",
        "X = np.random.randn(5, 5)\n",
        "mat = X.T.dot(X)\n",
        "mat"
      ],
      "outputs": [
        {
          "output_type": "execute_result",
          "execution_count": 210,
          "data": {
            "text/plain": [
              "array([[ 3.31217476,  1.77286937, -1.79298886, -1.85836826, -0.86282842],\n",
              "       [ 1.77286937,  3.35326726, -1.92338016, -1.47967651,  1.47703041],\n",
              "       [-1.79298886, -1.92338016,  5.39077505, -0.42721929, -2.92901888],\n",
              "       [-1.85836826, -1.47967651, -0.42721929, 10.50055555,  1.67418451],\n",
              "       [-0.86282842,  1.47703041, -2.92901888,  1.67418451,  4.06720641]])"
            ]
          },
          "metadata": {}
        }
      ],
      "execution_count": 210,
      "metadata": {
        "collapsed": false,
        "outputHidden": false,
        "inputHidden": false
      }
    },
    {
      "cell_type": "code",
      "source": [
        "inv(mat)"
      ],
      "outputs": [
        {
          "output_type": "execute_result",
          "execution_count": 209,
          "data": {
            "text/plain": [
              "array([[11.14938833,  5.02533413, -0.97605367, -9.2019849 ,  0.85668041],\n",
              "       [ 5.02533413,  2.58933424, -0.3504276 , -4.13693121,  0.25143962],\n",
              "       [-0.97605367, -0.3504276 ,  0.22032553,  0.748955  , -0.04847843],\n",
              "       [-9.2019849 , -4.13693121,  0.748955  ,  7.77849674, -0.82630672],\n",
              "       [ 0.85668041,  0.25143962, -0.04847843, -0.82630672,  0.33021041]])"
            ]
          },
          "metadata": {}
        }
      ],
      "execution_count": 209,
      "metadata": {
        "collapsed": false,
        "outputHidden": false,
        "inputHidden": false
      }
    },
    {
      "cell_type": "markdown",
      "source": [
        "diag将矩阵的对角线元素作为1维数组返回，或反转换\n",
        "\n",
        "dot矩阵点乘\n",
        "\n",
        "trace计算对角元素之和\n",
        "\n",
        "det计算矩阵的行列式\n",
        "\n",
        "eig计算矩阵的特征值和特征向量\n",
        "\n",
        "inv计算矩阵的逆矩阵\n",
        "\n",
        "pinv计算矩阵的MOORE-PENROSE伪逆矩阵\n",
        "\n",
        "qr计算QR分解\n",
        "\n",
        "svd计算奇异值分解\n",
        "\n",
        "solve求解x的线性系统Ax = b，其中A为方阵\n",
        "\n",
        "lstsq计算Ax = b的最小二乘解"
      ],
      "metadata": {}
    },
    {
      "cell_type": "markdown",
      "source": [
        "6. 伪随机数的生成\n",
        "\n",
        "\n",
        "\n",
        "np.numpy填补了Python内建模块random的不足，用于高效地生成各种概率分布下的完整样本值数组。"
      ],
      "metadata": {}
    },
    {
      "cell_type": "code",
      "source": [
        "samples = np.random.normal(size=(4,4))\n",
        "samples"
      ],
      "outputs": [
        {
          "output_type": "execute_result",
          "execution_count": 211,
          "data": {
            "text/plain": [
              "array([[-1.09643585, -1.25189419, -1.26450647,  0.85877454],\n",
              "       [ 1.40586335, -0.9441546 ,  0.51375593, -1.29747209],\n",
              "       [ 1.05901095,  0.47302892,  0.40503761, -0.395912  ],\n",
              "       [-2.32928611, -0.29207425,  0.3605263 , -0.45599977]])"
            ]
          },
          "metadata": {}
        }
      ],
      "execution_count": 211,
      "metadata": {
        "collapsed": false,
        "outputHidden": false,
        "inputHidden": false
      }
    },
    {
      "cell_type": "code",
      "source": [
        "from random import normalvariate\n",
        "\n",
        "N = 10000000\n",
        "%timeit samples = [normalvariate(0, 1) for _ in range(N)]"
      ],
      "outputs": [
        {
          "output_type": "stream",
          "name": "stdout",
          "text": [
            "1 loop, best of 3: 8.73 s per loop\n"
          ]
        }
      ],
      "execution_count": 212,
      "metadata": {
        "collapsed": false,
        "outputHidden": false,
        "inputHidden": false
      }
    },
    {
      "cell_type": "code",
      "source": [
        "%timeit np.random.normal(size=N)"
      ],
      "outputs": [
        {
          "output_type": "stream",
          "name": "stdout",
          "text": [
            "1 loop, best of 3: 292 ms per loop\n"
          ]
        }
      ],
      "execution_count": 213,
      "metadata": {
        "collapsed": false,
        "outputHidden": false,
        "inputHidden": false
      }
    },
    {
      "cell_type": "markdown",
      "source": [
        "伪随机数，由确定性行为的算法根据随机数生成器中的随机数种子（seed）生成的。"
      ],
      "metadata": {}
    },
    {
      "cell_type": "code",
      "source": [
        "rng = np.random.RandomState(1234)\n",
        "rng.randn(10)"
      ],
      "outputs": [
        {
          "output_type": "execute_result",
          "execution_count": 214,
          "data": {
            "text/plain": [
              "array([ 0.47143516, -1.19097569,  1.43270697, -0.3126519 , -0.72058873,\n",
              "        0.88716294,  0.85958841, -0.6365235 ,  0.01569637, -2.24268495])"
            ]
          },
          "metadata": {}
        }
      ],
      "execution_count": 214,
      "metadata": {
        "collapsed": false,
        "outputHidden": false,
        "inputHidden": false
      }
    },
    {
      "cell_type": "markdown",
      "source": [
        "numpy.random中的部分函数列表：\n",
        "\n",
        "seed向随机数生成器传递随机状态种子\n",
        "\n",
        "permutation返回一个序列的随机排列\n",
        "\n",
        "shuffle随机排列一个序列\n",
        "\n",
        "rand从均匀分布中抽取样本\n",
        "\n",
        "randint根据给定的由低到高的范围抽取随机整数\n",
        "\n",
        "randn从均值0方差1的正态分布中抽取样本\n",
        "\n",
        "binomial从二项分布中抽取样本\n",
        "\n",
        "normal从正态（高斯）分布中抽取样本\n",
        "\n",
        "beta从beta分布中抽取样本\n",
        "\n",
        "chisquare从卡方分布中抽取样本\n",
        "\n",
        "gamma从伽马分布中抽取样本\n",
        "\n",
        "uniform从均匀[0, 1)分布中抽取样本"
      ],
      "metadata": {}
    },
    {
      "cell_type": "markdown",
      "source": [
        "随机漫步示例"
      ],
      "metadata": {}
    },
    {
      "cell_type": "code",
      "source": [
        "import random\n",
        "\n",
        "position = 0\n",
        "walk = [position]\n",
        "steps = 1000\n",
        "for i in range(steps):\n",
        "    step = 1 if random.randint(0, 1) else -1\n",
        "    position += step\n",
        "    walk.append(position)"
      ],
      "outputs": [],
      "execution_count": 220,
      "metadata": {
        "collapsed": false,
        "outputHidden": false,
        "inputHidden": false
      }
    },
    {
      "cell_type": "code",
      "source": [
        "plt.plot(walk[:1000])"
      ],
      "outputs": [
        {
          "output_type": "execute_result",
          "execution_count": 222,
          "data": {
            "text/plain": [
              "[<matplotlib.lines.Line2D at 0x21206c816a0>]"
            ]
          },
          "metadata": {}
        },
        {
          "output_type": "display_data",
          "data": {
            "text/plain": [
              "<matplotlib.figure.Figure at 0x21206bf4080>"
            ],
            "image/png": "[encoded data removed]"
          },
          "metadata": {}
        }
      ],
      "execution_count": 222,
      "metadata": {
        "collapsed": false,
        "outputHidden": false,
        "inputHidden": false
      }
    },
    {
      "cell_type": "code",
      "source": [
        "nsteps = 1000\n",
        "draws = np.random.randint(0, 2, size=nsteps)\n",
        "steps = np.where(draws > 0, 1, -1)\n",
        "walk = steps.cumsum()\n",
        "print(\"maximum and minimum values in walking: {0}, {1}, seperately\".format(walk.min(), walk.max()))\n",
        "plt.plot(walk[:1000])"
      ],
      "outputs": [
        {
          "output_type": "stream",
          "name": "stdout",
          "text": [
            "maximum and minimum values in walking: -12, 26, seperately\n"
          ]
        },
        {
          "output_type": "execute_result",
          "execution_count": 224,
          "data": {
            "text/plain": [
              "[<matplotlib.lines.Line2D at 0x2120d6920f0>]"
            ]
          },
          "metadata": {}
        },
        {
          "output_type": "display_data",
          "data": {
            "text/plain": [
              "<matplotlib.figure.Figure at 0x21206c2a828>"
            ],
            "image/png": "[encoded data removed]"
          },
          "metadata": {}
        }
      ],
      "execution_count": 224,
      "metadata": {
        "collapsed": false,
        "outputHidden": false,
        "inputHidden": false
      }
    },
    {
      "cell_type": "code",
      "source": [
        "(np.abs(walk) >= 10).argmax()"
      ],
      "outputs": [
        {
          "output_type": "execute_result",
          "execution_count": 226,
          "data": {
            "text/plain": [
              "63"
            ]
          },
          "metadata": {}
        }
      ],
      "execution_count": 226,
      "metadata": {
        "collapsed": false,
        "outputHidden": false,
        "inputHidden": false
      }
    },
    {
      "cell_type": "code",
      "source": [
        "nwalks = 5000; nsteps = 1000\n",
        "draws = np.random.randint(0, 2, size=(nwalks, nsteps))\n",
        "steps = np.where(draws > 0, 1, -1)\n",
        "walks = steps.cumsum(1)\n",
        "walks"
      ],
      "outputs": [
        {
          "output_type": "execute_result",
          "execution_count": 227,
          "data": {
            "text/plain": [
              "array([[ -1,  -2,  -1, ...,  -4,  -3,  -2],\n",
              "       [ -1,  -2,  -1, ...,  22,  23,  24],\n",
              "       [ -1,   0,  -1, ...,  12,  13,  12],\n",
              "       ...,\n",
              "       [ -1,  -2,  -1, ...,  40,  39,  40],\n",
              "       [  1,   2,   3, ..., -16, -15, -14],\n",
              "       [ -1,  -2,  -1, ...,  16,  17,  16]], dtype=int32)"
            ]
          },
          "metadata": {}
        }
      ],
      "execution_count": 227,
      "metadata": {
        "collapsed": false,
        "outputHidden": false,
        "inputHidden": false
      }
    },
    {
      "cell_type": "code",
      "source": [
        "walks.max()"
      ],
      "outputs": [
        {
          "output_type": "execute_result",
          "execution_count": 235,
          "data": {
            "text/plain": [
              "123"
            ]
          },
          "metadata": {}
        }
      ],
      "execution_count": 235,
      "metadata": {
        "collapsed": false,
        "outputHidden": false,
        "inputHidden": false
      }
    },
    {
      "cell_type": "code",
      "source": [
        "walks.min()"
      ],
      "outputs": [
        {
          "output_type": "execute_result",
          "execution_count": 236,
          "data": {
            "text/plain": [
              "-124"
            ]
          },
          "metadata": {}
        }
      ],
      "execution_count": 236,
      "metadata": {
        "collapsed": false,
        "outputHidden": false,
        "inputHidden": false
      }
    },
    {
      "cell_type": "code",
      "source": [
        "hists30 = (np.abs(walks) >= 30).any(1)"
      ],
      "outputs": [],
      "execution_count": 237,
      "metadata": {
        "collapsed": false,
        "outputHidden": false,
        "inputHidden": false
      }
    },
    {
      "cell_type": "code",
      "source": [
        "hists30"
      ],
      "outputs": [
        {
          "output_type": "execute_result",
          "execution_count": 238,
          "data": {
            "text/plain": [
              "array([ True,  True,  True, ...,  True, False, False])"
            ]
          },
          "metadata": {}
        }
      ],
      "execution_count": 238,
      "metadata": {
        "collapsed": false,
        "outputHidden": false,
        "inputHidden": false
      }
    },
    {
      "cell_type": "code",
      "source": [
        "hists30.sum()"
      ],
      "outputs": [
        {
          "output_type": "execute_result",
          "execution_count": 239,
          "data": {
            "text/plain": [
              "3359"
            ]
          },
          "metadata": {}
        }
      ],
      "execution_count": 239,
      "metadata": {
        "collapsed": false,
        "outputHidden": false,
        "inputHidden": false
      }
    },
    {
      "cell_type": "code",
      "source": [
        "crossing_times = (np.abs(walks[hists30]) >= 30).argmax(1)\n",
        "crossing_times.mean()"
      ],
      "outputs": [
        {
          "output_type": "execute_result",
          "execution_count": 241,
          "data": {
            "text/plain": [
              "497.72759749925575"
            ]
          },
          "metadata": {}
        }
      ],
      "execution_count": 241,
      "metadata": {
        "collapsed": false,
        "outputHidden": false,
        "inputHidden": false
      }
    },
    {
      "cell_type": "code",
      "source": [
        "help(np.cumsum)"
      ],
      "outputs": [
        {
          "output_type": "stream",
          "name": "stdout",
          "text": [
            "Help on function cumsum in module numpy.core.fromnumeric:\n",
            "\n",
            "cumsum(a, axis=None, dtype=None, out=None)\n",
            "    Return the cumulative sum of the elements along a given axis.\n",
            "    \n",
            "    Parameters\n",
            "    ----------\n",
            "    a : array_like\n",
            "        Input array.\n",
            "    axis : int, optional\n",
            "        Axis along which the cumulative sum is computed. The default\n",
            "        (None) is to compute the cumsum over the flattened array.\n",
            "    dtype : dtype, optional\n",
            "        Type of the returned array and of the accumulator in which the\n",
            "        elements are summed.  If `dtype` is not specified, it defaults\n",
            "        to the dtype of `a`, unless `a` has an integer dtype with a\n",
            "        precision less than that of the default platform integer.  In\n",
            "        that case, the default platform integer is used.\n",
            "    out : ndarray, optional\n",
            "        Alternative output array in which to place the result. It must\n",
            "        have the same shape and buffer length as the expected output\n",
            "        but the type will be cast if necessary. See `doc.ufuncs`\n",
            "        (Section \"Output arguments\") for more details.\n",
            "    \n",
            "    Returns\n",
            "    -------\n",
            "    cumsum_along_axis : ndarray.\n",
            "        A new array holding the result is returned unless `out` is\n",
            "        specified, in which case a reference to `out` is returned. The\n",
            "        result has the same size as `a`, and the same shape as `a` if\n",
            "        `axis` is not None or `a` is a 1-d array.\n",
            "    \n",
            "    \n",
            "    See Also\n",
            "    --------\n",
            "    sum : Sum array elements.\n",
            "    \n",
            "    trapz : Integration of array values using the composite trapezoidal rule.\n",
            "    \n",
            "    diff :  Calculate the n-th discrete difference along given axis.\n",
            "    \n",
            "    Notes\n",
            "    -----\n",
            "    Arithmetic is modular when using integer types, and no error is\n",
            "    raised on overflow.\n",
            "    \n",
            "    Examples\n",
            "    --------\n",
            "    >>> a = np.array([[1,2,3], [4,5,6]])\n",
            "    >>> a\n",
            "    array([[1, 2, 3],\n",
            "           [4, 5, 6]])\n",
            "    >>> np.cumsum(a)\n",
            "    array([ 1,  3,  6, 10, 15, 21])\n",
            "    >>> np.cumsum(a, dtype=float)     # specifies type of output value(s)\n",
            "    array([  1.,   3.,   6.,  10.,  15.,  21.])\n",
            "    \n",
            "    >>> np.cumsum(a,axis=0)      # sum over rows for each of the 3 columns\n",
            "    array([[1, 2, 3],\n",
            "           [5, 7, 9]])\n",
            "    >>> np.cumsum(a,axis=1)      # sum over columns for each of the 2 rows\n",
            "    array([[ 1,  3,  6],\n",
            "           [ 4,  9, 15]])\n",
            "\n"
          ]
        }
      ],
      "execution_count": 230,
      "metadata": {
        "collapsed": false,
        "outputHidden": false,
        "inputHidden": false
      }
    },
    {
      "cell_type": "code",
      "source": [
        "print(np.cumsum(np.array([1,2,3,4,5,6])))\n",
        "print(np.cumsum(np.array(range(9)).reshape(3, 3)))"
      ],
      "outputs": [
        {
          "output_type": "stream",
          "name": "stdout",
          "text": [
            "[ 1  3  6 10 15 21]\n",
            "[ 0  1  3  6 10 15 21 28 36]\n"
          ]
        }
      ],
      "execution_count": 232,
      "metadata": {
        "collapsed": false,
        "outputHidden": false,
        "inputHidden": false
      }
    },
    {
      "cell_type": "code",
      "source": [
        "np.cumsum(np.array(range(9)).reshape(3, 3),axis=0)"
      ],
      "outputs": [
        {
          "output_type": "execute_result",
          "execution_count": 234,
          "data": {
            "text/plain": [
              "array([[ 0,  1,  2],\n",
              "       [ 3,  5,  7],\n",
              "       [ 9, 12, 15]], dtype=int32)"
            ]
          },
          "metadata": {}
        }
      ],
      "execution_count": 234,
      "metadata": {
        "collapsed": false,
        "outputHidden": false,
        "inputHidden": false
      }
    },
    {
      "cell_type": "code",
      "source": [],
      "outputs": [],
      "execution_count": null,
      "metadata": {
        "collapsed": false,
        "outputHidden": false,
        "inputHidden": false
      }
    }
  ],
  "metadata": {
    "kernel_info": {
      "name": "python3"
    },
    "language_info": {
      "file_extension": ".py",
      "mimetype": "text/x-python",
      "name": "python",
      "nbconvert_exporter": "python",
      "version": "3.5.2",
      "codemirror_mode": {
        "version": 3,
        "name": "ipython"
      },
      "pygments_lexer": "ipython3"
    },
    "kernelspec": {
      "name": "python3",
      "language": "python",
      "display_name": "Python 3"
    },
    "nteract": {
      "version": "0.14.0"
    }
  },
  "nbformat": 4,
  "nbformat_minor": 0
}