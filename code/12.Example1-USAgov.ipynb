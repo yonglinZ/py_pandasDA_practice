{
  "cells": [
    {
      "cell_type": "code",
      "source": [
        "from IPython.core.interactiveshell import InteractiveShell\n",
        "InteractiveShell.ast_note_interactivity = \"all\"\n",
        "%matplotlib inline\n",
        "\n",
        "\n",
        "import os\n",
        "import sys\n",
        "import numpy as np\n",
        "import pandas as pd\n",
        "from pandas import Series, DataFrame\n",
        "import matplotlib.pyplot as plt\n",
        "import seaborn as sns"
      ],
      "outputs": [],
      "execution_count": 1,
      "metadata": {
        "collapsed": false,
        "outputHidden": false,
        "inputHidden": false
      }
    },
    {
      "cell_type": "code",
      "source": [
        "path = 'E:/py_pandasDA_practice/code/datasets/bitly_usagov/example.txt'"
      ],
      "outputs": [],
      "execution_count": 2,
      "metadata": {
        "collapsed": false,
        "outputHidden": false,
        "inputHidden": false
      }
    },
    {
      "cell_type": "code",
      "source": [
        "import json\n",
        "records = [json.loads(line) for line in open(path)]"
      ],
      "outputs": [],
      "execution_count": 4,
      "metadata": {
        "collapsed": false,
        "outputHidden": false,
        "inputHidden": false
      }
    },
    {
      "cell_type": "code",
      "source": [
        "records[0]"
      ],
      "outputs": [
        {
          "output_type": "execute_result",
          "execution_count": 5,
          "data": {
            "text/plain": [
              "{'a': 'Mozilla/5.0 (Windows NT 6.1; WOW64) AppleWebKit/535.11 (KHTML, like Gecko) Chrome/17.0.963.78 Safari/535.11',\n",
              " 'al': 'en-US,en;q=0.8',\n",
              " 'c': 'US',\n",
              " 'cy': 'Danvers',\n",
              " 'g': 'A6qOVH',\n",
              " 'gr': 'MA',\n",
              " 'h': 'wfLQtf',\n",
              " 'hc': 1331822918,\n",
              " 'hh': '1.usa.gov',\n",
              " 'l': 'orofrog',\n",
              " 'll': [42.576698, -70.954903],\n",
              " 'nk': 1,\n",
              " 'r': 'http://www.facebook.com/l/7AQEFzjSi/1.usa.gov/wfLQtf',\n",
              " 't': 1331923247,\n",
              " 'tz': 'America/New_York',\n",
              " 'u': 'http://www.ncbi.nlm.nih.gov/pubmed/22415991'}"
            ]
          },
          "metadata": {}
        }
      ],
      "execution_count": 5,
      "metadata": {
        "collapsed": false,
        "outputHidden": false,
        "inputHidden": false
      }
    },
    {
      "cell_type": "markdown",
      "source": [
        "1. 纯Python时区计数"
      ],
      "metadata": {}
    },
    {
      "cell_type": "code",
      "source": [
        "# 最常出现的时区（tz）\n",
        "\n",
        "time_zones = [rec['tz'] for rec in records]\n"
      ],
      "outputs": [
        {
          "output_type": "error",
          "ename": "KeyError",
          "evalue": "'tz'",
          "traceback": [
            "\u001b[0;31m---------------------------------------------------------------------------\u001b[0m",
            "\u001b[0;31mKeyError\u001b[0m                                  Traceback (most recent call last)",
            "\u001b[0;32m<ipython-input-7-000e3b67b3c6>\u001b[0m in \u001b[0;36m<module>\u001b[0;34m()\u001b[0m\n\u001b[1;32m      1\u001b[0m \u001b[1;31m# 最常出现的时区（tz）\u001b[0m\u001b[1;33m\u001b[0m\u001b[1;33m\u001b[0m\u001b[0m\n\u001b[1;32m      2\u001b[0m \u001b[1;33m\u001b[0m\u001b[0m\n\u001b[0;32m----> 3\u001b[0;31m \u001b[0mtime_zones\u001b[0m \u001b[1;33m=\u001b[0m \u001b[1;33m[\u001b[0m\u001b[0mrec\u001b[0m\u001b[1;33m[\u001b[0m\u001b[1;34m'tz'\u001b[0m\u001b[1;33m]\u001b[0m \u001b[1;32mfor\u001b[0m \u001b[0mrec\u001b[0m \u001b[1;32min\u001b[0m \u001b[0mrecords\u001b[0m\u001b[1;33m]\u001b[0m\u001b[1;33m\u001b[0m\u001b[0m\n\u001b[0m",
            "\u001b[0;32m<ipython-input-7-000e3b67b3c6>\u001b[0m in \u001b[0;36m<listcomp>\u001b[0;34m(.0)\u001b[0m\n\u001b[1;32m      1\u001b[0m \u001b[1;31m# 最常出现的时区（tz）\u001b[0m\u001b[1;33m\u001b[0m\u001b[1;33m\u001b[0m\u001b[0m\n\u001b[1;32m      2\u001b[0m \u001b[1;33m\u001b[0m\u001b[0m\n\u001b[0;32m----> 3\u001b[0;31m \u001b[0mtime_zones\u001b[0m \u001b[1;33m=\u001b[0m \u001b[1;33m[\u001b[0m\u001b[0mrec\u001b[0m\u001b[1;33m[\u001b[0m\u001b[1;34m'tz'\u001b[0m\u001b[1;33m]\u001b[0m \u001b[1;32mfor\u001b[0m \u001b[0mrec\u001b[0m \u001b[1;32min\u001b[0m \u001b[0mrecords\u001b[0m\u001b[1;33m]\u001b[0m\u001b[1;33m\u001b[0m\u001b[0m\n\u001b[0m",
            "\u001b[0;31mKeyError\u001b[0m: 'tz'"
          ]
        }
      ],
      "execution_count": 7,
      "metadata": {
        "collapsed": false,
        "outputHidden": false,
        "inputHidden": false
      }
    },
    {
      "cell_type": "code",
      "source": [
        "time_zones = [rec['tz'] for rec in records if 'tz' in rec]"
      ],
      "outputs": [],
      "execution_count": 9,
      "metadata": {
        "collapsed": false,
        "outputHidden": false,
        "inputHidden": false
      }
    },
    {
      "cell_type": "code",
      "source": [
        "time_zones[:10]"
      ],
      "outputs": [
        {
          "output_type": "execute_result",
          "execution_count": 10,
          "data": {
            "text/plain": [
              "['America/New_York',\n",
              " 'America/Denver',\n",
              " 'America/New_York',\n",
              " 'America/Sao_Paulo',\n",
              " 'America/New_York',\n",
              " 'America/New_York',\n",
              " 'Europe/Warsaw',\n",
              " '',\n",
              " '',\n",
              " '']"
            ]
          },
          "metadata": {}
        }
      ],
      "execution_count": 10,
      "metadata": {
        "collapsed": false,
        "outputHidden": false,
        "inputHidden": false
      }
    },
    {
      "cell_type": "code",
      "source": [
        "# 方法一遍历时区时利用字典来存储计数\n",
        "\n",
        "def get_counts(sequence):\n",
        "    counts = {}\n",
        "    for x in sequence:\n",
        "        if x in counts:\n",
        "            counts[x] += 1\n",
        "        else:\n",
        "            counts[x] = 1\n",
        "    return counts"
      ],
      "outputs": [],
      "execution_count": 11,
      "metadata": {
        "collapsed": false,
        "outputHidden": false,
        "inputHidden": false
      }
    },
    {
      "cell_type": "code",
      "source": [
        "# 方法二使用python中的标准库中的高级工具：\n",
        "\n",
        "from collections import defaultdict"
      ],
      "outputs": [],
      "execution_count": 12,
      "metadata": {
        "collapsed": false,
        "outputHidden": false,
        "inputHidden": false
      }
    },
    {
      "cell_type": "code",
      "source": [
        "def get_counts2(sequence):\n",
        "    counts = defaultdict(int) #值会初始化为0\n",
        "    for x in sequence:\n",
        "        counts[x] += 1\n",
        "    return counts"
      ],
      "outputs": [],
      "execution_count": 13,
      "metadata": {
        "collapsed": false,
        "outputHidden": false,
        "inputHidden": false
      }
    },
    {
      "cell_type": "code",
      "source": [
        "counts = defaultdict(int)\n",
        "type(counts)"
      ],
      "outputs": [
        {
          "output_type": "execute_result",
          "execution_count": 15,
          "data": {
            "text/plain": [
              "collections.defaultdict"
            ]
          },
          "metadata": {}
        }
      ],
      "execution_count": 15,
      "metadata": {
        "collapsed": false,
        "outputHidden": false,
        "inputHidden": false
      }
    },
    {
      "cell_type": "code",
      "source": [
        "counts = get_counts(time_zones)\n",
        "counts['America/New_York']\n",
        "counts"
      ],
      "outputs": [
        {
          "output_type": "execute_result",
          "execution_count": 19,
          "data": {
            "text/plain": [
              "{'': 521,\n",
              " 'Africa/Cairo': 3,\n",
              " 'Africa/Casablanca': 1,\n",
              " 'Africa/Ceuta': 2,\n",
              " 'Africa/Johannesburg': 1,\n",
              " 'Africa/Lusaka': 1,\n",
              " 'America/Anchorage': 5,\n",
              " 'America/Argentina/Buenos_Aires': 1,\n",
              " 'America/Argentina/Cordoba': 1,\n",
              " 'America/Argentina/Mendoza': 1,\n",
              " 'America/Bogota': 3,\n",
              " 'America/Caracas': 1,\n",
              " 'America/Chicago': 400,\n",
              " 'America/Chihuahua': 2,\n",
              " 'America/Costa_Rica': 1,\n",
              " 'America/Denver': 191,\n",
              " 'America/Edmonton': 6,\n",
              " 'America/Guayaquil': 2,\n",
              " 'America/Halifax': 4,\n",
              " 'America/Indianapolis': 20,\n",
              " 'America/La_Paz': 1,\n",
              " 'America/Lima': 1,\n",
              " 'America/Los_Angeles': 382,\n",
              " 'America/Managua': 3,\n",
              " 'America/Mazatlan': 1,\n",
              " 'America/Mexico_City': 15,\n",
              " 'America/Monterrey': 1,\n",
              " 'America/Montevideo': 1,\n",
              " 'America/Montreal': 9,\n",
              " 'America/New_York': 1251,\n",
              " 'America/Phoenix': 20,\n",
              " 'America/Puerto_Rico': 10,\n",
              " 'America/Rainy_River': 25,\n",
              " 'America/Recife': 2,\n",
              " 'America/Santo_Domingo': 1,\n",
              " 'America/Sao_Paulo': 33,\n",
              " 'America/St_Kitts': 1,\n",
              " 'America/Tegucigalpa': 1,\n",
              " 'America/Vancouver': 12,\n",
              " 'America/Winnipeg': 4,\n",
              " 'Asia/Amman': 2,\n",
              " 'Asia/Bangkok': 6,\n",
              " 'Asia/Beirut': 4,\n",
              " 'Asia/Calcutta': 9,\n",
              " 'Asia/Dubai': 4,\n",
              " 'Asia/Harbin': 3,\n",
              " 'Asia/Hong_Kong': 10,\n",
              " 'Asia/Istanbul': 9,\n",
              " 'Asia/Jakarta': 3,\n",
              " 'Asia/Jerusalem': 3,\n",
              " 'Asia/Karachi': 3,\n",
              " 'Asia/Kuala_Lumpur': 3,\n",
              " 'Asia/Kuching': 1,\n",
              " 'Asia/Manila': 1,\n",
              " 'Asia/Nicosia': 1,\n",
              " 'Asia/Novosibirsk': 1,\n",
              " 'Asia/Pontianak': 1,\n",
              " 'Asia/Riyadh': 1,\n",
              " 'Asia/Seoul': 5,\n",
              " 'Asia/Tokyo': 37,\n",
              " 'Asia/Yekaterinburg': 1,\n",
              " 'Australia/NSW': 6,\n",
              " 'Australia/Queensland': 1,\n",
              " 'Chile/Continental': 6,\n",
              " 'Europe/Amsterdam': 22,\n",
              " 'Europe/Athens': 6,\n",
              " 'Europe/Belgrade': 2,\n",
              " 'Europe/Berlin': 28,\n",
              " 'Europe/Bratislava': 3,\n",
              " 'Europe/Brussels': 4,\n",
              " 'Europe/Bucharest': 4,\n",
              " 'Europe/Budapest': 5,\n",
              " 'Europe/Copenhagen': 5,\n",
              " 'Europe/Dublin': 3,\n",
              " 'Europe/Helsinki': 10,\n",
              " 'Europe/Lisbon': 8,\n",
              " 'Europe/Ljubljana': 1,\n",
              " 'Europe/London': 74,\n",
              " 'Europe/Madrid': 35,\n",
              " 'Europe/Malta': 2,\n",
              " 'Europe/Moscow': 10,\n",
              " 'Europe/Oslo': 10,\n",
              " 'Europe/Paris': 14,\n",
              " 'Europe/Prague': 10,\n",
              " 'Europe/Riga': 2,\n",
              " 'Europe/Rome': 27,\n",
              " 'Europe/Skopje': 1,\n",
              " 'Europe/Sofia': 1,\n",
              " 'Europe/Stockholm': 14,\n",
              " 'Europe/Uzhgorod': 1,\n",
              " 'Europe/Vienna': 6,\n",
              " 'Europe/Vilnius': 2,\n",
              " 'Europe/Volgograd': 1,\n",
              " 'Europe/Warsaw': 16,\n",
              " 'Europe/Zurich': 4,\n",
              " 'Pacific/Auckland': 11,\n",
              " 'Pacific/Honolulu': 36}"
            ]
          },
          "metadata": {}
        }
      ],
      "execution_count": 19,
      "metadata": {
        "collapsed": false,
        "outputHidden": false,
        "inputHidden": false
      }
    },
    {
      "cell_type": "code",
      "source": [
        "def top_counts(count_dict, n=10):\n",
        "    value_key_pairs = [(count, tz) for tz, count in count_dict.items()]\n",
        "    value_key_pairs.sort()\n",
        "    return value_key_pairs[-n:]"
      ],
      "outputs": [],
      "execution_count": 17,
      "metadata": {
        "collapsed": false,
        "outputHidden": false,
        "inputHidden": false
      }
    },
    {
      "cell_type": "code",
      "source": [
        "# a, b = list(counts.items())[1]"
      ],
      "outputs": [],
      "execution_count": 31,
      "metadata": {
        "collapsed": false,
        "outputHidden": false,
        "inputHidden": false
      }
    },
    {
      "cell_type": "code",
      "source": [
        "# a, b #第一个元素是时区，第二个元素为计数"
      ],
      "outputs": [
        {
          "output_type": "execute_result",
          "execution_count": 34,
          "data": {
            "text/plain": [
              "('Australia/NSW', 6)"
            ]
          },
          "metadata": {}
        }
      ],
      "execution_count": 34,
      "metadata": {
        "collapsed": false,
        "outputHidden": false,
        "inputHidden": false
      }
    },
    {
      "cell_type": "code",
      "source": [
        "from collections import Counter\n",
        "counts = Counter(time_zones)\n",
        "counts.most_common(10)"
      ],
      "outputs": [
        {
          "output_type": "execute_result",
          "execution_count": 35,
          "data": {
            "text/plain": [
              "[('America/New_York', 1251),\n",
              " ('', 521),\n",
              " ('America/Chicago', 400),\n",
              " ('America/Los_Angeles', 382),\n",
              " ('America/Denver', 191),\n",
              " ('Europe/London', 74),\n",
              " ('Asia/Tokyo', 37),\n",
              " ('Pacific/Honolulu', 36),\n",
              " ('Europe/Madrid', 35),\n",
              " ('America/Sao_Paulo', 33)]"
            ]
          },
          "metadata": {}
        }
      ],
      "execution_count": 35,
      "metadata": {
        "collapsed": false,
        "outputHidden": false,
        "inputHidden": false
      }
    },
    {
      "cell_type": "markdown",
      "source": [
        "2. 使用pandas进行时区计数"
      ],
      "metadata": {}
    },
    {
      "cell_type": "code",
      "source": [
        "frame = pd.DataFrame(records)\n",
        "frame.info()"
      ],
      "outputs": [
        {
          "output_type": "stream",
          "name": "stdout",
          "text": [
            "<class 'pandas.core.frame.DataFrame'>\n",
            "RangeIndex: 3560 entries, 0 to 3559\n",
            "Data columns (total 18 columns):\n",
            "_heartbeat_    120 non-null float64\n",
            "a              3440 non-null object\n",
            "al             3094 non-null object\n",
            "c              2919 non-null object\n",
            "cy             2919 non-null object\n",
            "g              3440 non-null object\n",
            "gr             2919 non-null object\n",
            "h              3440 non-null object\n",
            "hc             3440 non-null float64\n",
            "hh             3440 non-null object\n",
            "kw             93 non-null object\n",
            "l              3440 non-null object\n",
            "ll             2919 non-null object\n",
            "nk             3440 non-null float64\n",
            "r              3440 non-null object\n",
            "t              3440 non-null float64\n",
            "tz             3440 non-null object\n",
            "u              3440 non-null object\n",
            "dtypes: float64(4), object(14)\n",
            "memory usage: 500.7+ KB\n"
          ]
        }
      ],
      "execution_count": 36,
      "metadata": {
        "collapsed": false,
        "outputHidden": false,
        "inputHidden": false
      }
    },
    {
      "cell_type": "code",
      "source": [
        "frame['tz'][:10]"
      ],
      "outputs": [
        {
          "output_type": "execute_result",
          "execution_count": 37,
          "data": {
            "text/plain": [
              "0     America/New_York\n",
              "1       America/Denver\n",
              "2     America/New_York\n",
              "3    America/Sao_Paulo\n",
              "4     America/New_York\n",
              "5     America/New_York\n",
              "6        Europe/Warsaw\n",
              "7                     \n",
              "8                     \n",
              "9                     \n",
              "Name: tz, dtype: object"
            ]
          },
          "metadata": {}
        }
      ],
      "execution_count": 37,
      "metadata": {
        "collapsed": false,
        "outputHidden": false,
        "inputHidden": false
      }
    },
    {
      "cell_type": "code",
      "source": [
        "tz_counts = frame['tz'].value_counts()"
      ],
      "outputs": [],
      "execution_count": 38,
      "metadata": {
        "collapsed": false,
        "outputHidden": false,
        "inputHidden": false
      }
    },
    {
      "cell_type": "code",
      "source": [
        "tz_counts[:10]"
      ],
      "outputs": [
        {
          "output_type": "execute_result",
          "execution_count": 39,
          "data": {
            "text/plain": [
              "America/New_York       1251\n",
              "                        521\n",
              "America/Chicago         400\n",
              "America/Los_Angeles     382\n",
              "America/Denver          191\n",
              "Europe/London            74\n",
              "Asia/Tokyo               37\n",
              "Pacific/Honolulu         36\n",
              "Europe/Madrid            35\n",
              "America/Sao_Paulo        33\n",
              "Name: tz, dtype: int64"
            ]
          },
          "metadata": {}
        }
      ],
      "execution_count": 39,
      "metadata": {
        "collapsed": false,
        "outputHidden": false,
        "inputHidden": false
      }
    },
    {
      "cell_type": "code",
      "source": [
        "clean_tz = frame['tz'].fillna('Missing')\n",
        "clean_tz[clean_tz == ''] = 'Unknown'"
      ],
      "outputs": [],
      "execution_count": 40,
      "metadata": {
        "collapsed": false,
        "outputHidden": false,
        "inputHidden": false
      }
    },
    {
      "cell_type": "code",
      "source": [
        "tz_counts = clean_tz.value_counts()\n",
        "tz_counts[:10]"
      ],
      "outputs": [
        {
          "output_type": "execute_result",
          "execution_count": 41,
          "data": {
            "text/plain": [
              "America/New_York       1251\n",
              "Unknown                 521\n",
              "America/Chicago         400\n",
              "America/Los_Angeles     382\n",
              "America/Denver          191\n",
              "Missing                 120\n",
              "Europe/London            74\n",
              "Asia/Tokyo               37\n",
              "Pacific/Honolulu         36\n",
              "Europe/Madrid            35\n",
              "Name: tz, dtype: int64"
            ]
          },
          "metadata": {}
        }
      ],
      "execution_count": 41,
      "metadata": {
        "collapsed": false,
        "outputHidden": false,
        "inputHidden": false
      }
    },
    {
      "cell_type": "code",
      "source": [
        "subset = tz_counts[:10]\n",
        "sns.barplot(y=subset.index, x=subset.values)"
      ],
      "outputs": [
        {
          "output_type": "execute_result",
          "execution_count": 42,
          "data": {
            "text/plain": [
              "<matplotlib.axes._subplots.AxesSubplot at 0x2475102d128>"
            ]
          },
          "metadata": {}
        },
        {
          "output_type": "display_data",
          "data": {
            "text/plain": [
              "<matplotlib.figure.Figure at 0x2475102d2b0>"
            ],
            "image/png": "[encoded data removed]"
          },
          "metadata": {}
        }
      ],
      "execution_count": 42,
      "metadata": {
        "collapsed": false,
        "outputHidden": false,
        "inputHidden": false
      }
    },
    {
      "cell_type": "code",
      "source": [
        "# a列包含了执行网址缩短的浏览器、设备或应用的信息；\n",
        "\n",
        "frame['a'][1]"
      ],
      "outputs": [
        {
          "output_type": "execute_result",
          "execution_count": 43,
          "data": {
            "text/plain": [
              "'GoogleMaps/RochesterNY'"
            ]
          },
          "metadata": {}
        }
      ],
      "execution_count": 43,
      "metadata": {
        "collapsed": false,
        "outputHidden": false,
        "inputHidden": false
      }
    },
    {
      "cell_type": "code",
      "source": [
        "frame['a'][50]"
      ],
      "outputs": [
        {
          "output_type": "execute_result",
          "execution_count": 44,
          "data": {
            "text/plain": [
              "'Mozilla/5.0 (Windows NT 5.1; rv:10.0.2) Gecko/20100101 Firefox/10.0.2'"
            ]
          },
          "metadata": {}
        }
      ],
      "execution_count": 44,
      "metadata": {
        "collapsed": false,
        "outputHidden": false,
        "inputHidden": false
      }
    },
    {
      "cell_type": "code",
      "source": [
        "frame['a'][51][:50] #代理信息"
      ],
      "outputs": [
        {
          "output_type": "execute_result",
          "execution_count": 46,
          "data": {
            "text/plain": [
              "'Mozilla/5.0 (Linux; U; Android 2.2.2; en-us; LG-P9'"
            ]
          },
          "metadata": {}
        }
      ],
      "execution_count": 46,
      "metadata": {
        "collapsed": false,
        "outputHidden": false,
        "inputHidden": false
      }
    },
    {
      "cell_type": "code",
      "source": [
        "results = pd.Series([x.split()[0] for x in frame.a.dropna()])"
      ],
      "outputs": [],
      "execution_count": 48,
      "metadata": {
        "collapsed": false,
        "outputHidden": false,
        "inputHidden": false
      }
    },
    {
      "cell_type": "code",
      "source": [
        "results.value_counts()[:8]"
      ],
      "outputs": [
        {
          "output_type": "execute_result",
          "execution_count": 49,
          "data": {
            "text/plain": [
              "Mozilla/5.0                 2594\n",
              "Mozilla/4.0                  601\n",
              "GoogleMaps/RochesterNY       121\n",
              "Opera/9.80                    34\n",
              "TEST_INTERNET_AGENT           24\n",
              "GoogleProducer                21\n",
              "Mozilla/6.0                    5\n",
              "BlackBerry8520/5.0.0.681       4\n",
              "dtype: int64"
            ]
          },
          "metadata": {}
        }
      ],
      "execution_count": 49,
      "metadata": {
        "collapsed": false,
        "outputHidden": false,
        "inputHidden": false
      }
    },
    {
      "cell_type": "code",
      "source": [
        "cframe = frame[frame.a.notnull()]\n",
        "\n",
        "# 计算每一个代表每一行是否是Windows值\n",
        "\n",
        "cframe['os'] = np.where(cframe['a'].str.contains('Windows'), 'Windows', 'Not Windows')\n",
        "\n",
        "cframe['os'][:5]"
      ],
      "outputs": [
        {
          "output_type": "stream",
          "name": "stderr",
          "text": [
            "C:\\Program Files\\Python35\\lib\\site-packages\\ipykernel\\__main__.py:5: SettingWithCopyWarning: \n",
            "A value is trying to be set on a copy of a slice from a DataFrame.\n",
            "Try using .loc[row_indexer,col_indexer] = value instead\n",
            "\n",
            "See the caveats in the documentation: http://pandas.pydata.org/pandas-docs/stable/indexing.html#indexing-view-versus-copy\n"
          ]
        },
        {
          "output_type": "execute_result",
          "execution_count": 50,
          "data": {
            "text/plain": [
              "0        Windows\n",
              "1    Not Windows\n",
              "2        Windows\n",
              "3    Not Windows\n",
              "4        Windows\n",
              "Name: os, dtype: object"
            ]
          },
          "metadata": {}
        }
      ],
      "execution_count": 50,
      "metadata": {
        "collapsed": false,
        "outputHidden": false,
        "inputHidden": false
      }
    },
    {
      "cell_type": "code",
      "source": [
        "by_tz_os = cframe.groupby(['tz', 'os'])"
      ],
      "outputs": [],
      "execution_count": 51,
      "metadata": {
        "collapsed": false,
        "outputHidden": false,
        "inputHidden": false
      }
    },
    {
      "cell_type": "code",
      "source": [
        "# 与value_counts函数类似，分组计数可以使用size计算\n",
        "\n",
        "agg_counts = by_tz_os.size().unstack().fillna(0)\n",
        "\n",
        "# unstack后tz为行，os为列"
      ],
      "outputs": [],
      "execution_count": 79,
      "metadata": {
        "collapsed": false,
        "outputHidden": false,
        "inputHidden": false
      }
    },
    {
      "cell_type": "code",
      "source": [
        "agg_counts[:10]"
      ],
      "outputs": [
        {
          "output_type": "execute_result",
          "execution_count": 68,
          "data": {
            "text/plain": [
              "os                              Not Windows  Windows\n",
              "tz                                                  \n",
              "                                      245.0    276.0\n",
              "Africa/Cairo                            0.0      3.0\n",
              "Africa/Casablanca                       0.0      1.0\n",
              "Africa/Ceuta                            0.0      2.0\n",
              "Africa/Johannesburg                     0.0      1.0\n",
              "Africa/Lusaka                           0.0      1.0\n",
              "America/Anchorage                       4.0      1.0\n",
              "America/Argentina/Buenos_Aires          1.0      0.0\n",
              "America/Argentina/Cordoba               0.0      1.0\n",
              "America/Argentina/Mendoza               0.0      1.0"
            ],
            "text/html": [
              "<div>\n",
              "<table border=\"1\" class=\"dataframe\">\n",
              "  <thead>\n",
              "    <tr style=\"text-align: right;\">\n",
              "      <th>os</th>\n",
              "      <th>Not Windows</th>\n",
              "      <th>Windows</th>\n",
              "    </tr>\n",
              "    <tr>\n",
              "      <th>tz</th>\n",
              "      <th></th>\n",
              "      <th></th>\n",
              "    </tr>\n",
              "  </thead>\n",
              "  <tbody>\n",
              "    <tr>\n",
              "      <th></th>\n",
              "      <td>245.0</td>\n",
              "      <td>276.0</td>\n",
              "    </tr>\n",
              "    <tr>\n",
              "      <th>Africa/Cairo</th>\n",
              "      <td>0.0</td>\n",
              "      <td>3.0</td>\n",
              "    </tr>\n",
              "    <tr>\n",
              "      <th>Africa/Casablanca</th>\n",
              "      <td>0.0</td>\n",
              "      <td>1.0</td>\n",
              "    </tr>\n",
              "    <tr>\n",
              "      <th>Africa/Ceuta</th>\n",
              "      <td>0.0</td>\n",
              "      <td>2.0</td>\n",
              "    </tr>\n",
              "    <tr>\n",
              "      <th>Africa/Johannesburg</th>\n",
              "      <td>0.0</td>\n",
              "      <td>1.0</td>\n",
              "    </tr>\n",
              "    <tr>\n",
              "      <th>Africa/Lusaka</th>\n",
              "      <td>0.0</td>\n",
              "      <td>1.0</td>\n",
              "    </tr>\n",
              "    <tr>\n",
              "      <th>America/Anchorage</th>\n",
              "      <td>4.0</td>\n",
              "      <td>1.0</td>\n",
              "    </tr>\n",
              "    <tr>\n",
              "      <th>America/Argentina/Buenos_Aires</th>\n",
              "      <td>1.0</td>\n",
              "      <td>0.0</td>\n",
              "    </tr>\n",
              "    <tr>\n",
              "      <th>America/Argentina/Cordoba</th>\n",
              "      <td>0.0</td>\n",
              "      <td>1.0</td>\n",
              "    </tr>\n",
              "    <tr>\n",
              "      <th>America/Argentina/Mendoza</th>\n",
              "      <td>0.0</td>\n",
              "      <td>1.0</td>\n",
              "    </tr>\n",
              "  </tbody>\n",
              "</table>\n",
              "</div>"
            ]
          },
          "metadata": {}
        }
      ],
      "execution_count": 68,
      "metadata": {
        "collapsed": false,
        "outputHidden": false,
        "inputHidden": false
      }
    },
    {
      "cell_type": "code",
      "source": [
        "# 最后为了选出总体计数最高的时区，在agg_counts中根据行的计数够早了一个间接索引数组。"
      ],
      "outputs": [],
      "execution_count": 69,
      "metadata": {
        "collapsed": false,
        "outputHidden": false,
        "inputHidden": false
      }
    },
    {
      "cell_type": "code",
      "source": [
        "# 用于升序排列.argsort()，使用列数据对df进行重排\n",
        "\n",
        "indexer = agg_counts.sum(1).argsort()\n",
        "indexer[:10]"
      ],
      "outputs": [
        {
          "output_type": "execute_result",
          "execution_count": 71,
          "data": {
            "text/plain": [
              "tz\n",
              "                                  24\n",
              "Africa/Cairo                      20\n",
              "Africa/Casablanca                 21\n",
              "Africa/Ceuta                      92\n",
              "Africa/Johannesburg               87\n",
              "Africa/Lusaka                     53\n",
              "America/Anchorage                 54\n",
              "America/Argentina/Buenos_Aires    57\n",
              "America/Argentina/Cordoba         26\n",
              "America/Argentina/Mendoza         55\n",
              "dtype: int64"
            ]
          },
          "metadata": {}
        }
      ],
      "execution_count": 71,
      "metadata": {
        "collapsed": false,
        "outputHidden": false,
        "inputHidden": false
      }
    },
    {
      "cell_type": "code",
      "source": [
        "#使用take方法按照顺序选出行，之后再对最后10行进行切片（最大的十个值）\n",
        "\n",
        "count_subset = agg_counts.take(indexer[-10:])\n",
        "count_subset"
      ],
      "outputs": [
        {
          "output_type": "execute_result",
          "execution_count": 73,
          "data": {
            "text/plain": [
              "os                   Not Windows  Windows\n",
              "tz                                       \n",
              "America/Sao_Paulo           13.0     20.0\n",
              "Europe/Madrid               16.0     19.0\n",
              "Pacific/Honolulu             0.0     36.0\n",
              "Asia/Tokyo                   2.0     35.0\n",
              "Europe/London               43.0     31.0\n",
              "America/Denver             132.0     59.0\n",
              "America/Los_Angeles        130.0    252.0\n",
              "America/Chicago            115.0    285.0\n",
              "                           245.0    276.0\n",
              "America/New_York           339.0    912.0"
            ],
            "text/html": [
              "<div>\n",
              "<table border=\"1\" class=\"dataframe\">\n",
              "  <thead>\n",
              "    <tr style=\"text-align: right;\">\n",
              "      <th>os</th>\n",
              "      <th>Not Windows</th>\n",
              "      <th>Windows</th>\n",
              "    </tr>\n",
              "    <tr>\n",
              "      <th>tz</th>\n",
              "      <th></th>\n",
              "      <th></th>\n",
              "    </tr>\n",
              "  </thead>\n",
              "  <tbody>\n",
              "    <tr>\n",
              "      <th>America/Sao_Paulo</th>\n",
              "      <td>13.0</td>\n",
              "      <td>20.0</td>\n",
              "    </tr>\n",
              "    <tr>\n",
              "      <th>Europe/Madrid</th>\n",
              "      <td>16.0</td>\n",
              "      <td>19.0</td>\n",
              "    </tr>\n",
              "    <tr>\n",
              "      <th>Pacific/Honolulu</th>\n",
              "      <td>0.0</td>\n",
              "      <td>36.0</td>\n",
              "    </tr>\n",
              "    <tr>\n",
              "      <th>Asia/Tokyo</th>\n",
              "      <td>2.0</td>\n",
              "      <td>35.0</td>\n",
              "    </tr>\n",
              "    <tr>\n",
              "      <th>Europe/London</th>\n",
              "      <td>43.0</td>\n",
              "      <td>31.0</td>\n",
              "    </tr>\n",
              "    <tr>\n",
              "      <th>America/Denver</th>\n",
              "      <td>132.0</td>\n",
              "      <td>59.0</td>\n",
              "    </tr>\n",
              "    <tr>\n",
              "      <th>America/Los_Angeles</th>\n",
              "      <td>130.0</td>\n",
              "      <td>252.0</td>\n",
              "    </tr>\n",
              "    <tr>\n",
              "      <th>America/Chicago</th>\n",
              "      <td>115.0</td>\n",
              "      <td>285.0</td>\n",
              "    </tr>\n",
              "    <tr>\n",
              "      <th></th>\n",
              "      <td>245.0</td>\n",
              "      <td>276.0</td>\n",
              "    </tr>\n",
              "    <tr>\n",
              "      <th>America/New_York</th>\n",
              "      <td>339.0</td>\n",
              "      <td>912.0</td>\n",
              "    </tr>\n",
              "  </tbody>\n",
              "</table>\n",
              "</div>"
            ]
          },
          "metadata": {}
        }
      ],
      "execution_count": 73,
      "metadata": {
        "collapsed": false,
        "outputHidden": false,
        "inputHidden": false
      }
    },
    {
      "cell_type": "markdown",
      "source": [
        "pandas中有个便捷的方法叫做nlargest，可以做相同的事情"
      ],
      "metadata": {}
    },
    {
      "cell_type": "code",
      "source": [
        "agg_counts.sum(1).nlargest(10)"
      ],
      "outputs": [
        {
          "output_type": "execute_result",
          "execution_count": 74,
          "data": {
            "text/plain": [
              "tz\n",
              "America/New_York       1251.0\n",
              "                        521.0\n",
              "America/Chicago         400.0\n",
              "America/Los_Angeles     382.0\n",
              "America/Denver          191.0\n",
              "Europe/London            74.0\n",
              "Asia/Tokyo               37.0\n",
              "Pacific/Honolulu         36.0\n",
              "Europe/Madrid            35.0\n",
              "America/Sao_Paulo        33.0\n",
              "dtype: float64"
            ]
          },
          "metadata": {}
        }
      ],
      "execution_count": 74,
      "metadata": {
        "collapsed": false,
        "outputHidden": false,
        "inputHidden": false
      }
    },
    {
      "cell_type": "code",
      "source": [
        "agg_counts.sum(1).head()"
      ],
      "outputs": [
        {
          "output_type": "execute_result",
          "execution_count": 76,
          "data": {
            "text/plain": [
              "tz\n",
              "                       521.0\n",
              "Africa/Cairo             3.0\n",
              "Africa/Casablanca        1.0\n",
              "Africa/Ceuta             2.0\n",
              "Africa/Johannesburg      1.0\n",
              "dtype: float64"
            ]
          },
          "metadata": {}
        }
      ],
      "execution_count": 76,
      "metadata": {
        "collapsed": false,
        "outputHidden": false,
        "inputHidden": false
      }
    },
    {
      "cell_type": "code",
      "source": [
        "# 对绘图数据进行重新排列\n",
        "\n",
        "count_subset = count_subset.stack()\n",
        "count_subset[:10]"
      ],
      "outputs": [
        {
          "output_type": "execute_result",
          "execution_count": 80,
          "data": {
            "text/plain": [
              "tz                 os         \n",
              "America/Sao_Paulo  Not Windows    13.0\n",
              "                   Windows        20.0\n",
              "Europe/Madrid      Not Windows    16.0\n",
              "                   Windows        19.0\n",
              "Pacific/Honolulu   Not Windows     0.0\n",
              "                   Windows        36.0\n",
              "Asia/Tokyo         Not Windows     2.0\n",
              "                   Windows        35.0\n",
              "Europe/London      Not Windows    43.0\n",
              "                   Windows        31.0\n",
              "dtype: float64"
            ]
          },
          "metadata": {}
        }
      ],
      "execution_count": 80,
      "metadata": {
        "collapsed": false,
        "outputHidden": false,
        "inputHidden": false
      }
    },
    {
      "cell_type": "code",
      "source": [
        "count_subset.name='total'\n",
        "count_subset.head()"
      ],
      "outputs": [
        {
          "output_type": "execute_result",
          "execution_count": 81,
          "data": {
            "text/plain": [
              "tz                 os         \n",
              "America/Sao_Paulo  Not Windows    13.0\n",
              "                   Windows        20.0\n",
              "Europe/Madrid      Not Windows    16.0\n",
              "                   Windows        19.0\n",
              "Pacific/Honolulu   Not Windows     0.0\n",
              "Name: total, dtype: float64"
            ]
          },
          "metadata": {}
        }
      ],
      "execution_count": 81,
      "metadata": {
        "collapsed": false,
        "outputHidden": false,
        "inputHidden": false
      }
    },
    {
      "cell_type": "code",
      "source": [
        "count_subset.index"
      ],
      "outputs": [
        {
          "output_type": "execute_result",
          "execution_count": 83,
          "data": {
            "text/plain": [
              "MultiIndex(levels=[['America/Sao_Paulo', 'Europe/Madrid', 'Pacific/Honolulu', 'Asia/Tokyo', 'Europe/London', 'America/Denver', 'America/Los_Angeles', 'America/Chicago', '', 'America/New_York'], ['Not Windows', 'Windows']],\n",
              "           labels=[[0, 0, 1, 1, 2, 2, 3, 3, 4, 4, 5, 5, 6, 6, 7, 7, 8, 8, 9, 9], [0, 1, 0, 1, 0, 1, 0, 1, 0, 1, 0, 1, 0, 1, 0, 1, 0, 1, 0, 1]],\n",
              "           names=['tz', 'os'])"
            ]
          },
          "metadata": {}
        }
      ],
      "execution_count": 83,
      "metadata": {
        "collapsed": false,
        "outputHidden": false,
        "inputHidden": false
      }
    },
    {
      "cell_type": "code",
      "source": [
        "count_subset = count_subset.reset_index()\n",
        "count_subset[:10]"
      ],
      "outputs": [
        {
          "output_type": "execute_result",
          "execution_count": 84,
          "data": {
            "text/plain": [
              "                  tz           os  total\n",
              "0  America/Sao_Paulo  Not Windows   13.0\n",
              "1  America/Sao_Paulo      Windows   20.0\n",
              "2      Europe/Madrid  Not Windows   16.0\n",
              "3      Europe/Madrid      Windows   19.0\n",
              "4   Pacific/Honolulu  Not Windows    0.0\n",
              "5   Pacific/Honolulu      Windows   36.0\n",
              "6         Asia/Tokyo  Not Windows    2.0\n",
              "7         Asia/Tokyo      Windows   35.0\n",
              "8      Europe/London  Not Windows   43.0\n",
              "9      Europe/London      Windows   31.0"
            ],
            "text/html": [
              "<div>\n",
              "<table border=\"1\" class=\"dataframe\">\n",
              "  <thead>\n",
              "    <tr style=\"text-align: right;\">\n",
              "      <th></th>\n",
              "      <th>tz</th>\n",
              "      <th>os</th>\n",
              "      <th>total</th>\n",
              "    </tr>\n",
              "  </thead>\n",
              "  <tbody>\n",
              "    <tr>\n",
              "      <th>0</th>\n",
              "      <td>America/Sao_Paulo</td>\n",
              "      <td>Not Windows</td>\n",
              "      <td>13.0</td>\n",
              "    </tr>\n",
              "    <tr>\n",
              "      <th>1</th>\n",
              "      <td>America/Sao_Paulo</td>\n",
              "      <td>Windows</td>\n",
              "      <td>20.0</td>\n",
              "    </tr>\n",
              "    <tr>\n",
              "      <th>2</th>\n",
              "      <td>Europe/Madrid</td>\n",
              "      <td>Not Windows</td>\n",
              "      <td>16.0</td>\n",
              "    </tr>\n",
              "    <tr>\n",
              "      <th>3</th>\n",
              "      <td>Europe/Madrid</td>\n",
              "      <td>Windows</td>\n",
              "      <td>19.0</td>\n",
              "    </tr>\n",
              "    <tr>\n",
              "      <th>4</th>\n",
              "      <td>Pacific/Honolulu</td>\n",
              "      <td>Not Windows</td>\n",
              "      <td>0.0</td>\n",
              "    </tr>\n",
              "    <tr>\n",
              "      <th>5</th>\n",
              "      <td>Pacific/Honolulu</td>\n",
              "      <td>Windows</td>\n",
              "      <td>36.0</td>\n",
              "    </tr>\n",
              "    <tr>\n",
              "      <th>6</th>\n",
              "      <td>Asia/Tokyo</td>\n",
              "      <td>Not Windows</td>\n",
              "      <td>2.0</td>\n",
              "    </tr>\n",
              "    <tr>\n",
              "      <th>7</th>\n",
              "      <td>Asia/Tokyo</td>\n",
              "      <td>Windows</td>\n",
              "      <td>35.0</td>\n",
              "    </tr>\n",
              "    <tr>\n",
              "      <th>8</th>\n",
              "      <td>Europe/London</td>\n",
              "      <td>Not Windows</td>\n",
              "      <td>43.0</td>\n",
              "    </tr>\n",
              "    <tr>\n",
              "      <th>9</th>\n",
              "      <td>Europe/London</td>\n",
              "      <td>Windows</td>\n",
              "      <td>31.0</td>\n",
              "    </tr>\n",
              "  </tbody>\n",
              "</table>\n",
              "</div>"
            ]
          },
          "metadata": {}
        }
      ],
      "execution_count": 84,
      "metadata": {
        "collapsed": false,
        "outputHidden": false,
        "inputHidden": false
      }
    },
    {
      "cell_type": "code",
      "source": [
        "sns.barplot(x='total', y='tz', hue='os', data=count_subset)"
      ],
      "outputs": [
        {
          "output_type": "execute_result",
          "execution_count": 85,
          "data": {
            "text/plain": [
              "<matplotlib.axes._subplots.AxesSubplot at 0x24753140f98>"
            ]
          },
          "metadata": {}
        },
        {
          "output_type": "display_data",
          "data": {
            "text/plain": [
              "<matplotlib.figure.Figure at 0x24753380b38>"
            ],
            "image/png": "[encoded data removed]"
          },
          "metadata": {}
        }
      ],
      "execution_count": 85,
      "metadata": {
        "collapsed": false,
        "outputHidden": false,
        "inputHidden": false
      }
    },
    {
      "cell_type": "code",
      "source": [
        "# 将组百分比归一化为1\n",
        "\n",
        "def norm_total(group):\n",
        "    group['normed_total'] = group.total / group.total.sum()\n",
        "    return group\n",
        "\n",
        "result = count_subset.groupby('tz').apply(norm_total)"
      ],
      "outputs": [],
      "execution_count": 87,
      "metadata": {
        "collapsed": false,
        "outputHidden": false,
        "inputHidden": false
      }
    },
    {
      "cell_type": "code",
      "source": [
        "sns.barplot(x='normed_total', y='tz', hue='os', data=result)\n",
        "plt.legend(loc='best')\n",
        "\n",
        "# windows与非w用户最高计数时区百分比"
      ],
      "outputs": [
        {
          "output_type": "execute_result",
          "execution_count": 92,
          "data": {
            "text/plain": [
              "<matplotlib.legend.Legend at 0x2475480c630>"
            ]
          },
          "metadata": {}
        },
        {
          "output_type": "display_data",
          "data": {
            "text/plain": [
              "<matplotlib.figure.Figure at 0x2475480c828>"
            ],
            "image/png": "[encoded data removed]"
          },
          "metadata": {}
        }
      ],
      "execution_count": 92,
      "metadata": {
        "collapsed": false,
        "outputHidden": false,
        "inputHidden": false
      }
    },
    {
      "cell_type": "code",
      "source": [
        "#利用groupby更高效地计算归一化值\n",
        "\n",
        "g = count_subset.groupby('tz')\n",
        "results2 = count_subset.total / g.total.transform('sum')"
      ],
      "outputs": [],
      "execution_count": 98,
      "metadata": {
        "collapsed": false,
        "outputHidden": false,
        "inputHidden": false
      }
    },
    {
      "cell_type": "code",
      "source": [
        "results2.head()"
      ],
      "outputs": [
        {
          "output_type": "execute_result",
          "execution_count": 99,
          "data": {
            "text/plain": [
              "0    0.393939\n",
              "1    0.606061\n",
              "2    0.457143\n",
              "3    0.542857\n",
              "4    0.000000\n",
              "Name: total, dtype: float64"
            ]
          },
          "metadata": {}
        }
      ],
      "execution_count": 99,
      "metadata": {
        "collapsed": false,
        "outputHidden": false,
        "inputHidden": false
      }
    },
    {
      "cell_type": "code",
      "source": [],
      "outputs": [],
      "execution_count": null,
      "metadata": {
        "collapsed": false,
        "outputHidden": false,
        "inputHidden": false
      }
    }
  ],
  "metadata": {
    "kernel_info": {
      "name": "python3"
    },
    "language_info": {
      "file_extension": ".py",
      "mimetype": "text/x-python",
      "name": "python",
      "nbconvert_exporter": "python",
      "version": "3.5.2",
      "pygments_lexer": "ipython3",
      "codemirror_mode": {
        "version": 3,
        "name": "ipython"
      }
    },
    "kernelspec": {
      "name": "python3",
      "language": "python",
      "display_name": "Python 3"
    },
    "nteract": {
      "version": "0.14.0"
    }
  },
  "nbformat": 4,
  "nbformat_minor": 0
}