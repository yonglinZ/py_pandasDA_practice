{
  "cells": [
    {
      "cell_type": "markdown",
      "source": [
        "\"\"\"\n",
        "\n",
        "practices for pandas and data analyzing(DA)\n",
        "\n",
        "Built-in data structures\n",
        "\n",
        "Functions\n",
        "\n",
        "Files IO\n",
        "\n",
        "\"\"\""
      ],
      "metadata": {}
    },
    {
      "cell_type": "code",
      "source": [
        "from IPython.core.interactiveshell import InteractiveShell\n",
        "InteractiveShell.ast_note_interactivity = \"all\"\n",
        "%matplotlib inline"
      ],
      "outputs": [],
      "execution_count": 4,
      "metadata": {
        "collapsed": false
      }
    },
    {
      "cell_type": "markdown",
      "source": [
        "1. Tuple"
      ],
      "metadata": {}
    },
    {
      "cell_type": "code",
      "source": [
        "tup = 4, 5, 6"
      ],
      "outputs": [],
      "execution_count": 5,
      "metadata": {
        "collapsed": false,
        "outputHidden": false,
        "inputHidden": false
      }
    },
    {
      "cell_type": "code",
      "source": [
        "tup"
      ],
      "outputs": [
        {
          "output_type": "execute_result",
          "execution_count": 6,
          "data": {
            "text/plain": [
              "(4, 5, 6)"
            ]
          },
          "metadata": {}
        }
      ],
      "execution_count": 6,
      "metadata": {
        "collapsed": false,
        "outputHidden": false,
        "inputHidden": false
      }
    },
    {
      "cell_type": "code",
      "source": [
        "nested_tup = (4, 5, 6), (7, 8)"
      ],
      "outputs": [],
      "execution_count": 7,
      "metadata": {
        "collapsed": false,
        "outputHidden": false,
        "inputHidden": false
      }
    },
    {
      "cell_type": "code",
      "source": [
        "nested_tup"
      ],
      "outputs": [
        {
          "output_type": "execute_result",
          "execution_count": 8,
          "data": {
            "text/plain": [
              "((4, 5, 6), (7, 8))"
            ]
          },
          "metadata": {}
        }
      ],
      "execution_count": 8,
      "metadata": {
        "collapsed": false,
        "outputHidden": false,
        "inputHidden": false
      }
    },
    {
      "cell_type": "code",
      "source": [
        "tup0 = tuple([4, 0, 2])\n",
        "tup = tuple('string')\n",
        "print(tup0,tup)\n",
        "print(tup0[0])"
      ],
      "outputs": [
        {
          "output_type": "stream",
          "name": "stdout",
          "text": [
            "(4, 0, 2) ('s', 't', 'r', 'i', 'n', 'g')\n",
            "4\n"
          ]
        }
      ],
      "execution_count": 12,
      "metadata": {
        "collapsed": false,
        "outputHidden": false,
        "inputHidden": false
      }
    },
    {
      "cell_type": "code",
      "source": [
        "tup = tuple(['foo', [1, 2], True])\n",
        "tup"
      ],
      "outputs": [
        {
          "output_type": "execute_result",
          "execution_count": 13,
          "data": {
            "text/plain": [
              "('foo', [1, 2], True)"
            ]
          },
          "metadata": {}
        }
      ],
      "execution_count": 13,
      "metadata": {
        "collapsed": false,
        "outputHidden": false,
        "inputHidden": false
      }
    },
    {
      "cell_type": "code",
      "source": [
        "tup[1].append(3)\n",
        "tup[1].extend([123,4556])"
      ],
      "outputs": [],
      "execution_count": 14,
      "metadata": {
        "collapsed": false,
        "outputHidden": false,
        "inputHidden": false
      }
    },
    {
      "cell_type": "code",
      "source": [
        "tup"
      ],
      "outputs": [
        {
          "output_type": "execute_result",
          "execution_count": 15,
          "data": {
            "text/plain": [
              "('foo', [1, 2, 3, 123, 4556], True)"
            ]
          },
          "metadata": {}
        }
      ],
      "execution_count": 15,
      "metadata": {
        "collapsed": false,
        "outputHidden": false,
        "inputHidden": false
      }
    },
    {
      "cell_type": "markdown",
      "source": [
        "rest用法"
      ],
      "metadata": {}
    },
    {
      "cell_type": "code",
      "source": [
        "values = 1, 2, 3, 4, 5\n",
        "a, b , *rest = values"
      ],
      "outputs": [],
      "execution_count": 17,
      "metadata": {
        "collapsed": false,
        "outputHidden": false,
        "inputHidden": false
      }
    },
    {
      "cell_type": "code",
      "source": [
        "print(a, b, rest)"
      ],
      "outputs": [
        {
          "output_type": "stream",
          "name": "stdout",
          "text": [
            "1 2 [3, 4, 5]\n"
          ]
        }
      ],
      "execution_count": 19,
      "metadata": {
        "collapsed": false,
        "outputHidden": false,
        "inputHidden": false
      }
    },
    {
      "cell_type": "markdown",
      "source": [
        "2. LIST"
      ],
      "metadata": {}
    },
    {
      "cell_type": "code",
      "source": [
        "a_list = [2, 4, 6, None]\n",
        "tup = ('foo','bar','baz')\n",
        "b_list = list(tup)\n",
        "print(b_list)\n",
        "b_list[1] = 'peekaboo'\n",
        "print(b_list)"
      ],
      "outputs": [
        {
          "output_type": "stream",
          "name": "stdout",
          "text": [
            "['foo', 'bar', 'baz']\n",
            "['foo', 'peekaboo', 'baz']\n"
          ]
        }
      ],
      "execution_count": 21,
      "metadata": {
        "collapsed": false,
        "outputHidden": false,
        "inputHidden": false
      }
    },
    {
      "cell_type": "code",
      "source": [
        "gen = range(10)\n",
        "print(gen)\n",
        "gen = list(gen)\n",
        "print(gen)"
      ],
      "outputs": [
        {
          "output_type": "stream",
          "name": "stdout",
          "text": [
            "range(0, 10)\n",
            "[0, 1, 2, 3, 4, 5, 6, 7, 8, 9]\n"
          ]
        }
      ],
      "execution_count": 22,
      "metadata": {
        "collapsed": false,
        "outputHidden": false,
        "inputHidden": false
      }
    },
    {
      "cell_type": "markdown",
      "source": [
        "append, insert, pop, remove, extend, '+', sort, sorted\n",
        "\n",
        "\n",
        "查一下collections.deque 是一个双向列表"
      ],
      "metadata": {}
    },
    {
      "cell_type": "code",
      "source": [
        "b_list.append('dwarf')\n",
        "b_list"
      ],
      "outputs": [
        {
          "output_type": "execute_result",
          "execution_count": 23,
          "data": {
            "text/plain": [
              "['foo', 'peekaboo', 'baz', 'dwarf']"
            ]
          },
          "metadata": {}
        }
      ],
      "execution_count": 23,
      "metadata": {
        "collapsed": false,
        "outputHidden": false,
        "inputHidden": false
      }
    },
    {
      "cell_type": "code",
      "source": [
        "b_list.insert(1,'red')\n",
        "print(b_list)\n",
        "b_list.pop(3)\n",
        "print(b_list)\n",
        "b_list.remove('foo')\n",
        "print(b_list)"
      ],
      "outputs": [
        {
          "output_type": "stream",
          "name": "stdout",
          "text": [
            "['foo', 'red', 'red', 'red', 'peekaboo', 'baz', 'dwarf']\n",
            "['foo', 'red', 'red', 'peekaboo', 'baz', 'dwarf']\n",
            "['red', 'red', 'peekaboo', 'baz', 'dwarf']\n"
          ]
        }
      ],
      "execution_count": 26,
      "metadata": {
        "collapsed": false,
        "outputHidden": false,
        "inputHidden": false
      }
    },
    {
      "cell_type": "markdown",
      "source": [
        "二分查找bisect\n",
        "\n",
        "适用于已排序的序列，不然结果会错误"
      ],
      "metadata": {}
    },
    {
      "cell_type": "code",
      "source": [
        "import bisect"
      ],
      "outputs": [],
      "execution_count": 27,
      "metadata": {
        "collapsed": false,
        "outputHidden": false,
        "inputHidden": false
      }
    },
    {
      "cell_type": "code",
      "source": [
        "c = [1, 2, 2, 2, 2, 3, 4, 7]\n",
        "print(bisect.bisect(c, 2))\n",
        "print(bisect.bisect(c, 8))\n",
        "print(c)\n",
        "bisect.insort(c, 6)\n",
        "print(c)"
      ],
      "outputs": [
        {
          "output_type": "stream",
          "name": "stdout",
          "text": [
            "5\n",
            "8\n",
            "[1, 2, 2, 2, 2, 3, 4, 7]\n",
            "[1, 2, 2, 2, 2, 3, 4, 6, 7]\n"
          ]
        }
      ],
      "execution_count": 31,
      "metadata": {
        "collapsed": false,
        "outputHidden": false,
        "inputHidden": false
      }
    },
    {
      "cell_type": "markdown",
      "source": [
        "列表切片"
      ],
      "metadata": {}
    },
    {
      "cell_type": "code",
      "source": [
        "seq = [7, 2, 3, 7, 5, 6, 0, 1]\n",
        "print(seq[1:5])\n",
        "print(seq[:5])\n",
        "seq[3:4] = [612, 322]\n",
        "print(seq)\n",
        "print(seq[-4:-2])\n",
        "print(seq[::2])\n",
        "print(seq[::-1]) # reverse"
      ],
      "outputs": [
        {
          "output_type": "stream",
          "name": "stdout",
          "text": [
            "[2, 3, 7, 5]\n",
            "[7, 2, 3, 7, 5]\n",
            "[7, 2, 3, 612, 322, 5, 6, 0, 1]\n",
            "[5, 6]\n",
            "[7, 3, 322, 6, 1]\n",
            "[1, 0, 6, 5, 322, 612, 3, 2, 7]\n"
          ]
        }
      ],
      "execution_count": 37,
      "metadata": {
        "collapsed": false,
        "outputHidden": false,
        "inputHidden": false
      }
    },
    {
      "cell_type": "markdown",
      "source": [
        "enumerate"
      ],
      "metadata": {}
    },
    {
      "cell_type": "code",
      "source": [
        "li = ['foo', 'bar', 'baz']\n",
        "mapping = {}\n",
        "for i, v in enumerate(li):\n",
        "    mapping[v] = i\n",
        "print(mapping)"
      ],
      "outputs": [
        {
          "output_type": "stream",
          "name": "stdout",
          "text": [
            "{'baz': 2, 'bar': 1, 'foo': 0}\n"
          ]
        }
      ],
      "execution_count": 38,
      "metadata": {
        "collapsed": false,
        "outputHidden": false,
        "inputHidden": false
      }
    },
    {
      "cell_type": "markdown",
      "source": [
        "zip 重点掌握一下"
      ],
      "metadata": {}
    },
    {
      "cell_type": "code",
      "source": [
        "seq1 = ['foo', 'bar', 'baz']\n",
        "seq2 = ['one', 'two', 'three']\n",
        "zipped = zip(seq1, seq2)\n",
        "print(list(zipped))"
      ],
      "outputs": [
        {
          "output_type": "stream",
          "name": "stdout",
          "text": [
            "[('foo', 'one'), ('bar', 'two'), ('baz', 'three')]\n"
          ]
        }
      ],
      "execution_count": 45,
      "metadata": {
        "collapsed": false,
        "outputHidden": false,
        "inputHidden": false
      }
    },
    {
      "cell_type": "code",
      "source": [
        "for i,j in zip(seq1,seq2):\n",
        "    print(i,j)"
      ],
      "outputs": [
        {
          "output_type": "stream",
          "name": "stdout",
          "text": [
            "foo one\n",
            "bar two\n",
            "baz three\n"
          ]
        }
      ],
      "execution_count": 50,
      "metadata": {
        "collapsed": false,
        "outputHidden": false,
        "inputHidden": false
      }
    },
    {
      "cell_type": "code",
      "source": [
        "for i,j in zipped:\n",
        "    print(i,j) # 这是什么鬼？没有输出，明明是一样的"
      ],
      "outputs": [],
      "execution_count": 52,
      "metadata": {
        "collapsed": false,
        "outputHidden": false,
        "inputHidden": false
      }
    },
    {
      "cell_type": "code",
      "source": [
        "for (i,j) in zipped:\n",
        "    print((i,j)) #还是不行"
      ],
      "outputs": [],
      "execution_count": 53,
      "metadata": {
        "collapsed": false,
        "outputHidden": false,
        "inputHidden": false
      }
    },
    {
      "cell_type": "code",
      "source": [
        "# 非常棒的多序列字典自动生成方法\n",
        "dic1 = {}\n",
        "for i, (a, b) in enumerate(zip(seq1, seq2)):\n",
        "    dic1[i] = [a, b]\n",
        "    print('{0}: {1}, {2}'.format(i, a, b))\n",
        "print(dic1)"
      ],
      "outputs": [
        {
          "output_type": "stream",
          "name": "stdout",
          "text": [
            "0: foo, one\n",
            "1: bar, two\n",
            "2: baz, three\n",
            "{0: ['foo', 'one'], 1: ['bar', 'two'], 2: ['baz', 'three']}\n"
          ]
        }
      ],
      "execution_count": 58,
      "metadata": {
        "collapsed": false,
        "outputHidden": false,
        "inputHidden": false
      }
    },
    {
      "cell_type": "code",
      "source": [
        "# zip还可以拆分已配对的序列 zip(*xxx)\n",
        "pitchers = [('Nolan','Ryan'),('Rogar','Clemens'),('Schilling','Curt')]\n",
        "first_names, last_names = zip(*pitchers)\n",
        "print(first_names,'\\n',last_names)"
      ],
      "outputs": [
        {
          "output_type": "stream",
          "name": "stdout",
          "text": [
            "('Nolan', 'Rogar', 'Schilling') \n",
            " ('Ryan', 'Clemens', 'Curt')\n"
          ]
        }
      ],
      "execution_count": 60,
      "metadata": {
        "collapsed": false,
        "outputHidden": false,
        "inputHidden": false
      }
    },
    {
      "cell_type": "markdown",
      "source": [
        "3. 字典"
      ],
      "metadata": {}
    },
    {
      "cell_type": "markdown",
      "source": [
        "update, .keys(), .values(), get([,default]), pop([,default])"
      ],
      "metadata": {}
    },
    {
      "cell_type": "code",
      "source": [
        "d1 = {'a':'some value', 'b': [1, 2, 3, 4]}"
      ],
      "outputs": [],
      "execution_count": 61,
      "metadata": {
        "collapsed": false,
        "outputHidden": false,
        "inputHidden": false
      }
    },
    {
      "cell_type": "code",
      "source": [
        "d1"
      ],
      "outputs": [
        {
          "output_type": "execute_result",
          "execution_count": 62,
          "data": {
            "text/plain": [
              "{'a': 'some value', 'b': [1, 2, 3, 4]}"
            ]
          },
          "metadata": {}
        }
      ],
      "execution_count": 62,
      "metadata": {
        "collapsed": false,
        "outputHidden": false,
        "inputHidden": false
      }
    },
    {
      "cell_type": "code",
      "source": [
        "d1[7] = 'an integer'\n",
        "d1"
      ],
      "outputs": [
        {
          "output_type": "execute_result",
          "execution_count": 63,
          "data": {
            "text/plain": [
              "{7: 'an integer', 'a': 'some value', 'b': [1, 2, 3, 4]}"
            ]
          },
          "metadata": {}
        }
      ],
      "execution_count": 63,
      "metadata": {
        "collapsed": false,
        "outputHidden": false,
        "inputHidden": false
      }
    },
    {
      "cell_type": "code",
      "source": [
        "d1['dummy'] = 'another value'\n",
        "d1"
      ],
      "outputs": [
        {
          "output_type": "execute_result",
          "execution_count": 64,
          "data": {
            "text/plain": [
              "{'dummy': 'another value',\n",
              " 7: 'an integer',\n",
              " 'a': 'some value',\n",
              " 'b': [1, 2, 3, 4]}"
            ]
          },
          "metadata": {}
        }
      ],
      "execution_count": 64,
      "metadata": {
        "collapsed": false,
        "outputHidden": false,
        "inputHidden": false
      }
    },
    {
      "cell_type": "code",
      "source": [
        "del d1['a']"
      ],
      "outputs": [],
      "execution_count": 65,
      "metadata": {
        "collapsed": false,
        "outputHidden": false,
        "inputHidden": false
      }
    },
    {
      "cell_type": "code",
      "source": [
        "d1"
      ],
      "outputs": [
        {
          "output_type": "execute_result",
          "execution_count": 66,
          "data": {
            "text/plain": [
              "{'dummy': 'another value', 7: 'an integer', 'b': [1, 2, 3, 4]}"
            ]
          },
          "metadata": {}
        }
      ],
      "execution_count": 66,
      "metadata": {
        "collapsed": false,
        "outputHidden": false,
        "inputHidden": false
      }
    },
    {
      "cell_type": "code",
      "source": [
        "print(list(d1.keys()))\n",
        "print(list(d1.values()))"
      ],
      "outputs": [
        {
          "output_type": "stream",
          "name": "stdout",
          "text": [
            "['dummy', 7, 'b']\n",
            "['another value', 'an integer', [1, 2, 3, 4]]\n"
          ]
        }
      ],
      "execution_count": 67,
      "metadata": {
        "collapsed": false,
        "outputHidden": false,
        "inputHidden": false
      }
    },
    {
      "cell_type": "code",
      "source": [
        "d1.update({'b' : 'foo', 'c' : 12})"
      ],
      "outputs": [],
      "execution_count": 68,
      "metadata": {
        "collapsed": false,
        "outputHidden": false,
        "inputHidden": false
      }
    },
    {
      "cell_type": "code",
      "source": [
        "d1"
      ],
      "outputs": [
        {
          "output_type": "execute_result",
          "execution_count": 69,
          "data": {
            "text/plain": [
              "{'dummy': 'another value', 7: 'an integer', 'c': 12, 'b': 'foo'}"
            ]
          },
          "metadata": {}
        }
      ],
      "execution_count": 69,
      "metadata": {
        "collapsed": false,
        "outputHidden": false,
        "inputHidden": false
      }
    },
    {
      "cell_type": "code",
      "source": [
        "# 通过序列生成字典，常用手段\n",
        "key_list = list(range(10))\n",
        "value_list = list('asdfzxerew')\n",
        "mapping = {}\n",
        "for key, value in zip(key_list, value_list):\n",
        "    mapping[key] = value"
      ],
      "outputs": [],
      "execution_count": 71,
      "metadata": {
        "collapsed": false,
        "outputHidden": false,
        "inputHidden": false
      }
    },
    {
      "cell_type": "code",
      "source": [
        "mapping"
      ],
      "outputs": [
        {
          "output_type": "execute_result",
          "execution_count": 72,
          "data": {
            "text/plain": [
              "{0: 'a',\n",
              " 1: 's',\n",
              " 2: 'd',\n",
              " 3: 'f',\n",
              " 4: 'z',\n",
              " 5: 'x',\n",
              " 6: 'e',\n",
              " 7: 'r',\n",
              " 8: 'e',\n",
              " 9: 'w'}"
            ]
          },
          "metadata": {}
        }
      ],
      "execution_count": 72,
      "metadata": {
        "collapsed": false,
        "outputHidden": false,
        "inputHidden": false
      }
    },
    {
      "cell_type": "code",
      "source": [
        "mapping = dict(zip(range(5), reversed(range(5))))\n",
        "mapping"
      ],
      "outputs": [
        {
          "output_type": "execute_result",
          "execution_count": 81,
          "data": {
            "text/plain": [
              "{0: 4, 1: 3, 2: 2, 3: 1, 4: 0}"
            ]
          },
          "metadata": {}
        }
      ],
      "execution_count": 81,
      "metadata": {
        "collapsed": false,
        "outputHidden": false,
        "inputHidden": false
      }
    },
    {
      "cell_type": "code",
      "source": [
        "words = {'apple', 'bat', 'bar', 'atom', 'book'}\n",
        "by_letter = {}\n",
        "for word in words:\n",
        "    letter = word[0]\n",
        "    if letter not in by_letter:\n",
        "        by_letter[letter] = [word]\n",
        "    else:\n",
        "        by_letter[letter].append(word)\n",
        "        "
      ],
      "outputs": [],
      "execution_count": 82,
      "metadata": {
        "collapsed": false,
        "outputHidden": false,
        "inputHidden": false
      }
    },
    {
      "cell_type": "code",
      "source": [
        "by_letter"
      ],
      "outputs": [
        {
          "output_type": "execute_result",
          "execution_count": 83,
          "data": {
            "text/plain": [
              "{'a': ['atom', 'apple'], 'b': ['bat', 'book', 'bar']}"
            ]
          },
          "metadata": {}
        }
      ],
      "execution_count": 83,
      "metadata": {
        "collapsed": false,
        "outputHidden": false,
        "inputHidden": false
      }
    },
    {
      "cell_type": "code",
      "source": [
        "by_letter = {}\n",
        "for word in words:\n",
        "    letter = word[0]\n",
        "    by_letter.setdefault(letter,[]).append(word)"
      ],
      "outputs": [],
      "execution_count": 84,
      "metadata": {
        "collapsed": false,
        "outputHidden": false,
        "inputHidden": false
      }
    },
    {
      "cell_type": "code",
      "source": [
        "by_letter"
      ],
      "outputs": [
        {
          "output_type": "execute_result",
          "execution_count": 85,
          "data": {
            "text/plain": [
              "{'a': ['atom', 'apple'], 'b': ['bat', 'book', 'bar']}"
            ]
          },
          "metadata": {}
        }
      ],
      "execution_count": 85,
      "metadata": {
        "collapsed": false,
        "outputHidden": false,
        "inputHidden": false
      }
    },
    {
      "cell_type": "code",
      "source": [
        "from collections import defaultdict\n",
        "by_letter = defaultdict(list)\n",
        "for word in words:\n",
        "    by_letter[word[0]].append(word)"
      ],
      "outputs": [],
      "execution_count": 87,
      "metadata": {
        "collapsed": false,
        "outputHidden": false,
        "inputHidden": false
      }
    },
    {
      "cell_type": "code",
      "source": [
        "by_letter"
      ],
      "outputs": [
        {
          "output_type": "execute_result",
          "execution_count": 88,
          "data": {
            "text/plain": [
              "defaultdict(list, {'a': ['atom', 'apple'], 'b': ['bat', 'book', 'bar']})"
            ]
          },
          "metadata": {}
        }
      ],
      "execution_count": 88,
      "metadata": {
        "collapsed": false,
        "outputHidden": false,
        "inputHidden": false
      }
    },
    {
      "cell_type": "code",
      "source": [
        "hash((1,2,3,[1,2,3]))"
      ],
      "outputs": [
        {
          "output_type": "error",
          "ename": "TypeError",
          "evalue": "unhashable type: 'list'",
          "traceback": [
            "\u001b[0;31m---------------------------------------------------------------------------\u001b[0m",
            "\u001b[0;31mTypeError\u001b[0m                                 Traceback (most recent call last)",
            "\u001b[0;32m<ipython-input-89-9f1d1e803d91>\u001b[0m in \u001b[0;36m<module>\u001b[0;34m()\u001b[0m\n\u001b[0;32m----> 1\u001b[0;31m \u001b[0mhash\u001b[0m\u001b[1;33m(\u001b[0m\u001b[1;33m(\u001b[0m\u001b[1;36m1\u001b[0m\u001b[1;33m,\u001b[0m\u001b[1;36m2\u001b[0m\u001b[1;33m,\u001b[0m\u001b[1;36m3\u001b[0m\u001b[1;33m,\u001b[0m\u001b[1;33m[\u001b[0m\u001b[1;36m1\u001b[0m\u001b[1;33m,\u001b[0m\u001b[1;36m2\u001b[0m\u001b[1;33m,\u001b[0m\u001b[1;36m3\u001b[0m\u001b[1;33m]\u001b[0m\u001b[1;33m)\u001b[0m\u001b[1;33m)\u001b[0m\u001b[1;33m\u001b[0m\u001b[0m\n\u001b[0m",
            "\u001b[0;31mTypeError\u001b[0m: unhashable type: 'list'"
          ]
        }
      ],
      "execution_count": 89,
      "metadata": {
        "collapsed": false,
        "outputHidden": false,
        "inputHidden": false
      }
    },
    {
      "cell_type": "code",
      "source": [
        "hash((1,2,3))"
      ],
      "outputs": [
        {
          "output_type": "execute_result",
          "execution_count": 90,
          "data": {
            "text/plain": [
              "2528502973977326415"
            ]
          },
          "metadata": {}
        }
      ],
      "execution_count": 90,
      "metadata": {
        "collapsed": false,
        "outputHidden": false,
        "inputHidden": false
      }
    },
    {
      "cell_type": "code",
      "source": [
        "{1,2,3} & {1,2}"
      ],
      "outputs": [
        {
          "output_type": "execute_result",
          "execution_count": 91,
          "data": {
            "text/plain": [
              "{1, 2}"
            ]
          },
          "metadata": {}
        }
      ],
      "execution_count": 91,
      "metadata": {
        "collapsed": false,
        "outputHidden": false,
        "inputHidden": false
      }
    },
    {
      "cell_type": "markdown",
      "source": [
        "集合比较简单，需要注意的是set()中的参数必须是不可变的类型。集合操作主要为交并补差集。"
      ],
      "metadata": {}
    },
    {
      "cell_type": "markdown",
      "source": [
        "4. 列表推导"
      ],
      "metadata": {}
    },
    {
      "cell_type": "code",
      "source": [
        "#列表推导\n",
        "strings = ['a','as','bat','car','dove','python']\n",
        "[x.upper() for x in strings if len(x) > 2]"
      ],
      "outputs": [
        {
          "output_type": "execute_result",
          "execution_count": 92,
          "data": {
            "text/plain": [
              "['BAT', 'CAR', 'DOVE', 'PYTHON']"
            ]
          },
          "metadata": {}
        }
      ],
      "execution_count": 92,
      "metadata": {
        "collapsed": false,
        "outputHidden": false,
        "inputHidden": false
      }
    },
    {
      "cell_type": "code",
      "source": [
        "#集合推导\n",
        "unique_lengths = {len(x) for x in strings}\n",
        "print(unique_lengths)"
      ],
      "outputs": [
        {
          "output_type": "stream",
          "name": "stdout",
          "text": [
            "{1, 2, 3, 4, 6}\n"
          ]
        }
      ],
      "execution_count": 93,
      "metadata": {
        "collapsed": false,
        "outputHidden": false,
        "inputHidden": false
      }
    },
    {
      "cell_type": "code",
      "source": [
        "set(map(len, strings))"
      ],
      "outputs": [
        {
          "output_type": "execute_result",
          "execution_count": 94,
          "data": {
            "text/plain": [
              "{1, 2, 3, 4, 6}"
            ]
          },
          "metadata": {}
        }
      ],
      "execution_count": 94,
      "metadata": {
        "collapsed": false,
        "outputHidden": false,
        "inputHidden": false
      }
    },
    {
      "cell_type": "code",
      "source": [
        "help(map)"
      ],
      "outputs": [
        {
          "output_type": "stream",
          "name": "stdout",
          "text": [
            "Help on class map in module builtins:\n",
            "\n",
            "class map(object)\n",
            " |  map(func, *iterables) --> map object\n",
            " |  \n",
            " |  Make an iterator that computes the function using arguments from\n",
            " |  each of the iterables.  Stops when the shortest iterable is exhausted.\n",
            " |  \n",
            " |  Methods defined here:\n",
            " |  \n",
            " |  __getattribute__(self, name, /)\n",
            " |      Return getattr(self, name).\n",
            " |  \n",
            " |  __iter__(self, /)\n",
            " |      Implement iter(self).\n",
            " |  \n",
            " |  __new__(*args, **kwargs) from builtins.type\n",
            " |      Create and return a new object.  See help(type) for accurate signature.\n",
            " |  \n",
            " |  __next__(self, /)\n",
            " |      Implement next(self).\n",
            " |  \n",
            " |  __reduce__(...)\n",
            " |      Return state information for pickling.\n",
            "\n"
          ]
        }
      ],
      "execution_count": 100,
      "metadata": {
        "collapsed": false,
        "outputHidden": false,
        "inputHidden": false
      }
    },
    {
      "cell_type": "code",
      "source": [
        "#字典推导\n",
        "loc_mapping = {val : index for index, val in enumerate(strings)}\n",
        "print(loc_mapping)"
      ],
      "outputs": [
        {
          "output_type": "stream",
          "name": "stdout",
          "text": [
            "{'dove': 4, 'python': 5, 'as': 1, 'bat': 2, 'car': 3, 'a': 0}\n"
          ]
        }
      ],
      "execution_count": 101,
      "metadata": {
        "collapsed": false,
        "outputHidden": false,
        "inputHidden": false
      }
    },
    {
      "cell_type": "code",
      "source": [
        "#嵌套列表推导表达式\n",
        "some_tuples = [(1, 2, 3), (4, 5, 6), (7, 8, 9)]\n",
        "flattened = [x for tup in some_tuples for x in tup]\n",
        "print(flattened)\n",
        "#上下两种写法一致，注意for表达式的顺序应当与你写嵌套for循环来替代推导式的顺序一致。\n",
        "flattened = []\n",
        "for tup in some_tuples:\n",
        "    for x in tup:\n",
        "        flattened.extend([x])\n",
        "print(flattened)"
      ],
      "outputs": [
        {
          "output_type": "stream",
          "name": "stdout",
          "text": [
            "[1, 2, 3, 4, 5, 6, 7, 8, 9]\n",
            "[1, 2, 3, 4, 5, 6, 7, 8, 9]\n"
          ]
        }
      ],
      "execution_count": 107,
      "metadata": {
        "collapsed": false,
        "outputHidden": false,
        "inputHidden": false
      }
    },
    {
      "cell_type": "code",
      "source": [
        "all_data = [['John','Emily','Michael','Mary','Steven'],\n",
        "            ['Maria','Juan','Javier','Natalia','Pilar']]\n",
        "names_of_interest = []\n",
        "for names in all_data:\n",
        "    enough_es = [name for name in names if name.count('e') >= 2]\n",
        "    names_of_interest.extend(enough_es)\n",
        "print(names_of_interest)"
      ],
      "outputs": [
        {
          "output_type": "stream",
          "name": "stdout",
          "text": [
            "['Steven']\n"
          ]
        }
      ],
      "execution_count": 103,
      "metadata": {
        "collapsed": false,
        "outputHidden": false,
        "inputHidden": false
      }
    },
    {
      "cell_type": "code",
      "source": [
        "res = [name for names in all_data for name in names if name.count('e') >= 2]\n",
        "print(res)"
      ],
      "outputs": [
        {
          "output_type": "stream",
          "name": "stdout",
          "text": [
            "['Steven']\n"
          ]
        }
      ],
      "execution_count": 104,
      "metadata": {
        "collapsed": false,
        "outputHidden": false,
        "inputHidden": false
      }
    },
    {
      "cell_type": "code",
      "source": [
        "some_tuples"
      ],
      "outputs": [
        {
          "output_type": "execute_result",
          "execution_count": 110,
          "data": {
            "text/plain": [
              "[(1, 2, 3), (4, 5, 6), (7, 8, 9)]"
            ]
          },
          "metadata": {}
        }
      ],
      "execution_count": 110,
      "metadata": {
        "collapsed": false,
        "outputHidden": false,
        "inputHidden": false
      }
    },
    {
      "cell_type": "code",
      "source": [
        "[[x for x in tup] for tup in some_tuples]"
      ],
      "outputs": [
        {
          "output_type": "execute_result",
          "execution_count": 111,
          "data": {
            "text/plain": [
              "[[1, 2, 3], [4, 5, 6], [7, 8, 9]]"
            ]
          },
          "metadata": {}
        }
      ],
      "execution_count": 111,
      "metadata": {
        "collapsed": false,
        "outputHidden": false,
        "inputHidden": false
      }
    },
    {
      "cell_type": "markdown",
      "source": [
        "需要明确的是函数也是对象（其实python中几乎所有数据类型都是对象object）"
      ],
      "metadata": {}
    },
    {
      "cell_type": "code",
      "source": [
        "states = ['    Alabama  ','Georagia1!', 'Georgia', 'FlOrIda', 'south  carolina##', 'West virginia?']\n",
        "import re\n",
        "def clean_strings(strings):\n",
        "    result = []\n",
        "    for value in strings:\n",
        "        value = value.strip()\n",
        "        value = re.sub('[!#?]', '', value)\n",
        "        value = value.capitalize()\n",
        "        result.append(value)\n",
        "    return result\n",
        "clean_strings(states) "
      ],
      "outputs": [
        {
          "output_type": "execute_result",
          "execution_count": 114,
          "data": {
            "text/plain": [
              "['Alabama',\n",
              " 'Georagia1',\n",
              " 'Georgia',\n",
              " 'Florida',\n",
              " 'South  carolina',\n",
              " 'West virginia']"
            ]
          },
          "metadata": {}
        }
      ],
      "execution_count": 114,
      "metadata": {
        "collapsed": false,
        "outputHidden": false,
        "inputHidden": false
      }
    },
    {
      "cell_type": "code",
      "source": [
        "def remove_punctuation(value):\n",
        "    return re.sub('[!#?]', '', value)\n",
        "clean_ops = [str.strip, remove_punctuation, str.title]\n",
        "def clean_strings(strings, ops):\n",
        "    result = []\n",
        "    for value in strings:\n",
        "        for function in ops:\n",
        "            value = function(value)\n",
        "        result.append(value)\n",
        "    return result\n",
        "clean_strings(states, clean_ops)"
      ],
      "outputs": [
        {
          "output_type": "execute_result",
          "execution_count": 118,
          "data": {
            "text/plain": [
              "['Alabama',\n",
              " 'Georagia1',\n",
              " 'Georgia',\n",
              " 'Florida',\n",
              " 'South  Carolina',\n",
              " 'West Virginia']"
            ]
          },
          "metadata": {}
        }
      ],
      "execution_count": 118,
      "metadata": {
        "collapsed": false,
        "outputHidden": false,
        "inputHidden": false
      }
    },
    {
      "cell_type": "code",
      "source": [
        "result = []\n",
        "\n",
        "def remove_punctuation(value):\n",
        "    value = value.strip()\n",
        "    #print(value)\n",
        "    return re.sub('[!#?]', '', value)\n",
        "  \n",
        "for x in map(remove_punctuation, states):\n",
        "    result.append(x)\n",
        "    print(x)\n",
        "result"
      ],
      "outputs": [
        {
          "output_type": "stream",
          "name": "stdout",
          "text": [
            "Alabama\n",
            "Georagia1\n",
            "Georgia\n",
            "FlOrIda\n",
            "south  carolina\n",
            "West virginia\n"
          ]
        },
        {
          "output_type": "execute_result",
          "execution_count": 128,
          "data": {
            "text/plain": [
              "['Alabama',\n",
              " 'Georagia1',\n",
              " 'Georgia',\n",
              " 'FlOrIda',\n",
              " 'south  carolina',\n",
              " 'West virginia']"
            ]
          },
          "metadata": {}
        }
      ],
      "execution_count": 128,
      "metadata": {
        "collapsed": false,
        "outputHidden": false,
        "inputHidden": false
      }
    },
    {
      "cell_type": "markdown",
      "source": [
        "匿名函数（lambda）"
      ],
      "metadata": {}
    },
    {
      "cell_type": "code",
      "source": [
        "def short_function(x):\n",
        "    return x * 2\n",
        "\n",
        "equiv_anon = lambda x: x * 2"
      ],
      "outputs": [],
      "execution_count": 129,
      "metadata": {
        "collapsed": false,
        "outputHidden": false,
        "inputHidden": false
      }
    },
    {
      "cell_type": "code",
      "source": [
        "def apply_to_list(some_list, f):\n",
        "  return [f(x) for x in some_list]\n"
      ],
      "outputs": [],
      "execution_count": 130,
      "metadata": {
        "collapsed": false,
        "outputHidden": false,
        "inputHidden": false
      }
    },
    {
      "cell_type": "code",
      "source": [
        "ints = [4, 0, 1, 5, 6]\n",
        "apply_to_list(ints, lambda x: x * 2)"
      ],
      "outputs": [
        {
          "output_type": "execute_result",
          "execution_count": 131,
          "data": {
            "text/plain": [
              "[8, 0, 2, 10, 12]"
            ]
          },
          "metadata": {}
        }
      ],
      "execution_count": 131,
      "metadata": {
        "collapsed": false,
        "outputHidden": false,
        "inputHidden": false
      }
    },
    {
      "cell_type": "code",
      "source": [
        "#根据字符串中不同字母的数量对一个字符串的整体进行排序\n",
        "#重要用法\n",
        "strings = ['foo','card','bar','aaaa','abab']\n",
        "\n",
        "strings.sort(key=lambda x: len(set(list(x))))"
      ],
      "outputs": [],
      "execution_count": 132,
      "metadata": {
        "collapsed": false,
        "outputHidden": false,
        "inputHidden": false
      }
    },
    {
      "cell_type": "code",
      "source": [
        "print('aaaa')\n",
        "print(list('aaaa'))\n",
        "print(set(list('bar')))\n",
        "print(len(set(list('bar'))))\n",
        "strings"
      ],
      "outputs": [
        {
          "output_type": "stream",
          "name": "stdout",
          "text": [
            "aaaa\n",
            "['a', 'a', 'a', 'a']\n",
            "{'r', 'a', 'b'}\n",
            "3\n"
          ]
        },
        {
          "output_type": "execute_result",
          "execution_count": 135,
          "data": {
            "text/plain": [
              "['aaaa', 'foo', 'abab', 'bar', 'card']"
            ]
          },
          "metadata": {}
        }
      ],
      "execution_count": 135,
      "metadata": {
        "collapsed": false,
        "outputHidden": false,
        "inputHidden": false
      }
    },
    {
      "cell_type": "code",
      "source": [
        "help(strings.sort)"
      ],
      "outputs": [
        {
          "output_type": "stream",
          "name": "stdout",
          "text": [
            "Help on built-in function sort:\n",
            "\n",
            "sort(...) method of builtins.list instance\n",
            "    L.sort(key=None, reverse=False) -> None -- stable sort *IN PLACE*\n",
            "\n"
          ]
        }
      ],
      "execution_count": 139,
      "metadata": {
        "collapsed": false,
        "outputHidden": false,
        "inputHidden": false
      }
    },
    {
      "cell_type": "code",
      "source": [
        "#柯里化 Haskell Curry\n",
        "def add_numbers(x,y):\n",
        "    return x + y\n",
        "add_five = lambda y : add_numbers(5,y)\n",
        "add_five(2)"
      ],
      "outputs": [
        {
          "output_type": "execute_result",
          "execution_count": 140,
          "data": {
            "text/plain": [
              "7"
            ]
          },
          "metadata": {}
        }
      ],
      "execution_count": 140,
      "metadata": {
        "collapsed": false,
        "outputHidden": false,
        "inputHidden": false
      }
    },
    {
      "cell_type": "code",
      "source": [
        "from functools import partial\n",
        "add_five = partial(add_numbers, 5)\n",
        "add_five(100)"
      ],
      "outputs": [
        {
          "output_type": "execute_result",
          "execution_count": 141,
          "data": {
            "text/plain": [
              "105"
            ]
          },
          "metadata": {}
        }
      ],
      "execution_count": 141,
      "metadata": {
        "collapsed": false,
        "outputHidden": false,
        "inputHidden": false
      }
    },
    {
      "cell_type": "markdown",
      "source": [
        "生成器\n",
        "\n",
        "通过一致的形式遍历序列，服从迭代器协议"
      ],
      "metadata": {}
    },
    {
      "cell_type": "code",
      "source": [
        "#迭代器\n",
        "some_dict = {'a':1, 'b':2, 'c':3}\n",
        "for key in some_dict:\n",
        "    print(key)"
      ],
      "outputs": [
        {
          "output_type": "stream",
          "name": "stdout",
          "text": [
            "c\n",
            "a\n",
            "b\n"
          ]
        }
      ],
      "execution_count": 142,
      "metadata": {
        "collapsed": false,
        "outputHidden": false,
        "inputHidden": false
      }
    },
    {
      "cell_type": "code",
      "source": [
        "dict_iterator = iter(some_dict)\n",
        "dict_iterator"
      ],
      "outputs": [
        {
          "output_type": "execute_result",
          "execution_count": 143,
          "data": {
            "text/plain": [
              "<dict_keyiterator at 0x1a965eaf688>"
            ]
          },
          "metadata": {}
        }
      ],
      "execution_count": 143,
      "metadata": {
        "collapsed": false,
        "outputHidden": false,
        "inputHidden": false
      }
    },
    {
      "cell_type": "code",
      "source": [
        "print(list(dict_iterator))"
      ],
      "outputs": [
        {
          "output_type": "stream",
          "name": "stdout",
          "text": [
            "['c', 'a', 'b']\n"
          ]
        }
      ],
      "execution_count": 144,
      "metadata": {
        "collapsed": false,
        "outputHidden": false,
        "inputHidden": false
      }
    },
    {
      "cell_type": "code",
      "source": [
        "#生成器\n",
        "def squares(n=10):\n",
        "    print('Generating squares from 1 to {0}'.format(n ** 2))\n",
        "    for i in range(1, n+1):\n",
        "        yield i ** 2"
      ],
      "outputs": [],
      "execution_count": 157,
      "metadata": {
        "collapsed": false,
        "outputHidden": false,
        "inputHidden": false
      }
    },
    {
      "cell_type": "code",
      "source": [
        "#调用生成器时，代码并不会立即执行\n",
        "gen = squares()\n",
        "gen"
      ],
      "outputs": [
        {
          "output_type": "execute_result",
          "execution_count": 158,
          "data": {
            "text/plain": [
              "<generator object squares at 0x000001A965ECE5C8>"
            ]
          },
          "metadata": {}
        }
      ],
      "execution_count": 158,
      "metadata": {
        "collapsed": false,
        "outputHidden": false,
        "inputHidden": false
      }
    },
    {
      "cell_type": "code",
      "source": [
        "#当请求生成器中元素时，它才执行\n",
        "for x in gen:\n",
        "    print(x, end=' ')"
      ],
      "outputs": [
        {
          "output_type": "stream",
          "name": "stdout",
          "text": [
            "Generating squares from 1 to 100\n",
            "1 4 9 16 25 36 49 64 81 100 "
          ]
        }
      ],
      "execution_count": 159,
      "metadata": {
        "collapsed": false,
        "outputHidden": false,
        "inputHidden": false
      }
    },
    {
      "cell_type": "markdown",
      "source": [
        "生成器表达式\n",
        "\n",
        "与列表推导的最大不同是中括号改为方括号"
      ],
      "metadata": {}
    },
    {
      "cell_type": "code",
      "source": [
        "gen = (x ** 2 for x in range(100))\n",
        "gen"
      ],
      "outputs": [
        {
          "output_type": "execute_result",
          "execution_count": 160,
          "data": {
            "text/plain": [
              "<generator object <genexpr> at 0x000001A965EDB0A0>"
            ]
          },
          "metadata": {}
        }
      ],
      "execution_count": 160,
      "metadata": {
        "collapsed": false,
        "outputHidden": false,
        "inputHidden": false
      }
    },
    {
      "cell_type": "code",
      "source": [
        "def _make_gen():\n",
        "    for x in range(100):\n",
        "        yield x ** 2\n",
        "gen = _make_gen()\n",
        "gen"
      ],
      "outputs": [
        {
          "output_type": "execute_result",
          "execution_count": 170,
          "data": {
            "text/plain": [
              "<generator object _make_gen at 0x000001A965EDB888>"
            ]
          },
          "metadata": {}
        }
      ],
      "execution_count": 170,
      "metadata": {
        "collapsed": false,
        "outputHidden": false,
        "inputHidden": false
      }
    },
    {
      "cell_type": "code",
      "source": [
        "print(list(gen))"
      ],
      "outputs": [
        {
          "output_type": "stream",
          "name": "stdout",
          "text": [
            "[0, 1, 4, 9, 16, 25, 36, 49, 64, 81, 100, 121, 144, 169, 196, 225, 256, 289, 324, 361, 400, 441, 484, 529, 576, 625, 676, 729, 784, 841, 900, 961, 1024, 1089, 1156, 1225, 1296, 1369, 1444, 1521, 1600, 1681, 1764, 1849, 1936, 2025, 2116, 2209, 2304, 2401, 2500, 2601, 2704, 2809, 2916, 3025, 3136, 3249, 3364, 3481, 3600, 3721, 3844, 3969, 4096, 4225, 4356, 4489, 4624, 4761, 4900, 5041, 5184, 5329, 5476, 5625, 5776, 5929, 6084, 6241, 6400, 6561, 6724, 6889, 7056, 7225, 7396, 7569, 7744, 7921, 8100, 8281, 8464, 8649, 8836, 9025, 9216, 9409, 9604, 9801]\n"
          ]
        }
      ],
      "execution_count": 171,
      "metadata": {
        "collapsed": false,
        "outputHidden": false,
        "inputHidden": false
      }
    },
    {
      "cell_type": "code",
      "source": [
        "sum(x ** 2 for x in range(100))"
      ],
      "outputs": [
        {
          "output_type": "execute_result",
          "execution_count": 162,
          "data": {
            "text/plain": [
              "328350"
            ]
          },
          "metadata": {}
        }
      ],
      "execution_count": 162,
      "metadata": {
        "collapsed": false,
        "outputHidden": false,
        "inputHidden": false
      }
    },
    {
      "cell_type": "code",
      "source": [
        "dict((i, i ** 2) for i in range(100))"
      ],
      "outputs": [
        {
          "output_type": "execute_result",
          "execution_count": 163,
          "data": {
            "text/plain": [
              "{0: 0,\n",
              " 1: 1,\n",
              " 2: 4,\n",
              " 3: 9,\n",
              " 4: 16,\n",
              " 5: 25,\n",
              " 6: 36,\n",
              " 7: 49,\n",
              " 8: 64,\n",
              " 9: 81,\n",
              " 10: 100,\n",
              " 11: 121,\n",
              " 12: 144,\n",
              " 13: 169,\n",
              " 14: 196,\n",
              " 15: 225,\n",
              " 16: 256,\n",
              " 17: 289,\n",
              " 18: 324,\n",
              " 19: 361,\n",
              " 20: 400,\n",
              " 21: 441,\n",
              " 22: 484,\n",
              " 23: 529,\n",
              " 24: 576,\n",
              " 25: 625,\n",
              " 26: 676,\n",
              " 27: 729,\n",
              " 28: 784,\n",
              " 29: 841,\n",
              " 30: 900,\n",
              " 31: 961,\n",
              " 32: 1024,\n",
              " 33: 1089,\n",
              " 34: 1156,\n",
              " 35: 1225,\n",
              " 36: 1296,\n",
              " 37: 1369,\n",
              " 38: 1444,\n",
              " 39: 1521,\n",
              " 40: 1600,\n",
              " 41: 1681,\n",
              " 42: 1764,\n",
              " 43: 1849,\n",
              " 44: 1936,\n",
              " 45: 2025,\n",
              " 46: 2116,\n",
              " 47: 2209,\n",
              " 48: 2304,\n",
              " 49: 2401,\n",
              " 50: 2500,\n",
              " 51: 2601,\n",
              " 52: 2704,\n",
              " 53: 2809,\n",
              " 54: 2916,\n",
              " 55: 3025,\n",
              " 56: 3136,\n",
              " 57: 3249,\n",
              " 58: 3364,\n",
              " 59: 3481,\n",
              " 60: 3600,\n",
              " 61: 3721,\n",
              " 62: 3844,\n",
              " 63: 3969,\n",
              " 64: 4096,\n",
              " 65: 4225,\n",
              " 66: 4356,\n",
              " 67: 4489,\n",
              " 68: 4624,\n",
              " 69: 4761,\n",
              " 70: 4900,\n",
              " 71: 5041,\n",
              " 72: 5184,\n",
              " 73: 5329,\n",
              " 74: 5476,\n",
              " 75: 5625,\n",
              " 76: 5776,\n",
              " 77: 5929,\n",
              " 78: 6084,\n",
              " 79: 6241,\n",
              " 80: 6400,\n",
              " 81: 6561,\n",
              " 82: 6724,\n",
              " 83: 6889,\n",
              " 84: 7056,\n",
              " 85: 7225,\n",
              " 86: 7396,\n",
              " 87: 7569,\n",
              " 88: 7744,\n",
              " 89: 7921,\n",
              " 90: 8100,\n",
              " 91: 8281,\n",
              " 92: 8464,\n",
              " 93: 8649,\n",
              " 94: 8836,\n",
              " 95: 9025,\n",
              " 96: 9216,\n",
              " 97: 9409,\n",
              " 98: 9604,\n",
              " 99: 9801}"
            ]
          },
          "metadata": {}
        }
      ],
      "execution_count": 163,
      "metadata": {
        "collapsed": false,
        "outputHidden": false,
        "inputHidden": false
      }
    },
    {
      "cell_type": "markdown",
      "source": [
        "itertools模块，重点了解一下\n",
        "\n",
        "常用函数包括:\n",
        "\n",
        "\"\"\"\n",
        "\n",
        "combinations(iterable, k)\n",
        "\n",
        "permutations(iterable, k)\n",
        "\n",
        "groupby(iterable[, keyfunc])\n",
        "\n",
        "product(*iterables, repeat =1)\n",
        "\n",
        "\n",
        "\"\"\""
      ],
      "metadata": {}
    },
    {
      "cell_type": "code",
      "source": [
        "import itertools"
      ],
      "outputs": [],
      "execution_count": 164,
      "metadata": {
        "collapsed": false,
        "outputHidden": false,
        "inputHidden": false
      }
    },
    {
      "cell_type": "code",
      "source": [
        "first_letter = lambda x: x[0]\n",
        "names = ['Alan', 'Adam', 'Wes', 'Will', 'Albert', 'Steven', 'Alin']\n",
        "for letter, names in itertools.groupby(names, first_letter):\n",
        "    print(letter, list(names)) #names is a generator"
      ],
      "outputs": [
        {
          "output_type": "stream",
          "name": "stdout",
          "text": [
            "A ['Alan', 'Adam']\n",
            "W ['Wes', 'Will']\n",
            "A ['Albert']\n",
            "S ['Steven']\n",
            "A ['Alin']\n"
          ]
        }
      ],
      "execution_count": 165,
      "metadata": {
        "collapsed": false,
        "outputHidden": false,
        "inputHidden": false
      }
    },
    {
      "cell_type": "markdown",
      "source": [
        "异常处理 try catch except else finally"
      ],
      "metadata": {}
    },
    {
      "cell_type": "code",
      "source": [
        "f = open(path, 'w')\n",
        "try:\n",
        "    write_to_file(f)\n",
        "except (TypeError, ValueError, FileExistsError) as e:\n",
        "    print('Failed')\n",
        "else:\n",
        "    print('Succeeded')\n",
        "finally:\n",
        "    f.close()\n",
        "#或者用with open(path, 'w') as f:\n",
        "#....."
      ],
      "outputs": [],
      "execution_count": null,
      "metadata": {
        "collapsed": false,
        "outputHidden": false,
        "inputHidden": false
      }
    },
    {
      "cell_type": "markdown",
      "source": [
        "5. python 文件操作"
      ],
      "metadata": {}
    },
    {
      "cell_type": "code",
      "source": [
        "path = r'E:\\py_pandasDA_practice\\code\\examples\\segismundo.txt'"
      ],
      "outputs": [],
      "execution_count": 172,
      "metadata": {
        "collapsed": false,
        "outputHidden": false,
        "inputHidden": false
      }
    },
    {
      "cell_type": "code",
      "source": [
        "f = open(path)\n",
        "lines = [x.rstrip() for x in f]\n",
        "lines\n",
        "f.close()"
      ],
      "outputs": [],
      "execution_count": 173,
      "metadata": {
        "collapsed": false,
        "outputHidden": false,
        "inputHidden": false
      }
    },
    {
      "cell_type": "code",
      "source": [
        "lines"
      ],
      "outputs": [
        {
          "output_type": "execute_result",
          "execution_count": 174,
          "data": {
            "text/plain": [
              "['Sue帽a el rico en su riqueza,',\n",
              " 'que m谩s cuidados le ofrece;',\n",
              " '',\n",
              " 'sue帽a el pobre que padece',\n",
              " 'su miseria y su pobreza;',\n",
              " '',\n",
              " 'sue帽a el que a medrar empieza,',\n",
              " 'sue帽a el que afana y pretende,',\n",
              " 'sue帽a el que agravia y ofende,',\n",
              " '',\n",
              " 'y en el mundo, en conclusi贸n,',\n",
              " 'todos sue帽an lo que son,',\n",
              " 'aunque ninguno lo entiende.',\n",
              " '']"
            ]
          },
          "metadata": {}
        }
      ],
      "execution_count": 174,
      "metadata": {
        "collapsed": false,
        "outputHidden": false,
        "inputHidden": false
      }
    },
    {
      "cell_type": "code",
      "source": [
        "with open(path, 'r') as f:\n",
        "    lines = [x.rstrip() for x in f]\n",
        "print(lines)"
      ],
      "outputs": [
        {
          "output_type": "stream",
          "name": "stdout",
          "text": [
            "['Sue帽a el rico en su riqueza,', 'que m谩s cuidados le ofrece;', '', 'sue帽a el pobre que padece', 'su miseria y su pobreza;', '', 'sue帽a el que a medrar empieza,', 'sue帽a el que afana y pretende,', 'sue帽a el que agravia y ofende,', '', 'y en el mundo, en conclusi贸n,', 'todos sue帽an lo que son,', 'aunque ninguno lo entiende.', '']\n"
          ]
        }
      ],
      "execution_count": 176,
      "metadata": {
        "collapsed": false,
        "outputHidden": false,
        "inputHidden": false
      }
    },
    {
      "cell_type": "code",
      "source": [
        "f2 = open(path, 'rb')\n",
        "print(f2.read(10))\n",
        "f2.tell()\n",
        "f2.close()"
      ],
      "outputs": [
        {
          "output_type": "stream",
          "name": "stdout",
          "text": [
            "b'Sue\\xc3\\xb1a el '\n"
          ]
        }
      ],
      "execution_count": 178,
      "metadata": {
        "collapsed": false,
        "outputHidden": false,
        "inputHidden": false
      }
    },
    {
      "cell_type": "code",
      "source": [
        "import sys\n",
        "sys.getdefaultencoding()"
      ],
      "outputs": [
        {
          "output_type": "execute_result",
          "execution_count": 179,
          "data": {
            "text/plain": [
              "'utf-8'"
            ]
          },
          "metadata": {}
        }
      ],
      "execution_count": 179,
      "metadata": {
        "collapsed": false,
        "outputHidden": false,
        "inputHidden": false
      }
    },
    {
      "cell_type": "code",
      "source": [
        "f = open(path, 'r')\n",
        "print(f.seek(3))\n",
        "print(f.read(1))\n",
        "f.close()\n",
        "f2.close()"
      ],
      "outputs": [
        {
          "output_type": "stream",
          "name": "stdout",
          "text": [
            "3\n",
            "帽\n"
          ]
        }
      ],
      "execution_count": 183,
      "metadata": {
        "collapsed": false,
        "outputHidden": false,
        "inputHidden": false
      }
    },
    {
      "cell_type": "markdown",
      "source": [
        "r——————只读模式\n",
        "\n",
        "w——————只写模式，创建新文件（清除路径下同名文件数据）\n",
        "\n",
        "x——————只写模式，创建新文件，但存在同名路径时会创建时效\n",
        "\n",
        "a——————添加到已经存在的文件（如果不存在就创建）\n",
        "\n",
        "r+ —————— 读写模式\n",
        "\n",
        "b——————二进制文件模式，（rb，wb）\n",
        "\n",
        "t——————文件的文本模式（自动将字节编码为Unicode）。默认使用此模式。"
      ],
      "metadata": {}
    },
    {
      "cell_type": "markdown",
      "source": [
        "常用文件方法：\n",
        "\n",
        "\"\"\"\n",
        "\n",
        "writelines()————————将字符串序列写入文件\n",
        "\n",
        "close()——————关闭文件\n",
        "\n",
        "flush()——————将内部I/O缓冲器内容刷新到硬盘\n",
        "\n",
        "seek(pos)——————移动到指针位置\n",
        "\n",
        "tell()——————返回当前的文件位置，返回值是整数\n",
        "\n",
        "closed——————如果文件已经关闭，则返回True\n",
        "\n",
        "\"\"\""
      ],
      "metadata": {}
    },
    {
      "cell_type": "code",
      "source": [],
      "outputs": [],
      "execution_count": null,
      "metadata": {
        "collapsed": false,
        "outputHidden": false,
        "inputHidden": false
      }
    }
  ],
  "metadata": {
    "kernelspec": {
      "name": "python3",
      "language": "python",
      "display_name": "Python 3"
    },
    "language_info": {
      "nbconvert_exporter": "python",
      "file_extension": ".py",
      "codemirror_mode": {
        "version": 3,
        "name": "ipython"
      },
      "mimetype": "text/x-python",
      "name": "python",
      "pygments_lexer": "ipython3",
      "version": "3.5.2"
    },
    "kernel_info": {
      "name": "python3"
    },
    "nteract": {
      "version": "0.14.0"
    }
  },
  "nbformat": 4,
  "nbformat_minor": 2
}