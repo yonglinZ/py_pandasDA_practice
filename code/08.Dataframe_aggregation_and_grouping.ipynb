{
  "cells": [
    {
      "cell_type": "markdown",
      "source": [
        "数据聚合与分组操作"
      ],
      "metadata": {}
    },
    {
      "cell_type": "markdown",
      "source": [
        "主要包括以下内容:\n",
        "\n",
        "a）使用一个或多个键（以函数、数组或DF列名的形式）将pandas拆分成为多个块；\n",
        "\n",
        "b） 计算组汇总信息，如：计数、平均值、平均偏差或用户自定的函数；\n",
        "\n",
        "c）应用组内变换或其他操作，如标准化、线性回归、排位或者自己选择；\n",
        "\n",
        "d）计算数据透视表和交叉表；\n",
        "\n",
        "e）执行分位数分析和其他统计组分析"
      ],
      "metadata": {}
    },
    {
      "cell_type": "code",
      "source": [
        "from IPython.core.interactiveshell import InteractiveShell\n",
        "InteractiveShell.ast_note_interactivity = \"all\"\n",
        "%matplotlib inline\n",
        "\n",
        "\n",
        "import os\n",
        "import sys\n",
        "import numpy as np\n",
        "import pandas as pd\n",
        "from pandas import Series, DataFrame\n",
        "import matplotlib.pyplot as plt\n",
        "import seaborn as sns"
      ],
      "outputs": [],
      "execution_count": 1,
      "metadata": {
        "collapsed": false,
        "outputHidden": false,
        "inputHidden": false
      }
    },
    {
      "cell_type": "markdown",
      "source": [
        "第一部分：\n",
        "\n",
        "1. GroupBy机制\n",
        "\n",
        "核心与R相同，为：拆分-应用-联合（split-apply-combine）。操作对象可以是pandas中的Series、DataFrame或其他数据结构；\n",
        "\n",
        "然后，根据指定的一个或多个*键*分离到各个组中；\n",
        "\n",
        "分组操作后，一个函数可以应用到各个组中，产生新的值；\n",
        "\n",
        "最后，所有函数的应用结果将会联合成为一个结果对象。"
      ],
      "metadata": {}
    },
    {
      "cell_type": "markdown",
      "source": [
        "分组键可以是多种形式，并且不一定是完全相同的类型：\n",
        "\n",
        "a）与需要分组的轴向长度一致的值列表或值数组；\n",
        "\n",
        "b）DF的列名值；\n",
        "\n",
        "c）可以将分组轴向上的值和分组名称相匹配的字典或Series；\n",
        "\n",
        "d）可以在轴索引或索引中的单个标签上调用的函数。"
      ],
      "metadata": {}
    },
    {
      "cell_type": "code",
      "source": [
        "df = pd.DataFrame({'key1': ['a', 'a', 'b', 'b', 'a'],\n",
        "                   'key2': ['one', 'two', 'one', 'two', 'one'],\n",
        "                   'data1': np.random.randn(5),\n",
        "                   'data2': np.random.randn(5)})"
      ],
      "outputs": [],
      "execution_count": 2,
      "metadata": {
        "collapsed": false,
        "outputHidden": false,
        "inputHidden": false
      }
    },
    {
      "cell_type": "code",
      "source": [
        "df"
      ],
      "outputs": [
        {
          "output_type": "execute_result",
          "execution_count": 3,
          "data": {
            "text/plain": [
              "      data1     data2 key1 key2\n",
              "0  0.504189 -0.997013    a  one\n",
              "1 -0.505229 -0.617273    a  two\n",
              "2  0.301553  0.173129    b  one\n",
              "3  0.607956 -1.005269    b  two\n",
              "4  1.400225  0.214183    a  one"
            ],
            "text/html": [
              "<div>\n",
              "<table border=\"1\" class=\"dataframe\">\n",
              "  <thead>\n",
              "    <tr style=\"text-align: right;\">\n",
              "      <th></th>\n",
              "      <th>data1</th>\n",
              "      <th>data2</th>\n",
              "      <th>key1</th>\n",
              "      <th>key2</th>\n",
              "    </tr>\n",
              "  </thead>\n",
              "  <tbody>\n",
              "    <tr>\n",
              "      <th>0</th>\n",
              "      <td>0.504189</td>\n",
              "      <td>-0.997013</td>\n",
              "      <td>a</td>\n",
              "      <td>one</td>\n",
              "    </tr>\n",
              "    <tr>\n",
              "      <th>1</th>\n",
              "      <td>-0.505229</td>\n",
              "      <td>-0.617273</td>\n",
              "      <td>a</td>\n",
              "      <td>two</td>\n",
              "    </tr>\n",
              "    <tr>\n",
              "      <th>2</th>\n",
              "      <td>0.301553</td>\n",
              "      <td>0.173129</td>\n",
              "      <td>b</td>\n",
              "      <td>one</td>\n",
              "    </tr>\n",
              "    <tr>\n",
              "      <th>3</th>\n",
              "      <td>0.607956</td>\n",
              "      <td>-1.005269</td>\n",
              "      <td>b</td>\n",
              "      <td>two</td>\n",
              "    </tr>\n",
              "    <tr>\n",
              "      <th>4</th>\n",
              "      <td>1.400225</td>\n",
              "      <td>0.214183</td>\n",
              "      <td>a</td>\n",
              "      <td>one</td>\n",
              "    </tr>\n",
              "  </tbody>\n",
              "</table>\n",
              "</div>"
            ]
          },
          "metadata": {}
        }
      ],
      "execution_count": 3,
      "metadata": {
        "collapsed": false,
        "outputHidden": false,
        "inputHidden": false
      }
    },
    {
      "cell_type": "code",
      "source": [
        "grouped = df['data1'].groupby(df['key1'])\n",
        "grouped\n",
        "#grouped变量是一个groupby对象。"
      ],
      "outputs": [
        {
          "output_type": "execute_result",
          "execution_count": 9,
          "data": {
            "text/plain": [
              "<pandas.core.groupby.SeriesGroupBy object at 0x00000275D205D358>"
            ]
          },
          "metadata": {}
        }
      ],
      "execution_count": 9,
      "metadata": {
        "collapsed": false,
        "outputHidden": false,
        "inputHidden": false
      }
    },
    {
      "cell_type": "code",
      "source": [
        "grouped.mean()\n",
        "#注意，这个mean方法是GroupBy对象的方法。"
      ],
      "outputs": [
        {
          "output_type": "execute_result",
          "execution_count": 11,
          "data": {
            "text/plain": [
              "key1\n",
              "a    0.466395\n",
              "b    0.454754\n",
              "Name: data1, dtype: float64"
            ]
          },
          "metadata": {}
        }
      ],
      "execution_count": 11,
      "metadata": {
        "collapsed": false,
        "outputHidden": false,
        "inputHidden": false
      }
    },
    {
      "cell_type": "markdown",
      "source": [
        "df[['data1']]反回了一个Series，然后这个Series根据分组键（‘key1’）进行了聚合，并产生了一个新的Series，该Series使用key1列的唯一值作为索引。"
      ],
      "metadata": {}
    },
    {
      "cell_type": "code",
      "source": [
        "means = df['data1'].groupby([df['key1'], df['key2']]).mean()"
      ],
      "outputs": [],
      "execution_count": 12,
      "metadata": {
        "collapsed": false,
        "outputHidden": false,
        "inputHidden": false
      }
    },
    {
      "cell_type": "code",
      "source": [
        "means"
      ],
      "outputs": [
        {
          "output_type": "execute_result",
          "execution_count": 13,
          "data": {
            "text/plain": [
              "key1  key2\n",
              "a     one     0.952207\n",
              "      two    -0.505229\n",
              "b     one     0.301553\n",
              "      two     0.607956\n",
              "Name: data1, dtype: float64"
            ]
          },
          "metadata": {}
        }
      ],
      "execution_count": 13,
      "metadata": {
        "collapsed": false,
        "outputHidden": false,
        "inputHidden": false
      }
    },
    {
      "cell_type": "code",
      "source": [
        "means.unstack('key1')"
      ],
      "outputs": [
        {
          "output_type": "execute_result",
          "execution_count": 15,
          "data": {
            "text/plain": [
              "key1         a         b\n",
              "key2                    \n",
              "one   0.952207  0.301553\n",
              "two  -0.505229  0.607956"
            ],
            "text/html": [
              "<div>\n",
              "<table border=\"1\" class=\"dataframe\">\n",
              "  <thead>\n",
              "    <tr style=\"text-align: right;\">\n",
              "      <th>key1</th>\n",
              "      <th>a</th>\n",
              "      <th>b</th>\n",
              "    </tr>\n",
              "    <tr>\n",
              "      <th>key2</th>\n",
              "      <th></th>\n",
              "      <th></th>\n",
              "    </tr>\n",
              "  </thead>\n",
              "  <tbody>\n",
              "    <tr>\n",
              "      <th>one</th>\n",
              "      <td>0.952207</td>\n",
              "      <td>0.301553</td>\n",
              "    </tr>\n",
              "    <tr>\n",
              "      <th>two</th>\n",
              "      <td>-0.505229</td>\n",
              "      <td>0.607956</td>\n",
              "    </tr>\n",
              "  </tbody>\n",
              "</table>\n",
              "</div>"
            ]
          },
          "metadata": {}
        }
      ],
      "execution_count": 15,
      "metadata": {
        "collapsed": false,
        "outputHidden": false,
        "inputHidden": false
      }
    },
    {
      "cell_type": "code",
      "source": [
        "means.unstack(1)"
      ],
      "outputs": [
        {
          "output_type": "execute_result",
          "execution_count": 16,
          "data": {
            "text/plain": [
              "key2       one       two\n",
              "key1                    \n",
              "a     0.952207 -0.505229\n",
              "b     0.301553  0.607956"
            ],
            "text/html": [
              "<div>\n",
              "<table border=\"1\" class=\"dataframe\">\n",
              "  <thead>\n",
              "    <tr style=\"text-align: right;\">\n",
              "      <th>key2</th>\n",
              "      <th>one</th>\n",
              "      <th>two</th>\n",
              "    </tr>\n",
              "    <tr>\n",
              "      <th>key1</th>\n",
              "      <th></th>\n",
              "      <th></th>\n",
              "    </tr>\n",
              "  </thead>\n",
              "  <tbody>\n",
              "    <tr>\n",
              "      <th>a</th>\n",
              "      <td>0.952207</td>\n",
              "      <td>-0.505229</td>\n",
              "    </tr>\n",
              "    <tr>\n",
              "      <th>b</th>\n",
              "      <td>0.301553</td>\n",
              "      <td>0.607956</td>\n",
              "    </tr>\n",
              "  </tbody>\n",
              "</table>\n",
              "</div>"
            ]
          },
          "metadata": {}
        }
      ],
      "execution_count": 16,
      "metadata": {
        "collapsed": false,
        "outputHidden": false,
        "inputHidden": false
      }
    },
    {
      "cell_type": "code",
      "source": [
        "#分组键也可以是正确长度的任何数组\n",
        "states = np.array(['Ohio', 'California', 'California', 'Ohio', 'Ohio'])\n",
        "years = np.array([2005, 2005, 2006, 2005, 2006])\n",
        "#相当于引入了两个新列给原来的df[‘data1’]使用进行分组，但列名尚未给定"
      ],
      "outputs": [],
      "execution_count": 17,
      "metadata": {
        "collapsed": false,
        "outputHidden": false,
        "inputHidden": false
      }
    },
    {
      "cell_type": "code",
      "source": [
        "df['data1'].groupby([states, years]).mean()"
      ],
      "outputs": [
        {
          "output_type": "execute_result",
          "execution_count": 18,
          "data": {
            "text/plain": [
              "California  2005   -0.505229\n",
              "            2006    0.301553\n",
              "Ohio        2005    0.556072\n",
              "            2006    1.400225\n",
              "Name: data1, dtype: float64"
            ]
          },
          "metadata": {}
        }
      ],
      "execution_count": 18,
      "metadata": {
        "collapsed": false,
        "outputHidden": false,
        "inputHidden": false
      }
    },
    {
      "cell_type": "code",
      "source": [
        "df.groupby('key1').mean()\n",
        "#非数值列key2因为无法被聚合，因而被自动忽略了"
      ],
      "outputs": [
        {
          "output_type": "execute_result",
          "execution_count": 21,
          "data": {
            "text/plain": [
              "         data1     data2\n",
              "key1                    \n",
              "a     0.466395 -0.466701\n",
              "b     0.454754 -0.416070"
            ],
            "text/html": [
              "<div>\n",
              "<table border=\"1\" class=\"dataframe\">\n",
              "  <thead>\n",
              "    <tr style=\"text-align: right;\">\n",
              "      <th></th>\n",
              "      <th>data1</th>\n",
              "      <th>data2</th>\n",
              "    </tr>\n",
              "    <tr>\n",
              "      <th>key1</th>\n",
              "      <th></th>\n",
              "      <th></th>\n",
              "    </tr>\n",
              "  </thead>\n",
              "  <tbody>\n",
              "    <tr>\n",
              "      <th>a</th>\n",
              "      <td>0.466395</td>\n",
              "      <td>-0.466701</td>\n",
              "    </tr>\n",
              "    <tr>\n",
              "      <th>b</th>\n",
              "      <td>0.454754</td>\n",
              "      <td>-0.416070</td>\n",
              "    </tr>\n",
              "  </tbody>\n",
              "</table>\n",
              "</div>"
            ]
          },
          "metadata": {}
        }
      ],
      "execution_count": 21,
      "metadata": {
        "collapsed": false,
        "outputHidden": false,
        "inputHidden": false
      }
    },
    {
      "cell_type": "code",
      "source": [
        "df.groupby(['key1', 'key2']).mean()"
      ],
      "outputs": [
        {
          "output_type": "execute_result",
          "execution_count": 20,
          "data": {
            "text/plain": [
              "              data1     data2\n",
              "key1 key2                    \n",
              "a    one   0.952207 -0.391415\n",
              "     two  -0.505229 -0.617273\n",
              "b    one   0.301553  0.173129\n",
              "     two   0.607956 -1.005269"
            ],
            "text/html": [
              "<div>\n",
              "<table border=\"1\" class=\"dataframe\">\n",
              "  <thead>\n",
              "    <tr style=\"text-align: right;\">\n",
              "      <th></th>\n",
              "      <th></th>\n",
              "      <th>data1</th>\n",
              "      <th>data2</th>\n",
              "    </tr>\n",
              "    <tr>\n",
              "      <th>key1</th>\n",
              "      <th>key2</th>\n",
              "      <th></th>\n",
              "      <th></th>\n",
              "    </tr>\n",
              "  </thead>\n",
              "  <tbody>\n",
              "    <tr>\n",
              "      <th rowspan=\"2\" valign=\"top\">a</th>\n",
              "      <th>one</th>\n",
              "      <td>0.952207</td>\n",
              "      <td>-0.391415</td>\n",
              "    </tr>\n",
              "    <tr>\n",
              "      <th>two</th>\n",
              "      <td>-0.505229</td>\n",
              "      <td>-0.617273</td>\n",
              "    </tr>\n",
              "    <tr>\n",
              "      <th rowspan=\"2\" valign=\"top\">b</th>\n",
              "      <th>one</th>\n",
              "      <td>0.301553</td>\n",
              "      <td>0.173129</td>\n",
              "    </tr>\n",
              "    <tr>\n",
              "      <th>two</th>\n",
              "      <td>0.607956</td>\n",
              "      <td>-1.005269</td>\n",
              "    </tr>\n",
              "  </tbody>\n",
              "</table>\n",
              "</div>"
            ]
          },
          "metadata": {}
        }
      ],
      "execution_count": 20,
      "metadata": {
        "collapsed": false,
        "outputHidden": false,
        "inputHidden": false
      }
    },
    {
      "cell_type": "code",
      "source": [
        "df.groupby(['key1', 'key2']).size()"
      ],
      "outputs": [
        {
          "output_type": "execute_result",
          "execution_count": 22,
          "data": {
            "text/plain": [
              "key1  key2\n",
              "a     one     2\n",
              "      two     1\n",
              "b     one     1\n",
              "      two     1\n",
              "dtype: int64"
            ]
          },
          "metadata": {}
        }
      ],
      "execution_count": 22,
      "metadata": {
        "collapsed": false,
        "outputHidden": false,
        "inputHidden": false
      }
    },
    {
      "cell_type": "markdown",
      "source": [
        "2. 遍历各个分组（GroupBy对象支持迭代）\n",
        "\n",
        "这是一个非常重要的特性;\n",
        "\n",
        "迭代后会生成一个*包含组名和数据块*的2维元组序列。"
      ],
      "metadata": {}
    },
    {
      "cell_type": "code",
      "source": [
        "for name, group in df.groupby('key1'):\n",
        "    print(name)\n",
        "    print(group)"
      ],
      "outputs": [
        {
          "output_type": "stream",
          "name": "stdout",
          "text": [
            "a\n",
            "      data1     data2 key1 key2\n",
            "0  0.504189 -0.997013    a  one\n",
            "1 -0.505229 -0.617273    a  two\n",
            "4  1.400225  0.214183    a  one\n",
            "b\n",
            "      data1     data2 key1 key2\n",
            "2  0.301553  0.173129    b  one\n",
            "3  0.607956 -1.005269    b  two\n"
          ]
        }
      ],
      "execution_count": 23,
      "metadata": {
        "collapsed": false,
        "outputHidden": false,
        "inputHidden": false
      }
    },
    {
      "cell_type": "code",
      "source": [
        "print(df)"
      ],
      "outputs": [
        {
          "output_type": "stream",
          "name": "stdout",
          "text": [
            "      data1     data2 key1 key2\n",
            "0  0.504189 -0.997013    a  one\n",
            "1 -0.505229 -0.617273    a  two\n",
            "2  0.301553  0.173129    b  one\n",
            "3  0.607956 -1.005269    b  two\n",
            "4  1.400225  0.214183    a  one\n"
          ]
        }
      ],
      "execution_count": 24,
      "metadata": {
        "collapsed": false,
        "outputHidden": false,
        "inputHidden": false
      }
    },
    {
      "cell_type": "code",
      "source": [
        "#元组里面是两层键的名称（组名）\n",
        "for (k1, k2), group in df.groupby(['key1', 'key2']):\n",
        "    print((k1, k2))\n",
        "    print(group)"
      ],
      "outputs": [
        {
          "output_type": "stream",
          "name": "stdout",
          "text": [
            "('a', 'one')\n",
            "      data1     data2 key1 key2\n",
            "0  0.504189 -0.997013    a  one\n",
            "4  1.400225  0.214183    a  one\n",
            "('a', 'two')\n",
            "      data1     data2 key1 key2\n",
            "1 -0.505229 -0.617273    a  two\n",
            "('b', 'one')\n",
            "      data1     data2 key1 key2\n",
            "2  0.301553  0.173129    b  one\n",
            "('b', 'two')\n",
            "      data1     data2 key1 key2\n",
            "3  0.607956 -1.005269    b  two\n"
          ]
        }
      ],
      "execution_count": 28,
      "metadata": {
        "collapsed": false,
        "outputHidden": false,
        "inputHidden": false
      }
    },
    {
      "cell_type": "markdown",
      "source": [
        "练到这其实就很明了了，GroupBy对象其实是对组名（用户指定的键或多个键）以及数据块（Series或者DF）进行了元组型封装，且支持迭代，确切的说就是需要迭代或者应用函数来获取结果。"
      ],
      "metadata": {}
    },
    {
      "cell_type": "code",
      "source": [
        "#比较简便的获取数据块的方法，非常优雅，需要记住\n",
        "\n",
        "pieces = dict(list(df.groupby('key1')))\n",
        "pieces['b']"
      ],
      "outputs": [
        {
          "output_type": "execute_result",
          "execution_count": 32,
          "data": {
            "text/plain": [
              "      data1     data2 key1 key2\n",
              "2  0.301553  0.173129    b  one\n",
              "3  0.607956 -1.005269    b  two"
            ],
            "text/html": [
              "<div>\n",
              "<table border=\"1\" class=\"dataframe\">\n",
              "  <thead>\n",
              "    <tr style=\"text-align: right;\">\n",
              "      <th></th>\n",
              "      <th>data1</th>\n",
              "      <th>data2</th>\n",
              "      <th>key1</th>\n",
              "      <th>key2</th>\n",
              "    </tr>\n",
              "  </thead>\n",
              "  <tbody>\n",
              "    <tr>\n",
              "      <th>2</th>\n",
              "      <td>0.301553</td>\n",
              "      <td>0.173129</td>\n",
              "      <td>b</td>\n",
              "      <td>one</td>\n",
              "    </tr>\n",
              "    <tr>\n",
              "      <th>3</th>\n",
              "      <td>0.607956</td>\n",
              "      <td>-1.005269</td>\n",
              "      <td>b</td>\n",
              "      <td>two</td>\n",
              "    </tr>\n",
              "  </tbody>\n",
              "</table>\n",
              "</div>"
            ]
          },
          "metadata": {}
        }
      ],
      "execution_count": 32,
      "metadata": {
        "collapsed": false,
        "outputHidden": false,
        "inputHidden": false
      }
    },
    {
      "cell_type": "code",
      "source": [
        "#默认情况下groupby在axis=0的轴向上分组，同样支持在其他任意周向尚进行分组。\n",
        "\n",
        "print(df.dtypes)\n",
        "print(df.dtypes.ndim)\n",
        "print(type(df.dtypes))"
      ],
      "outputs": [
        {
          "output_type": "stream",
          "name": "stdout",
          "text": [
            "data1    float64\n",
            "data2    float64\n",
            "key1      object\n",
            "key2      object\n",
            "dtype: object\n",
            "1\n",
            "<class 'pandas.core.series.Series'>\n"
          ]
        }
      ],
      "execution_count": 40,
      "metadata": {
        "collapsed": false,
        "outputHidden": false,
        "inputHidden": false
      }
    },
    {
      "cell_type": "code",
      "source": [
        "grouped = df.groupby(df.dtypes.values, axis=1)\n",
        "\n",
        "for dtype, group in grouped:\n",
        "    print(dtype)\n",
        "    print(group)"
      ],
      "outputs": [
        {
          "output_type": "stream",
          "name": "stdout",
          "text": [
            "float64\n",
            "      data1     data2\n",
            "0  0.504189 -0.997013\n",
            "1 -0.505229 -0.617273\n",
            "2  0.301553  0.173129\n",
            "3  0.607956 -1.005269\n",
            "4  1.400225  0.214183\n",
            "object\n",
            "  key1 key2\n",
            "0    a  one\n",
            "1    a  two\n",
            "2    b  one\n",
            "3    b  two\n",
            "4    a  one\n"
          ]
        }
      ],
      "execution_count": 41,
      "metadata": {
        "collapsed": false,
        "outputHidden": false,
        "inputHidden": false
      }
    },
    {
      "cell_type": "markdown",
      "source": [
        "3. 选择一列或所有列的子集"
      ],
      "metadata": {}
    },
    {
      "cell_type": "markdown",
      "source": [
        "将从DF创建的GroupBy对象用列名或列名数组进行索引时，会产生用于聚合的列子集的效果。"
      ],
      "metadata": {}
    },
    {
      "cell_type": "code",
      "source": [
        "df.groupby('key1')['data1']\n",
        "df.groupby('key1')[['data2']]"
      ],
      "outputs": [
        {
          "output_type": "execute_result",
          "execution_count": 44,
          "data": {
            "text/plain": [
              "<pandas.core.groupby.DataFrameGroupBy object at 0x00000275D212D2E8>"
            ]
          },
          "metadata": {}
        }
      ],
      "execution_count": 44,
      "metadata": {
        "collapsed": false,
        "outputHidden": false,
        "inputHidden": false
      }
    },
    {
      "cell_type": "code",
      "source": [
        "#是下面的语法糖\n",
        "df['data1'].groupby(df['key1'])\n",
        "df[['data2']].groupby(df['key1'])"
      ],
      "outputs": [
        {
          "output_type": "execute_result",
          "execution_count": 46,
          "data": {
            "text/plain": [
              "<pandas.core.groupby.DataFrameGroupBy object at 0x00000275D211F080>"
            ]
          },
          "metadata": {}
        }
      ],
      "execution_count": 46,
      "metadata": {
        "collapsed": false,
        "outputHidden": false,
        "inputHidden": false
      }
    },
    {
      "cell_type": "code",
      "source": [
        "df['data1']"
      ],
      "outputs": [
        {
          "output_type": "execute_result",
          "execution_count": 47,
          "data": {
            "text/plain": [
              "0    0.504189\n",
              "1   -0.505229\n",
              "2    0.301553\n",
              "3    0.607956\n",
              "4    1.400225\n",
              "Name: data1, dtype: float64"
            ]
          },
          "metadata": {}
        }
      ],
      "execution_count": 47,
      "metadata": {
        "collapsed": false,
        "outputHidden": false,
        "inputHidden": false
      }
    },
    {
      "cell_type": "code",
      "source": [
        "df[['data1']]"
      ],
      "outputs": [
        {
          "output_type": "execute_result",
          "execution_count": 48,
          "data": {
            "text/plain": [
              "      data1\n",
              "0  0.504189\n",
              "1 -0.505229\n",
              "2  0.301553\n",
              "3  0.607956\n",
              "4  1.400225"
            ],
            "text/html": [
              "<div>\n",
              "<table border=\"1\" class=\"dataframe\">\n",
              "  <thead>\n",
              "    <tr style=\"text-align: right;\">\n",
              "      <th></th>\n",
              "      <th>data1</th>\n",
              "    </tr>\n",
              "  </thead>\n",
              "  <tbody>\n",
              "    <tr>\n",
              "      <th>0</th>\n",
              "      <td>0.504189</td>\n",
              "    </tr>\n",
              "    <tr>\n",
              "      <th>1</th>\n",
              "      <td>-0.505229</td>\n",
              "    </tr>\n",
              "    <tr>\n",
              "      <th>2</th>\n",
              "      <td>0.301553</td>\n",
              "    </tr>\n",
              "    <tr>\n",
              "      <th>3</th>\n",
              "      <td>0.607956</td>\n",
              "    </tr>\n",
              "    <tr>\n",
              "      <th>4</th>\n",
              "      <td>1.400225</td>\n",
              "    </tr>\n",
              "  </tbody>\n",
              "</table>\n",
              "</div>"
            ]
          },
          "metadata": {}
        }
      ],
      "execution_count": 48,
      "metadata": {
        "collapsed": false,
        "outputHidden": false,
        "inputHidden": false
      }
    },
    {
      "cell_type": "code",
      "source": [
        "print(type(df['data1']), type(df[['data1']]))"
      ],
      "outputs": [
        {
          "output_type": "stream",
          "name": "stdout",
          "text": [
            "<class 'pandas.core.series.Series'> <class 'pandas.core.frame.DataFrame'>\n"
          ]
        }
      ],
      "execution_count": 50,
      "metadata": {
        "collapsed": false,
        "outputHidden": false,
        "inputHidden": false
      }
    },
    {
      "cell_type": "code",
      "source": [
        "#计算data2列的均值\n",
        "\n",
        "df.groupby(['key1', 'key2'])[['data2']].mean()"
      ],
      "outputs": [
        {
          "output_type": "execute_result",
          "execution_count": 51,
          "data": {
            "text/plain": [
              "              data2\n",
              "key1 key2          \n",
              "a    one  -0.391415\n",
              "     two  -0.617273\n",
              "b    one   0.173129\n",
              "     two  -1.005269"
            ],
            "text/html": [
              "<div>\n",
              "<table border=\"1\" class=\"dataframe\">\n",
              "  <thead>\n",
              "    <tr style=\"text-align: right;\">\n",
              "      <th></th>\n",
              "      <th></th>\n",
              "      <th>data2</th>\n",
              "    </tr>\n",
              "    <tr>\n",
              "      <th>key1</th>\n",
              "      <th>key2</th>\n",
              "      <th></th>\n",
              "    </tr>\n",
              "  </thead>\n",
              "  <tbody>\n",
              "    <tr>\n",
              "      <th rowspan=\"2\" valign=\"top\">a</th>\n",
              "      <th>one</th>\n",
              "      <td>-0.391415</td>\n",
              "    </tr>\n",
              "    <tr>\n",
              "      <th>two</th>\n",
              "      <td>-0.617273</td>\n",
              "    </tr>\n",
              "    <tr>\n",
              "      <th rowspan=\"2\" valign=\"top\">b</th>\n",
              "      <th>one</th>\n",
              "      <td>0.173129</td>\n",
              "    </tr>\n",
              "    <tr>\n",
              "      <th>two</th>\n",
              "      <td>-1.005269</td>\n",
              "    </tr>\n",
              "  </tbody>\n",
              "</table>\n",
              "</div>"
            ]
          },
          "metadata": {}
        }
      ],
      "execution_count": 51,
      "metadata": {
        "collapsed": false,
        "outputHidden": false,
        "inputHidden": false
      }
    },
    {
      "cell_type": "code",
      "source": [
        "print(type(df.groupby(['key1', 'key2'])['data2'].mean()))\n",
        "df.groupby(['key1', 'key2'])['data2'].mean()"
      ],
      "outputs": [
        {
          "output_type": "stream",
          "name": "stdout",
          "text": [
            "<class 'pandas.core.series.Series'>\n"
          ]
        },
        {
          "output_type": "execute_result",
          "execution_count": 53,
          "data": {
            "text/plain": [
              "key1  key2\n",
              "a     one    -0.391415\n",
              "      two    -0.617273\n",
              "b     one     0.173129\n",
              "      two    -1.005269\n",
              "Name: data2, dtype: float64"
            ]
          },
          "metadata": {}
        }
      ],
      "execution_count": 53,
      "metadata": {
        "collapsed": false,
        "outputHidden": false,
        "inputHidden": false
      }
    },
    {
      "cell_type": "code",
      "source": [
        "#如果传入的是列表或数组（例如：[[]]或者[arr]），则此索引操作分会的对象是分组的DF；如果只有单个列名作为标量传递，则为分组的Series：\n",
        "\n",
        "s_grouped = df.groupby(['key1', 'key2'])['data2']\n",
        "s_grouped"
      ],
      "outputs": [
        {
          "output_type": "execute_result",
          "execution_count": 56,
          "data": {
            "text/plain": [
              "<pandas.core.groupby.SeriesGroupBy object at 0x00000275D2095588>"
            ]
          },
          "metadata": {}
        }
      ],
      "execution_count": 56,
      "metadata": {
        "collapsed": false,
        "outputHidden": false,
        "inputHidden": false
      }
    },
    {
      "cell_type": "code",
      "source": [
        "s_grouped.mean()"
      ],
      "outputs": [
        {
          "output_type": "execute_result",
          "execution_count": 57,
          "data": {
            "text/plain": [
              "key1  key2\n",
              "a     one    -0.391415\n",
              "      two    -0.617273\n",
              "b     one     0.173129\n",
              "      two    -1.005269\n",
              "Name: data2, dtype: float64"
            ]
          },
          "metadata": {}
        }
      ],
      "execution_count": 57,
      "metadata": {
        "collapsed": false,
        "outputHidden": false,
        "inputHidden": false
      }
    },
    {
      "cell_type": "markdown",
      "source": [
        "4. 使用字典或Series分组"
      ],
      "metadata": {}
    },
    {
      "cell_type": "code",
      "source": [
        "people = pd.DataFrame(np.random.randn(5, 5),\n",
        "                      columns=['a', 'b', 'c', 'd', 'e'],\n",
        "                      index=['Joe', 'Steve', 'Wes', 'Jim', 'Travis'])"
      ],
      "outputs": [],
      "execution_count": 64,
      "metadata": {
        "collapsed": false,
        "outputHidden": false,
        "inputHidden": false
      }
    },
    {
      "cell_type": "code",
      "source": [
        "people"
      ],
      "outputs": [
        {
          "output_type": "execute_result",
          "execution_count": 65,
          "data": {
            "text/plain": [
              "               a         b         c         d         e\n",
              "Joe     0.896851 -0.872164  1.045067 -0.697742  1.395431\n",
              "Steve  -1.189468 -0.095414 -0.211270  1.055818 -1.612227\n",
              "Wes     0.711719 -0.093408 -1.255368 -0.202707  0.471016\n",
              "Jim     1.145319 -0.901825  0.692995  0.936908  1.642949\n",
              "Travis  1.412536  0.612548  0.031828  0.552461 -1.405393"
            ],
            "text/html": [
              "<div>\n",
              "<table border=\"1\" class=\"dataframe\">\n",
              "  <thead>\n",
              "    <tr style=\"text-align: right;\">\n",
              "      <th></th>\n",
              "      <th>a</th>\n",
              "      <th>b</th>\n",
              "      <th>c</th>\n",
              "      <th>d</th>\n",
              "      <th>e</th>\n",
              "    </tr>\n",
              "  </thead>\n",
              "  <tbody>\n",
              "    <tr>\n",
              "      <th>Joe</th>\n",
              "      <td>0.896851</td>\n",
              "      <td>-0.872164</td>\n",
              "      <td>1.045067</td>\n",
              "      <td>-0.697742</td>\n",
              "      <td>1.395431</td>\n",
              "    </tr>\n",
              "    <tr>\n",
              "      <th>Steve</th>\n",
              "      <td>-1.189468</td>\n",
              "      <td>-0.095414</td>\n",
              "      <td>-0.211270</td>\n",
              "      <td>1.055818</td>\n",
              "      <td>-1.612227</td>\n",
              "    </tr>\n",
              "    <tr>\n",
              "      <th>Wes</th>\n",
              "      <td>0.711719</td>\n",
              "      <td>-0.093408</td>\n",
              "      <td>-1.255368</td>\n",
              "      <td>-0.202707</td>\n",
              "      <td>0.471016</td>\n",
              "    </tr>\n",
              "    <tr>\n",
              "      <th>Jim</th>\n",
              "      <td>1.145319</td>\n",
              "      <td>-0.901825</td>\n",
              "      <td>0.692995</td>\n",
              "      <td>0.936908</td>\n",
              "      <td>1.642949</td>\n",
              "    </tr>\n",
              "    <tr>\n",
              "      <th>Travis</th>\n",
              "      <td>1.412536</td>\n",
              "      <td>0.612548</td>\n",
              "      <td>0.031828</td>\n",
              "      <td>0.552461</td>\n",
              "      <td>-1.405393</td>\n",
              "    </tr>\n",
              "  </tbody>\n",
              "</table>\n",
              "</div>"
            ]
          },
          "metadata": {}
        }
      ],
      "execution_count": 65,
      "metadata": {
        "collapsed": false,
        "outputHidden": false,
        "inputHidden": false
      }
    },
    {
      "cell_type": "code",
      "source": [
        "people.iloc[2:3, [1, 2]] = np.nan"
      ],
      "outputs": [],
      "execution_count": 66,
      "metadata": {
        "collapsed": false,
        "outputHidden": false,
        "inputHidden": false
      }
    },
    {
      "cell_type": "code",
      "source": [
        "people"
      ],
      "outputs": [
        {
          "output_type": "execute_result",
          "execution_count": 67,
          "data": {
            "text/plain": [
              "               a         b         c         d         e\n",
              "Joe     0.896851 -0.872164  1.045067 -0.697742  1.395431\n",
              "Steve  -1.189468 -0.095414 -0.211270  1.055818 -1.612227\n",
              "Wes     0.711719       NaN       NaN -0.202707  0.471016\n",
              "Jim     1.145319 -0.901825  0.692995  0.936908  1.642949\n",
              "Travis  1.412536  0.612548  0.031828  0.552461 -1.405393"
            ],
            "text/html": [
              "<div>\n",
              "<table border=\"1\" class=\"dataframe\">\n",
              "  <thead>\n",
              "    <tr style=\"text-align: right;\">\n",
              "      <th></th>\n",
              "      <th>a</th>\n",
              "      <th>b</th>\n",
              "      <th>c</th>\n",
              "      <th>d</th>\n",
              "      <th>e</th>\n",
              "    </tr>\n",
              "  </thead>\n",
              "  <tbody>\n",
              "    <tr>\n",
              "      <th>Joe</th>\n",
              "      <td>0.896851</td>\n",
              "      <td>-0.872164</td>\n",
              "      <td>1.045067</td>\n",
              "      <td>-0.697742</td>\n",
              "      <td>1.395431</td>\n",
              "    </tr>\n",
              "    <tr>\n",
              "      <th>Steve</th>\n",
              "      <td>-1.189468</td>\n",
              "      <td>-0.095414</td>\n",
              "      <td>-0.211270</td>\n",
              "      <td>1.055818</td>\n",
              "      <td>-1.612227</td>\n",
              "    </tr>\n",
              "    <tr>\n",
              "      <th>Wes</th>\n",
              "      <td>0.711719</td>\n",
              "      <td>NaN</td>\n",
              "      <td>NaN</td>\n",
              "      <td>-0.202707</td>\n",
              "      <td>0.471016</td>\n",
              "    </tr>\n",
              "    <tr>\n",
              "      <th>Jim</th>\n",
              "      <td>1.145319</td>\n",
              "      <td>-0.901825</td>\n",
              "      <td>0.692995</td>\n",
              "      <td>0.936908</td>\n",
              "      <td>1.642949</td>\n",
              "    </tr>\n",
              "    <tr>\n",
              "      <th>Travis</th>\n",
              "      <td>1.412536</td>\n",
              "      <td>0.612548</td>\n",
              "      <td>0.031828</td>\n",
              "      <td>0.552461</td>\n",
              "      <td>-1.405393</td>\n",
              "    </tr>\n",
              "  </tbody>\n",
              "</table>\n",
              "</div>"
            ]
          },
          "metadata": {}
        }
      ],
      "execution_count": 67,
      "metadata": {
        "collapsed": false,
        "outputHidden": false,
        "inputHidden": false
      }
    },
    {
      "cell_type": "code",
      "source": [
        "mapping = {'a': 'red', 'b': 'red', 'c': 'blue',\n",
        "           'd': 'blue', 'e': 'red', 'f': 'orange'}"
      ],
      "outputs": [],
      "execution_count": 68,
      "metadata": {
        "collapsed": false,
        "outputHidden": false,
        "inputHidden": false
      }
    },
    {
      "cell_type": "code",
      "source": [
        "by_columns = people.groupby(mapping, axis=1)"
      ],
      "outputs": [],
      "execution_count": 69,
      "metadata": {
        "collapsed": false,
        "outputHidden": false,
        "inputHidden": false
      }
    },
    {
      "cell_type": "code",
      "source": [
        "by_columns.mean()"
      ],
      "outputs": [
        {
          "output_type": "execute_result",
          "execution_count": 70,
          "data": {
            "text/plain": [
              "            blue       red\n",
              "Joe     0.173662  0.473373\n",
              "Steve   0.422274 -0.965703\n",
              "Wes    -0.202707  0.591367\n",
              "Jim     0.814951  0.628814\n",
              "Travis  0.292144  0.206564"
            ],
            "text/html": [
              "<div>\n",
              "<table border=\"1\" class=\"dataframe\">\n",
              "  <thead>\n",
              "    <tr style=\"text-align: right;\">\n",
              "      <th></th>\n",
              "      <th>blue</th>\n",
              "      <th>red</th>\n",
              "    </tr>\n",
              "  </thead>\n",
              "  <tbody>\n",
              "    <tr>\n",
              "      <th>Joe</th>\n",
              "      <td>0.173662</td>\n",
              "      <td>0.473373</td>\n",
              "    </tr>\n",
              "    <tr>\n",
              "      <th>Steve</th>\n",
              "      <td>0.422274</td>\n",
              "      <td>-0.965703</td>\n",
              "    </tr>\n",
              "    <tr>\n",
              "      <th>Wes</th>\n",
              "      <td>-0.202707</td>\n",
              "      <td>0.591367</td>\n",
              "    </tr>\n",
              "    <tr>\n",
              "      <th>Jim</th>\n",
              "      <td>0.814951</td>\n",
              "      <td>0.628814</td>\n",
              "    </tr>\n",
              "    <tr>\n",
              "      <th>Travis</th>\n",
              "      <td>0.292144</td>\n",
              "      <td>0.206564</td>\n",
              "    </tr>\n",
              "  </tbody>\n",
              "</table>\n",
              "</div>"
            ]
          },
          "metadata": {}
        }
      ],
      "execution_count": 70,
      "metadata": {
        "collapsed": false,
        "outputHidden": false,
        "inputHidden": false
      }
    },
    {
      "cell_type": "code",
      "source": [
        "map_series = pd.Series(mapping)\n",
        "map_series"
      ],
      "outputs": [
        {
          "output_type": "execute_result",
          "execution_count": 71,
          "data": {
            "text/plain": [
              "a       red\n",
              "b       red\n",
              "c      blue\n",
              "d      blue\n",
              "e       red\n",
              "f    orange\n",
              "dtype: object"
            ]
          },
          "metadata": {}
        }
      ],
      "execution_count": 71,
      "metadata": {
        "collapsed": false,
        "outputHidden": false,
        "inputHidden": false
      }
    },
    {
      "cell_type": "code",
      "source": [
        "people.groupby(map_series, axis=1).count()"
      ],
      "outputs": [
        {
          "output_type": "execute_result",
          "execution_count": 72,
          "data": {
            "text/plain": [
              "        blue  red\n",
              "Joe        2    3\n",
              "Steve      2    3\n",
              "Wes        1    2\n",
              "Jim        2    3\n",
              "Travis     2    3"
            ],
            "text/html": [
              "<div>\n",
              "<table border=\"1\" class=\"dataframe\">\n",
              "  <thead>\n",
              "    <tr style=\"text-align: right;\">\n",
              "      <th></th>\n",
              "      <th>blue</th>\n",
              "      <th>red</th>\n",
              "    </tr>\n",
              "  </thead>\n",
              "  <tbody>\n",
              "    <tr>\n",
              "      <th>Joe</th>\n",
              "      <td>2</td>\n",
              "      <td>3</td>\n",
              "    </tr>\n",
              "    <tr>\n",
              "      <th>Steve</th>\n",
              "      <td>2</td>\n",
              "      <td>3</td>\n",
              "    </tr>\n",
              "    <tr>\n",
              "      <th>Wes</th>\n",
              "      <td>1</td>\n",
              "      <td>2</td>\n",
              "    </tr>\n",
              "    <tr>\n",
              "      <th>Jim</th>\n",
              "      <td>2</td>\n",
              "      <td>3</td>\n",
              "    </tr>\n",
              "    <tr>\n",
              "      <th>Travis</th>\n",
              "      <td>2</td>\n",
              "      <td>3</td>\n",
              "    </tr>\n",
              "  </tbody>\n",
              "</table>\n",
              "</div>"
            ]
          },
          "metadata": {}
        }
      ],
      "execution_count": 72,
      "metadata": {
        "collapsed": false,
        "outputHidden": false,
        "inputHidden": false
      }
    },
    {
      "cell_type": "markdown",
      "source": [
        "5. 使用函数分组"
      ],
      "metadata": {}
    },
    {
      "cell_type": "code",
      "source": [
        "#作为分组键传递的函数将会按照每个索引值调用一次，同时返回值会被同坐分组名称。"
      ],
      "outputs": [],
      "execution_count": 75,
      "metadata": {
        "collapsed": false,
        "outputHidden": false,
        "inputHidden": false
      }
    },
    {
      "cell_type": "code",
      "source": [
        "people"
      ],
      "outputs": [
        {
          "output_type": "execute_result",
          "execution_count": 78,
          "data": {
            "text/plain": [
              "               a         b         c         d         e\n",
              "Joe     0.896851 -0.872164  1.045067 -0.697742  1.395431\n",
              "Steve  -1.189468 -0.095414 -0.211270  1.055818 -1.612227\n",
              "Wes     0.711719       NaN       NaN -0.202707  0.471016\n",
              "Jim     1.145319 -0.901825  0.692995  0.936908  1.642949\n",
              "Travis  1.412536  0.612548  0.031828  0.552461 -1.405393"
            ],
            "text/html": [
              "<div>\n",
              "<table border=\"1\" class=\"dataframe\">\n",
              "  <thead>\n",
              "    <tr style=\"text-align: right;\">\n",
              "      <th></th>\n",
              "      <th>a</th>\n",
              "      <th>b</th>\n",
              "      <th>c</th>\n",
              "      <th>d</th>\n",
              "      <th>e</th>\n",
              "    </tr>\n",
              "  </thead>\n",
              "  <tbody>\n",
              "    <tr>\n",
              "      <th>Joe</th>\n",
              "      <td>0.896851</td>\n",
              "      <td>-0.872164</td>\n",
              "      <td>1.045067</td>\n",
              "      <td>-0.697742</td>\n",
              "      <td>1.395431</td>\n",
              "    </tr>\n",
              "    <tr>\n",
              "      <th>Steve</th>\n",
              "      <td>-1.189468</td>\n",
              "      <td>-0.095414</td>\n",
              "      <td>-0.211270</td>\n",
              "      <td>1.055818</td>\n",
              "      <td>-1.612227</td>\n",
              "    </tr>\n",
              "    <tr>\n",
              "      <th>Wes</th>\n",
              "      <td>0.711719</td>\n",
              "      <td>NaN</td>\n",
              "      <td>NaN</td>\n",
              "      <td>-0.202707</td>\n",
              "      <td>0.471016</td>\n",
              "    </tr>\n",
              "    <tr>\n",
              "      <th>Jim</th>\n",
              "      <td>1.145319</td>\n",
              "      <td>-0.901825</td>\n",
              "      <td>0.692995</td>\n",
              "      <td>0.936908</td>\n",
              "      <td>1.642949</td>\n",
              "    </tr>\n",
              "    <tr>\n",
              "      <th>Travis</th>\n",
              "      <td>1.412536</td>\n",
              "      <td>0.612548</td>\n",
              "      <td>0.031828</td>\n",
              "      <td>0.552461</td>\n",
              "      <td>-1.405393</td>\n",
              "    </tr>\n",
              "  </tbody>\n",
              "</table>\n",
              "</div>"
            ]
          },
          "metadata": {}
        }
      ],
      "execution_count": 78,
      "metadata": {
        "collapsed": false,
        "outputHidden": false,
        "inputHidden": false
      }
    },
    {
      "cell_type": "code",
      "source": [
        "#用名字的长度来进行分组\n",
        "people.groupby(len).sum()#名字的长度只有：3、5、6三种，分组后被列为键"
      ],
      "outputs": [
        {
          "output_type": "execute_result",
          "execution_count": 76,
          "data": {
            "text/plain": [
              "          a         b         c         d         e\n",
              "3  2.753889 -1.773989  1.738062  0.036458  3.509396\n",
              "5 -1.189468 -0.095414 -0.211270  1.055818 -1.612227\n",
              "6  1.412536  0.612548  0.031828  0.552461 -1.405393"
            ],
            "text/html": [
              "<div>\n",
              "<table border=\"1\" class=\"dataframe\">\n",
              "  <thead>\n",
              "    <tr style=\"text-align: right;\">\n",
              "      <th></th>\n",
              "      <th>a</th>\n",
              "      <th>b</th>\n",
              "      <th>c</th>\n",
              "      <th>d</th>\n",
              "      <th>e</th>\n",
              "    </tr>\n",
              "  </thead>\n",
              "  <tbody>\n",
              "    <tr>\n",
              "      <th>3</th>\n",
              "      <td>2.753889</td>\n",
              "      <td>-1.773989</td>\n",
              "      <td>1.738062</td>\n",
              "      <td>0.036458</td>\n",
              "      <td>3.509396</td>\n",
              "    </tr>\n",
              "    <tr>\n",
              "      <th>5</th>\n",
              "      <td>-1.189468</td>\n",
              "      <td>-0.095414</td>\n",
              "      <td>-0.211270</td>\n",
              "      <td>1.055818</td>\n",
              "      <td>-1.612227</td>\n",
              "    </tr>\n",
              "    <tr>\n",
              "      <th>6</th>\n",
              "      <td>1.412536</td>\n",
              "      <td>0.612548</td>\n",
              "      <td>0.031828</td>\n",
              "      <td>0.552461</td>\n",
              "      <td>-1.405393</td>\n",
              "    </tr>\n",
              "  </tbody>\n",
              "</table>\n",
              "</div>"
            ]
          },
          "metadata": {}
        }
      ],
      "execution_count": 76,
      "metadata": {
        "collapsed": false,
        "outputHidden": false,
        "inputHidden": false
      }
    },
    {
      "cell_type": "code",
      "source": [
        "#将函数与数组、字典亦或Series进行混合不难，所有的对象在内部都会转换为数组。"
      ],
      "outputs": [],
      "execution_count": 82,
      "metadata": {
        "collapsed": false,
        "outputHidden": false,
        "inputHidden": false
      }
    },
    {
      "cell_type": "code",
      "source": [
        "key_list = ['one', 'one', 'one', 'two', 'two']\n",
        "people.groupby([len, key_list]).min()"
      ],
      "outputs": [
        {
          "output_type": "execute_result",
          "execution_count": 83,
          "data": {
            "text/plain": [
              "              a         b         c         d         e\n",
              "3 one  0.711719 -0.872164  1.045067 -0.697742  0.471016\n",
              "  two  1.145319 -0.901825  0.692995  0.936908  1.642949\n",
              "5 one -1.189468 -0.095414 -0.211270  1.055818 -1.612227\n",
              "6 two  1.412536  0.612548  0.031828  0.552461 -1.405393"
            ],
            "text/html": [
              "<div>\n",
              "<table border=\"1\" class=\"dataframe\">\n",
              "  <thead>\n",
              "    <tr style=\"text-align: right;\">\n",
              "      <th></th>\n",
              "      <th></th>\n",
              "      <th>a</th>\n",
              "      <th>b</th>\n",
              "      <th>c</th>\n",
              "      <th>d</th>\n",
              "      <th>e</th>\n",
              "    </tr>\n",
              "  </thead>\n",
              "  <tbody>\n",
              "    <tr>\n",
              "      <th rowspan=\"2\" valign=\"top\">3</th>\n",
              "      <th>one</th>\n",
              "      <td>0.711719</td>\n",
              "      <td>-0.872164</td>\n",
              "      <td>1.045067</td>\n",
              "      <td>-0.697742</td>\n",
              "      <td>0.471016</td>\n",
              "    </tr>\n",
              "    <tr>\n",
              "      <th>two</th>\n",
              "      <td>1.145319</td>\n",
              "      <td>-0.901825</td>\n",
              "      <td>0.692995</td>\n",
              "      <td>0.936908</td>\n",
              "      <td>1.642949</td>\n",
              "    </tr>\n",
              "    <tr>\n",
              "      <th>5</th>\n",
              "      <th>one</th>\n",
              "      <td>-1.189468</td>\n",
              "      <td>-0.095414</td>\n",
              "      <td>-0.211270</td>\n",
              "      <td>1.055818</td>\n",
              "      <td>-1.612227</td>\n",
              "    </tr>\n",
              "    <tr>\n",
              "      <th>6</th>\n",
              "      <th>two</th>\n",
              "      <td>1.412536</td>\n",
              "      <td>0.612548</td>\n",
              "      <td>0.031828</td>\n",
              "      <td>0.552461</td>\n",
              "      <td>-1.405393</td>\n",
              "    </tr>\n",
              "  </tbody>\n",
              "</table>\n",
              "</div>"
            ]
          },
          "metadata": {}
        }
      ],
      "execution_count": 83,
      "metadata": {
        "collapsed": false,
        "outputHidden": false,
        "inputHidden": false
      }
    },
    {
      "cell_type": "markdown",
      "source": [
        "6. 根据索引层级进行分组"
      ],
      "metadata": {}
    },
    {
      "cell_type": "code",
      "source": [
        "columns = pd.MultiIndex.from_arrays([['US', 'US', 'US', 'JP', 'JP'],\n",
        "                                     [1, 3, 5, 1, 3]],\n",
        "                                     names=['cty', 'tenor'])"
      ],
      "outputs": [],
      "execution_count": 84,
      "metadata": {
        "collapsed": false,
        "outputHidden": false,
        "inputHidden": false
      }
    },
    {
      "cell_type": "code",
      "source": [
        "hier_df = pd.DataFrame(np.random.randn(4, 5), columns=columns)"
      ],
      "outputs": [],
      "execution_count": 85,
      "metadata": {
        "collapsed": false,
        "outputHidden": false,
        "inputHidden": false
      }
    },
    {
      "cell_type": "code",
      "source": [
        "hier_df"
      ],
      "outputs": [
        {
          "output_type": "execute_result",
          "execution_count": 86,
          "data": {
            "text/plain": [
              "cty          US                            JP          \n",
              "tenor         1         3         5         1         3\n",
              "0     -0.035298 -0.278056  0.959232  0.887179 -0.204703\n",
              "1     -0.901569 -0.604162 -0.375953  1.287564  0.943650\n",
              "2      1.115179 -0.808374  0.352363  1.056860 -0.973463\n",
              "3      0.970154  0.677732  0.340757 -0.142020 -0.645718"
            ],
            "text/html": [
              "<div>\n",
              "<table border=\"1\" class=\"dataframe\">\n",
              "  <thead>\n",
              "    <tr>\n",
              "      <th>cty</th>\n",
              "      <th colspan=\"3\" halign=\"left\">US</th>\n",
              "      <th colspan=\"2\" halign=\"left\">JP</th>\n",
              "    </tr>\n",
              "    <tr>\n",
              "      <th>tenor</th>\n",
              "      <th>1</th>\n",
              "      <th>3</th>\n",
              "      <th>5</th>\n",
              "      <th>1</th>\n",
              "      <th>3</th>\n",
              "    </tr>\n",
              "  </thead>\n",
              "  <tbody>\n",
              "    <tr>\n",
              "      <th>0</th>\n",
              "      <td>-0.035298</td>\n",
              "      <td>-0.278056</td>\n",
              "      <td>0.959232</td>\n",
              "      <td>0.887179</td>\n",
              "      <td>-0.204703</td>\n",
              "    </tr>\n",
              "    <tr>\n",
              "      <th>1</th>\n",
              "      <td>-0.901569</td>\n",
              "      <td>-0.604162</td>\n",
              "      <td>-0.375953</td>\n",
              "      <td>1.287564</td>\n",
              "      <td>0.943650</td>\n",
              "    </tr>\n",
              "    <tr>\n",
              "      <th>2</th>\n",
              "      <td>1.115179</td>\n",
              "      <td>-0.808374</td>\n",
              "      <td>0.352363</td>\n",
              "      <td>1.056860</td>\n",
              "      <td>-0.973463</td>\n",
              "    </tr>\n",
              "    <tr>\n",
              "      <th>3</th>\n",
              "      <td>0.970154</td>\n",
              "      <td>0.677732</td>\n",
              "      <td>0.340757</td>\n",
              "      <td>-0.142020</td>\n",
              "      <td>-0.645718</td>\n",
              "    </tr>\n",
              "  </tbody>\n",
              "</table>\n",
              "</div>"
            ]
          },
          "metadata": {}
        }
      ],
      "execution_count": 86,
      "metadata": {
        "collapsed": false,
        "outputHidden": false,
        "inputHidden": false
      }
    },
    {
      "cell_type": "code",
      "source": [
        "hier_df.groupby(level='cty', axis=1).count()"
      ],
      "outputs": [
        {
          "output_type": "execute_result",
          "execution_count": 87,
          "data": {
            "text/plain": [
              "cty  JP  US\n",
              "0     2   3\n",
              "1     2   3\n",
              "2     2   3\n",
              "3     2   3"
            ],
            "text/html": [
              "<div>\n",
              "<table border=\"1\" class=\"dataframe\">\n",
              "  <thead>\n",
              "    <tr style=\"text-align: right;\">\n",
              "      <th>cty</th>\n",
              "      <th>JP</th>\n",
              "      <th>US</th>\n",
              "    </tr>\n",
              "  </thead>\n",
              "  <tbody>\n",
              "    <tr>\n",
              "      <th>0</th>\n",
              "      <td>2</td>\n",
              "      <td>3</td>\n",
              "    </tr>\n",
              "    <tr>\n",
              "      <th>1</th>\n",
              "      <td>2</td>\n",
              "      <td>3</td>\n",
              "    </tr>\n",
              "    <tr>\n",
              "      <th>2</th>\n",
              "      <td>2</td>\n",
              "      <td>3</td>\n",
              "    </tr>\n",
              "    <tr>\n",
              "      <th>3</th>\n",
              "      <td>2</td>\n",
              "      <td>3</td>\n",
              "    </tr>\n",
              "  </tbody>\n",
              "</table>\n",
              "</div>"
            ]
          },
          "metadata": {}
        }
      ],
      "execution_count": 87,
      "metadata": {
        "collapsed": false,
        "outputHidden": false,
        "inputHidden": false
      }
    },
    {
      "cell_type": "markdown",
      "source": [
        "第二部分：\n",
        "\n",
        "1. 数据聚合\n",
        "\n",
        "聚合是指所有根据数组产生标量值的数据转换过程。\n",
        "\n",
        "优化的groupby方法：\n",
        "\n",
        "count————非NA值的数量\n",
        "\n",
        "sum\n",
        "\n",
        "mean\n",
        "\n",
        "median\n",
        "\n",
        "std、var\n",
        "\n",
        "min、max\n",
        "\n",
        "prod\n",
        "\n",
        "first、last————非NA值的第一个和最后一个值"
      ],
      "metadata": {}
    },
    {
      "cell_type": "code",
      "source": [
        "df"
      ],
      "outputs": [
        {
          "output_type": "execute_result",
          "execution_count": 88,
          "data": {
            "text/plain": [
              "      data1     data2 key1 key2\n",
              "0  0.504189 -0.997013    a  one\n",
              "1 -0.505229 -0.617273    a  two\n",
              "2  0.301553  0.173129    b  one\n",
              "3  0.607956 -1.005269    b  two\n",
              "4  1.400225  0.214183    a  one"
            ],
            "text/html": [
              "<div>\n",
              "<table border=\"1\" class=\"dataframe\">\n",
              "  <thead>\n",
              "    <tr style=\"text-align: right;\">\n",
              "      <th></th>\n",
              "      <th>data1</th>\n",
              "      <th>data2</th>\n",
              "      <th>key1</th>\n",
              "      <th>key2</th>\n",
              "    </tr>\n",
              "  </thead>\n",
              "  <tbody>\n",
              "    <tr>\n",
              "      <th>0</th>\n",
              "      <td>0.504189</td>\n",
              "      <td>-0.997013</td>\n",
              "      <td>a</td>\n",
              "      <td>one</td>\n",
              "    </tr>\n",
              "    <tr>\n",
              "      <th>1</th>\n",
              "      <td>-0.505229</td>\n",
              "      <td>-0.617273</td>\n",
              "      <td>a</td>\n",
              "      <td>two</td>\n",
              "    </tr>\n",
              "    <tr>\n",
              "      <th>2</th>\n",
              "      <td>0.301553</td>\n",
              "      <td>0.173129</td>\n",
              "      <td>b</td>\n",
              "      <td>one</td>\n",
              "    </tr>\n",
              "    <tr>\n",
              "      <th>3</th>\n",
              "      <td>0.607956</td>\n",
              "      <td>-1.005269</td>\n",
              "      <td>b</td>\n",
              "      <td>two</td>\n",
              "    </tr>\n",
              "    <tr>\n",
              "      <th>4</th>\n",
              "      <td>1.400225</td>\n",
              "      <td>0.214183</td>\n",
              "      <td>a</td>\n",
              "      <td>one</td>\n",
              "    </tr>\n",
              "  </tbody>\n",
              "</table>\n",
              "</div>"
            ]
          },
          "metadata": {}
        }
      ],
      "execution_count": 88,
      "metadata": {
        "collapsed": false,
        "outputHidden": false,
        "inputHidden": false
      }
    },
    {
      "cell_type": "code",
      "source": [
        "grouped = df.groupby('key1')"
      ],
      "outputs": [],
      "execution_count": 90,
      "metadata": {
        "collapsed": false,
        "outputHidden": false,
        "inputHidden": false
      }
    },
    {
      "cell_type": "code",
      "source": [
        "grouped['data1'].quantile(0.9)"
      ],
      "outputs": [
        {
          "output_type": "execute_result",
          "execution_count": 91,
          "data": {
            "text/plain": [
              "key1\n",
              "a    1.221018\n",
              "b    0.577315\n",
              "Name: data1, dtype: float64"
            ]
          },
          "metadata": {}
        }
      ],
      "execution_count": 91,
      "metadata": {
        "collapsed": false,
        "outputHidden": false,
        "inputHidden": false
      }
    },
    {
      "cell_type": "code",
      "source": [
        "#自定义聚合函数\n",
        "\n",
        "def peak_to_peak(arr):\n",
        "    return arr.max() - arr.min()\n",
        "grouped.agg(peak_to_peak)"
      ],
      "outputs": [
        {
          "output_type": "execute_result",
          "execution_count": 92,
          "data": {
            "text/plain": [
              "         data1     data2\n",
              "key1                    \n",
              "a     1.905454  1.211196\n",
              "b     0.306403  1.178398"
            ],
            "text/html": [
              "<div>\n",
              "<table border=\"1\" class=\"dataframe\">\n",
              "  <thead>\n",
              "    <tr style=\"text-align: right;\">\n",
              "      <th></th>\n",
              "      <th>data1</th>\n",
              "      <th>data2</th>\n",
              "    </tr>\n",
              "    <tr>\n",
              "      <th>key1</th>\n",
              "      <th></th>\n",
              "      <th></th>\n",
              "    </tr>\n",
              "  </thead>\n",
              "  <tbody>\n",
              "    <tr>\n",
              "      <th>a</th>\n",
              "      <td>1.905454</td>\n",
              "      <td>1.211196</td>\n",
              "    </tr>\n",
              "    <tr>\n",
              "      <th>b</th>\n",
              "      <td>0.306403</td>\n",
              "      <td>1.178398</td>\n",
              "    </tr>\n",
              "  </tbody>\n",
              "</table>\n",
              "</div>"
            ]
          },
          "metadata": {}
        }
      ],
      "execution_count": 92,
      "metadata": {
        "collapsed": false,
        "outputHidden": false,
        "inputHidden": false
      }
    },
    {
      "cell_type": "code",
      "source": [
        "grouped.describe()\n"
      ],
      "outputs": [
        {
          "output_type": "execute_result",
          "execution_count": 121,
          "data": {
            "text/plain": [
              "               data1     data2\n",
              "key1                          \n",
              "a    count  3.000000  3.000000\n",
              "     mean   0.466395 -0.466701\n",
              "     std    0.953289  0.619478\n",
              "     min   -0.505229 -0.997013\n",
              "     25%   -0.000520 -0.807143\n",
              "     50%    0.504189 -0.617273\n",
              "     75%    0.952207 -0.201545\n",
              "     max    1.400225  0.214183\n",
              "b    count  2.000000  2.000000\n",
              "     mean   0.454754 -0.416070\n",
              "     std    0.216659  0.833253\n",
              "     min    0.301553 -1.005269\n",
              "     25%    0.378154 -0.710670\n",
              "     50%    0.454754 -0.416070\n",
              "     75%    0.531355 -0.121471\n",
              "     max    0.607956  0.173129"
            ],
            "text/html": [
              "<div>\n",
              "<table border=\"1\" class=\"dataframe\">\n",
              "  <thead>\n",
              "    <tr style=\"text-align: right;\">\n",
              "      <th></th>\n",
              "      <th></th>\n",
              "      <th>data1</th>\n",
              "      <th>data2</th>\n",
              "    </tr>\n",
              "    <tr>\n",
              "      <th>key1</th>\n",
              "      <th></th>\n",
              "      <th></th>\n",
              "      <th></th>\n",
              "    </tr>\n",
              "  </thead>\n",
              "  <tbody>\n",
              "    <tr>\n",
              "      <th rowspan=\"8\" valign=\"top\">a</th>\n",
              "      <th>count</th>\n",
              "      <td>3.000000</td>\n",
              "      <td>3.000000</td>\n",
              "    </tr>\n",
              "    <tr>\n",
              "      <th>mean</th>\n",
              "      <td>0.466395</td>\n",
              "      <td>-0.466701</td>\n",
              "    </tr>\n",
              "    <tr>\n",
              "      <th>std</th>\n",
              "      <td>0.953289</td>\n",
              "      <td>0.619478</td>\n",
              "    </tr>\n",
              "    <tr>\n",
              "      <th>min</th>\n",
              "      <td>-0.505229</td>\n",
              "      <td>-0.997013</td>\n",
              "    </tr>\n",
              "    <tr>\n",
              "      <th>25%</th>\n",
              "      <td>-0.000520</td>\n",
              "      <td>-0.807143</td>\n",
              "    </tr>\n",
              "    <tr>\n",
              "      <th>50%</th>\n",
              "      <td>0.504189</td>\n",
              "      <td>-0.617273</td>\n",
              "    </tr>\n",
              "    <tr>\n",
              "      <th>75%</th>\n",
              "      <td>0.952207</td>\n",
              "      <td>-0.201545</td>\n",
              "    </tr>\n",
              "    <tr>\n",
              "      <th>max</th>\n",
              "      <td>1.400225</td>\n",
              "      <td>0.214183</td>\n",
              "    </tr>\n",
              "    <tr>\n",
              "      <th rowspan=\"8\" valign=\"top\">b</th>\n",
              "      <th>count</th>\n",
              "      <td>2.000000</td>\n",
              "      <td>2.000000</td>\n",
              "    </tr>\n",
              "    <tr>\n",
              "      <th>mean</th>\n",
              "      <td>0.454754</td>\n",
              "      <td>-0.416070</td>\n",
              "    </tr>\n",
              "    <tr>\n",
              "      <th>std</th>\n",
              "      <td>0.216659</td>\n",
              "      <td>0.833253</td>\n",
              "    </tr>\n",
              "    <tr>\n",
              "      <th>min</th>\n",
              "      <td>0.301553</td>\n",
              "      <td>-1.005269</td>\n",
              "    </tr>\n",
              "    <tr>\n",
              "      <th>25%</th>\n",
              "      <td>0.378154</td>\n",
              "      <td>-0.710670</td>\n",
              "    </tr>\n",
              "    <tr>\n",
              "      <th>50%</th>\n",
              "      <td>0.454754</td>\n",
              "      <td>-0.416070</td>\n",
              "    </tr>\n",
              "    <tr>\n",
              "      <th>75%</th>\n",
              "      <td>0.531355</td>\n",
              "      <td>-0.121471</td>\n",
              "    </tr>\n",
              "    <tr>\n",
              "      <th>max</th>\n",
              "      <td>0.607956</td>\n",
              "      <td>0.173129</td>\n",
              "    </tr>\n",
              "  </tbody>\n",
              "</table>\n",
              "</div>"
            ]
          },
          "metadata": {}
        }
      ],
      "execution_count": 121,
      "metadata": {
        "collapsed": false,
        "outputHidden": false,
        "inputHidden": false
      }
    },
    {
      "cell_type": "markdown",
      "source": [
        "逐列及多函数应用"
      ],
      "metadata": {}
    },
    {
      "cell_type": "code",
      "source": [
        "tips = pd.read_csv('code/examples/tips.csv')"
      ],
      "outputs": [],
      "execution_count": 122,
      "metadata": {
        "collapsed": false,
        "outputHidden": false,
        "inputHidden": false
      }
    },
    {
      "cell_type": "code",
      "source": [
        "#添加总账单的小费比例\n",
        "tips['tip_pct'] = tips['tip'] / tips['total_bill']\n",
        "tips[:6]"
      ],
      "outputs": [
        {
          "output_type": "execute_result",
          "execution_count": 124,
          "data": {
            "text/plain": [
              "   total_bill   tip smoker  day    time  size   tip_pct\n",
              "0       16.99  1.01     No  Sun  Dinner     2  0.059447\n",
              "1       10.34  1.66     No  Sun  Dinner     3  0.160542\n",
              "2       21.01  3.50     No  Sun  Dinner     3  0.166587\n",
              "3       23.68  3.31     No  Sun  Dinner     2  0.139780\n",
              "4       24.59  3.61     No  Sun  Dinner     4  0.146808\n",
              "5       25.29  4.71     No  Sun  Dinner     4  0.186240"
            ],
            "text/html": [
              "<div>\n",
              "<table border=\"1\" class=\"dataframe\">\n",
              "  <thead>\n",
              "    <tr style=\"text-align: right;\">\n",
              "      <th></th>\n",
              "      <th>total_bill</th>\n",
              "      <th>tip</th>\n",
              "      <th>smoker</th>\n",
              "      <th>day</th>\n",
              "      <th>time</th>\n",
              "      <th>size</th>\n",
              "      <th>tip_pct</th>\n",
              "    </tr>\n",
              "  </thead>\n",
              "  <tbody>\n",
              "    <tr>\n",
              "      <th>0</th>\n",
              "      <td>16.99</td>\n",
              "      <td>1.01</td>\n",
              "      <td>No</td>\n",
              "      <td>Sun</td>\n",
              "      <td>Dinner</td>\n",
              "      <td>2</td>\n",
              "      <td>0.059447</td>\n",
              "    </tr>\n",
              "    <tr>\n",
              "      <th>1</th>\n",
              "      <td>10.34</td>\n",
              "      <td>1.66</td>\n",
              "      <td>No</td>\n",
              "      <td>Sun</td>\n",
              "      <td>Dinner</td>\n",
              "      <td>3</td>\n",
              "      <td>0.160542</td>\n",
              "    </tr>\n",
              "    <tr>\n",
              "      <th>2</th>\n",
              "      <td>21.01</td>\n",
              "      <td>3.50</td>\n",
              "      <td>No</td>\n",
              "      <td>Sun</td>\n",
              "      <td>Dinner</td>\n",
              "      <td>3</td>\n",
              "      <td>0.166587</td>\n",
              "    </tr>\n",
              "    <tr>\n",
              "      <th>3</th>\n",
              "      <td>23.68</td>\n",
              "      <td>3.31</td>\n",
              "      <td>No</td>\n",
              "      <td>Sun</td>\n",
              "      <td>Dinner</td>\n",
              "      <td>2</td>\n",
              "      <td>0.139780</td>\n",
              "    </tr>\n",
              "    <tr>\n",
              "      <th>4</th>\n",
              "      <td>24.59</td>\n",
              "      <td>3.61</td>\n",
              "      <td>No</td>\n",
              "      <td>Sun</td>\n",
              "      <td>Dinner</td>\n",
              "      <td>4</td>\n",
              "      <td>0.146808</td>\n",
              "    </tr>\n",
              "    <tr>\n",
              "      <th>5</th>\n",
              "      <td>25.29</td>\n",
              "      <td>4.71</td>\n",
              "      <td>No</td>\n",
              "      <td>Sun</td>\n",
              "      <td>Dinner</td>\n",
              "      <td>4</td>\n",
              "      <td>0.186240</td>\n",
              "    </tr>\n",
              "  </tbody>\n",
              "</table>\n",
              "</div>"
            ]
          },
          "metadata": {}
        }
      ],
      "execution_count": 124,
      "metadata": {
        "collapsed": false,
        "outputHidden": false,
        "inputHidden": false
      }
    },
    {
      "cell_type": "code",
      "source": [
        "grouped = tips.groupby(['day', 'smoker'])"
      ],
      "outputs": [],
      "execution_count": 125,
      "metadata": {
        "collapsed": false,
        "outputHidden": false,
        "inputHidden": false
      }
    },
    {
      "cell_type": "code",
      "source": [
        "grouped_pct = grouped['tip_pct']\n",
        "grouped_pct.mean()"
      ],
      "outputs": [
        {
          "output_type": "execute_result",
          "execution_count": 127,
          "data": {
            "text/plain": [
              "day   smoker\n",
              "Fri   No        0.151650\n",
              "      Yes       0.174783\n",
              "Sat   No        0.158048\n",
              "      Yes       0.147906\n",
              "Sun   No        0.160113\n",
              "      Yes       0.187250\n",
              "Thur  No        0.160298\n",
              "      Yes       0.163863\n",
              "Name: tip_pct, dtype: float64"
            ]
          },
          "metadata": {}
        }
      ],
      "execution_count": 127,
      "metadata": {
        "collapsed": false,
        "outputHidden": false,
        "inputHidden": false
      }
    },
    {
      "cell_type": "code",
      "source": [
        "#或者使用aggregate或agg方法，并向其指定聚合函数\n",
        "grouped_pct.agg('mean')"
      ],
      "outputs": [
        {
          "output_type": "execute_result",
          "execution_count": 128,
          "data": {
            "text/plain": [
              "day   smoker\n",
              "Fri   No        0.151650\n",
              "      Yes       0.174783\n",
              "Sat   No        0.158048\n",
              "      Yes       0.147906\n",
              "Sun   No        0.160113\n",
              "      Yes       0.187250\n",
              "Thur  No        0.160298\n",
              "      Yes       0.163863\n",
              "Name: tip_pct, dtype: float64"
            ]
          },
          "metadata": {}
        }
      ],
      "execution_count": 128,
      "metadata": {
        "collapsed": false,
        "outputHidden": false,
        "inputHidden": false
      }
    },
    {
      "cell_type": "code",
      "source": [
        "#如果传递的是函数或者函数名列表，则会获得一个列名为这些函数名的DF；\n",
        "grouped_pct.agg(['mean', 'std' , peak_to_peak])\n",
        "#传递了聚合函数的列表给agg方法，这些函数会各自运用于数据分组。"
      ],
      "outputs": [
        {
          "output_type": "execute_result",
          "execution_count": 131,
          "data": {
            "text/plain": [
              "                 mean       std  peak_to_peak\n",
              "day  smoker                                  \n",
              "Fri  No      0.151650  0.028123      0.067349\n",
              "     Yes     0.174783  0.051293      0.159925\n",
              "Sat  No      0.158048  0.039767      0.235193\n",
              "     Yes     0.147906  0.061375      0.290095\n",
              "Sun  No      0.160113  0.042347      0.193226\n",
              "     Yes     0.187250  0.154134      0.644685\n",
              "Thur No      0.160298  0.038774      0.193350\n",
              "     Yes     0.163863  0.039389      0.151240"
            ],
            "text/html": [
              "<div>\n",
              "<table border=\"1\" class=\"dataframe\">\n",
              "  <thead>\n",
              "    <tr style=\"text-align: right;\">\n",
              "      <th></th>\n",
              "      <th></th>\n",
              "      <th>mean</th>\n",
              "      <th>std</th>\n",
              "      <th>peak_to_peak</th>\n",
              "    </tr>\n",
              "    <tr>\n",
              "      <th>day</th>\n",
              "      <th>smoker</th>\n",
              "      <th></th>\n",
              "      <th></th>\n",
              "      <th></th>\n",
              "    </tr>\n",
              "  </thead>\n",
              "  <tbody>\n",
              "    <tr>\n",
              "      <th rowspan=\"2\" valign=\"top\">Fri</th>\n",
              "      <th>No</th>\n",
              "      <td>0.151650</td>\n",
              "      <td>0.028123</td>\n",
              "      <td>0.067349</td>\n",
              "    </tr>\n",
              "    <tr>\n",
              "      <th>Yes</th>\n",
              "      <td>0.174783</td>\n",
              "      <td>0.051293</td>\n",
              "      <td>0.159925</td>\n",
              "    </tr>\n",
              "    <tr>\n",
              "      <th rowspan=\"2\" valign=\"top\">Sat</th>\n",
              "      <th>No</th>\n",
              "      <td>0.158048</td>\n",
              "      <td>0.039767</td>\n",
              "      <td>0.235193</td>\n",
              "    </tr>\n",
              "    <tr>\n",
              "      <th>Yes</th>\n",
              "      <td>0.147906</td>\n",
              "      <td>0.061375</td>\n",
              "      <td>0.290095</td>\n",
              "    </tr>\n",
              "    <tr>\n",
              "      <th rowspan=\"2\" valign=\"top\">Sun</th>\n",
              "      <th>No</th>\n",
              "      <td>0.160113</td>\n",
              "      <td>0.042347</td>\n",
              "      <td>0.193226</td>\n",
              "    </tr>\n",
              "    <tr>\n",
              "      <th>Yes</th>\n",
              "      <td>0.187250</td>\n",
              "      <td>0.154134</td>\n",
              "      <td>0.644685</td>\n",
              "    </tr>\n",
              "    <tr>\n",
              "      <th rowspan=\"2\" valign=\"top\">Thur</th>\n",
              "      <th>No</th>\n",
              "      <td>0.160298</td>\n",
              "      <td>0.038774</td>\n",
              "      <td>0.193350</td>\n",
              "    </tr>\n",
              "    <tr>\n",
              "      <th>Yes</th>\n",
              "      <td>0.163863</td>\n",
              "      <td>0.039389</td>\n",
              "      <td>0.151240</td>\n",
              "    </tr>\n",
              "  </tbody>\n",
              "</table>\n",
              "</div>"
            ]
          },
          "metadata": {}
        }
      ],
      "execution_count": 131,
      "metadata": {
        "collapsed": false,
        "outputHidden": false,
        "inputHidden": false
      }
    },
    {
      "cell_type": "code",
      "source": [
        "#利用二元组来建立列于函数的映射关系\n",
        "\n",
        "grouped_pct.agg([('foo', 'mean'), ('bar', np.std)])"
      ],
      "outputs": [
        {
          "output_type": "execute_result",
          "execution_count": 133,
          "data": {
            "text/plain": [
              "                  foo       bar\n",
              "day  smoker                    \n",
              "Fri  No      0.151650  0.028123\n",
              "     Yes     0.174783  0.051293\n",
              "Sat  No      0.158048  0.039767\n",
              "     Yes     0.147906  0.061375\n",
              "Sun  No      0.160113  0.042347\n",
              "     Yes     0.187250  0.154134\n",
              "Thur No      0.160298  0.038774\n",
              "     Yes     0.163863  0.039389"
            ],
            "text/html": [
              "<div>\n",
              "<table border=\"1\" class=\"dataframe\">\n",
              "  <thead>\n",
              "    <tr style=\"text-align: right;\">\n",
              "      <th></th>\n",
              "      <th></th>\n",
              "      <th>foo</th>\n",
              "      <th>bar</th>\n",
              "    </tr>\n",
              "    <tr>\n",
              "      <th>day</th>\n",
              "      <th>smoker</th>\n",
              "      <th></th>\n",
              "      <th></th>\n",
              "    </tr>\n",
              "  </thead>\n",
              "  <tbody>\n",
              "    <tr>\n",
              "      <th rowspan=\"2\" valign=\"top\">Fri</th>\n",
              "      <th>No</th>\n",
              "      <td>0.151650</td>\n",
              "      <td>0.028123</td>\n",
              "    </tr>\n",
              "    <tr>\n",
              "      <th>Yes</th>\n",
              "      <td>0.174783</td>\n",
              "      <td>0.051293</td>\n",
              "    </tr>\n",
              "    <tr>\n",
              "      <th rowspan=\"2\" valign=\"top\">Sat</th>\n",
              "      <th>No</th>\n",
              "      <td>0.158048</td>\n",
              "      <td>0.039767</td>\n",
              "    </tr>\n",
              "    <tr>\n",
              "      <th>Yes</th>\n",
              "      <td>0.147906</td>\n",
              "      <td>0.061375</td>\n",
              "    </tr>\n",
              "    <tr>\n",
              "      <th rowspan=\"2\" valign=\"top\">Sun</th>\n",
              "      <th>No</th>\n",
              "      <td>0.160113</td>\n",
              "      <td>0.042347</td>\n",
              "    </tr>\n",
              "    <tr>\n",
              "      <th>Yes</th>\n",
              "      <td>0.187250</td>\n",
              "      <td>0.154134</td>\n",
              "    </tr>\n",
              "    <tr>\n",
              "      <th rowspan=\"2\" valign=\"top\">Thur</th>\n",
              "      <th>No</th>\n",
              "      <td>0.160298</td>\n",
              "      <td>0.038774</td>\n",
              "    </tr>\n",
              "    <tr>\n",
              "      <th>Yes</th>\n",
              "      <td>0.163863</td>\n",
              "      <td>0.039389</td>\n",
              "    </tr>\n",
              "  </tbody>\n",
              "</table>\n",
              "</div>"
            ]
          },
          "metadata": {}
        }
      ],
      "execution_count": 133,
      "metadata": {
        "collapsed": false,
        "outputHidden": false,
        "inputHidden": false
      }
    },
    {
      "cell_type": "code",
      "source": [
        "#可以指定应用到所有列上的函数列表或每一个列上要应用的不同函数\n",
        "functions = ['count', 'mean', 'max']\n",
        "result = grouped['tip_pct', 'total_bill'].agg(functions)\n",
        "result"
      ],
      "outputs": [
        {
          "output_type": "execute_result",
          "execution_count": 134,
          "data": {
            "text/plain": [
              "            tip_pct                     total_bill                  \n",
              "              count      mean       max      count       mean    max\n",
              "day  smoker                                                         \n",
              "Fri  No           4  0.151650  0.187735          4  18.420000  22.75\n",
              "     Yes         15  0.174783  0.263480         15  16.813333  40.17\n",
              "Sat  No          45  0.158048  0.291990         45  19.661778  48.33\n",
              "     Yes         42  0.147906  0.325733         42  21.276667  50.81\n",
              "Sun  No          57  0.160113  0.252672         57  20.506667  48.17\n",
              "     Yes         19  0.187250  0.710345         19  24.120000  45.35\n",
              "Thur No          45  0.160298  0.266312         45  17.113111  41.19\n",
              "     Yes         17  0.163863  0.241255         17  19.190588  43.11"
            ],
            "text/html": [
              "<div>\n",
              "<table border=\"1\" class=\"dataframe\">\n",
              "  <thead>\n",
              "    <tr>\n",
              "      <th></th>\n",
              "      <th></th>\n",
              "      <th colspan=\"3\" halign=\"left\">tip_pct</th>\n",
              "      <th colspan=\"3\" halign=\"left\">total_bill</th>\n",
              "    </tr>\n",
              "    <tr>\n",
              "      <th></th>\n",
              "      <th></th>\n",
              "      <th>count</th>\n",
              "      <th>mean</th>\n",
              "      <th>max</th>\n",
              "      <th>count</th>\n",
              "      <th>mean</th>\n",
              "      <th>max</th>\n",
              "    </tr>\n",
              "    <tr>\n",
              "      <th>day</th>\n",
              "      <th>smoker</th>\n",
              "      <th></th>\n",
              "      <th></th>\n",
              "      <th></th>\n",
              "      <th></th>\n",
              "      <th></th>\n",
              "      <th></th>\n",
              "    </tr>\n",
              "  </thead>\n",
              "  <tbody>\n",
              "    <tr>\n",
              "      <th rowspan=\"2\" valign=\"top\">Fri</th>\n",
              "      <th>No</th>\n",
              "      <td>4</td>\n",
              "      <td>0.151650</td>\n",
              "      <td>0.187735</td>\n",
              "      <td>4</td>\n",
              "      <td>18.420000</td>\n",
              "      <td>22.75</td>\n",
              "    </tr>\n",
              "    <tr>\n",
              "      <th>Yes</th>\n",
              "      <td>15</td>\n",
              "      <td>0.174783</td>\n",
              "      <td>0.263480</td>\n",
              "      <td>15</td>\n",
              "      <td>16.813333</td>\n",
              "      <td>40.17</td>\n",
              "    </tr>\n",
              "    <tr>\n",
              "      <th rowspan=\"2\" valign=\"top\">Sat</th>\n",
              "      <th>No</th>\n",
              "      <td>45</td>\n",
              "      <td>0.158048</td>\n",
              "      <td>0.291990</td>\n",
              "      <td>45</td>\n",
              "      <td>19.661778</td>\n",
              "      <td>48.33</td>\n",
              "    </tr>\n",
              "    <tr>\n",
              "      <th>Yes</th>\n",
              "      <td>42</td>\n",
              "      <td>0.147906</td>\n",
              "      <td>0.325733</td>\n",
              "      <td>42</td>\n",
              "      <td>21.276667</td>\n",
              "      <td>50.81</td>\n",
              "    </tr>\n",
              "    <tr>\n",
              "      <th rowspan=\"2\" valign=\"top\">Sun</th>\n",
              "      <th>No</th>\n",
              "      <td>57</td>\n",
              "      <td>0.160113</td>\n",
              "      <td>0.252672</td>\n",
              "      <td>57</td>\n",
              "      <td>20.506667</td>\n",
              "      <td>48.17</td>\n",
              "    </tr>\n",
              "    <tr>\n",
              "      <th>Yes</th>\n",
              "      <td>19</td>\n",
              "      <td>0.187250</td>\n",
              "      <td>0.710345</td>\n",
              "      <td>19</td>\n",
              "      <td>24.120000</td>\n",
              "      <td>45.35</td>\n",
              "    </tr>\n",
              "    <tr>\n",
              "      <th rowspan=\"2\" valign=\"top\">Thur</th>\n",
              "      <th>No</th>\n",
              "      <td>45</td>\n",
              "      <td>0.160298</td>\n",
              "      <td>0.266312</td>\n",
              "      <td>45</td>\n",
              "      <td>17.113111</td>\n",
              "      <td>41.19</td>\n",
              "    </tr>\n",
              "    <tr>\n",
              "      <th>Yes</th>\n",
              "      <td>17</td>\n",
              "      <td>0.163863</td>\n",
              "      <td>0.241255</td>\n",
              "      <td>17</td>\n",
              "      <td>19.190588</td>\n",
              "      <td>43.11</td>\n",
              "    </tr>\n",
              "  </tbody>\n",
              "</table>\n",
              "</div>"
            ]
          },
          "metadata": {}
        }
      ],
      "execution_count": 134,
      "metadata": {
        "collapsed": false,
        "outputHidden": false,
        "inputHidden": false
      }
    },
    {
      "cell_type": "code",
      "source": [
        "result['tip_pct']"
      ],
      "outputs": [
        {
          "output_type": "execute_result",
          "execution_count": 135,
          "data": {
            "text/plain": [
              "             count      mean       max\n",
              "day  smoker                           \n",
              "Fri  No          4  0.151650  0.187735\n",
              "     Yes        15  0.174783  0.263480\n",
              "Sat  No         45  0.158048  0.291990\n",
              "     Yes        42  0.147906  0.325733\n",
              "Sun  No         57  0.160113  0.252672\n",
              "     Yes        19  0.187250  0.710345\n",
              "Thur No         45  0.160298  0.266312\n",
              "     Yes        17  0.163863  0.241255"
            ],
            "text/html": [
              "<div>\n",
              "<table border=\"1\" class=\"dataframe\">\n",
              "  <thead>\n",
              "    <tr style=\"text-align: right;\">\n",
              "      <th></th>\n",
              "      <th></th>\n",
              "      <th>count</th>\n",
              "      <th>mean</th>\n",
              "      <th>max</th>\n",
              "    </tr>\n",
              "    <tr>\n",
              "      <th>day</th>\n",
              "      <th>smoker</th>\n",
              "      <th></th>\n",
              "      <th></th>\n",
              "      <th></th>\n",
              "    </tr>\n",
              "  </thead>\n",
              "  <tbody>\n",
              "    <tr>\n",
              "      <th rowspan=\"2\" valign=\"top\">Fri</th>\n",
              "      <th>No</th>\n",
              "      <td>4</td>\n",
              "      <td>0.151650</td>\n",
              "      <td>0.187735</td>\n",
              "    </tr>\n",
              "    <tr>\n",
              "      <th>Yes</th>\n",
              "      <td>15</td>\n",
              "      <td>0.174783</td>\n",
              "      <td>0.263480</td>\n",
              "    </tr>\n",
              "    <tr>\n",
              "      <th rowspan=\"2\" valign=\"top\">Sat</th>\n",
              "      <th>No</th>\n",
              "      <td>45</td>\n",
              "      <td>0.158048</td>\n",
              "      <td>0.291990</td>\n",
              "    </tr>\n",
              "    <tr>\n",
              "      <th>Yes</th>\n",
              "      <td>42</td>\n",
              "      <td>0.147906</td>\n",
              "      <td>0.325733</td>\n",
              "    </tr>\n",
              "    <tr>\n",
              "      <th rowspan=\"2\" valign=\"top\">Sun</th>\n",
              "      <th>No</th>\n",
              "      <td>57</td>\n",
              "      <td>0.160113</td>\n",
              "      <td>0.252672</td>\n",
              "    </tr>\n",
              "    <tr>\n",
              "      <th>Yes</th>\n",
              "      <td>19</td>\n",
              "      <td>0.187250</td>\n",
              "      <td>0.710345</td>\n",
              "    </tr>\n",
              "    <tr>\n",
              "      <th rowspan=\"2\" valign=\"top\">Thur</th>\n",
              "      <th>No</th>\n",
              "      <td>45</td>\n",
              "      <td>0.160298</td>\n",
              "      <td>0.266312</td>\n",
              "    </tr>\n",
              "    <tr>\n",
              "      <th>Yes</th>\n",
              "      <td>17</td>\n",
              "      <td>0.163863</td>\n",
              "      <td>0.241255</td>\n",
              "    </tr>\n",
              "  </tbody>\n",
              "</table>\n",
              "</div>"
            ]
          },
          "metadata": {}
        }
      ],
      "execution_count": 135,
      "metadata": {
        "collapsed": false,
        "outputHidden": false,
        "inputHidden": false
      }
    },
    {
      "cell_type": "code",
      "source": [
        "ftuples = [('Durchschnitt', 'mean'), ('Abweichung', np.var)]"
      ],
      "outputs": [],
      "execution_count": 136,
      "metadata": {
        "collapsed": false,
        "outputHidden": false,
        "inputHidden": false
      }
    },
    {
      "cell_type": "code",
      "source": [
        "grouped['tip_pct', 'total_bill'].agg(ftuples)"
      ],
      "outputs": [
        {
          "output_type": "execute_result",
          "execution_count": 137,
          "data": {
            "text/plain": [
              "                 tip_pct              total_bill            \n",
              "            Durchschnitt Abweichung Durchschnitt  Abweichung\n",
              "day  smoker                                                 \n",
              "Fri  No         0.151650   0.000791    18.420000   25.596333\n",
              "     Yes        0.174783   0.002631    16.813333   82.562438\n",
              "Sat  No         0.158048   0.001581    19.661778   79.908965\n",
              "     Yes        0.147906   0.003767    21.276667  101.387535\n",
              "Sun  No         0.160113   0.001793    20.506667   66.099980\n",
              "     Yes        0.187250   0.023757    24.120000  109.046044\n",
              "Thur No         0.160298   0.001503    17.113111   59.625081\n",
              "     Yes        0.163863   0.001551    19.190588   69.808518"
            ],
            "text/html": [
              "<div>\n",
              "<table border=\"1\" class=\"dataframe\">\n",
              "  <thead>\n",
              "    <tr>\n",
              "      <th></th>\n",
              "      <th></th>\n",
              "      <th colspan=\"2\" halign=\"left\">tip_pct</th>\n",
              "      <th colspan=\"2\" halign=\"left\">total_bill</th>\n",
              "    </tr>\n",
              "    <tr>\n",
              "      <th></th>\n",
              "      <th></th>\n",
              "      <th>Durchschnitt</th>\n",
              "      <th>Abweichung</th>\n",
              "      <th>Durchschnitt</th>\n",
              "      <th>Abweichung</th>\n",
              "    </tr>\n",
              "    <tr>\n",
              "      <th>day</th>\n",
              "      <th>smoker</th>\n",
              "      <th></th>\n",
              "      <th></th>\n",
              "      <th></th>\n",
              "      <th></th>\n",
              "    </tr>\n",
              "  </thead>\n",
              "  <tbody>\n",
              "    <tr>\n",
              "      <th rowspan=\"2\" valign=\"top\">Fri</th>\n",
              "      <th>No</th>\n",
              "      <td>0.151650</td>\n",
              "      <td>0.000791</td>\n",
              "      <td>18.420000</td>\n",
              "      <td>25.596333</td>\n",
              "    </tr>\n",
              "    <tr>\n",
              "      <th>Yes</th>\n",
              "      <td>0.174783</td>\n",
              "      <td>0.002631</td>\n",
              "      <td>16.813333</td>\n",
              "      <td>82.562438</td>\n",
              "    </tr>\n",
              "    <tr>\n",
              "      <th rowspan=\"2\" valign=\"top\">Sat</th>\n",
              "      <th>No</th>\n",
              "      <td>0.158048</td>\n",
              "      <td>0.001581</td>\n",
              "      <td>19.661778</td>\n",
              "      <td>79.908965</td>\n",
              "    </tr>\n",
              "    <tr>\n",
              "      <th>Yes</th>\n",
              "      <td>0.147906</td>\n",
              "      <td>0.003767</td>\n",
              "      <td>21.276667</td>\n",
              "      <td>101.387535</td>\n",
              "    </tr>\n",
              "    <tr>\n",
              "      <th rowspan=\"2\" valign=\"top\">Sun</th>\n",
              "      <th>No</th>\n",
              "      <td>0.160113</td>\n",
              "      <td>0.001793</td>\n",
              "      <td>20.506667</td>\n",
              "      <td>66.099980</td>\n",
              "    </tr>\n",
              "    <tr>\n",
              "      <th>Yes</th>\n",
              "      <td>0.187250</td>\n",
              "      <td>0.023757</td>\n",
              "      <td>24.120000</td>\n",
              "      <td>109.046044</td>\n",
              "    </tr>\n",
              "    <tr>\n",
              "      <th rowspan=\"2\" valign=\"top\">Thur</th>\n",
              "      <th>No</th>\n",
              "      <td>0.160298</td>\n",
              "      <td>0.001503</td>\n",
              "      <td>17.113111</td>\n",
              "      <td>59.625081</td>\n",
              "    </tr>\n",
              "    <tr>\n",
              "      <th>Yes</th>\n",
              "      <td>0.163863</td>\n",
              "      <td>0.001551</td>\n",
              "      <td>19.190588</td>\n",
              "      <td>69.808518</td>\n",
              "    </tr>\n",
              "  </tbody>\n",
              "</table>\n",
              "</div>"
            ]
          },
          "metadata": {}
        }
      ],
      "execution_count": 137,
      "metadata": {
        "collapsed": false,
        "outputHidden": false,
        "inputHidden": false
      }
    },
    {
      "cell_type": "code",
      "source": [
        "#将不同的函数应用到一个或多个列上"
      ],
      "outputs": [],
      "execution_count": 138,
      "metadata": {
        "collapsed": false,
        "outputHidden": false,
        "inputHidden": false
      }
    },
    {
      "cell_type": "code",
      "source": [
        "grouped.agg({'tip' : 'max', 'size' : 'sum'})"
      ],
      "outputs": [
        {
          "output_type": "execute_result",
          "execution_count": 139,
          "data": {
            "text/plain": [
              "             size    tip\n",
              "day  smoker             \n",
              "Fri  No         9   3.50\n",
              "     Yes       31   4.73\n",
              "Sat  No       115   9.00\n",
              "     Yes      104  10.00\n",
              "Sun  No       167   6.00\n",
              "     Yes       49   6.50\n",
              "Thur No       112   6.70\n",
              "     Yes       40   5.00"
            ],
            "text/html": [
              "<div>\n",
              "<table border=\"1\" class=\"dataframe\">\n",
              "  <thead>\n",
              "    <tr style=\"text-align: right;\">\n",
              "      <th></th>\n",
              "      <th></th>\n",
              "      <th>size</th>\n",
              "      <th>tip</th>\n",
              "    </tr>\n",
              "    <tr>\n",
              "      <th>day</th>\n",
              "      <th>smoker</th>\n",
              "      <th></th>\n",
              "      <th></th>\n",
              "    </tr>\n",
              "  </thead>\n",
              "  <tbody>\n",
              "    <tr>\n",
              "      <th rowspan=\"2\" valign=\"top\">Fri</th>\n",
              "      <th>No</th>\n",
              "      <td>9</td>\n",
              "      <td>3.50</td>\n",
              "    </tr>\n",
              "    <tr>\n",
              "      <th>Yes</th>\n",
              "      <td>31</td>\n",
              "      <td>4.73</td>\n",
              "    </tr>\n",
              "    <tr>\n",
              "      <th rowspan=\"2\" valign=\"top\">Sat</th>\n",
              "      <th>No</th>\n",
              "      <td>115</td>\n",
              "      <td>9.00</td>\n",
              "    </tr>\n",
              "    <tr>\n",
              "      <th>Yes</th>\n",
              "      <td>104</td>\n",
              "      <td>10.00</td>\n",
              "    </tr>\n",
              "    <tr>\n",
              "      <th rowspan=\"2\" valign=\"top\">Sun</th>\n",
              "      <th>No</th>\n",
              "      <td>167</td>\n",
              "      <td>6.00</td>\n",
              "    </tr>\n",
              "    <tr>\n",
              "      <th>Yes</th>\n",
              "      <td>49</td>\n",
              "      <td>6.50</td>\n",
              "    </tr>\n",
              "    <tr>\n",
              "      <th rowspan=\"2\" valign=\"top\">Thur</th>\n",
              "      <th>No</th>\n",
              "      <td>112</td>\n",
              "      <td>6.70</td>\n",
              "    </tr>\n",
              "    <tr>\n",
              "      <th>Yes</th>\n",
              "      <td>40</td>\n",
              "      <td>5.00</td>\n",
              "    </tr>\n",
              "  </tbody>\n",
              "</table>\n",
              "</div>"
            ]
          },
          "metadata": {}
        }
      ],
      "execution_count": 139,
      "metadata": {
        "collapsed": false,
        "outputHidden": false,
        "inputHidden": false
      }
    },
    {
      "cell_type": "code",
      "source": [
        "#只有多个函数应用于至少一个列是，DF才具有分层列\n",
        "grouped.agg({'tip_pct' : ['min', 'max', 'mean', 'std'], 'size': 'sum'})"
      ],
      "outputs": [
        {
          "output_type": "execute_result",
          "execution_count": 141,
          "data": {
            "text/plain": [
              "            size   tip_pct                              \n",
              "             sum       min       max      mean       std\n",
              "day  smoker                                             \n",
              "Fri  No        9  0.120385  0.187735  0.151650  0.028123\n",
              "     Yes      31  0.103555  0.263480  0.174783  0.051293\n",
              "Sat  No      115  0.056797  0.291990  0.158048  0.039767\n",
              "     Yes     104  0.035638  0.325733  0.147906  0.061375\n",
              "Sun  No      167  0.059447  0.252672  0.160113  0.042347\n",
              "     Yes      49  0.065660  0.710345  0.187250  0.154134\n",
              "Thur No      112  0.072961  0.266312  0.160298  0.038774\n",
              "     Yes      40  0.090014  0.241255  0.163863  0.039389"
            ],
            "text/html": [
              "<div>\n",
              "<table border=\"1\" class=\"dataframe\">\n",
              "  <thead>\n",
              "    <tr>\n",
              "      <th></th>\n",
              "      <th></th>\n",
              "      <th>size</th>\n",
              "      <th colspan=\"4\" halign=\"left\">tip_pct</th>\n",
              "    </tr>\n",
              "    <tr>\n",
              "      <th></th>\n",
              "      <th></th>\n",
              "      <th>sum</th>\n",
              "      <th>min</th>\n",
              "      <th>max</th>\n",
              "      <th>mean</th>\n",
              "      <th>std</th>\n",
              "    </tr>\n",
              "    <tr>\n",
              "      <th>day</th>\n",
              "      <th>smoker</th>\n",
              "      <th></th>\n",
              "      <th></th>\n",
              "      <th></th>\n",
              "      <th></th>\n",
              "      <th></th>\n",
              "    </tr>\n",
              "  </thead>\n",
              "  <tbody>\n",
              "    <tr>\n",
              "      <th rowspan=\"2\" valign=\"top\">Fri</th>\n",
              "      <th>No</th>\n",
              "      <td>9</td>\n",
              "      <td>0.120385</td>\n",
              "      <td>0.187735</td>\n",
              "      <td>0.151650</td>\n",
              "      <td>0.028123</td>\n",
              "    </tr>\n",
              "    <tr>\n",
              "      <th>Yes</th>\n",
              "      <td>31</td>\n",
              "      <td>0.103555</td>\n",
              "      <td>0.263480</td>\n",
              "      <td>0.174783</td>\n",
              "      <td>0.051293</td>\n",
              "    </tr>\n",
              "    <tr>\n",
              "      <th rowspan=\"2\" valign=\"top\">Sat</th>\n",
              "      <th>No</th>\n",
              "      <td>115</td>\n",
              "      <td>0.056797</td>\n",
              "      <td>0.291990</td>\n",
              "      <td>0.158048</td>\n",
              "      <td>0.039767</td>\n",
              "    </tr>\n",
              "    <tr>\n",
              "      <th>Yes</th>\n",
              "      <td>104</td>\n",
              "      <td>0.035638</td>\n",
              "      <td>0.325733</td>\n",
              "      <td>0.147906</td>\n",
              "      <td>0.061375</td>\n",
              "    </tr>\n",
              "    <tr>\n",
              "      <th rowspan=\"2\" valign=\"top\">Sun</th>\n",
              "      <th>No</th>\n",
              "      <td>167</td>\n",
              "      <td>0.059447</td>\n",
              "      <td>0.252672</td>\n",
              "      <td>0.160113</td>\n",
              "      <td>0.042347</td>\n",
              "    </tr>\n",
              "    <tr>\n",
              "      <th>Yes</th>\n",
              "      <td>49</td>\n",
              "      <td>0.065660</td>\n",
              "      <td>0.710345</td>\n",
              "      <td>0.187250</td>\n",
              "      <td>0.154134</td>\n",
              "    </tr>\n",
              "    <tr>\n",
              "      <th rowspan=\"2\" valign=\"top\">Thur</th>\n",
              "      <th>No</th>\n",
              "      <td>112</td>\n",
              "      <td>0.072961</td>\n",
              "      <td>0.266312</td>\n",
              "      <td>0.160298</td>\n",
              "      <td>0.038774</td>\n",
              "    </tr>\n",
              "    <tr>\n",
              "      <th>Yes</th>\n",
              "      <td>40</td>\n",
              "      <td>0.090014</td>\n",
              "      <td>0.241255</td>\n",
              "      <td>0.163863</td>\n",
              "      <td>0.039389</td>\n",
              "    </tr>\n",
              "  </tbody>\n",
              "</table>\n",
              "</div>"
            ]
          },
          "metadata": {}
        }
      ],
      "execution_count": 141,
      "metadata": {
        "collapsed": false,
        "outputHidden": false,
        "inputHidden": false
      }
    },
    {
      "cell_type": "markdown",
      "source": [
        "2. 返回不含行索引的聚合数据"
      ],
      "metadata": {}
    },
    {
      "cell_type": "code",
      "source": [
        "#前面的例子中，聚合数据返回是都是带有索引的，有时索引是分层的，由唯一的分组键联合形成。\n",
        "#大多数情况下可以通过向groupby传递as_index=False来禁用分组键作为索引的行为。\n",
        "tips.groupby(['day', 'smoker'], as_index=False).mean()\n",
        "\n",
        "#其实可以理解为按照长列表返回结果"
      ],
      "outputs": [
        {
          "output_type": "execute_result",
          "execution_count": 143,
          "data": {
            "text/plain": [
              "    day smoker  total_bill       tip      size   tip_pct\n",
              "0   Fri     No   18.420000  2.812500  2.250000  0.151650\n",
              "1   Fri    Yes   16.813333  2.714000  2.066667  0.174783\n",
              "2   Sat     No   19.661778  3.102889  2.555556  0.158048\n",
              "3   Sat    Yes   21.276667  2.875476  2.476190  0.147906\n",
              "4   Sun     No   20.506667  3.167895  2.929825  0.160113\n",
              "5   Sun    Yes   24.120000  3.516842  2.578947  0.187250\n",
              "6  Thur     No   17.113111  2.673778  2.488889  0.160298\n",
              "7  Thur    Yes   19.190588  3.030000  2.352941  0.163863"
            ],
            "text/html": [
              "<div>\n",
              "<table border=\"1\" class=\"dataframe\">\n",
              "  <thead>\n",
              "    <tr style=\"text-align: right;\">\n",
              "      <th></th>\n",
              "      <th>day</th>\n",
              "      <th>smoker</th>\n",
              "      <th>total_bill</th>\n",
              "      <th>tip</th>\n",
              "      <th>size</th>\n",
              "      <th>tip_pct</th>\n",
              "    </tr>\n",
              "  </thead>\n",
              "  <tbody>\n",
              "    <tr>\n",
              "      <th>0</th>\n",
              "      <td>Fri</td>\n",
              "      <td>No</td>\n",
              "      <td>18.420000</td>\n",
              "      <td>2.812500</td>\n",
              "      <td>2.250000</td>\n",
              "      <td>0.151650</td>\n",
              "    </tr>\n",
              "    <tr>\n",
              "      <th>1</th>\n",
              "      <td>Fri</td>\n",
              "      <td>Yes</td>\n",
              "      <td>16.813333</td>\n",
              "      <td>2.714000</td>\n",
              "      <td>2.066667</td>\n",
              "      <td>0.174783</td>\n",
              "    </tr>\n",
              "    <tr>\n",
              "      <th>2</th>\n",
              "      <td>Sat</td>\n",
              "      <td>No</td>\n",
              "      <td>19.661778</td>\n",
              "      <td>3.102889</td>\n",
              "      <td>2.555556</td>\n",
              "      <td>0.158048</td>\n",
              "    </tr>\n",
              "    <tr>\n",
              "      <th>3</th>\n",
              "      <td>Sat</td>\n",
              "      <td>Yes</td>\n",
              "      <td>21.276667</td>\n",
              "      <td>2.875476</td>\n",
              "      <td>2.476190</td>\n",
              "      <td>0.147906</td>\n",
              "    </tr>\n",
              "    <tr>\n",
              "      <th>4</th>\n",
              "      <td>Sun</td>\n",
              "      <td>No</td>\n",
              "      <td>20.506667</td>\n",
              "      <td>3.167895</td>\n",
              "      <td>2.929825</td>\n",
              "      <td>0.160113</td>\n",
              "    </tr>\n",
              "    <tr>\n",
              "      <th>5</th>\n",
              "      <td>Sun</td>\n",
              "      <td>Yes</td>\n",
              "      <td>24.120000</td>\n",
              "      <td>3.516842</td>\n",
              "      <td>2.578947</td>\n",
              "      <td>0.187250</td>\n",
              "    </tr>\n",
              "    <tr>\n",
              "      <th>6</th>\n",
              "      <td>Thur</td>\n",
              "      <td>No</td>\n",
              "      <td>17.113111</td>\n",
              "      <td>2.673778</td>\n",
              "      <td>2.488889</td>\n",
              "      <td>0.160298</td>\n",
              "    </tr>\n",
              "    <tr>\n",
              "      <th>7</th>\n",
              "      <td>Thur</td>\n",
              "      <td>Yes</td>\n",
              "      <td>19.190588</td>\n",
              "      <td>3.030000</td>\n",
              "      <td>2.352941</td>\n",
              "      <td>0.163863</td>\n",
              "    </tr>\n",
              "  </tbody>\n",
              "</table>\n",
              "</div>"
            ]
          },
          "metadata": {}
        }
      ],
      "execution_count": 143,
      "metadata": {
        "collapsed": false,
        "outputHidden": false,
        "inputHidden": false
      }
    },
    {
      "cell_type": "code",
      "source": [
        "#通过调用reset_index()可以获得与as_index=False相同的效果。"
      ],
      "outputs": [],
      "execution_count": 144,
      "metadata": {
        "collapsed": false,
        "outputHidden": false,
        "inputHidden": false
      }
    },
    {
      "cell_type": "markdown",
      "source": [
        "第三部分：应用：通用拆分——应用——联合"
      ],
      "metadata": {}
    },
    {
      "cell_type": "markdown",
      "source": [
        "GroupBy方法最最最为常见的目的是apply（应用）；\n",
        "\n",
        "*apply*将数据对象拆分成多个块，然后在每一个块上调用传递的函数，之后尝试将每一个块拼接到一起。"
      ],
      "metadata": {}
    },
    {
      "cell_type": "code",
      "source": [
        "#练习，小费数据集，选出小费百分比(tip_pct)最高的五组"
      ],
      "outputs": [],
      "execution_count": 145,
      "metadata": {
        "collapsed": false,
        "outputHidden": false,
        "inputHidden": false
      }
    },
    {
      "cell_type": "code",
      "source": [
        "def top(df, n=5, column='tip_pct'):\n",
        "    return df.sort_values(by=column)[-n:]"
      ],
      "outputs": [],
      "execution_count": 146,
      "metadata": {
        "collapsed": false,
        "outputHidden": false,
        "inputHidden": false
      }
    },
    {
      "cell_type": "code",
      "source": [
        "top(tips, n=6)"
      ],
      "outputs": [
        {
          "output_type": "execute_result",
          "execution_count": 147,
          "data": {
            "text/plain": [
              "     total_bill   tip smoker  day    time  size   tip_pct\n",
              "109       14.31  4.00    Yes  Sat  Dinner     2  0.279525\n",
              "183       23.17  6.50    Yes  Sun  Dinner     4  0.280535\n",
              "232       11.61  3.39     No  Sat  Dinner     2  0.291990\n",
              "67         3.07  1.00    Yes  Sat  Dinner     1  0.325733\n",
              "178        9.60  4.00    Yes  Sun  Dinner     2  0.416667\n",
              "172        7.25  5.15    Yes  Sun  Dinner     2  0.710345"
            ],
            "text/html": [
              "<div>\n",
              "<table border=\"1\" class=\"dataframe\">\n",
              "  <thead>\n",
              "    <tr style=\"text-align: right;\">\n",
              "      <th></th>\n",
              "      <th>total_bill</th>\n",
              "      <th>tip</th>\n",
              "      <th>smoker</th>\n",
              "      <th>day</th>\n",
              "      <th>time</th>\n",
              "      <th>size</th>\n",
              "      <th>tip_pct</th>\n",
              "    </tr>\n",
              "  </thead>\n",
              "  <tbody>\n",
              "    <tr>\n",
              "      <th>109</th>\n",
              "      <td>14.31</td>\n",
              "      <td>4.00</td>\n",
              "      <td>Yes</td>\n",
              "      <td>Sat</td>\n",
              "      <td>Dinner</td>\n",
              "      <td>2</td>\n",
              "      <td>0.279525</td>\n",
              "    </tr>\n",
              "    <tr>\n",
              "      <th>183</th>\n",
              "      <td>23.17</td>\n",
              "      <td>6.50</td>\n",
              "      <td>Yes</td>\n",
              "      <td>Sun</td>\n",
              "      <td>Dinner</td>\n",
              "      <td>4</td>\n",
              "      <td>0.280535</td>\n",
              "    </tr>\n",
              "    <tr>\n",
              "      <th>232</th>\n",
              "      <td>11.61</td>\n",
              "      <td>3.39</td>\n",
              "      <td>No</td>\n",
              "      <td>Sat</td>\n",
              "      <td>Dinner</td>\n",
              "      <td>2</td>\n",
              "      <td>0.291990</td>\n",
              "    </tr>\n",
              "    <tr>\n",
              "      <th>67</th>\n",
              "      <td>3.07</td>\n",
              "      <td>1.00</td>\n",
              "      <td>Yes</td>\n",
              "      <td>Sat</td>\n",
              "      <td>Dinner</td>\n",
              "      <td>1</td>\n",
              "      <td>0.325733</td>\n",
              "    </tr>\n",
              "    <tr>\n",
              "      <th>178</th>\n",
              "      <td>9.60</td>\n",
              "      <td>4.00</td>\n",
              "      <td>Yes</td>\n",
              "      <td>Sun</td>\n",
              "      <td>Dinner</td>\n",
              "      <td>2</td>\n",
              "      <td>0.416667</td>\n",
              "    </tr>\n",
              "    <tr>\n",
              "      <th>172</th>\n",
              "      <td>7.25</td>\n",
              "      <td>5.15</td>\n",
              "      <td>Yes</td>\n",
              "      <td>Sun</td>\n",
              "      <td>Dinner</td>\n",
              "      <td>2</td>\n",
              "      <td>0.710345</td>\n",
              "    </tr>\n",
              "  </tbody>\n",
              "</table>\n",
              "</div>"
            ]
          },
          "metadata": {}
        }
      ],
      "execution_count": 147,
      "metadata": {
        "collapsed": false,
        "outputHidden": false,
        "inputHidden": false
      }
    },
    {
      "cell_type": "code",
      "source": [
        "tips.groupby('smoker').apply(top)"
      ],
      "outputs": [
        {
          "output_type": "execute_result",
          "execution_count": 148,
          "data": {
            "text/plain": [
              "            total_bill   tip smoker   day    time  size   tip_pct\n",
              "smoker                                                           \n",
              "No     88        24.71  5.85     No  Thur   Lunch     2  0.236746\n",
              "       185       20.69  5.00     No   Sun  Dinner     5  0.241663\n",
              "       51        10.29  2.60     No   Sun  Dinner     2  0.252672\n",
              "       149        7.51  2.00     No  Thur   Lunch     2  0.266312\n",
              "       232       11.61  3.39     No   Sat  Dinner     2  0.291990\n",
              "Yes    109       14.31  4.00    Yes   Sat  Dinner     2  0.279525\n",
              "       183       23.17  6.50    Yes   Sun  Dinner     4  0.280535\n",
              "       67         3.07  1.00    Yes   Sat  Dinner     1  0.325733\n",
              "       178        9.60  4.00    Yes   Sun  Dinner     2  0.416667\n",
              "       172        7.25  5.15    Yes   Sun  Dinner     2  0.710345"
            ],
            "text/html": [
              "<div>\n",
              "<table border=\"1\" class=\"dataframe\">\n",
              "  <thead>\n",
              "    <tr style=\"text-align: right;\">\n",
              "      <th></th>\n",
              "      <th></th>\n",
              "      <th>total_bill</th>\n",
              "      <th>tip</th>\n",
              "      <th>smoker</th>\n",
              "      <th>day</th>\n",
              "      <th>time</th>\n",
              "      <th>size</th>\n",
              "      <th>tip_pct</th>\n",
              "    </tr>\n",
              "    <tr>\n",
              "      <th>smoker</th>\n",
              "      <th></th>\n",
              "      <th></th>\n",
              "      <th></th>\n",
              "      <th></th>\n",
              "      <th></th>\n",
              "      <th></th>\n",
              "      <th></th>\n",
              "      <th></th>\n",
              "    </tr>\n",
              "  </thead>\n",
              "  <tbody>\n",
              "    <tr>\n",
              "      <th rowspan=\"5\" valign=\"top\">No</th>\n",
              "      <th>88</th>\n",
              "      <td>24.71</td>\n",
              "      <td>5.85</td>\n",
              "      <td>No</td>\n",
              "      <td>Thur</td>\n",
              "      <td>Lunch</td>\n",
              "      <td>2</td>\n",
              "      <td>0.236746</td>\n",
              "    </tr>\n",
              "    <tr>\n",
              "      <th>185</th>\n",
              "      <td>20.69</td>\n",
              "      <td>5.00</td>\n",
              "      <td>No</td>\n",
              "      <td>Sun</td>\n",
              "      <td>Dinner</td>\n",
              "      <td>5</td>\n",
              "      <td>0.241663</td>\n",
              "    </tr>\n",
              "    <tr>\n",
              "      <th>51</th>\n",
              "      <td>10.29</td>\n",
              "      <td>2.60</td>\n",
              "      <td>No</td>\n",
              "      <td>Sun</td>\n",
              "      <td>Dinner</td>\n",
              "      <td>2</td>\n",
              "      <td>0.252672</td>\n",
              "    </tr>\n",
              "    <tr>\n",
              "      <th>149</th>\n",
              "      <td>7.51</td>\n",
              "      <td>2.00</td>\n",
              "      <td>No</td>\n",
              "      <td>Thur</td>\n",
              "      <td>Lunch</td>\n",
              "      <td>2</td>\n",
              "      <td>0.266312</td>\n",
              "    </tr>\n",
              "    <tr>\n",
              "      <th>232</th>\n",
              "      <td>11.61</td>\n",
              "      <td>3.39</td>\n",
              "      <td>No</td>\n",
              "      <td>Sat</td>\n",
              "      <td>Dinner</td>\n",
              "      <td>2</td>\n",
              "      <td>0.291990</td>\n",
              "    </tr>\n",
              "    <tr>\n",
              "      <th rowspan=\"5\" valign=\"top\">Yes</th>\n",
              "      <th>109</th>\n",
              "      <td>14.31</td>\n",
              "      <td>4.00</td>\n",
              "      <td>Yes</td>\n",
              "      <td>Sat</td>\n",
              "      <td>Dinner</td>\n",
              "      <td>2</td>\n",
              "      <td>0.279525</td>\n",
              "    </tr>\n",
              "    <tr>\n",
              "      <th>183</th>\n",
              "      <td>23.17</td>\n",
              "      <td>6.50</td>\n",
              "      <td>Yes</td>\n",
              "      <td>Sun</td>\n",
              "      <td>Dinner</td>\n",
              "      <td>4</td>\n",
              "      <td>0.280535</td>\n",
              "    </tr>\n",
              "    <tr>\n",
              "      <th>67</th>\n",
              "      <td>3.07</td>\n",
              "      <td>1.00</td>\n",
              "      <td>Yes</td>\n",
              "      <td>Sat</td>\n",
              "      <td>Dinner</td>\n",
              "      <td>1</td>\n",
              "      <td>0.325733</td>\n",
              "    </tr>\n",
              "    <tr>\n",
              "      <th>178</th>\n",
              "      <td>9.60</td>\n",
              "      <td>4.00</td>\n",
              "      <td>Yes</td>\n",
              "      <td>Sun</td>\n",
              "      <td>Dinner</td>\n",
              "      <td>2</td>\n",
              "      <td>0.416667</td>\n",
              "    </tr>\n",
              "    <tr>\n",
              "      <th>172</th>\n",
              "      <td>7.25</td>\n",
              "      <td>5.15</td>\n",
              "      <td>Yes</td>\n",
              "      <td>Sun</td>\n",
              "      <td>Dinner</td>\n",
              "      <td>2</td>\n",
              "      <td>0.710345</td>\n",
              "    </tr>\n",
              "  </tbody>\n",
              "</table>\n",
              "</div>"
            ]
          },
          "metadata": {}
        }
      ],
      "execution_count": 148,
      "metadata": {
        "collapsed": false,
        "outputHidden": false,
        "inputHidden": false
      }
    },
    {
      "cell_type": "markdown",
      "source": [
        "原理解释：top函数在DF的每一行分组上被调用，之后使用pandas.concat将函数结果粘贴在了一起，并使用分组名作为各组的名标签。\n",
        "\n",
        "因此，结果包含一个分层索引，该分层索引的内部层级包含原始DF的索引值。"
      ],
      "metadata": {}
    },
    {
      "cell_type": "code",
      "source": [
        "#被传递函数所需的额外参数可以在被传递的函数外（作为apply函数的可选参数）传递\n",
        "\n",
        "tips.groupby(['smoker', 'day']).apply(top, n=1, column='total_bill')"
      ],
      "outputs": [
        {
          "output_type": "execute_result",
          "execution_count": 150,
          "data": {
            "text/plain": [
              "                 total_bill    tip smoker   day    time  size   tip_pct\n",
              "smoker day                                                             \n",
              "No     Fri  94        22.75   3.25     No   Fri  Dinner     2  0.142857\n",
              "       Sat  212       48.33   9.00     No   Sat  Dinner     4  0.186220\n",
              "       Sun  156       48.17   5.00     No   Sun  Dinner     6  0.103799\n",
              "       Thur 142       41.19   5.00     No  Thur   Lunch     5  0.121389\n",
              "Yes    Fri  95        40.17   4.73    Yes   Fri  Dinner     4  0.117750\n",
              "       Sat  170       50.81  10.00    Yes   Sat  Dinner     3  0.196812\n",
              "       Sun  182       45.35   3.50    Yes   Sun  Dinner     3  0.077178\n",
              "       Thur 197       43.11   5.00    Yes  Thur   Lunch     4  0.115982"
            ],
            "text/html": [
              "<div>\n",
              "<table border=\"1\" class=\"dataframe\">\n",
              "  <thead>\n",
              "    <tr style=\"text-align: right;\">\n",
              "      <th></th>\n",
              "      <th></th>\n",
              "      <th></th>\n",
              "      <th>total_bill</th>\n",
              "      <th>tip</th>\n",
              "      <th>smoker</th>\n",
              "      <th>day</th>\n",
              "      <th>time</th>\n",
              "      <th>size</th>\n",
              "      <th>tip_pct</th>\n",
              "    </tr>\n",
              "    <tr>\n",
              "      <th>smoker</th>\n",
              "      <th>day</th>\n",
              "      <th></th>\n",
              "      <th></th>\n",
              "      <th></th>\n",
              "      <th></th>\n",
              "      <th></th>\n",
              "      <th></th>\n",
              "      <th></th>\n",
              "      <th></th>\n",
              "    </tr>\n",
              "  </thead>\n",
              "  <tbody>\n",
              "    <tr>\n",
              "      <th rowspan=\"4\" valign=\"top\">No</th>\n",
              "      <th>Fri</th>\n",
              "      <th>94</th>\n",
              "      <td>22.75</td>\n",
              "      <td>3.25</td>\n",
              "      <td>No</td>\n",
              "      <td>Fri</td>\n",
              "      <td>Dinner</td>\n",
              "      <td>2</td>\n",
              "      <td>0.142857</td>\n",
              "    </tr>\n",
              "    <tr>\n",
              "      <th>Sat</th>\n",
              "      <th>212</th>\n",
              "      <td>48.33</td>\n",
              "      <td>9.00</td>\n",
              "      <td>No</td>\n",
              "      <td>Sat</td>\n",
              "      <td>Dinner</td>\n",
              "      <td>4</td>\n",
              "      <td>0.186220</td>\n",
              "    </tr>\n",
              "    <tr>\n",
              "      <th>Sun</th>\n",
              "      <th>156</th>\n",
              "      <td>48.17</td>\n",
              "      <td>5.00</td>\n",
              "      <td>No</td>\n",
              "      <td>Sun</td>\n",
              "      <td>Dinner</td>\n",
              "      <td>6</td>\n",
              "      <td>0.103799</td>\n",
              "    </tr>\n",
              "    <tr>\n",
              "      <th>Thur</th>\n",
              "      <th>142</th>\n",
              "      <td>41.19</td>\n",
              "      <td>5.00</td>\n",
              "      <td>No</td>\n",
              "      <td>Thur</td>\n",
              "      <td>Lunch</td>\n",
              "      <td>5</td>\n",
              "      <td>0.121389</td>\n",
              "    </tr>\n",
              "    <tr>\n",
              "      <th rowspan=\"4\" valign=\"top\">Yes</th>\n",
              "      <th>Fri</th>\n",
              "      <th>95</th>\n",
              "      <td>40.17</td>\n",
              "      <td>4.73</td>\n",
              "      <td>Yes</td>\n",
              "      <td>Fri</td>\n",
              "      <td>Dinner</td>\n",
              "      <td>4</td>\n",
              "      <td>0.117750</td>\n",
              "    </tr>\n",
              "    <tr>\n",
              "      <th>Sat</th>\n",
              "      <th>170</th>\n",
              "      <td>50.81</td>\n",
              "      <td>10.00</td>\n",
              "      <td>Yes</td>\n",
              "      <td>Sat</td>\n",
              "      <td>Dinner</td>\n",
              "      <td>3</td>\n",
              "      <td>0.196812</td>\n",
              "    </tr>\n",
              "    <tr>\n",
              "      <th>Sun</th>\n",
              "      <th>182</th>\n",
              "      <td>45.35</td>\n",
              "      <td>3.50</td>\n",
              "      <td>Yes</td>\n",
              "      <td>Sun</td>\n",
              "      <td>Dinner</td>\n",
              "      <td>3</td>\n",
              "      <td>0.077178</td>\n",
              "    </tr>\n",
              "    <tr>\n",
              "      <th>Thur</th>\n",
              "      <th>197</th>\n",
              "      <td>43.11</td>\n",
              "      <td>5.00</td>\n",
              "      <td>Yes</td>\n",
              "      <td>Thur</td>\n",
              "      <td>Lunch</td>\n",
              "      <td>4</td>\n",
              "      <td>0.115982</td>\n",
              "    </tr>\n",
              "  </tbody>\n",
              "</table>\n",
              "</div>"
            ]
          },
          "metadata": {}
        }
      ],
      "execution_count": 150,
      "metadata": {
        "collapsed": false,
        "outputHidden": false,
        "inputHidden": false
      }
    },
    {
      "cell_type": "markdown",
      "source": [
        "被传递函数的构建需要coder有些想象力，内部实现没有限制，只需要函数能返回一个pandas对象或者一个标量值。"
      ],
      "metadata": {}
    },
    {
      "cell_type": "code",
      "source": [
        "result = tips.groupby('smoker')['tip_pct'].describe()"
      ],
      "outputs": [],
      "execution_count": 151,
      "metadata": {
        "collapsed": false,
        "outputHidden": false,
        "inputHidden": false
      }
    },
    {
      "cell_type": "code",
      "source": [
        "result"
      ],
      "outputs": [
        {
          "output_type": "execute_result",
          "execution_count": 152,
          "data": {
            "text/plain": [
              "smoker       \n",
              "No      count    151.000000\n",
              "        mean       0.159328\n",
              "        std        0.039910\n",
              "        min        0.056797\n",
              "        25%        0.136906\n",
              "        50%        0.155625\n",
              "        75%        0.185014\n",
              "        max        0.291990\n",
              "Yes     count     93.000000\n",
              "        mean       0.163196\n",
              "        std        0.085119\n",
              "        min        0.035638\n",
              "        25%        0.106771\n",
              "        50%        0.153846\n",
              "        75%        0.195059\n",
              "        max        0.710345\n",
              "Name: tip_pct, dtype: float64"
            ]
          },
          "metadata": {}
        }
      ],
      "execution_count": 152,
      "metadata": {
        "collapsed": false,
        "outputHidden": false,
        "inputHidden": false
      }
    },
    {
      "cell_type": "code",
      "source": [
        "result.unstack('smoker')"
      ],
      "outputs": [
        {
          "output_type": "execute_result",
          "execution_count": 153,
          "data": {
            "text/plain": [
              "smoker          No        Yes\n",
              "count   151.000000  93.000000\n",
              "mean      0.159328   0.163196\n",
              "std       0.039910   0.085119\n",
              "min       0.056797   0.035638\n",
              "25%       0.136906   0.106771\n",
              "50%       0.155625   0.153846\n",
              "75%       0.185014   0.195059\n",
              "max       0.291990   0.710345"
            ],
            "text/html": [
              "<div>\n",
              "<table border=\"1\" class=\"dataframe\">\n",
              "  <thead>\n",
              "    <tr style=\"text-align: right;\">\n",
              "      <th>smoker</th>\n",
              "      <th>No</th>\n",
              "      <th>Yes</th>\n",
              "    </tr>\n",
              "  </thead>\n",
              "  <tbody>\n",
              "    <tr>\n",
              "      <th>count</th>\n",
              "      <td>151.000000</td>\n",
              "      <td>93.000000</td>\n",
              "    </tr>\n",
              "    <tr>\n",
              "      <th>mean</th>\n",
              "      <td>0.159328</td>\n",
              "      <td>0.163196</td>\n",
              "    </tr>\n",
              "    <tr>\n",
              "      <th>std</th>\n",
              "      <td>0.039910</td>\n",
              "      <td>0.085119</td>\n",
              "    </tr>\n",
              "    <tr>\n",
              "      <th>min</th>\n",
              "      <td>0.056797</td>\n",
              "      <td>0.035638</td>\n",
              "    </tr>\n",
              "    <tr>\n",
              "      <th>25%</th>\n",
              "      <td>0.136906</td>\n",
              "      <td>0.106771</td>\n",
              "    </tr>\n",
              "    <tr>\n",
              "      <th>50%</th>\n",
              "      <td>0.155625</td>\n",
              "      <td>0.153846</td>\n",
              "    </tr>\n",
              "    <tr>\n",
              "      <th>75%</th>\n",
              "      <td>0.185014</td>\n",
              "      <td>0.195059</td>\n",
              "    </tr>\n",
              "    <tr>\n",
              "      <th>max</th>\n",
              "      <td>0.291990</td>\n",
              "      <td>0.710345</td>\n",
              "    </tr>\n",
              "  </tbody>\n",
              "</table>\n",
              "</div>"
            ]
          },
          "metadata": {}
        }
      ],
      "execution_count": 153,
      "metadata": {
        "collapsed": false,
        "outputHidden": false,
        "inputHidden": false
      }
    },
    {
      "cell_type": "code",
      "source": [
        "#实际上，在GroupBy对象的内部，当调用describe之类的方法时，实际上是一下代码的简写：\n",
        "'''\n",
        "f = lambda x: x.describe()\n",
        "grouped.apply(f)\n",
        "'''"
      ],
      "outputs": [
        {
          "output_type": "execute_result",
          "execution_count": 154,
          "data": {
            "text/plain": [
              "'\\nf = lambda x: x.describe()\\ngrouped.apply(f)\\n'"
            ]
          },
          "metadata": {}
        }
      ],
      "execution_count": 154,
      "metadata": {
        "collapsed": false,
        "outputHidden": false,
        "inputHidden": false
      }
    },
    {
      "cell_type": "markdown",
      "source": [
        "下面是利用groupby解决实际数据分析问题的例子:"
      ],
      "metadata": {}
    },
    {
      "cell_type": "markdown",
      "source": [
        "练习一：压缩分组键"
      ],
      "metadata": {}
    },
    {
      "cell_type": "code",
      "source": [
        "tips.groupby('smoker', group_keys=False).apply(top) #top函数的声明在前面"
      ],
      "outputs": [
        {
          "output_type": "execute_result",
          "execution_count": 155,
          "data": {
            "text/plain": [
              "     total_bill   tip smoker   day    time  size   tip_pct\n",
              "88        24.71  5.85     No  Thur   Lunch     2  0.236746\n",
              "185       20.69  5.00     No   Sun  Dinner     5  0.241663\n",
              "51        10.29  2.60     No   Sun  Dinner     2  0.252672\n",
              "149        7.51  2.00     No  Thur   Lunch     2  0.266312\n",
              "232       11.61  3.39     No   Sat  Dinner     2  0.291990\n",
              "109       14.31  4.00    Yes   Sat  Dinner     2  0.279525\n",
              "183       23.17  6.50    Yes   Sun  Dinner     4  0.280535\n",
              "67         3.07  1.00    Yes   Sat  Dinner     1  0.325733\n",
              "178        9.60  4.00    Yes   Sun  Dinner     2  0.416667\n",
              "172        7.25  5.15    Yes   Sun  Dinner     2  0.710345"
            ],
            "text/html": [
              "<div>\n",
              "<table border=\"1\" class=\"dataframe\">\n",
              "  <thead>\n",
              "    <tr style=\"text-align: right;\">\n",
              "      <th></th>\n",
              "      <th>total_bill</th>\n",
              "      <th>tip</th>\n",
              "      <th>smoker</th>\n",
              "      <th>day</th>\n",
              "      <th>time</th>\n",
              "      <th>size</th>\n",
              "      <th>tip_pct</th>\n",
              "    </tr>\n",
              "  </thead>\n",
              "  <tbody>\n",
              "    <tr>\n",
              "      <th>88</th>\n",
              "      <td>24.71</td>\n",
              "      <td>5.85</td>\n",
              "      <td>No</td>\n",
              "      <td>Thur</td>\n",
              "      <td>Lunch</td>\n",
              "      <td>2</td>\n",
              "      <td>0.236746</td>\n",
              "    </tr>\n",
              "    <tr>\n",
              "      <th>185</th>\n",
              "      <td>20.69</td>\n",
              "      <td>5.00</td>\n",
              "      <td>No</td>\n",
              "      <td>Sun</td>\n",
              "      <td>Dinner</td>\n",
              "      <td>5</td>\n",
              "      <td>0.241663</td>\n",
              "    </tr>\n",
              "    <tr>\n",
              "      <th>51</th>\n",
              "      <td>10.29</td>\n",
              "      <td>2.60</td>\n",
              "      <td>No</td>\n",
              "      <td>Sun</td>\n",
              "      <td>Dinner</td>\n",
              "      <td>2</td>\n",
              "      <td>0.252672</td>\n",
              "    </tr>\n",
              "    <tr>\n",
              "      <th>149</th>\n",
              "      <td>7.51</td>\n",
              "      <td>2.00</td>\n",
              "      <td>No</td>\n",
              "      <td>Thur</td>\n",
              "      <td>Lunch</td>\n",
              "      <td>2</td>\n",
              "      <td>0.266312</td>\n",
              "    </tr>\n",
              "    <tr>\n",
              "      <th>232</th>\n",
              "      <td>11.61</td>\n",
              "      <td>3.39</td>\n",
              "      <td>No</td>\n",
              "      <td>Sat</td>\n",
              "      <td>Dinner</td>\n",
              "      <td>2</td>\n",
              "      <td>0.291990</td>\n",
              "    </tr>\n",
              "    <tr>\n",
              "      <th>109</th>\n",
              "      <td>14.31</td>\n",
              "      <td>4.00</td>\n",
              "      <td>Yes</td>\n",
              "      <td>Sat</td>\n",
              "      <td>Dinner</td>\n",
              "      <td>2</td>\n",
              "      <td>0.279525</td>\n",
              "    </tr>\n",
              "    <tr>\n",
              "      <th>183</th>\n",
              "      <td>23.17</td>\n",
              "      <td>6.50</td>\n",
              "      <td>Yes</td>\n",
              "      <td>Sun</td>\n",
              "      <td>Dinner</td>\n",
              "      <td>4</td>\n",
              "      <td>0.280535</td>\n",
              "    </tr>\n",
              "    <tr>\n",
              "      <th>67</th>\n",
              "      <td>3.07</td>\n",
              "      <td>1.00</td>\n",
              "      <td>Yes</td>\n",
              "      <td>Sat</td>\n",
              "      <td>Dinner</td>\n",
              "      <td>1</td>\n",
              "      <td>0.325733</td>\n",
              "    </tr>\n",
              "    <tr>\n",
              "      <th>178</th>\n",
              "      <td>9.60</td>\n",
              "      <td>4.00</td>\n",
              "      <td>Yes</td>\n",
              "      <td>Sun</td>\n",
              "      <td>Dinner</td>\n",
              "      <td>2</td>\n",
              "      <td>0.416667</td>\n",
              "    </tr>\n",
              "    <tr>\n",
              "      <th>172</th>\n",
              "      <td>7.25</td>\n",
              "      <td>5.15</td>\n",
              "      <td>Yes</td>\n",
              "      <td>Sun</td>\n",
              "      <td>Dinner</td>\n",
              "      <td>2</td>\n",
              "      <td>0.710345</td>\n",
              "    </tr>\n",
              "  </tbody>\n",
              "</table>\n",
              "</div>"
            ]
          },
          "metadata": {}
        }
      ],
      "execution_count": 155,
      "metadata": {
        "collapsed": false,
        "outputHidden": false,
        "inputHidden": false
      }
    },
    {
      "cell_type": "code",
      "source": [
        "tips.groupby('smoker', group_keys=False).apply(top)"
      ],
      "outputs": [
        {
          "output_type": "execute_result",
          "execution_count": 157,
          "data": {
            "text/plain": [
              "     total_bill   tip smoker   day    time  size   tip_pct\n",
              "88        24.71  5.85     No  Thur   Lunch     2  0.236746\n",
              "185       20.69  5.00     No   Sun  Dinner     5  0.241663\n",
              "51        10.29  2.60     No   Sun  Dinner     2  0.252672\n",
              "149        7.51  2.00     No  Thur   Lunch     2  0.266312\n",
              "232       11.61  3.39     No   Sat  Dinner     2  0.291990\n",
              "109       14.31  4.00    Yes   Sat  Dinner     2  0.279525\n",
              "183       23.17  6.50    Yes   Sun  Dinner     4  0.280535\n",
              "67         3.07  1.00    Yes   Sat  Dinner     1  0.325733\n",
              "178        9.60  4.00    Yes   Sun  Dinner     2  0.416667\n",
              "172        7.25  5.15    Yes   Sun  Dinner     2  0.710345"
            ],
            "text/html": [
              "<div>\n",
              "<table border=\"1\" class=\"dataframe\">\n",
              "  <thead>\n",
              "    <tr style=\"text-align: right;\">\n",
              "      <th></th>\n",
              "      <th>total_bill</th>\n",
              "      <th>tip</th>\n",
              "      <th>smoker</th>\n",
              "      <th>day</th>\n",
              "      <th>time</th>\n",
              "      <th>size</th>\n",
              "      <th>tip_pct</th>\n",
              "    </tr>\n",
              "  </thead>\n",
              "  <tbody>\n",
              "    <tr>\n",
              "      <th>88</th>\n",
              "      <td>24.71</td>\n",
              "      <td>5.85</td>\n",
              "      <td>No</td>\n",
              "      <td>Thur</td>\n",
              "      <td>Lunch</td>\n",
              "      <td>2</td>\n",
              "      <td>0.236746</td>\n",
              "    </tr>\n",
              "    <tr>\n",
              "      <th>185</th>\n",
              "      <td>20.69</td>\n",
              "      <td>5.00</td>\n",
              "      <td>No</td>\n",
              "      <td>Sun</td>\n",
              "      <td>Dinner</td>\n",
              "      <td>5</td>\n",
              "      <td>0.241663</td>\n",
              "    </tr>\n",
              "    <tr>\n",
              "      <th>51</th>\n",
              "      <td>10.29</td>\n",
              "      <td>2.60</td>\n",
              "      <td>No</td>\n",
              "      <td>Sun</td>\n",
              "      <td>Dinner</td>\n",
              "      <td>2</td>\n",
              "      <td>0.252672</td>\n",
              "    </tr>\n",
              "    <tr>\n",
              "      <th>149</th>\n",
              "      <td>7.51</td>\n",
              "      <td>2.00</td>\n",
              "      <td>No</td>\n",
              "      <td>Thur</td>\n",
              "      <td>Lunch</td>\n",
              "      <td>2</td>\n",
              "      <td>0.266312</td>\n",
              "    </tr>\n",
              "    <tr>\n",
              "      <th>232</th>\n",
              "      <td>11.61</td>\n",
              "      <td>3.39</td>\n",
              "      <td>No</td>\n",
              "      <td>Sat</td>\n",
              "      <td>Dinner</td>\n",
              "      <td>2</td>\n",
              "      <td>0.291990</td>\n",
              "    </tr>\n",
              "    <tr>\n",
              "      <th>109</th>\n",
              "      <td>14.31</td>\n",
              "      <td>4.00</td>\n",
              "      <td>Yes</td>\n",
              "      <td>Sat</td>\n",
              "      <td>Dinner</td>\n",
              "      <td>2</td>\n",
              "      <td>0.279525</td>\n",
              "    </tr>\n",
              "    <tr>\n",
              "      <th>183</th>\n",
              "      <td>23.17</td>\n",
              "      <td>6.50</td>\n",
              "      <td>Yes</td>\n",
              "      <td>Sun</td>\n",
              "      <td>Dinner</td>\n",
              "      <td>4</td>\n",
              "      <td>0.280535</td>\n",
              "    </tr>\n",
              "    <tr>\n",
              "      <th>67</th>\n",
              "      <td>3.07</td>\n",
              "      <td>1.00</td>\n",
              "      <td>Yes</td>\n",
              "      <td>Sat</td>\n",
              "      <td>Dinner</td>\n",
              "      <td>1</td>\n",
              "      <td>0.325733</td>\n",
              "    </tr>\n",
              "    <tr>\n",
              "      <th>178</th>\n",
              "      <td>9.60</td>\n",
              "      <td>4.00</td>\n",
              "      <td>Yes</td>\n",
              "      <td>Sun</td>\n",
              "      <td>Dinner</td>\n",
              "      <td>2</td>\n",
              "      <td>0.416667</td>\n",
              "    </tr>\n",
              "    <tr>\n",
              "      <th>172</th>\n",
              "      <td>7.25</td>\n",
              "      <td>5.15</td>\n",
              "      <td>Yes</td>\n",
              "      <td>Sun</td>\n",
              "      <td>Dinner</td>\n",
              "      <td>2</td>\n",
              "      <td>0.710345</td>\n",
              "    </tr>\n",
              "  </tbody>\n",
              "</table>\n",
              "</div>"
            ]
          },
          "metadata": {}
        }
      ],
      "execution_count": 157,
      "metadata": {
        "collapsed": false,
        "outputHidden": false,
        "inputHidden": false
      }
    },
    {
      "cell_type": "markdown",
      "source": [
        "练习二：分位数与捅分析"
      ],
      "metadata": {}
    },
    {
      "cell_type": "markdown",
      "source": [
        "pandas中有一些工具，尤其是cut和qcut，用于将数据按照用户指定的箱位或样本分位数进行分桶（分段）。"
      ],
      "metadata": {}
    },
    {
      "cell_type": "code",
      "source": [
        "frame = pd.DataFrame({'data1' : np.random.randn(1000),\n",
        "                      'data2' : np.random.randn(1000)})"
      ],
      "outputs": [],
      "execution_count": 158,
      "metadata": {
        "collapsed": false,
        "outputHidden": false,
        "inputHidden": false
      }
    },
    {
      "cell_type": "code",
      "source": [
        "frame.head()"
      ],
      "outputs": [
        {
          "output_type": "execute_result",
          "execution_count": 164,
          "data": {
            "text/plain": [
              "      data1     data2\n",
              "0 -0.347798 -0.548535\n",
              "1  1.436589  0.462564\n",
              "2 -0.912868  0.616846\n",
              "3 -0.205733 -0.116228\n",
              "4 -0.693465 -0.172891"
            ],
            "text/html": [
              "<div>\n",
              "<table border=\"1\" class=\"dataframe\">\n",
              "  <thead>\n",
              "    <tr style=\"text-align: right;\">\n",
              "      <th></th>\n",
              "      <th>data1</th>\n",
              "      <th>data2</th>\n",
              "    </tr>\n",
              "  </thead>\n",
              "  <tbody>\n",
              "    <tr>\n",
              "      <th>0</th>\n",
              "      <td>-0.347798</td>\n",
              "      <td>-0.548535</td>\n",
              "    </tr>\n",
              "    <tr>\n",
              "      <th>1</th>\n",
              "      <td>1.436589</td>\n",
              "      <td>0.462564</td>\n",
              "    </tr>\n",
              "    <tr>\n",
              "      <th>2</th>\n",
              "      <td>-0.912868</td>\n",
              "      <td>0.616846</td>\n",
              "    </tr>\n",
              "    <tr>\n",
              "      <th>3</th>\n",
              "      <td>-0.205733</td>\n",
              "      <td>-0.116228</td>\n",
              "    </tr>\n",
              "    <tr>\n",
              "      <th>4</th>\n",
              "      <td>-0.693465</td>\n",
              "      <td>-0.172891</td>\n",
              "    </tr>\n",
              "  </tbody>\n",
              "</table>\n",
              "</div>"
            ]
          },
          "metadata": {}
        }
      ],
      "execution_count": 164,
      "metadata": {
        "collapsed": false,
        "outputHidden": false,
        "inputHidden": false
      }
    },
    {
      "cell_type": "code",
      "source": [
        "quartiles = pd.cut(frame.data1, 4)"
      ],
      "outputs": [],
      "execution_count": 161,
      "metadata": {
        "collapsed": false,
        "outputHidden": false,
        "inputHidden": false
      }
    },
    {
      "cell_type": "code",
      "source": [
        "quartiles[:10]"
      ],
      "outputs": [
        {
          "output_type": "execute_result",
          "execution_count": 162,
          "data": {
            "text/plain": [
              "0     (-0.365, 1.436]\n",
              "1      (1.436, 3.237]\n",
              "2    (-2.166, -0.365]\n",
              "3     (-0.365, 1.436]\n",
              "4    (-2.166, -0.365]\n",
              "5     (-0.365, 1.436]\n",
              "6      (1.436, 3.237]\n",
              "7     (-0.365, 1.436]\n",
              "8     (-0.365, 1.436]\n",
              "9    (-2.166, -0.365]\n",
              "Name: data1, dtype: category\n",
              "Categories (4, object): [(-3.974, -2.166] < (-2.166, -0.365] < (-0.365, 1.436] < (1.436, 3.237]]"
            ]
          },
          "metadata": {}
        }
      ],
      "execution_count": 162,
      "metadata": {
        "collapsed": false,
        "outputHidden": false,
        "inputHidden": false
      }
    },
    {
      "cell_type": "code",
      "source": [
        "#cut返回的Categorical对象可以直接传递给groupby\n",
        "#复习：cut是等长分割，qcut是等分位分割。"
      ],
      "outputs": [],
      "execution_count": 165,
      "metadata": {
        "collapsed": false,
        "outputHidden": false,
        "inputHidden": false
      }
    },
    {
      "cell_type": "code",
      "source": [
        "def get_stats(group):\n",
        "    return {'min': group.min(), 'max': group.max(), 'count': group.count(), 'mean': group.mean()}"
      ],
      "outputs": [],
      "execution_count": 166,
      "metadata": {
        "collapsed": false,
        "outputHidden": false,
        "inputHidden": false
      }
    },
    {
      "cell_type": "code",
      "source": [
        "grouped = frame.data2.groupby(quartiles)"
      ],
      "outputs": [],
      "execution_count": 167,
      "metadata": {
        "collapsed": false,
        "outputHidden": false,
        "inputHidden": false
      }
    },
    {
      "cell_type": "code",
      "source": [
        "grouped.apply(get_stats).unstack()"
      ],
      "outputs": [
        {
          "output_type": "execute_result",
          "execution_count": 169,
          "data": {
            "text/plain": [
              "                  count       max      mean       min\n",
              "data1                                                \n",
              "(-3.974, -2.166]   14.0  1.540460  0.151988 -1.018752\n",
              "(-2.166, -0.365]  356.0  3.302602  0.037944 -3.396418\n",
              "(-0.365, 1.436]   557.0  3.671879 -0.034799 -3.747371\n",
              "(1.436, 3.237]     73.0  1.924645  0.013457 -3.140200"
            ],
            "text/html": [
              "<div>\n",
              "<table border=\"1\" class=\"dataframe\">\n",
              "  <thead>\n",
              "    <tr style=\"text-align: right;\">\n",
              "      <th></th>\n",
              "      <th>count</th>\n",
              "      <th>max</th>\n",
              "      <th>mean</th>\n",
              "      <th>min</th>\n",
              "    </tr>\n",
              "    <tr>\n",
              "      <th>data1</th>\n",
              "      <th></th>\n",
              "      <th></th>\n",
              "      <th></th>\n",
              "      <th></th>\n",
              "    </tr>\n",
              "  </thead>\n",
              "  <tbody>\n",
              "    <tr>\n",
              "      <th>(-3.974, -2.166]</th>\n",
              "      <td>14.0</td>\n",
              "      <td>1.540460</td>\n",
              "      <td>0.151988</td>\n",
              "      <td>-1.018752</td>\n",
              "    </tr>\n",
              "    <tr>\n",
              "      <th>(-2.166, -0.365]</th>\n",
              "      <td>356.0</td>\n",
              "      <td>3.302602</td>\n",
              "      <td>0.037944</td>\n",
              "      <td>-3.396418</td>\n",
              "    </tr>\n",
              "    <tr>\n",
              "      <th>(-0.365, 1.436]</th>\n",
              "      <td>557.0</td>\n",
              "      <td>3.671879</td>\n",
              "      <td>-0.034799</td>\n",
              "      <td>-3.747371</td>\n",
              "    </tr>\n",
              "    <tr>\n",
              "      <th>(1.436, 3.237]</th>\n",
              "      <td>73.0</td>\n",
              "      <td>1.924645</td>\n",
              "      <td>0.013457</td>\n",
              "      <td>-3.140200</td>\n",
              "    </tr>\n",
              "  </tbody>\n",
              "</table>\n",
              "</div>"
            ]
          },
          "metadata": {}
        }
      ],
      "execution_count": 169,
      "metadata": {
        "collapsed": false,
        "outputHidden": false,
        "inputHidden": false
      }
    },
    {
      "cell_type": "code",
      "source": [
        "fig = plt.figure()\n",
        "ax = fig.add_subplot(1, 1, 1)\n",
        "resdf = grouped.apply(get_stats).unstack()\n",
        "resdf['mean'].plot(ax=ax, kind='barh', alpha=0.5)"
      ],
      "outputs": [
        {
          "output_type": "execute_result",
          "execution_count": 175,
          "data": {
            "text/plain": [
              "<matplotlib.axes._subplots.AxesSubplot at 0x275d4465390>"
            ]
          },
          "metadata": {}
        },
        {
          "output_type": "display_data",
          "data": {
            "image/png": "[encoded data removed]",
            "text/plain": [
              "<matplotlib.figure.Figure at 0x275d4465cf8>"
            ]
          },
          "metadata": {}
        }
      ],
      "execution_count": 175,
      "metadata": {
        "collapsed": false,
        "outputHidden": false,
        "inputHidden": false
      }
    },
    {
      "cell_type": "code",
      "source": [
        "grouping = pd.qcut(frame.data1, 10, labels=False)\n",
        "grouped = frame.data2.groupby(grouping)\n",
        "grouped.apply(get_stats).unstack()"
      ],
      "outputs": [
        {
          "output_type": "execute_result",
          "execution_count": 176,
          "data": {
            "text/plain": [
              "       count       max      mean       min\n",
              "data1                                     \n",
              "0      100.0  2.369492 -0.074233 -3.134849\n",
              "1      100.0  3.302602  0.198347 -2.065140\n",
              "2      100.0  2.117440  0.132791 -3.396418\n",
              "3      100.0  2.124982 -0.171468 -2.361442\n",
              "4      100.0  3.671879 -0.193965 -2.840238\n",
              "5      100.0  2.473653 -0.011509 -2.744353\n",
              "6      100.0  2.699061  0.034029 -2.430826\n",
              "7      100.0  2.828798  0.057472 -3.747371\n",
              "8      100.0  2.970448 -0.041068 -2.356199\n",
              "9      100.0  2.282797  0.041955 -3.140200"
            ],
            "text/html": [
              "<div>\n",
              "<table border=\"1\" class=\"dataframe\">\n",
              "  <thead>\n",
              "    <tr style=\"text-align: right;\">\n",
              "      <th></th>\n",
              "      <th>count</th>\n",
              "      <th>max</th>\n",
              "      <th>mean</th>\n",
              "      <th>min</th>\n",
              "    </tr>\n",
              "    <tr>\n",
              "      <th>data1</th>\n",
              "      <th></th>\n",
              "      <th></th>\n",
              "      <th></th>\n",
              "      <th></th>\n",
              "    </tr>\n",
              "  </thead>\n",
              "  <tbody>\n",
              "    <tr>\n",
              "      <th>0</th>\n",
              "      <td>100.0</td>\n",
              "      <td>2.369492</td>\n",
              "      <td>-0.074233</td>\n",
              "      <td>-3.134849</td>\n",
              "    </tr>\n",
              "    <tr>\n",
              "      <th>1</th>\n",
              "      <td>100.0</td>\n",
              "      <td>3.302602</td>\n",
              "      <td>0.198347</td>\n",
              "      <td>-2.065140</td>\n",
              "    </tr>\n",
              "    <tr>\n",
              "      <th>2</th>\n",
              "      <td>100.0</td>\n",
              "      <td>2.117440</td>\n",
              "      <td>0.132791</td>\n",
              "      <td>-3.396418</td>\n",
              "    </tr>\n",
              "    <tr>\n",
              "      <th>3</th>\n",
              "      <td>100.0</td>\n",
              "      <td>2.124982</td>\n",
              "      <td>-0.171468</td>\n",
              "      <td>-2.361442</td>\n",
              "    </tr>\n",
              "    <tr>\n",
              "      <th>4</th>\n",
              "      <td>100.0</td>\n",
              "      <td>3.671879</td>\n",
              "      <td>-0.193965</td>\n",
              "      <td>-2.840238</td>\n",
              "    </tr>\n",
              "    <tr>\n",
              "      <th>5</th>\n",
              "      <td>100.0</td>\n",
              "      <td>2.473653</td>\n",
              "      <td>-0.011509</td>\n",
              "      <td>-2.744353</td>\n",
              "    </tr>\n",
              "    <tr>\n",
              "      <th>6</th>\n",
              "      <td>100.0</td>\n",
              "      <td>2.699061</td>\n",
              "      <td>0.034029</td>\n",
              "      <td>-2.430826</td>\n",
              "    </tr>\n",
              "    <tr>\n",
              "      <th>7</th>\n",
              "      <td>100.0</td>\n",
              "      <td>2.828798</td>\n",
              "      <td>0.057472</td>\n",
              "      <td>-3.747371</td>\n",
              "    </tr>\n",
              "    <tr>\n",
              "      <th>8</th>\n",
              "      <td>100.0</td>\n",
              "      <td>2.970448</td>\n",
              "      <td>-0.041068</td>\n",
              "      <td>-2.356199</td>\n",
              "    </tr>\n",
              "    <tr>\n",
              "      <th>9</th>\n",
              "      <td>100.0</td>\n",
              "      <td>2.282797</td>\n",
              "      <td>0.041955</td>\n",
              "      <td>-3.140200</td>\n",
              "    </tr>\n",
              "  </tbody>\n",
              "</table>\n",
              "</div>"
            ]
          },
          "metadata": {}
        }
      ],
      "execution_count": 176,
      "metadata": {
        "collapsed": false,
        "outputHidden": false,
        "inputHidden": false
      }
    },
    {
      "cell_type": "code",
      "source": [
        "grouping = pd.qcut(frame.data1, 10)\n",
        "grouped = frame.data2.groupby(grouping)\n",
        "grouped.apply(get_stats).unstack()"
      ],
      "outputs": [
        {
          "output_type": "execute_result",
          "execution_count": 177,
          "data": {
            "text/plain": [
              "                   count       max      mean       min\n",
              "data1                                                 \n",
              "[-3.967, -1.235]   100.0  2.369492 -0.074233 -3.134849\n",
              "(-1.235, -0.852]   100.0  3.302602  0.198347 -2.065140\n",
              "(-0.852, -0.522]   100.0  2.117440  0.132791 -3.396418\n",
              "(-0.522, -0.289]   100.0  2.124982 -0.171468 -2.361442\n",
              "(-0.289, -0.0065]  100.0  3.671879 -0.193965 -2.840238\n",
              "(-0.0065, 0.246]   100.0  2.473653 -0.011509 -2.744353\n",
              "(0.246, 0.514]     100.0  2.699061  0.034029 -2.430826\n",
              "(0.514, 0.868]     100.0  2.828798  0.057472 -3.747371\n",
              "(0.868, 1.334]     100.0  2.970448 -0.041068 -2.356199\n",
              "(1.334, 3.237]     100.0  2.282797  0.041955 -3.140200"
            ],
            "text/html": [
              "<div>\n",
              "<table border=\"1\" class=\"dataframe\">\n",
              "  <thead>\n",
              "    <tr style=\"text-align: right;\">\n",
              "      <th></th>\n",
              "      <th>count</th>\n",
              "      <th>max</th>\n",
              "      <th>mean</th>\n",
              "      <th>min</th>\n",
              "    </tr>\n",
              "    <tr>\n",
              "      <th>data1</th>\n",
              "      <th></th>\n",
              "      <th></th>\n",
              "      <th></th>\n",
              "      <th></th>\n",
              "    </tr>\n",
              "  </thead>\n",
              "  <tbody>\n",
              "    <tr>\n",
              "      <th>[-3.967, -1.235]</th>\n",
              "      <td>100.0</td>\n",
              "      <td>2.369492</td>\n",
              "      <td>-0.074233</td>\n",
              "      <td>-3.134849</td>\n",
              "    </tr>\n",
              "    <tr>\n",
              "      <th>(-1.235, -0.852]</th>\n",
              "      <td>100.0</td>\n",
              "      <td>3.302602</td>\n",
              "      <td>0.198347</td>\n",
              "      <td>-2.065140</td>\n",
              "    </tr>\n",
              "    <tr>\n",
              "      <th>(-0.852, -0.522]</th>\n",
              "      <td>100.0</td>\n",
              "      <td>2.117440</td>\n",
              "      <td>0.132791</td>\n",
              "      <td>-3.396418</td>\n",
              "    </tr>\n",
              "    <tr>\n",
              "      <th>(-0.522, -0.289]</th>\n",
              "      <td>100.0</td>\n",
              "      <td>2.124982</td>\n",
              "      <td>-0.171468</td>\n",
              "      <td>-2.361442</td>\n",
              "    </tr>\n",
              "    <tr>\n",
              "      <th>(-0.289, -0.0065]</th>\n",
              "      <td>100.0</td>\n",
              "      <td>3.671879</td>\n",
              "      <td>-0.193965</td>\n",
              "      <td>-2.840238</td>\n",
              "    </tr>\n",
              "    <tr>\n",
              "      <th>(-0.0065, 0.246]</th>\n",
              "      <td>100.0</td>\n",
              "      <td>2.473653</td>\n",
              "      <td>-0.011509</td>\n",
              "      <td>-2.744353</td>\n",
              "    </tr>\n",
              "    <tr>\n",
              "      <th>(0.246, 0.514]</th>\n",
              "      <td>100.0</td>\n",
              "      <td>2.699061</td>\n",
              "      <td>0.034029</td>\n",
              "      <td>-2.430826</td>\n",
              "    </tr>\n",
              "    <tr>\n",
              "      <th>(0.514, 0.868]</th>\n",
              "      <td>100.0</td>\n",
              "      <td>2.828798</td>\n",
              "      <td>0.057472</td>\n",
              "      <td>-3.747371</td>\n",
              "    </tr>\n",
              "    <tr>\n",
              "      <th>(0.868, 1.334]</th>\n",
              "      <td>100.0</td>\n",
              "      <td>2.970448</td>\n",
              "      <td>-0.041068</td>\n",
              "      <td>-2.356199</td>\n",
              "    </tr>\n",
              "    <tr>\n",
              "      <th>(1.334, 3.237]</th>\n",
              "      <td>100.0</td>\n",
              "      <td>2.282797</td>\n",
              "      <td>0.041955</td>\n",
              "      <td>-3.140200</td>\n",
              "    </tr>\n",
              "  </tbody>\n",
              "</table>\n",
              "</div>"
            ]
          },
          "metadata": {}
        }
      ],
      "execution_count": 177,
      "metadata": {
        "collapsed": false,
        "outputHidden": false,
        "inputHidden": false
      }
    },
    {
      "cell_type": "markdown",
      "source": [
        "练习三：使用指定分组值填充缺失值"
      ],
      "metadata": {}
    },
    {
      "cell_type": "code",
      "source": [
        "#使用dropna来去除缺失值；使用fillna来填充缺失值（甚至可以指定用户想填充的值）"
      ],
      "outputs": [],
      "execution_count": 178,
      "metadata": {
        "collapsed": false,
        "outputHidden": false,
        "inputHidden": false
      }
    },
    {
      "cell_type": "code",
      "source": [
        "s = pd.Series(np.random.randn(6))"
      ],
      "outputs": [],
      "execution_count": 179,
      "metadata": {
        "collapsed": false,
        "outputHidden": false,
        "inputHidden": false
      }
    },
    {
      "cell_type": "code",
      "source": [
        "s[::2] = np.nan"
      ],
      "outputs": [],
      "execution_count": 180,
      "metadata": {
        "collapsed": false,
        "outputHidden": false,
        "inputHidden": false
      }
    },
    {
      "cell_type": "code",
      "source": [
        "s"
      ],
      "outputs": [
        {
          "output_type": "execute_result",
          "execution_count": 181,
          "data": {
            "text/plain": [
              "0         NaN\n",
              "1    1.733372\n",
              "2         NaN\n",
              "3   -0.207811\n",
              "4         NaN\n",
              "5   -0.359610\n",
              "dtype: float64"
            ]
          },
          "metadata": {}
        }
      ],
      "execution_count": 181,
      "metadata": {
        "collapsed": false,
        "outputHidden": false,
        "inputHidden": false
      }
    },
    {
      "cell_type": "code",
      "source": [
        "s.fillna(s.mean())"
      ],
      "outputs": [
        {
          "output_type": "execute_result",
          "execution_count": 182,
          "data": {
            "text/plain": [
              "0    0.388650\n",
              "1    1.733372\n",
              "2    0.388650\n",
              "3   -0.207811\n",
              "4    0.388650\n",
              "5   -0.359610\n",
              "dtype: float64"
            ]
          },
          "metadata": {}
        }
      ],
      "execution_count": 182,
      "metadata": {
        "collapsed": false,
        "outputHidden": false,
        "inputHidden": false
      }
    },
    {
      "cell_type": "code",
      "source": [
        "#下面看看填充值按组变化"
      ],
      "outputs": [],
      "execution_count": 183,
      "metadata": {
        "collapsed": false,
        "outputHidden": false,
        "inputHidden": false
      }
    },
    {
      "cell_type": "code",
      "source": [
        "states = ['Ohio', 'New York', 'Vermont', 'Florida', 'Oregon', 'Nevada', 'Califonia', 'Idaho']"
      ],
      "outputs": [],
      "execution_count": 185,
      "metadata": {
        "collapsed": false,
        "outputHidden": false,
        "inputHidden": false
      }
    },
    {
      "cell_type": "code",
      "source": [
        "group_key = ['east'] * 4 + ['west'] * 4\n",
        "data = pd.Series(np.random.randn(8), index=states)\n",
        "data"
      ],
      "outputs": [
        {
          "output_type": "execute_result",
          "execution_count": 189,
          "data": {
            "text/plain": [
              "Ohio        -1.068703\n",
              "New York    -0.378691\n",
              "Vermont     -0.629795\n",
              "Florida      0.657255\n",
              "Oregon      -0.124613\n",
              "Nevada      -0.670289\n",
              "Califonia   -0.221545\n",
              "Idaho        0.341726\n",
              "dtype: float64"
            ]
          },
          "metadata": {}
        }
      ],
      "execution_count": 189,
      "metadata": {
        "collapsed": false,
        "outputHidden": false,
        "inputHidden": false
      }
    },
    {
      "cell_type": "code",
      "source": [
        "data[['Vermont', 'Nevada', 'Idaho']] = np.nan"
      ],
      "outputs": [],
      "execution_count": 190,
      "metadata": {
        "collapsed": false,
        "outputHidden": false,
        "inputHidden": false
      }
    },
    {
      "cell_type": "code",
      "source": [
        "data.groupby(group_key).mean()"
      ],
      "outputs": [
        {
          "output_type": "execute_result",
          "execution_count": 191,
          "data": {
            "text/plain": [
              "east   -0.263380\n",
              "west   -0.173079\n",
              "dtype: float64"
            ]
          },
          "metadata": {}
        }
      ],
      "execution_count": 191,
      "metadata": {
        "collapsed": false,
        "outputHidden": false,
        "inputHidden": false
      }
    },
    {
      "cell_type": "code",
      "source": [
        "fill_mean = lambda g: g.fillna(g.mean())"
      ],
      "outputs": [],
      "execution_count": 192,
      "metadata": {
        "collapsed": false,
        "outputHidden": false,
        "inputHidden": false
      }
    },
    {
      "cell_type": "code",
      "source": [
        "data.groupby(group_key).apply(fill_mean)"
      ],
      "outputs": [
        {
          "output_type": "execute_result",
          "execution_count": 193,
          "data": {
            "text/plain": [
              "Ohio        -1.068703\n",
              "New York    -0.378691\n",
              "Vermont     -0.263380\n",
              "Florida      0.657255\n",
              "Oregon      -0.124613\n",
              "Nevada      -0.173079\n",
              "Califonia   -0.221545\n",
              "Idaho       -0.173079\n",
              "dtype: float64"
            ]
          },
          "metadata": {}
        }
      ],
      "execution_count": 193,
      "metadata": {
        "collapsed": false,
        "outputHidden": false,
        "inputHidden": false
      }
    },
    {
      "cell_type": "code",
      "source": [
        "#在预定义填充值的情况下可以这么使"
      ],
      "outputs": [],
      "execution_count": 194,
      "metadata": {
        "collapsed": false,
        "outputHidden": false,
        "inputHidden": false
      }
    },
    {
      "cell_type": "code",
      "source": [
        "fill_values = {'east': 0.5, 'west': -1}"
      ],
      "outputs": [],
      "execution_count": 195,
      "metadata": {
        "collapsed": false,
        "outputHidden": false,
        "inputHidden": false
      }
    },
    {
      "cell_type": "code",
      "source": [
        "fill_func = lambda g: g.fillna(fill_values[g.name])"
      ],
      "outputs": [],
      "execution_count": 196,
      "metadata": {
        "collapsed": false,
        "outputHidden": false,
        "inputHidden": false
      }
    },
    {
      "cell_type": "code",
      "source": [
        "data.groupby(group_key).apply(fill_func)"
      ],
      "outputs": [
        {
          "output_type": "execute_result",
          "execution_count": 198,
          "data": {
            "text/plain": [
              "Ohio        -1.068703\n",
              "New York    -0.378691\n",
              "Vermont      0.500000\n",
              "Florida      0.657255\n",
              "Oregon      -0.124613\n",
              "Nevada      -1.000000\n",
              "Califonia   -0.221545\n",
              "Idaho       -1.000000\n",
              "dtype: float64"
            ]
          },
          "metadata": {}
        }
      ],
      "execution_count": 198,
      "metadata": {
        "collapsed": false,
        "outputHidden": false,
        "inputHidden": false
      }
    },
    {
      "cell_type": "markdown",
      "source": [
        "练习四：随机采样及排列"
      ],
      "metadata": {}
    },
    {
      "cell_type": "code",
      "source": [
        "#从大样本中抽取随机样本"
      ],
      "outputs": [],
      "execution_count": 199,
      "metadata": {
        "collapsed": false,
        "outputHidden": false,
        "inputHidden": false
      }
    },
    {
      "cell_type": "code",
      "source": [
        "#红桃，黑桃，梅花，方块\n",
        "suits = ['H', 'S', 'C', 'D']\n",
        "card_val = (list(range(1, 11)) + [10] * 3) * 4\n",
        "base_names = ['A'] + list(range(2, 11)) + ['J', 'K', 'Q']\n",
        "cards = []\n",
        "#获得了52张牌\n",
        "for suit in ['H', 'S', 'C', 'D']:\n",
        "    cards.extend(str(num) + suit for num in base_names)\n",
        "deck = pd.Series(card_val, index=cards)"
      ],
      "outputs": [],
      "execution_count": 204,
      "metadata": {
        "collapsed": false,
        "outputHidden": false,
        "inputHidden": false
      }
    },
    {
      "cell_type": "code",
      "source": [
        "deck[:13]"
      ],
      "outputs": [
        {
          "output_type": "execute_result",
          "execution_count": 205,
          "data": {
            "text/plain": [
              "AH      1\n",
              "2H      2\n",
              "3H      3\n",
              "4H      4\n",
              "5H      5\n",
              "6H      6\n",
              "7H      7\n",
              "8H      8\n",
              "9H      9\n",
              "10H    10\n",
              "JH     10\n",
              "KH     10\n",
              "QH     10\n",
              "dtype: int64"
            ]
          },
          "metadata": {}
        }
      ],
      "execution_count": 205,
      "metadata": {
        "collapsed": false,
        "outputHidden": false,
        "inputHidden": false
      }
    },
    {
      "cell_type": "code",
      "source": [
        "def draw(deck, n=5):\n",
        "    return deck.sample(n)\n",
        "draw(deck)"
      ],
      "outputs": [
        {
          "output_type": "execute_result",
          "execution_count": 206,
          "data": {
            "text/plain": [
              "JS    10\n",
              "6S     6\n",
              "6H     6\n",
              "KH    10\n",
              "7C     7\n",
              "dtype: int64"
            ]
          },
          "metadata": {}
        }
      ],
      "execution_count": 206,
      "metadata": {
        "collapsed": false,
        "outputHidden": false,
        "inputHidden": false
      }
    },
    {
      "cell_type": "code",
      "source": [
        "get_suit = lambda card: card[-1]\n",
        "deck.groupby(get_suit).apply(draw, 2)"
      ],
      "outputs": [
        {
          "output_type": "execute_result",
          "execution_count": 207,
          "data": {
            "text/plain": [
              "C  JC    10\n",
              "   QC    10\n",
              "D  QD    10\n",
              "   JD    10\n",
              "H  AH     1\n",
              "   7H     7\n",
              "S  8S     8\n",
              "   4S     4\n",
              "dtype: int64"
            ]
          },
          "metadata": {}
        }
      ],
      "execution_count": 207,
      "metadata": {
        "collapsed": false,
        "outputHidden": false,
        "inputHidden": false
      }
    },
    {
      "cell_type": "code",
      "source": [
        "deck.groupby(get_suit, group_keys=False).apply(draw, n=2)"
      ],
      "outputs": [
        {
          "output_type": "execute_result",
          "execution_count": 208,
          "data": {
            "text/plain": [
              "3C     3\n",
              "QC    10\n",
              "QD    10\n",
              "KD    10\n",
              "8H     8\n",
              "6H     6\n",
              "5S     5\n",
              "7S     7\n",
              "dtype: int64"
            ]
          },
          "metadata": {}
        }
      ],
      "execution_count": 208,
      "metadata": {
        "collapsed": false,
        "outputHidden": false,
        "inputHidden": false
      }
    },
    {
      "cell_type": "markdown",
      "source": [
        "练习五：分组加权平均和相关性"
      ],
      "metadata": {}
    },
    {
      "cell_type": "code",
      "source": [
        "#在groupby的拆分-应用-联合（SAC）范式下，df的列检操作或两个Series之间的操作，例如分组加权平均是完全可以的。"
      ],
      "outputs": [],
      "execution_count": 209,
      "metadata": {
        "collapsed": false,
        "outputHidden": false,
        "inputHidden": false
      }
    },
    {
      "cell_type": "code",
      "source": [
        "df = pd.DataFrame({'category': ['a'] * 4 +['b'] * 4, 'data': np.random.randn(8), 'weights': np.random.rand(8)})"
      ],
      "outputs": [],
      "execution_count": 211,
      "metadata": {
        "collapsed": false,
        "outputHidden": false,
        "inputHidden": false
      }
    },
    {
      "cell_type": "code",
      "source": [
        "df"
      ],
      "outputs": [
        {
          "output_type": "execute_result",
          "execution_count": 213,
          "data": {
            "text/plain": [
              "  category      data   weights\n",
              "0        a -0.467270  0.860739\n",
              "1        a  0.100184  0.535091\n",
              "2        a  0.663233  0.747767\n",
              "3        a -0.343500  0.735823\n",
              "4        b -0.905318  0.309188\n",
              "5        b -2.652765  0.364701\n",
              "6        b -0.109785  0.307959\n",
              "7        b  1.954761  0.177677"
            ],
            "text/html": [
              "<div>\n",
              "<table border=\"1\" class=\"dataframe\">\n",
              "  <thead>\n",
              "    <tr style=\"text-align: right;\">\n",
              "      <th></th>\n",
              "      <th>category</th>\n",
              "      <th>data</th>\n",
              "      <th>weights</th>\n",
              "    </tr>\n",
              "  </thead>\n",
              "  <tbody>\n",
              "    <tr>\n",
              "      <th>0</th>\n",
              "      <td>a</td>\n",
              "      <td>-0.467270</td>\n",
              "      <td>0.860739</td>\n",
              "    </tr>\n",
              "    <tr>\n",
              "      <th>1</th>\n",
              "      <td>a</td>\n",
              "      <td>0.100184</td>\n",
              "      <td>0.535091</td>\n",
              "    </tr>\n",
              "    <tr>\n",
              "      <th>2</th>\n",
              "      <td>a</td>\n",
              "      <td>0.663233</td>\n",
              "      <td>0.747767</td>\n",
              "    </tr>\n",
              "    <tr>\n",
              "      <th>3</th>\n",
              "      <td>a</td>\n",
              "      <td>-0.343500</td>\n",
              "      <td>0.735823</td>\n",
              "    </tr>\n",
              "    <tr>\n",
              "      <th>4</th>\n",
              "      <td>b</td>\n",
              "      <td>-0.905318</td>\n",
              "      <td>0.309188</td>\n",
              "    </tr>\n",
              "    <tr>\n",
              "      <th>5</th>\n",
              "      <td>b</td>\n",
              "      <td>-2.652765</td>\n",
              "      <td>0.364701</td>\n",
              "    </tr>\n",
              "    <tr>\n",
              "      <th>6</th>\n",
              "      <td>b</td>\n",
              "      <td>-0.109785</td>\n",
              "      <td>0.307959</td>\n",
              "    </tr>\n",
              "    <tr>\n",
              "      <th>7</th>\n",
              "      <td>b</td>\n",
              "      <td>1.954761</td>\n",
              "      <td>0.177677</td>\n",
              "    </tr>\n",
              "  </tbody>\n",
              "</table>\n",
              "</div>"
            ]
          },
          "metadata": {}
        }
      ],
      "execution_count": 213,
      "metadata": {
        "collapsed": false,
        "outputHidden": false,
        "inputHidden": false
      }
    },
    {
      "cell_type": "code",
      "source": [
        "grouped = df.groupby('category')"
      ],
      "outputs": [],
      "execution_count": 214,
      "metadata": {
        "collapsed": false,
        "outputHidden": false,
        "inputHidden": false
      }
    },
    {
      "cell_type": "code",
      "source": [
        "get_wavg = lambda g: np.average(g['data'], weights=g['weights'])"
      ],
      "outputs": [],
      "execution_count": 215,
      "metadata": {
        "collapsed": false,
        "outputHidden": false,
        "inputHidden": false
      }
    },
    {
      "cell_type": "code",
      "source": [
        "grouped.apply(get_wavg)"
      ],
      "outputs": [
        {
          "output_type": "execute_result",
          "execution_count": 216,
          "data": {
            "text/plain": [
              "category\n",
              "a   -0.036605\n",
              "b   -0.805393\n",
              "dtype: float64"
            ]
          },
          "metadata": {}
        }
      ],
      "execution_count": 216,
      "metadata": {
        "collapsed": false,
        "outputHidden": false,
        "inputHidden": false
      }
    },
    {
      "cell_type": "code",
      "source": [
        "#雅虎财经数据集，包括一些标普500（SPX）和股票的收盘价"
      ],
      "outputs": [],
      "execution_count": 217,
      "metadata": {
        "collapsed": false,
        "outputHidden": false,
        "inputHidden": false
      }
    },
    {
      "cell_type": "code",
      "source": [
        "close_px = pd.read_csv('code/examples/stock_px_2.csv', parse_dates=True, index_col=0)"
      ],
      "outputs": [],
      "execution_count": 218,
      "metadata": {
        "collapsed": false,
        "outputHidden": false,
        "inputHidden": false
      }
    },
    {
      "cell_type": "code",
      "source": [
        "close_px.info()"
      ],
      "outputs": [
        {
          "output_type": "stream",
          "name": "stdout",
          "text": [
            "<class 'pandas.core.frame.DataFrame'>\n",
            "DatetimeIndex: 2214 entries, 2003-01-02 to 2011-10-14\n",
            "Data columns (total 4 columns):\n",
            "AAPL    2214 non-null float64\n",
            "MSFT    2214 non-null float64\n",
            "XOM     2214 non-null float64\n",
            "SPX     2214 non-null float64\n",
            "dtypes: float64(4)\n",
            "memory usage: 86.5 KB\n"
          ]
        }
      ],
      "execution_count": 219,
      "metadata": {
        "collapsed": false,
        "outputHidden": false,
        "inputHidden": false
      }
    },
    {
      "cell_type": "code",
      "source": [
        "close_px.index"
      ],
      "outputs": [
        {
          "output_type": "execute_result",
          "execution_count": 226,
          "data": {
            "text/plain": [
              "DatetimeIndex(['2003-01-02', '2003-01-03', '2003-01-06', '2003-01-07',\n",
              "               '2003-01-08', '2003-01-09', '2003-01-10', '2003-01-13',\n",
              "               '2003-01-14', '2003-01-15',\n",
              "               ...\n",
              "               '2011-10-03', '2011-10-04', '2011-10-05', '2011-10-06',\n",
              "               '2011-10-07', '2011-10-10', '2011-10-11', '2011-10-12',\n",
              "               '2011-10-13', '2011-10-14'],\n",
              "              dtype='datetime64[ns]', length=2214, freq=None)"
            ]
          },
          "metadata": {}
        }
      ],
      "execution_count": 226,
      "metadata": {
        "collapsed": false,
        "outputHidden": false,
        "inputHidden": false
      }
    },
    {
      "cell_type": "code",
      "source": [
        "close_px[-4:]"
      ],
      "outputs": [
        {
          "output_type": "execute_result",
          "execution_count": 220,
          "data": {
            "text/plain": [
              "              AAPL   MSFT    XOM      SPX\n",
              "2011-10-11  400.29  27.00  76.27  1195.54\n",
              "2011-10-12  402.19  26.96  77.16  1207.25\n",
              "2011-10-13  408.43  27.18  76.37  1203.66\n",
              "2011-10-14  422.00  27.27  78.11  1224.58"
            ],
            "text/html": [
              "<div>\n",
              "<table border=\"1\" class=\"dataframe\">\n",
              "  <thead>\n",
              "    <tr style=\"text-align: right;\">\n",
              "      <th></th>\n",
              "      <th>AAPL</th>\n",
              "      <th>MSFT</th>\n",
              "      <th>XOM</th>\n",
              "      <th>SPX</th>\n",
              "    </tr>\n",
              "  </thead>\n",
              "  <tbody>\n",
              "    <tr>\n",
              "      <th>2011-10-11</th>\n",
              "      <td>400.29</td>\n",
              "      <td>27.00</td>\n",
              "      <td>76.27</td>\n",
              "      <td>1195.54</td>\n",
              "    </tr>\n",
              "    <tr>\n",
              "      <th>2011-10-12</th>\n",
              "      <td>402.19</td>\n",
              "      <td>26.96</td>\n",
              "      <td>77.16</td>\n",
              "      <td>1207.25</td>\n",
              "    </tr>\n",
              "    <tr>\n",
              "      <th>2011-10-13</th>\n",
              "      <td>408.43</td>\n",
              "      <td>27.18</td>\n",
              "      <td>76.37</td>\n",
              "      <td>1203.66</td>\n",
              "    </tr>\n",
              "    <tr>\n",
              "      <th>2011-10-14</th>\n",
              "      <td>422.00</td>\n",
              "      <td>27.27</td>\n",
              "      <td>78.11</td>\n",
              "      <td>1224.58</td>\n",
              "    </tr>\n",
              "  </tbody>\n",
              "</table>\n",
              "</div>"
            ]
          },
          "metadata": {}
        }
      ],
      "execution_count": 220,
      "metadata": {
        "collapsed": false,
        "outputHidden": false,
        "inputHidden": false
      }
    },
    {
      "cell_type": "code",
      "source": [
        "#计算标普指数（SPX）每日受益的年度相关性（通过百分比变化计算）"
      ],
      "outputs": [],
      "execution_count": 221,
      "metadata": {
        "collapsed": false,
        "outputHidden": false,
        "inputHidden": false
      }
    },
    {
      "cell_type": "code",
      "source": [
        "spx_corr = lambda x: x.corrwith(x.SPX)"
      ],
      "outputs": [],
      "execution_count": 222,
      "metadata": {
        "collapsed": false,
        "outputHidden": false,
        "inputHidden": false
      }
    },
    {
      "cell_type": "code",
      "source": [
        "rets = close_px.pct_change().dropna()\n",
        "rets.head()"
      ],
      "outputs": [
        {
          "output_type": "execute_result",
          "execution_count": 224,
          "data": {
            "text/plain": [
              "                AAPL      MSFT       XOM       SPX\n",
              "2003-01-03  0.006757  0.001421  0.000684 -0.000484\n",
              "2003-01-06  0.000000  0.017975  0.024624  0.022474\n",
              "2003-01-07 -0.002685  0.019052 -0.033712 -0.006545\n",
              "2003-01-08 -0.020188 -0.028272 -0.004145 -0.014086\n",
              "2003-01-09  0.008242  0.029094  0.021159  0.019386"
            ],
            "text/html": [
              "<div>\n",
              "<table border=\"1\" class=\"dataframe\">\n",
              "  <thead>\n",
              "    <tr style=\"text-align: right;\">\n",
              "      <th></th>\n",
              "      <th>AAPL</th>\n",
              "      <th>MSFT</th>\n",
              "      <th>XOM</th>\n",
              "      <th>SPX</th>\n",
              "    </tr>\n",
              "  </thead>\n",
              "  <tbody>\n",
              "    <tr>\n",
              "      <th>2003-01-03</th>\n",
              "      <td>0.006757</td>\n",
              "      <td>0.001421</td>\n",
              "      <td>0.000684</td>\n",
              "      <td>-0.000484</td>\n",
              "    </tr>\n",
              "    <tr>\n",
              "      <th>2003-01-06</th>\n",
              "      <td>0.000000</td>\n",
              "      <td>0.017975</td>\n",
              "      <td>0.024624</td>\n",
              "      <td>0.022474</td>\n",
              "    </tr>\n",
              "    <tr>\n",
              "      <th>2003-01-07</th>\n",
              "      <td>-0.002685</td>\n",
              "      <td>0.019052</td>\n",
              "      <td>-0.033712</td>\n",
              "      <td>-0.006545</td>\n",
              "    </tr>\n",
              "    <tr>\n",
              "      <th>2003-01-08</th>\n",
              "      <td>-0.020188</td>\n",
              "      <td>-0.028272</td>\n",
              "      <td>-0.004145</td>\n",
              "      <td>-0.014086</td>\n",
              "    </tr>\n",
              "    <tr>\n",
              "      <th>2003-01-09</th>\n",
              "      <td>0.008242</td>\n",
              "      <td>0.029094</td>\n",
              "      <td>0.021159</td>\n",
              "      <td>0.019386</td>\n",
              "    </tr>\n",
              "  </tbody>\n",
              "</table>\n",
              "</div>"
            ]
          },
          "metadata": {}
        }
      ],
      "execution_count": 224,
      "metadata": {
        "collapsed": false,
        "outputHidden": false,
        "inputHidden": false
      }
    },
    {
      "cell_type": "code",
      "source": [
        "get_year = lambda x: x.year\n",
        "by_year = rets.groupby(get_year)\n",
        "by_year.apply(spx_corr)"
      ],
      "outputs": [
        {
          "output_type": "execute_result",
          "execution_count": 225,
          "data": {
            "text/plain": [
              "          AAPL      MSFT       XOM  SPX\n",
              "2003  0.541124  0.745174  0.661265  1.0\n",
              "2004  0.374283  0.588531  0.557742  1.0\n",
              "2005  0.467540  0.562374  0.631010  1.0\n",
              "2006  0.428267  0.406126  0.518514  1.0\n",
              "2007  0.508118  0.658770  0.786264  1.0\n",
              "2008  0.681434  0.804626  0.828303  1.0\n",
              "2009  0.707103  0.654902  0.797921  1.0\n",
              "2010  0.710105  0.730118  0.839057  1.0\n",
              "2011  0.691931  0.800996  0.859975  1.0"
            ],
            "text/html": [
              "<div>\n",
              "<table border=\"1\" class=\"dataframe\">\n",
              "  <thead>\n",
              "    <tr style=\"text-align: right;\">\n",
              "      <th></th>\n",
              "      <th>AAPL</th>\n",
              "      <th>MSFT</th>\n",
              "      <th>XOM</th>\n",
              "      <th>SPX</th>\n",
              "    </tr>\n",
              "  </thead>\n",
              "  <tbody>\n",
              "    <tr>\n",
              "      <th>2003</th>\n",
              "      <td>0.541124</td>\n",
              "      <td>0.745174</td>\n",
              "      <td>0.661265</td>\n",
              "      <td>1.0</td>\n",
              "    </tr>\n",
              "    <tr>\n",
              "      <th>2004</th>\n",
              "      <td>0.374283</td>\n",
              "      <td>0.588531</td>\n",
              "      <td>0.557742</td>\n",
              "      <td>1.0</td>\n",
              "    </tr>\n",
              "    <tr>\n",
              "      <th>2005</th>\n",
              "      <td>0.467540</td>\n",
              "      <td>0.562374</td>\n",
              "      <td>0.631010</td>\n",
              "      <td>1.0</td>\n",
              "    </tr>\n",
              "    <tr>\n",
              "      <th>2006</th>\n",
              "      <td>0.428267</td>\n",
              "      <td>0.406126</td>\n",
              "      <td>0.518514</td>\n",
              "      <td>1.0</td>\n",
              "    </tr>\n",
              "    <tr>\n",
              "      <th>2007</th>\n",
              "      <td>0.508118</td>\n",
              "      <td>0.658770</td>\n",
              "      <td>0.786264</td>\n",
              "      <td>1.0</td>\n",
              "    </tr>\n",
              "    <tr>\n",
              "      <th>2008</th>\n",
              "      <td>0.681434</td>\n",
              "      <td>0.804626</td>\n",
              "      <td>0.828303</td>\n",
              "      <td>1.0</td>\n",
              "    </tr>\n",
              "    <tr>\n",
              "      <th>2009</th>\n",
              "      <td>0.707103</td>\n",
              "      <td>0.654902</td>\n",
              "      <td>0.797921</td>\n",
              "      <td>1.0</td>\n",
              "    </tr>\n",
              "    <tr>\n",
              "      <th>2010</th>\n",
              "      <td>0.710105</td>\n",
              "      <td>0.730118</td>\n",
              "      <td>0.839057</td>\n",
              "      <td>1.0</td>\n",
              "    </tr>\n",
              "    <tr>\n",
              "      <th>2011</th>\n",
              "      <td>0.691931</td>\n",
              "      <td>0.800996</td>\n",
              "      <td>0.859975</td>\n",
              "      <td>1.0</td>\n",
              "    </tr>\n",
              "  </tbody>\n",
              "</table>\n",
              "</div>"
            ]
          },
          "metadata": {}
        }
      ],
      "execution_count": 225,
      "metadata": {
        "collapsed": false,
        "outputHidden": false,
        "inputHidden": false
      }
    },
    {
      "cell_type": "code",
      "source": [
        "by_year.apply(lambda g: g['AAPL'].corr(g['MSFT']))"
      ],
      "outputs": [
        {
          "output_type": "execute_result",
          "execution_count": 227,
          "data": {
            "text/plain": [
              "2003    0.480868\n",
              "2004    0.259024\n",
              "2005    0.300093\n",
              "2006    0.161735\n",
              "2007    0.417738\n",
              "2008    0.611901\n",
              "2009    0.432738\n",
              "2010    0.571946\n",
              "2011    0.581987\n",
              "dtype: float64"
            ]
          },
          "metadata": {}
        }
      ],
      "execution_count": 227,
      "metadata": {
        "collapsed": false,
        "outputHidden": false,
        "inputHidden": false
      }
    },
    {
      "cell_type": "markdown",
      "source": [
        "练习六：逐组线性回归"
      ],
      "metadata": {}
    },
    {
      "cell_type": "code",
      "source": [
        "import statsmodels.api as sm\n",
        "def regress(data, yvar, xvars):\n",
        "    Y = data[yvar]\n",
        "    X = data[xvars]\n",
        "    X['intercept'] = 1.\n",
        "    result = sm.OLS(Y, X).fit()\n",
        "    return result.params"
      ],
      "outputs": [],
      "execution_count": 229,
      "metadata": {
        "collapsed": false,
        "outputHidden": false,
        "inputHidden": false
      }
    },
    {
      "cell_type": "code",
      "source": [
        "by_year.apply(regress, 'AAPL', ['SPX'])"
      ],
      "outputs": [],
      "execution_count": null,
      "metadata": {
        "collapsed": false,
        "outputHidden": false,
        "inputHidden": false
      }
    },
    {
      "cell_type": "markdown",
      "source": [
        "总结：精通pandas数据分组工具既可以帮助用户清洗数据，也可以对建模或同级分析工作有益。因此，必须熟练掌握。"
      ],
      "metadata": {}
    },
    {
      "cell_type": "markdown",
      "source": [],
      "metadata": {}
    }
  ],
  "metadata": {
    "kernel_info": {
      "name": "python3"
    },
    "language_info": {
      "pygments_lexer": "ipython3",
      "codemirror_mode": {
        "name": "ipython",
        "version": 3
      },
      "file_extension": ".py",
      "mimetype": "text/x-python",
      "name": "python",
      "nbconvert_exporter": "python",
      "version": "3.5.2"
    },
    "kernelspec": {
      "name": "python3",
      "language": "python",
      "display_name": "Python 3"
    },
    "nteract": {
      "version": "0.14.0"
    }
  },
  "nbformat": 4,
  "nbformat_minor": 0
}